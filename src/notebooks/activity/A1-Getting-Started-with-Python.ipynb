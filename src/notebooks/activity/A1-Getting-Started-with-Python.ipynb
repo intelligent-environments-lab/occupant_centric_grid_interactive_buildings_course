{
 "cells": [
  {
   "cell_type": "markdown",
   "metadata": {
    "id": "TFinQladLXqF"
   },
   "source": [
    "<h2 align='center'>Introduction to Python: Sample Exercises</h2>"
   ]
  },
  {
   "cell_type": "markdown",
   "metadata": {},
   "source": [
    "<a href=\"https://colab.research.google.com/github/intelligent-environments-lab/occupant_centric_grid_interactive_buildings_course/blob/main/src/notebooks/activity/A1-Getting-Started-with-Python.ipynb\" target=\"_parent\"><img src=\"https://colab.research.google.com/assets/colab-badge.svg\" alt=\"Open In Colab\"/></a>"
   ]
  },
  {
   "cell_type": "markdown",
   "metadata": {
    "id": "pl-VJG64LqNT"
   },
   "source": [
    "This is a quick introduction to Colab where you will get used to the Python programming language and the environment used for the BES/HVAC Design exercises.\n",
    "\n",
    "Colab is a Python development environment that runs in the browser using Google Cloud. \n",
    "\n",
    "\n",
    "---\n",
    "\n",
    "\n",
    "**Please Remember:** You don't need to install Python to Colab to work !!! But you do need an internet connection.\n",
    "\n",
    "Let's start with writing \"Hi Y'all\". You can press the play button to the upper left or press shift-enter to execute the code. \n"
   ]
  },
  {
   "cell_type": "markdown",
   "metadata": {
    "id": "DzVrWSA-vOHq"
   },
   "source": [
    "Let's start with writing \"Hi Y'all\". You can press the play button to the upper left or press shift-enter to execute the code. \n"
   ]
  },
  {
   "cell_type": "code",
   "execution_count": null,
   "metadata": {
    "colab": {
     "base_uri": "https://localhost:8080/",
     "height": 34
    },
    "id": "gmznUu2HLdPL",
    "outputId": "ae7b32bc-2342-49f8-a3cf-0250854183ea"
   },
   "outputs": [
    {
     "name": "stdout",
     "output_type": "stream",
     "text": [
      "Hi Y'all\n"
     ]
    }
   ],
   "source": [
    "print (\"Hi Y'all\")"
   ]
  },
  {
   "cell_type": "markdown",
   "metadata": {
    "id": "Fbz6tUg5PXmL"
   },
   "source": [
    "## Open files from Google Drive\n",
    "\n",
    "You can connect your virtual machine to your Google Drive account by using an authorization code.\n",
    "\n",
    "Please run the code below and click the link to give an access to your google drive."
   ]
  },
  {
   "cell_type": "code",
   "execution_count": null,
   "metadata": {
    "colab": {
     "base_uri": "https://localhost:8080/",
     "height": 139
    },
    "id": "FqaTlB_JPVEG",
    "outputId": "1983f27d-49af-4cea-92e9-87cf8dd2ea75"
   },
   "outputs": [
    {
     "name": "stdout",
     "output_type": "stream",
     "text": [
      "Go to this URL in a browser: https://accounts.google.com/o/oauth2/auth?client_id=947318989803-6bn6qk8qdgf4n4g3pfee6491hc0brc4i.apps.googleusercontent.com&redirect_uri=urn%3aietf%3awg%3aoauth%3a2.0%3aoob&scope=email%20https%3a%2f%2fwww.googleapis.com%2fauth%2fdocs.test%20https%3a%2f%2fwww.googleapis.com%2fauth%2fdrive%20https%3a%2f%2fwww.googleapis.com%2fauth%2fdrive.photos.readonly%20https%3a%2f%2fwww.googleapis.com%2fauth%2fpeopleapi.readonly&response_type=code\n",
      "\n",
      "Enter your authorization code:\n",
      "··········\n",
      "Mounted at /gdrive\n",
      "/gdrive\n"
     ]
    }
   ],
   "source": [
    "from google.colab import drive\n",
    "drive.mount('/gdrive')\n",
    "%cd /gdrive"
   ]
  },
  {
   "cell_type": "markdown",
   "metadata": {
    "id": "NnfZHcjrvhwH"
   },
   "source": [
    "# 1- Variables and Types\n",
    "\n",
    "See A Whirlwind Tour of Python [Built-In Types: Simple Values](https://jakevdp.github.io/WhirlwindTourOfPython/05-built-in-scalar-types.html) (pages 24 - 30 in PDF) for more discussion.\n",
    "\n",
    "Variables are nothing but reserved memory locations to store values. This means that when you create a variable you reserve some space in memory.\n",
    "\n",
    "All variables have a 'type', which indicates what the variable is, e.g. a number, a string of characters, etc. We usually need to declare explicitly  the type of a variable in a program.\n",
    "\n",
    "Type is important because it determines how a variable is stored, how it behaves when we perform operations on it, and how it interacts with other variables.\n",
    "\n",
    "Based on the data type of a variable, the interpreter allocates memory and decides what can be stored in the reserved memory. Therefore, by assigning different data types to variables, you can store integers, decimals or characters in these variables.\n",
    "\n",
    "**NOTE: **Python have a built-in method called as type which generally come in handy while figuring out the type of variable used in the program in the runtime. If a single argument (object) is passed to type() built-in, it returns type of the given object.\n"
   ]
  },
  {
   "cell_type": "markdown",
   "metadata": {
    "id": "WznrmHYXxP4b"
   },
   "source": [
    "There are a certain rules that we have to keep in mind while naming a variable:\n",
    "1.   The variable name cannot start with a number. It can only start with a character or an underscore.\n",
    "2.   Variables in python are case sensitive.\n",
    "3.   They can only contain alpha-numeric characters and underscores.\n",
    "4.   No special characters are allowed.\n",
    "\n",
    "Languages have rules for what characters can be used in variable names. As a rough guide, in Python variable names can use letters and digits, but cannot start with a digit.\n",
    "\n",
    "Languages have reserved keywords that cannot be used as variable names as they are used for other purposes. The reserved keywords in Python are:\n"
   ]
  },
  {
   "cell_type": "code",
   "execution_count": null,
   "metadata": {
    "colab": {
     "base_uri": "https://localhost:8080/",
     "height": 54
    },
    "id": "guKXbKrr4utu",
    "outputId": "e067ec78-6222-47e9-9106-b635991a039e"
   },
   "outputs": [
    {
     "name": "stdout",
     "output_type": "stream",
     "text": [
      "['False', 'None', 'True', 'and', 'as', 'assert', 'break', 'class', 'continue', 'def', 'del', 'elif', 'else', 'except', 'finally', 'for', 'from', 'global', 'if', 'import', 'in', 'is', 'lambda', 'nonlocal', 'not', 'or', 'pass', 'raise', 'return', 'try', 'while', 'with', 'yield']\n"
     ]
    }
   ],
   "source": [
    "import keyword\n",
    "print(keyword.kwlist)"
   ]
  },
  {
   "cell_type": "markdown",
   "metadata": {
    "id": "ME8JOwcZ4sNm"
   },
   "source": [
    "\n",
    "Lets take a look at different variables to understand how we assign a variable in python.\n"
   ]
  },
  {
   "cell_type": "markdown",
   "metadata": {
    "id": "7FK1VmV94TYG"
   },
   "source": [
    "\n",
    "\n",
    "Sometimes for readability it is useful to have variable names that are made up of two words. A convention is to separate the words in the variable name using an underscore '_'. For example, a good variable name for storing the number of days would be\n",
    "\n",
    "num_days = 10\n",
    "Python is a case-sensitive language, e.g. the variables 'A' and 'a' are different. Some languages, such as Fortran, are case-insensitive.\n",
    "\n",
    "Languages have reserved keywords that cannot be used as variable names as they are used for other purposes. The reserved keywords in Python are:"
   ]
  },
  {
   "cell_type": "code",
   "execution_count": null,
   "metadata": {
    "colab": {
     "base_uri": "https://localhost:8080/",
     "height": 68
    },
    "id": "XpVIh-w2yRYf",
    "outputId": "3e0c7094-e268-41cd-9a9b-ef543874d6d3"
   },
   "outputs": [
    {
     "name": "stdout",
     "output_type": "stream",
     "text": [
      "<class 'int'>\n",
      "<class 'str'>\n",
      "<class 'list'>\n"
     ]
    }
   ],
   "source": [
    "# EXAMPLE: Python code type() with a single object parameter \n",
    "my_number = 30\n",
    "my_comment = \"Welcome Y'all\"\n",
    "my_list = ['Aysha','Hagen','Zoltan'] \n",
    "print(type(my_number)) \n",
    "print(type(my_comment)) \n",
    "print(type(my_list))"
   ]
  },
  {
   "cell_type": "markdown",
   "metadata": {
    "id": "ErhPy11ux4UK"
   },
   "source": [
    "## 1.1 Number\n",
    "\n",
    "Numerical data type holds numerical value. In numerical data there are 4 sub types as well. \n",
    "\n",
    "Integers\n",
    "Float\n",
    "Complex Numbers\n",
    "Boolean"
   ]
  },
  {
   "cell_type": "markdown",
   "metadata": {
    "id": "uFVlz3I5yG9o"
   },
   "source": [
    "### 1.1.1 Integers\n",
    "\n",
    " We use `integers` to represent whole number values."
   ]
  },
  {
   "cell_type": "code",
   "execution_count": null,
   "metadata": {
    "colab": {
     "base_uri": "https://localhost:8080/",
     "height": 34
    },
    "id": "Xx_Dn11xwG2T",
    "outputId": "957cc79a-2fdc-4a28-856c-0923021b47e1"
   },
   "outputs": [
    {
     "name": "stdout",
     "output_type": "stream",
     "text": [
      "9\n"
     ]
    }
   ],
   "source": [
    "x = 4\n",
    "y = 5\n",
    "# it will be the integer as long as the value is a whole number.\n",
    "\n",
    "print(x+y)"
   ]
  },
  {
   "cell_type": "markdown",
   "metadata": {
    "id": "TIXEtf_SzDUG"
   },
   "source": [
    "### 1.1.2 Float\n",
    "\n",
    "We use `float` data type to represent decimal point values."
   ]
  },
  {
   "cell_type": "code",
   "execution_count": null,
   "metadata": {
    "colab": {
     "base_uri": "https://localhost:8080/",
     "height": 34
    },
    "id": "ynaAHUI5zPbs",
    "outputId": "626e8422-fe78-48dc-97ce-3b332e5ff649"
   },
   "outputs": [
    {
     "name": "stdout",
     "output_type": "stream",
     "text": [
      "12.42\n"
     ]
    }
   ],
   "source": [
    "x  = 5.64\n",
    "y = 6.78\n",
    "\n",
    "print(x+y)"
   ]
  },
  {
   "cell_type": "markdown",
   "metadata": {
    "id": "nt75t0Pbza6s"
   },
   "source": [
    "### 1.1.3 Complex Numbers\n",
    "\n",
    "Complex numbers are used to represent imaginary values. Imaginary values are denoted with ‘j’ at the end of the number."
   ]
  },
  {
   "cell_type": "code",
   "execution_count": null,
   "metadata": {
    "colab": {
     "base_uri": "https://localhost:8080/",
     "height": 34
    },
    "id": "F_umOIf0zarp",
    "outputId": "8a3bd81e-4b26-4747-cebc-80789931b53d"
   },
   "outputs": [
    {
     "name": "stdout",
     "output_type": "stream",
     "text": [
      "(10+5j)\n"
     ]
    }
   ],
   "source": [
    "x = 10 + 5j\n",
    "print(x)"
   ]
  },
  {
   "cell_type": "markdown",
   "metadata": {
    "id": "lcQs07HhzuDs"
   },
   "source": [
    "### 1.1.3 Booleans\n",
    "\n",
    "We use `Boolean` for categorical output. The output of boolean is either true or false."
   ]
  },
  {
   "cell_type": "code",
   "execution_count": null,
   "metadata": {
    "colab": {
     "base_uri": "https://localhost:8080/",
     "height": 51
    },
    "id": "8WVPvZ-5zts-",
    "outputId": "5e423404-a216-46bb-c5dd-749204ec6572"
   },
   "outputs": [
    {
     "name": "stdout",
     "output_type": "stream",
     "text": [
      "<class 'bool'>\n",
      "False\n"
     ]
    }
   ],
   "source": [
    "my_number = 40 < 4\n",
    "#my_number is the boolean variable\n",
    "print(type(my_number))\n",
    "#the output will be bool\n",
    "print(my_number)\n",
    "#this will print false"
   ]
  },
  {
   "cell_type": "code",
   "execution_count": null,
   "metadata": {
    "id": "10s2Fw6DRjwU"
   },
   "outputs": [],
   "source": []
  },
  {
   "cell_type": "markdown",
   "metadata": {
    "id": "xB26ofSsaC50"
   },
   "source": [
    "### 1.1.4 Examples to Numerical Data Types\n",
    "We can do mathematical operations with numbers and different functions."
   ]
  },
  {
   "cell_type": "code",
   "execution_count": null,
   "metadata": {
    "colab": {
     "base_uri": "https://localhost:8080/",
     "height": 119
    },
    "id": "0AK1chUBeYq2",
    "outputId": "be5f8273-f36d-48dc-ada7-0dde7cf9f131"
   },
   "outputs": [
    {
     "name": "stdout",
     "output_type": "stream",
     "text": [
      "7.5\n",
      "3445\n",
      "400.0\n",
      "17\n",
      "27\n",
      "1\n"
     ]
    }
   ],
   "source": [
    "print(3+4.5)\n",
    "print(3490-45)\n",
    "print(4000/10)\n",
    "print(3 * 4+5)\n",
    "print(3 * (4+5))\n",
    "print(10 % 3) # take the first number divided by second number and give us the remainder"
   ]
  },
  {
   "cell_type": "code",
   "execution_count": null,
   "metadata": {
    "colab": {
     "base_uri": "https://localhost:8080/",
     "height": 34
    },
    "id": "Nc-gTWIie3Ca",
    "outputId": "f35b4cc7-1864-4507-8c59-cf6d49a15c8d"
   },
   "outputs": [
    {
     "name": "stdout",
     "output_type": "stream",
     "text": [
      "50\n"
     ]
    }
   ],
   "source": [
    "#we can store these numbers as variables\n",
    "my_variable= 10*5\n",
    "print(my_variable)\n"
   ]
  },
  {
   "cell_type": "code",
   "execution_count": null,
   "metadata": {
    "colab": {
     "base_uri": "https://localhost:8080/",
     "height": 34
    },
    "id": "eyVxPTtufDI1",
    "outputId": "62cf2c34-e91c-4692-d516-43e7d28c74e0"
   },
   "outputs": [
    {
     "name": "stdout",
     "output_type": "stream",
     "text": [
      "50\n"
     ]
    }
   ],
   "source": [
    "#we can convert the number variable to a string\n",
    "\n",
    "print(str(my_variable))\n",
    "\n",
    "#this is handy when you want to print numbers along with strings.\n"
   ]
  },
  {
   "cell_type": "markdown",
   "metadata": {
    "id": "52pZvK88V9uP"
   },
   "source": [
    "##1.2 String\n",
    "\n",
    "Strings in python are used to represent unicode character values. Python does not have a character data type, a single character is also considered as a string.\n",
    "\n",
    "The example below shows storing a string which is basically a plain text.\n",
    "\n",
    "We have to use single or double quotation marks.\n"
   ]
  },
  {
   "cell_type": "code",
   "execution_count": null,
   "metadata": {
    "colab": {
     "base_uri": "https://localhost:8080/",
     "height": 54
    },
    "id": "omUFbgnkWq0p",
    "outputId": "642f14bd-2b9a-41df-85de-f94ddd38c3c9"
   },
   "outputs": [
    {
     "name": "stdout",
     "output_type": "stream",
     "text": [
      "There is a classroom in ECJ building that allows maximum 10 students in order to keep social distance\n"
     ]
    }
   ],
   "source": [
    "# name of the variable can be whatever you want. Just remember to put underscore\n",
    "#instead of space such as occupant_number instead of occupant number\n",
    "\n",
    "occupant_type= \"students\" #(String)\n",
    "occupant_number = \"10\"   # (String)\n",
    "\n",
    "print(\"There is a classroom in ECJ building that allows maximum \" +occupant_number+\" \" + occupant_type+ \" in order to keep social distance\") "
   ]
  },
  {
   "cell_type": "code",
   "execution_count": null,
   "metadata": {
    "colab": {
     "base_uri": "https://localhost:8080/",
     "height": 51
    },
    "id": "LDThwxE-aCay",
    "outputId": "ad45c4d4-9ddf-4e13-ebb2-9f70af0e8a43"
   },
   "outputs": [
    {
     "name": "stdout",
     "output_type": "stream",
     "text": [
      "Welcome\n",
      "Fall 2020\n"
     ]
    }
   ],
   "source": [
    "print(\"Welcome\\nFall 2020\")"
   ]
  },
  {
   "cell_type": "code",
   "execution_count": null,
   "metadata": {
    "colab": {
     "base_uri": "https://localhost:8080/",
     "height": 102
    },
    "id": "24xjsymTa7tN",
    "outputId": "4dff6379-b961-498d-bc37-68efe7d2bb54"
   },
   "outputs": [
    {
     "name": "stdout",
     "output_type": "stream",
     "text": [
      "WELCOME TO FALL 2020\n",
      "False\n",
      "True\n",
      "20\n",
      "F\n"
     ]
    }
   ],
   "source": [
    "phrase = \"Welcome to Fall 2020\"\n",
    "\n",
    "print(phrase.upper())\n",
    "print(phrase.isupper()) #if the string is entirely uppercase \"True\", if not \"False\"\n",
    "print(phrase.upper().isupper()) #converts the phrase uppercase first and now we are getting True value\n",
    "print(len(phrase)) #how many charecters\n",
    "print(phrase[11]) #prints 11th character of the phrase"
   ]
  },
  {
   "cell_type": "code",
   "execution_count": null,
   "metadata": {
    "colab": {
     "base_uri": "https://localhost:8080/",
     "height": 51
    },
    "id": "01nE2bH7cpVo",
    "outputId": "95d1ccfe-655a-4b50-dddf-0160fd4bd304"
   },
   "outputs": [
    {
     "name": "stdout",
     "output_type": "stream",
     "text": [
      "0\n",
      "11\n"
     ]
    }
   ],
   "source": [
    "#index function index() is an inbuilt function in Python, which searches\n",
    "#for given element from start of the list and returns the lowest index where the element appears. \n",
    "print(phrase.index(\"W\")) \n",
    "print(phrase.index(\"Fall\"))"
   ]
  },
  {
   "cell_type": "code",
   "execution_count": null,
   "metadata": {
    "colab": {
     "base_uri": "https://localhost:8080/",
     "height": 34
    },
    "id": "xTFSWXVZdi4X",
    "outputId": "aef33349-5d25-484b-99e6-ee1d4a822cc3"
   },
   "outputs": [
    {
     "name": "stdout",
     "output_type": "stream",
     "text": [
      "Welcome to Fall 2021\n"
     ]
    }
   ],
   "source": [
    "#replace Function\n",
    "\n",
    "print(phrase.replace(\"2020\",\"2021\"))"
   ]
  },
  {
   "cell_type": "code",
   "execution_count": null,
   "metadata": {
    "colab": {
     "base_uri": "https://localhost:8080/",
     "height": 54
    },
    "id": "OpX6VTkjfX0s",
    "outputId": "0eeee35a-a6f5-483b-f45d-8823bea9bcca"
   },
   "outputs": [
    {
     "name": "stdout",
     "output_type": "stream",
     "text": [
      "There is a classroom in ECJ building that allows maximum 10 students in order to keep social distance\n"
     ]
    }
   ],
   "source": [
    "occupant_type= \"students\" #(String)\n",
    "occupant_number = 10   # (Number)\n",
    "\n",
    "print(\"There is a classroom in ECJ building that allows maximum \" +str(occupant_number)+\" \" + occupant_type+ \" in order to keep social distance\") "
   ]
  },
  {
   "cell_type": "code",
   "execution_count": null,
   "metadata": {
    "colab": {
     "base_uri": "https://localhost:8080/",
     "height": 51
    },
    "id": "FyOxgVDP1bb5",
    "outputId": "68dbffe5-900a-4cdd-93c3-36b0c361cdd7"
   },
   "outputs": [
    {
     "name": "stdout",
     "output_type": "stream",
     "text": [
      "What is your name? : Halen\n",
      "Hello Halen\n"
     ]
    }
   ],
   "source": [
    "your_name = input(\"What is your name? : \")\n",
    "print( 'Hello' , your_name)\n",
    "\n",
    "#Please run this cell and see the results"
   ]
  },
  {
   "cell_type": "code",
   "execution_count": null,
   "metadata": {
    "id": "CLWSVmCORbc9"
   },
   "outputs": [],
   "source": [
    "occupant_number = input(\"How many student are there in the classroom? : \")\n",
    "print(\"There are \"+ occupant_number + \" students in the classroom\")"
   ]
  },
  {
   "cell_type": "markdown",
   "metadata": {
    "id": "vu2jLn301JlP"
   },
   "source": [
    "## 1.3 List\n",
    "\n",
    "See A Whirlwind Tour of Python [Built-In Data Structures](https://jakevdp.github.io/WhirlwindTourOfPython/06-built-in-data-structures.html) (pages 30 - 34 in PDF) for more discussion.\n",
    "\n",
    "Lists are the most versatile of Python's compound data types. A list contains items separated by commas and enclosed within square brackets ([]). To some extent, lists are similar to arrays in C. One difference between them is that all the items belonging to a list can be of different data type.\n",
    "\n",
    "The values stored in a list can be accessed using the slice operator ([ ] and [:]) with indexes starting at 0 in the beginning of the list and working their way to end -1. The plus (+) sign is the list concatenation operator, and the asterisk (*) is the repetition operator. \n",
    "\n",
    "Working with lists in Python. We want to make sure we can manage and orginize them properly. LIST allows us to store different lists of information. We can create Pyhton list and put bunch of related values inside of that list so we use them throughout the program."
   ]
  },
  {
   "cell_type": "code",
   "execution_count": null,
   "metadata": {
    "colab": {
     "base_uri": "https://localhost:8080/",
     "height": 119
    },
    "id": "t7qMGmGi2X9e",
    "outputId": "74c1ff90-ea89-4ed4-de68-3a2fd86be3ff"
   },
   "outputs": [
    {
     "name": "stdout",
     "output_type": "stream",
     "text": [
      "['HELLO', 34, 'asdfzxcv', 4.578, 'john', 70.2]\n",
      "HELLO\n",
      "[34, 'asdfzxcv']\n",
      "['asdfzxcv', 4.578, 'john', 70.2]\n",
      "[34, 'john', 34, 'john']\n",
      "['HELLO', 34, 'asdfzxcv', 4.578, 'john', 70.2, 34, 'john']\n"
     ]
    }
   ],
   "source": [
    "my_list = [ \"HELLO\", 34, \"asdfzxcv\", 4.578, 'john', 70.2 ]\n",
    "small_list = [34, 'john']\n",
    "\n",
    "print(my_list)          # Prints complete list\n",
    "print(my_list[0])       # Prints first element of the list\n",
    "print(my_list[1:3])    # Prints elements starting from 2nd till 3rd \n",
    "print(my_list[2:])    # Prints elements starting from 3rd element\n",
    "print(small_list * 2)  # Prints list two times\n",
    "print(my_list + small_list) # Prints concatenated lists"
   ]
  },
  {
   "cell_type": "code",
   "execution_count": null,
   "metadata": {
    "id": "q3Ctlijp1EPt"
   },
   "outputs": [],
   "source": [
    "# lets make a list of environmental variables which affects building energy consumption.\n",
    "\n",
    "environmental_factors = [\"Outdoor Temperature\",\"Building_Orientation\", \"Location\", \"Wall_UValue\", \"Wind Speed\", \"FloorArea\"] #this is an array\n",
    "\n",
    "# we can store string, boolean, number etc.\n",
    "\n",
    "print(environmental_factors[0])  #index starts with zero\n"
   ]
  },
  {
   "cell_type": "code",
   "execution_count": null,
   "metadata": {
    "colab": {
     "base_uri": "https://localhost:8080/",
     "height": 34
    },
    "id": "HSMCfyAN2pJ7",
    "outputId": "644564b6-711b-4d73-d74a-89894566bccf"
   },
   "outputs": [
    {
     "name": "stdout",
     "output_type": "stream",
     "text": [
      "Building_Orientation\n"
     ]
    }
   ],
   "source": [
    "#we can access elements based on their index from back of the list\n",
    "#the last element in the list has index of -1\n",
    "\n",
    "print(environmental_factors[-5])"
   ]
  },
  {
   "cell_type": "code",
   "execution_count": null,
   "metadata": {
    "colab": {
     "base_uri": "https://localhost:8080/",
     "height": 34
    },
    "id": "bbF--EbE2-Gg",
    "outputId": "32f33970-0b0d-47cf-d753-7a8de3ef09f3"
   },
   "outputs": [
    {
     "name": "stdout",
     "output_type": "stream",
     "text": [
      "['Building_Orientation', 'Location', 'Wall_UValue', 'Wind Speed', 'FloorArea']\n"
     ]
    }
   ],
   "source": [
    "# Select element \n",
    "print(environmental_factors[1:])"
   ]
  },
  {
   "cell_type": "code",
   "execution_count": null,
   "metadata": {
    "colab": {
     "base_uri": "https://localhost:8080/",
     "height": 34
    },
    "id": "Z4wnd-Ec3PJY",
    "outputId": "1f0f7d42-5985-43ca-d264-722a9c87f7cb"
   },
   "outputs": [
    {
     "name": "stdout",
     "output_type": "stream",
     "text": [
      "['Building_Orientation', 'Location', 'Wall_UValue']\n"
     ]
    }
   ],
   "source": [
    "print(environmental_factors[1:4])"
   ]
  },
  {
   "cell_type": "code",
   "execution_count": null,
   "metadata": {
    "id": "N10hc1GwSGJJ"
   },
   "outputs": [],
   "source": [
    "# Change an element in the list\n",
    "environmental_factors = [\"Outdoor Temperature\",\"Building_Orientation\", \"Location\", \"Wall_UValue\", \"Wind Speed\", \"FloorArea\"] #this is an array\n",
    "\n",
    "environmental_factors[3] = \"Wall_Uvalue\"\n",
    "print(environmental_factors)"
   ]
  },
  {
   "cell_type": "markdown",
   "metadata": {
    "id": "HM-EfgAw3wp2"
   },
   "source": [
    "### 1.3.1 Functions for list\n",
    "\n",
    "Using functions with lists in Python\n",
    "\n",
    "\n"
   ]
  },
  {
   "cell_type": "code",
   "execution_count": null,
   "metadata": {
    "colab": {
     "base_uri": "https://localhost:8080/",
     "height": 54
    },
    "id": "zJs5Aysj30Ji",
    "outputId": "c93ce058-8158-4b0d-ea4f-b3370c7d0ba3"
   },
   "outputs": [
    {
     "name": "stdout",
     "output_type": "stream",
     "text": [
      "['Outdoor Temperature', 'Building_Orientation', 'Location', 'Wall_UValue', 'Wind Speed', 'FloorArea', 85, 'SouthWest', 'Houston', 0.4, 75, 4000]\n"
     ]
    }
   ],
   "source": [
    "environmental_factors = [\"Outdoor Temperature\",\"Building_Orientation\", \"Location\", \"Wall_UValue\", \"Wind Speed\", \"FloorArea\"] #this is an array\n",
    "values = [85, \"SouthWest\", \"Houston\", 0.40, 75, 4000]\n",
    "\n",
    "\n",
    "#EXTEND Function take a list and append another list onto the end of it\n",
    "\n",
    "environmental_factors.extend(values)\n",
    "print(environmental_factors)\n"
   ]
  },
  {
   "cell_type": "code",
   "execution_count": null,
   "metadata": {
    "colab": {
     "base_uri": "https://localhost:8080/",
     "height": 54
    },
    "id": "_j4A30U25D2s",
    "outputId": "7e1355f6-1e92-41a5-a02e-0500f104ae90"
   },
   "outputs": [
    {
     "name": "stdout",
     "output_type": "stream",
     "text": [
      "['Outdoor Temperature', 'Building_Orientation', 'Location', 'Wall_UValue', 'Wind Speed', 'FloorArea', 'Building_Height']\n"
     ]
    }
   ],
   "source": [
    "# we can also add individual elements \n",
    "environmental_factors = [\"Outdoor Temperature\",\"Building_Orientation\", \"Location\", \"Wall_UValue\", \"Wind Speed\", \"FloorArea\"] #this is an array\n",
    "values = [85, \"SouthWest\", \"Houston\", 0.40, 75, 4000]\n",
    "\n",
    "\n",
    "#APPEND Function take an item and append another item onto the end of it\n",
    "\n",
    "environmental_factors.append(\"Building_Height\")\n",
    "print(environmental_factors)"
   ]
  },
  {
   "cell_type": "code",
   "execution_count": null,
   "metadata": {
    "colab": {
     "base_uri": "https://localhost:8080/",
     "height": 54
    },
    "id": "JS8RRl905Vl0",
    "outputId": "bad6677a-4b70-4778-d0f8-8c820309efcb"
   },
   "outputs": [
    {
     "name": "stdout",
     "output_type": "stream",
     "text": [
      "['Outdoor Temperature', 'Building_Height', 'Building_Orientation', 'Location', 'Wall_UValue', 'Wind Speed', 'FloorArea']\n"
     ]
    }
   ],
   "source": [
    "# If you want to add an item in the middle of the list instead of end of the list:\n",
    "\n",
    "environmental_factors = [\"Outdoor Temperature\",\"Building_Orientation\", \"Location\", \"Wall_UValue\", \"Wind Speed\", \"FloorArea\"] #this is an array\n",
    "\n",
    "#INSERT Function\n",
    "\n",
    "environmental_factors.insert(1,\"Building_Height\")\n",
    "print(environmental_factors)"
   ]
  },
  {
   "cell_type": "code",
   "execution_count": null,
   "metadata": {
    "colab": {
     "base_uri": "https://localhost:8080/",
     "height": 51
    },
    "id": "BZ2KgKeI51IM",
    "outputId": "1fcf2b52-ebc9-43bb-f2de-4fe5db667834"
   },
   "outputs": [
    {
     "name": "stdout",
     "output_type": "stream",
     "text": [
      "['Building_Orientation', 'Location', 'Wall_UValue', 'Wind Speed', 'FloorArea']\n",
      "0\n"
     ]
    }
   ],
   "source": [
    "# We can also remove elements\n",
    "environmental_factors = [\"Outdoor Temperature\",\"Building_Orientation\", \"Location\", \"Wall_UValue\", \"Wind Speed\", \"FloorArea\"] #this is an array\n",
    "\n",
    "#REMOVE Function\n",
    "\n",
    "environmental_factors.remove(\"Outdoor Temperature\")\n",
    "print(environmental_factors)\n",
    "\n",
    "# we can find the inxex of the element with INDEX function\n",
    "\n",
    "print(environmental_factors.index(\"Building_Orientation\"))\n"
   ]
  },
  {
   "cell_type": "code",
   "execution_count": null,
   "metadata": {
    "colab": {
     "base_uri": "https://localhost:8080/",
     "height": 105
    },
    "id": "H0DitnJK6PnJ",
    "outputId": "5c1aae20-bdbc-4c48-f098-b8cf75d89f10"
   },
   "outputs": [
    {
     "name": "stdout",
     "output_type": "stream",
     "text": [
      "3\n",
      "['Aysha', 'Aysha', 'Aysha', 'Aysha', 'Elie', 'Hagen', 'Hagen', 'Hagen', 'Hagen', 'MArk', 'Melodie', 'Zoltan', 'Zoltan', 'Zoltan']\n",
      "['Zoltan', 'Zoltan', 'Zoltan', 'Melodie', 'MArk', 'Hagen', 'Hagen', 'Hagen', 'Hagen', 'Elie', 'Aysha', 'Aysha', 'Aysha', 'Aysha']\n",
      "['Zoltan', 'Zoltan', 'Zoltan', 'Melodie', 'MArk', 'Hagen', 'Hagen', 'Hagen', 'Hagen', 'Elie', 'Aysha', 'Aysha', 'Aysha', 'Aysha']\n"
     ]
    }
   ],
   "source": [
    "# you can count the number of similar elements in the list \n",
    "\n",
    "myList = [\"Elie\",\"Melodie\",\"MArk\", \"Zoltan\", \"Aysha\", \"Hagen\", \"Zoltan\", \"Aysha\", \"Hagen\", \"Zoltan\", \"Aysha\", \"Hagen\",\"Aysha\", \"Hagen\"]\n",
    "\n",
    "print(myList.count(\"Zoltan\")) # how many times \"Zoltan shows up in this list\"\n",
    "\n",
    "# we can also sort the list\n",
    "myList.sort()\n",
    "print(myList)\n",
    "\n",
    "# We can also reverse the order of the list\n",
    "\n",
    "myList.reverse()\n",
    "print(myList)\n",
    "\n",
    "# COPY function\n",
    "\n",
    "myList2 = myList.copy()\n",
    "\n",
    "print(myList2)"
   ]
  },
  {
   "cell_type": "markdown",
   "metadata": {
    "id": "oaftPGEe5NUZ"
   },
   "source": [
    "## 1.4 Tuple\n",
    "\n",
    "See A Whirlwind Tour of Python [Built-In Data Structures](https://jakevdp.github.io/WhirlwindTourOfPython/06-built-in-data-structures.html) (pages 34 - 35 in PDF) for more discussion.\n",
    "\n",
    "tuple is another sequence data type that is similar to the list. A tuple consists of a number of values separated by commas. Unlike lists, however, tuples are enclosed within parentheses.\n",
    "\n",
    "The main differences between lists and tuples are: Lists are enclosed in brackets ([ ]) and their elements and size **can be changed**, while tuples are enclosed in parentheses (( )) and **cannot be updated.** \n"
   ]
  },
  {
   "cell_type": "code",
   "execution_count": null,
   "metadata": {
    "colab": {
     "base_uri": "https://localhost:8080/",
     "height": 119
    },
    "id": "J7_JJdrA5VZp",
    "outputId": "aa0dc98f-6e4e-4a48-ad6d-4686438155d6"
   },
   "outputs": [
    {
     "name": "stdout",
     "output_type": "stream",
     "text": [
      "('HELLO', 34, 'asdfzxcv', 4.578, 'john', 70.2)\n",
      "HELLO\n",
      "(34, 'asdfzxcv')\n",
      "('asdfzxcv', 4.578, 'john', 70.2)\n",
      "(34, 'john', 34, 'john')\n",
      "('HELLO', 34, 'asdfzxcv', 4.578, 'john', 70.2, 34, 'john')\n"
     ]
    }
   ],
   "source": [
    "my_tuple = ( \"HELLO\", 34, \"asdfzxcv\", 4.578, 'john', 70.2  )\n",
    "small_tuple = (34, 'john')\n",
    "\n",
    "print(my_tuple)                 # Prints the complete tuple\n",
    "print(my_tuple[0])              # Prints first element of the tuple\n",
    "print(my_tuple[1:3])            # Prints elements of the tuple starting from 2nd till 3rd \n",
    "print(my_tuple[2:])        # Prints elements of the tuple starting from 3rd element\n",
    "print(small_tuple * 2)          # Prints the contents of the tuple twice\n",
    "print(my_tuple + small_tuple)   # Prints concatenated tuples"
   ]
  },
  {
   "cell_type": "markdown",
   "metadata": {
    "id": "_55GOQ4qQeW8"
   },
   "source": [
    "## 1.5 Examples for basic calculation"
   ]
  },
  {
   "cell_type": "code",
   "execution_count": null,
   "metadata": {
    "colab": {
     "base_uri": "https://localhost:8080/",
     "height": 68
    },
    "id": "IIRqfxlMQifO",
    "outputId": "452e46db-922c-440a-92a3-f35a616bd6d1"
   },
   "outputs": [
    {
     "name": "stdout",
     "output_type": "stream",
     "text": [
      "3\n",
      "4\n",
      "1.9178112524437851\n"
     ]
    }
   ],
   "source": [
    "from math import * # we can access different a lot more math functions\n",
    "\n",
    "my_num = 3.678\n",
    "print(floor(my_num))\n",
    "print(ceil(my_num))\n",
    "print(sqrt(my_num))"
   ]
  },
  {
   "cell_type": "code",
   "execution_count": null,
   "metadata": {
    "id": "lzqcZP4iRn7v"
   },
   "outputs": [],
   "source": [
    "# Not operator operator negates a statement, e.g.:\n",
    "\n",
    "# Is 12 *not* less than 7 -> true\n",
    "a = 12\n",
    "b = 7\n",
    "print(not a < b)"
   ]
  },
  {
   "cell_type": "code",
   "execution_count": null,
   "metadata": {
    "colab": {
     "base_uri": "https://localhost:8080/",
     "height": 68
    },
    "id": "KbTMSqk0QpeC",
    "outputId": "7c60143f-271a-484d-8f98-57f27f597553"
   },
   "outputs": [
    {
     "name": "stdout",
     "output_type": "stream",
     "text": [
      "Enter a number: 3\n",
      "Enter another number: 4\n",
      "34\n"
     ]
    }
   ],
   "source": [
    "#create 2 variables\n",
    "number1 = input(\"Enter a number: \")\n",
    "number2 = input(\"Enter another number: \")\n",
    "\n",
    "#print out the results\n",
    "\n",
    "result = number1 + number2\n",
    "print(result)\n",
    "\n",
    "# When we get input from user , python understands them as strings"
   ]
  },
  {
   "cell_type": "code",
   "execution_count": null,
   "metadata": {
    "id": "XrDBr8VAQy5Z"
   },
   "outputs": [],
   "source": [
    "#this is going to convert these strings to INTEGER\n",
    "#create 2 variables\n",
    "number1 = input(\"Enter a number: \")\n",
    "number2 = input(\"Enter another number: \")\n",
    "\n",
    "result = int(number1) + int(number2)\n",
    "print(result)\n",
    "\n",
    "# if you input number with decimal you will get an error."
   ]
  },
  {
   "cell_type": "code",
   "execution_count": null,
   "metadata": {
    "id": "EXsIfBgwRCQF"
   },
   "outputs": [],
   "source": [
    "#FLOAT : numbers have decimal, so we can use decimal numbers as inputs\n",
    "#create 2 variables\n",
    "number1 = input(\"Enter a number: \")\n",
    "number2 = input(\"Enter another number: \")\n",
    "\n",
    "result = float(number1) + float(number2)\n",
    "print(result)"
   ]
  },
  {
   "cell_type": "markdown",
   "metadata": {
    "id": "Nw3PiPjI4_aI"
   },
   "source": [
    "# 2- Control Statements\n",
    "\n",
    "See A Whirlwind Tour of Python [Control Flow](https://jakevdp.github.io/WhirlwindTourOfPython/07-control-flow-statements.html) (pages 37 - 41 in PDF) for more discussion.\n",
    "\n",
    "Control statements are central to computing. They allow a program to change what it does depending on input or other data. \n",
    "\n",
    "The if…elif…else statement is used in Python for decision making.\n",
    "\n",
    "The program evaluates the test expression and will execute statement(s) only if the test expression is True.\n",
    "\n",
    "If the test expression is False, the statement(s) is not executed.\n",
    "\n",
    "In Python, the body of the if statement is indicated by the indentation. The body starts with an indentation and the first unindented line marks the end.\n",
    "\n",
    "Python interprets non-zero values as True. None and 0 are interpreted as False."
   ]
  },
  {
   "cell_type": "code",
   "execution_count": null,
   "metadata": {
    "colab": {
     "base_uri": "https://localhost:8080/",
     "height": 34
    },
    "id": "1w4n7TCz8CZe",
    "outputId": "46e25b1e-f41d-4bcc-ed1f-17ba4fc446ed"
   },
   "outputs": [
    {
     "name": "stdout",
     "output_type": "stream",
     "text": [
      "30 is a positive number.\n"
     ]
    }
   ],
   "source": [
    "# If the number is positive, we print an appropriate message\n",
    "\n",
    "my_number = 30\n",
    "if my_number > 0:\n",
    "    print(my_number, \"is a positive number.\")\n"
   ]
  },
  {
   "cell_type": "code",
   "execution_count": null,
   "metadata": {
    "colab": {
     "base_uri": "https://localhost:8080/",
     "height": 34
    },
    "id": "r6prLWJp88Vh",
    "outputId": "55814688-2445-4c76-bd0a-aba8589b55b8"
   },
   "outputs": [
    {
     "name": "stdout",
     "output_type": "stream",
     "text": [
      "-45 is a negative number.\n"
     ]
    }
   ],
   "source": [
    "my_number = -45\n",
    "if my_number > 0:\n",
    "    print(my_number, \"is a positive number.\")\n",
    "print(my_number, \"is a negative number.\")"
   ]
  },
  {
   "cell_type": "code",
   "execution_count": null,
   "metadata": {
    "colab": {
     "base_uri": "https://localhost:8080/",
     "height": 34
    },
    "id": "SW7a4TQF9NRn",
    "outputId": "5b39f2d4-5b05-452b-f9c6-467cf8d688a0"
   },
   "outputs": [
    {
     "name": "stdout",
     "output_type": "stream",
     "text": [
      "5 is a positive number.\n"
     ]
    }
   ],
   "source": [
    "# Program checks if the number is positive or negative\n",
    "# And displays an appropriate message\n",
    "my_number = 5\n",
    "\n",
    "if my_number >= 0:\n",
    "    print(my_number, \"is a positive number or zero.\")\n",
    "else:\n",
    "    print(my_number, \"is a negative number.\")"
   ]
  },
  {
   "cell_type": "code",
   "execution_count": null,
   "metadata": {
    "colab": {
     "base_uri": "https://localhost:8080/",
     "height": 34
    },
    "id": "L2PTedFH9hSu",
    "outputId": "4a1702c8-a198-402e-812f-4a9cf7eee049"
   },
   "outputs": [
    {
     "name": "stdout",
     "output_type": "stream",
     "text": [
      "3.4 is a positive number.\n"
     ]
    }
   ],
   "source": [
    "#In this program, we check if the number is positive ornegative or zero\n",
    "# And display an appropriate message\n",
    "\n",
    "my_number = 3.4\n",
    "\n",
    "if my_number > 0:\n",
    "    print(my_number, \"is a positive number.\")\n",
    "elif my_number == 0:\n",
    "    print(my_number, \"is a zero.\")\n",
    "else:\n",
    "    print(my_number, \"is a negative number.\")"
   ]
  },
  {
   "cell_type": "code",
   "execution_count": null,
   "metadata": {
    "colab": {
     "base_uri": "https://localhost:8080/",
     "height": 51
    },
    "id": "tRfn_tbh-CAk",
    "outputId": "48ed8d19-edd1-4842-d786-d155c25e72c0"
   },
   "outputs": [
    {
     "name": "stdout",
     "output_type": "stream",
     "text": [
      "Enter a number: 6\n",
      "6.0 is a positive number.\n"
     ]
    }
   ],
   "source": [
    "# we input a number to check if the number is positive or negative or zero\n",
    "#And display an appropriate message\n",
    "\n",
    "my_number = float(input(\"Enter a number: \"))\n",
    "if my_number >= 0:\n",
    "    if my_number == 0:\n",
    "        print(my_number, \"is a zero.\")\n",
    "    else:\n",
    "        print(my_number, \"is a positive number.\")\n",
    "else:\n",
    "    print(my_number, \"is a negative number.\")"
   ]
  },
  {
   "cell_type": "code",
   "execution_count": null,
   "metadata": {
    "id": "U6r4vpzbRS36"
   },
   "outputs": [],
   "source": [
    "my_number = float(input(\"Enter a number: \"))\n",
    "if my_number > 0.0:  \n",
    "    print('Initial number is greater than zero')\n",
    "    my_number -= 10.0\n",
    "elif my_number < 0.0:  \n",
    "    print('Initial number is less than zero')\n",
    "    my_number += 34.0\n",
    "else: \n",
    "    print('Initial number is not less than zero and not greater than zero, therefore it must be zero')\n",
    "    my_number *= 3.5\n",
    "\n",
    "# Print new x value\n",
    "print(\"New x value:\", my_number)"
   ]
  },
  {
   "cell_type": "code",
   "execution_count": null,
   "metadata": {
    "colab": {
     "base_uri": "https://localhost:8080/",
     "height": 51
    },
    "id": "4eAjUHmvCGYt",
    "outputId": "62712124-8700-48d8-c1b8-4bdc20dbc2fc"
   },
   "outputs": [
    {
     "name": "stdout",
     "output_type": "stream",
     "text": [
      "True\n",
      "False\n"
     ]
    }
   ],
   "source": [
    "b = [3,2,1]\n",
    "a = [3,2,1]\n",
    "print(a == b) # Prints out True\n",
    "# print(a is b) # Prints out False"
   ]
  },
  {
   "cell_type": "code",
   "execution_count": null,
   "metadata": {
    "colab": {
     "base_uri": "https://localhost:8080/",
     "height": 51
    },
    "id": "kX6DYjdqCSG0",
    "outputId": "e443fced-2d0a-4f0a-9c0b-6edee3b3558a"
   },
   "outputs": [
    {
     "name": "stdout",
     "output_type": "stream",
     "text": [
      "You are 34 years old, male.\n",
      "Your age is either 34 or 35\n"
     ]
    }
   ],
   "source": [
    "# Boolean\n",
    "age = 34\n",
    "gender = \"male\"\n",
    "if age == 34 and gender  == \"male\":\n",
    "    print(\"You are 34 years old, male.\")\n",
    "\n",
    "if age == 34 or age  == 35:\n",
    "    print(\"Your age is either 34 or 35\")"
   ]
  },
  {
   "cell_type": "code",
   "execution_count": null,
   "metadata": {
    "colab": {
     "base_uri": "https://localhost:8080/",
     "height": 51
    },
    "id": "Flko-kzmg0l6",
    "outputId": "d27e9325-5a65-4029-8650-ca4d3fb303de"
   },
   "outputs": [
    {
     "name": "stdout",
     "output_type": "stream",
     "text": [
      "How many student are there in the classroom? : 45\n",
      "There are 45students in the classroom\n"
     ]
    }
   ],
   "source": []
  },
  {
   "cell_type": "markdown",
   "metadata": {
    "id": "uYfid9_iEKpy"
   },
   "source": [
    "## 2.1 While Loops\n",
    "\n",
    "With the while loop we can execute a set of statements as long as a condition is true."
   ]
  },
  {
   "cell_type": "code",
   "execution_count": null,
   "metadata": {
    "colab": {
     "base_uri": "https://localhost:8080/",
     "height": 187
    },
    "id": "bwRJT7s8ENGK",
    "outputId": "f6b00422-e602-4a06-beba-a3416a3c9476"
   },
   "outputs": [
    {
     "name": "stdout",
     "output_type": "stream",
     "text": [
      "Start of while statement\n",
      "-5\n",
      "-4\n",
      "-3\n",
      "-2\n",
      "-1\n",
      "0\n",
      "1\n",
      "2\n",
      "End of while statement\n"
     ]
    }
   ],
   "source": [
    "print(\"Start of while statement\")\n",
    "x = -5\n",
    "while x < 3:\n",
    "    print(x)\n",
    "    x += 1  # Increment x\n",
    "print(\"End of while statement\")"
   ]
  },
  {
   "cell_type": "code",
   "execution_count": null,
   "metadata": {
    "colab": {
     "base_uri": "https://localhost:8080/",
     "height": 68
    },
    "id": "UkvUc2_uFSXL",
    "outputId": "545884a6-98de-4a2a-cd71-aa49175e4cbd"
   },
   "outputs": [
    {
     "name": "stdout",
     "output_type": "stream",
     "text": [
      "2\n",
      "4\n",
      "Good bye!\n"
     ]
    }
   ],
   "source": [
    "i = 2\n",
    "while i < 6:\n",
    "  print(i)\n",
    "  if i == 4:\n",
    "    break\n",
    "  i *= 2\n",
    "\n",
    "print(\"Good bye!\")"
   ]
  },
  {
   "cell_type": "code",
   "execution_count": null,
   "metadata": {
    "colab": {
     "base_uri": "https://localhost:8080/",
     "height": 102
    },
    "id": "bGzv6jWMHfMY",
    "outputId": "9b1d502f-ce3f-45eb-8db6-748ed9e01b58"
   },
   "outputs": [
    {
     "name": "stdout",
     "output_type": "stream",
     "text": [
      "2\n",
      "4\n",
      "5\n",
      "6\n",
      "The END\n"
     ]
    }
   ],
   "source": [
    "i = 1\n",
    "while i < 6:\n",
    "  i += 1\n",
    "  if i == 3:\n",
    "    continue\n",
    "  print(i)\n",
    "print(\"The END\")"
   ]
  },
  {
   "cell_type": "markdown",
   "metadata": {
    "id": "ZkkdRbbSNH9K"
   },
   "source": [
    "# 3- Functions, Conditionals, and Iteration\n",
    "\n",
    "See A Whirlwind Tour of Python [Defining and Using Functions](https://jakevdp.github.io/WhirlwindTourOfPython/08-defining-functions.html) (pages 41 - 45 in PDF) for more discussion.\n",
    "\n",
    "Let's create a Python function, and call it from a loop.\n",
    "\n",
    "A function is a set of statements that take inputs, do some specific computation and produces output. \n",
    "\n",
    "By writing a function, we do the common and repeating calculation for different inputs instead of writing the same code again and again. So **we can call the function.** and use it for different cariables.\n"
   ]
  },
  {
   "cell_type": "markdown",
   "metadata": {
    "id": "wmIawIGAOnnh"
   },
   "source": [
    "#### Examples "
   ]
  },
  {
   "cell_type": "code",
   "execution_count": null,
   "metadata": {
    "id": "nt3Nj81aIZBM"
   },
   "outputs": [],
   "source": [
    "# A simple Python function to check \n",
    "# whether given number is even or odd \n",
    "def even_odd(x): \n",
    "    if (x % 2 == 0): \n",
    "        print(\"The number is even\")\n",
    "    else: \n",
    "        print(\"The number is odd\")"
   ]
  },
  {
   "cell_type": "code",
   "execution_count": null,
   "metadata": {
    "colab": {
     "base_uri": "https://localhost:8080/",
     "height": 51
    },
    "id": "sR3kSssFOTLR",
    "outputId": "95b0b07d-8693-47a0-ba06-d277a76c4277"
   },
   "outputs": [
    {
     "name": "stdout",
     "output_type": "stream",
     "text": [
      "The number is even\n",
      "The number is odd\n"
     ]
    }
   ],
   "source": [
    "# Driver code \n",
    "even_odd(24) \n",
    "even_odd(35) "
   ]
  },
  {
   "cell_type": "code",
   "execution_count": null,
   "metadata": {
    "colab": {
     "base_uri": "https://localhost:8080/",
     "height": 34
    },
    "id": "pJM56GuR3wJ6",
    "outputId": "fd65ad70-a344-4a8f-e462-42b8211ffb5c"
   },
   "outputs": [
    {
     "name": "stdout",
     "output_type": "stream",
     "text": [
      "Welcome to outside of the function\n"
     ]
    }
   ],
   "source": [
    "def function1(): #def for define\n",
    "  print(\"Yes\")\n",
    "  print(\"No\")\n",
    "print(\"Welcome to outside of the function\")"
   ]
  },
  {
   "cell_type": "code",
   "execution_count": null,
   "metadata": {
    "colab": {
     "base_uri": "https://localhost:8080/",
     "height": 51
    },
    "id": "aklXRMCaV9gr",
    "outputId": "d80f8b25-6f69-45aa-d8bc-5da7895c6229"
   },
   "outputs": [
    {
     "name": "stdout",
     "output_type": "stream",
     "text": [
      "Yes\n",
      "No\n"
     ]
    }
   ],
   "source": [
    "function1()"
   ]
  },
  {
   "cell_type": "code",
   "execution_count": null,
   "metadata": {
    "id": "OwOXkjGZJewC"
   },
   "outputs": [],
   "source": [
    "# Function can also be a mapping\n",
    "def function2(x):   #input\n",
    "  return 4*x        # output\n"
   ]
  },
  {
   "cell_type": "code",
   "execution_count": null,
   "metadata": {
    "colab": {
     "base_uri": "https://localhost:8080/",
     "height": 34
    },
    "id": "9wCOAZplJzDG",
    "outputId": "77b2a5db-8068-480b-9415-cee6e9a50044"
   },
   "outputs": [
    {
     "name": "stdout",
     "output_type": "stream",
     "text": [
      "12\n"
     ]
    }
   ],
   "source": [
    "a = function2(3)\n",
    "print(a)"
   ]
  },
  {
   "cell_type": "code",
   "execution_count": null,
   "metadata": {
    "id": "I4n2lux0J8Nz"
   },
   "outputs": [],
   "source": [
    "def function3(x,y):\n",
    "  return 2*x+y"
   ]
  },
  {
   "cell_type": "code",
   "execution_count": null,
   "metadata": {
    "colab": {
     "base_uri": "https://localhost:8080/",
     "height": 34
    },
    "id": "RWF2J4KrKHDK",
    "outputId": "59369577-ad18-4d31-d317-cca249f0295b"
   },
   "outputs": [
    {
     "name": "stdout",
     "output_type": "stream",
     "text": [
      "10\n"
     ]
    }
   ],
   "source": [
    "b = function3(3,4)\n",
    "print(b)"
   ]
  },
  {
   "cell_type": "code",
   "execution_count": null,
   "metadata": {
    "colab": {
     "base_uri": "https://localhost:8080/",
     "height": 68
    },
    "id": "u1OYAW0vKPce",
    "outputId": "b425eb0a-7f49-48ac-f59f-8988b2052184"
   },
   "outputs": [
    {
     "name": "stdout",
     "output_type": "stream",
     "text": [
      "5\n",
      "still in function4\n",
      "25\n"
     ]
    }
   ],
   "source": [
    "def function4(x):\n",
    "  print(x)\n",
    "  print(\"still in function4\")\n",
    "  return 5*x\n",
    "\n",
    "c = function4(5)\n",
    "print(c)"
   ]
  },
  {
   "cell_type": "code",
   "execution_count": null,
   "metadata": {
    "id": "TxeuamERLevM"
   },
   "outputs": [],
   "source": [
    "def BMI_Calculator(gender, height_cm, weight_kg):\n",
    "    BMI = (weight_kg)/((height_cm/100)**2)\n",
    "    print(\"BMI: \")\n",
    "    print(BMI)\n",
    "    if BMI < 25:\n",
    "      return gender + \" is not overweight\"\n",
    "    else:\n",
    "      return gender + \" is overweight\"\n"
   ]
  },
  {
   "cell_type": "code",
   "execution_count": null,
   "metadata": {
    "id": "WIwE0UVFMivu"
   },
   "outputs": [],
   "source": [
    "gender_1= \"male 1\"\n",
    "height_1 = 180\n",
    "weight_1 = 65\n",
    "\n",
    "gender_2= \"female 2\"\n",
    "height_2 = 150\n",
    "weight_2 = 65\n"
   ]
  },
  {
   "cell_type": "code",
   "execution_count": null,
   "metadata": {
    "colab": {
     "base_uri": "https://localhost:8080/",
     "height": 119
    },
    "id": "1Yr4UfLhM6RH",
    "outputId": "55c8d265-0bd7-4ef9-d917-ea1ac82e8652"
   },
   "outputs": [
    {
     "name": "stdout",
     "output_type": "stream",
     "text": [
      "BMI: \n",
      "20.061728395061728\n",
      "BMI: \n",
      "28.88888888888889\n",
      "male 1 is not overweight\n",
      "female 2 is overweight\n"
     ]
    }
   ],
   "source": [
    "results1 = BMI_Calculator(gender_1,height_1,weight_1)\n",
    "results2 = BMI_Calculator(gender_2,height_2,weight_2)\n",
    "print(results1)\n",
    "print(results2)"
   ]
  },
  {
   "cell_type": "code",
   "execution_count": null,
   "metadata": {
    "id": "3D5p9c4DNGLD"
   },
   "outputs": [],
   "source": []
  },
  {
   "cell_type": "markdown",
   "metadata": {
    "id": "d5wBsztzN0Jg"
   },
   "source": [
    "# 4- Numpy Library\n",
    "\n",
    "See A Whirlwind Tour of Python [A Preivew of Data Science Tools](https://jakevdp.github.io/WhirlwindTourOfPython/15-preview-of-data-science-tools.html) (pages 84 - 85 in PDF) for short introduction.\n",
    "\n",
    "NumPy is a general-purpose array-processing package. It provides a high-performance multidimensional array object, and tools for working with these arrays.\n",
    "\n",
    "Python has lists built into the language. However, we will use a library called numpy for this. Numpy gives you lots of support functions.\n",
    "\n",
    "A list is the Python equivalent of an array, but is resizeable and can contain elements of different types.\n",
    "\n",
    "Here, you will also see an import statement. This statement makes the entire numpy package available and we can access those symbols using the abbreviated 'np' syntax.\n"
   ]
  },
  {
   "cell_type": "markdown",
   "metadata": {
    "id": "1qIHpm-84xvL"
   },
   "source": [
    "## Import Numpy Library\n"
   ]
  },
  {
   "cell_type": "code",
   "execution_count": null,
   "metadata": {
    "colab": {
     "base_uri": "https://localhost:8080/",
     "height": 35
    },
    "id": "S3v0JEsu5jmp",
    "outputId": "9947d3c1-150f-4b8a-bbfa-b3e8c530dd20"
   },
   "outputs": [
    {
     "data": {
      "application/vnd.google.colaboratory.intrinsic+json": {
       "type": "string"
      },
      "text/plain": [
       "'1.18.5'"
      ]
     },
     "execution_count": 125,
     "metadata": {
      "tags": []
     },
     "output_type": "execute_result"
    }
   ],
   "source": [
    "import numpy\n",
    "numpy.__version__"
   ]
  },
  {
   "cell_type": "code",
   "execution_count": null,
   "metadata": {
    "colab": {
     "base_uri": "https://localhost:8080/",
     "height": 187
    },
    "id": "V9fLXkOtNtHQ",
    "outputId": "c15e0d4c-3d26-4095-d4e9-41f699465331"
   },
   "outputs": [
    {
     "name": "stdout",
     "output_type": "stream",
     "text": [
      "Current array: ['Class' 'Welcome' 'Fall 2020']\n",
      "Printing each element\n",
      "Class\n",
      "Welcome\n",
      "Fall 2020\n",
      "\n",
      "Printing each element and their index\n",
      "Index: 0, was: Class\n",
      "Index: 1, was: Welcome\n",
      "Index: 2, was: Fall 2020\n"
     ]
    }
   ],
   "source": [
    "import numpy as np  # Make numpy available using np.\n",
    "\n",
    "# Create a numpy array, and append an element\n",
    "x = np.array([\"Class\", \"Welcome\"])\n",
    "x = np.append(x, \"Fall 2020\")\n",
    "print(\"Current array: {}\".format(x))\n",
    "print(\"Printing each element\")\n",
    "for i in x:\n",
    "  print(i)\n",
    "\n",
    "print(\"\\nPrinting each element and their index\")\n",
    "for i,e in enumerate(x):\n",
    "  print(\"Index: {}, was: {}\".format(i, e))"
   ]
  },
  {
   "cell_type": "code",
   "execution_count": null,
   "metadata": {
    "colab": {
     "base_uri": "https://localhost:8080/",
     "height": 34
    },
    "id": "KWHksN7_0BWB",
    "outputId": "45afe024-0d9c-4805-e0ee-33a38ef6ca96"
   },
   "outputs": [
    {
     "name": "stdout",
     "output_type": "stream",
     "text": [
      "[1 2 3 4 5]\n"
     ]
    }
   ],
   "source": [
    "#1D array\n",
    "# An array that has 0-D arrays as its elements is called uni-dimensional or 1-D array.\n",
    "\n",
    "#These are the most common and basic arrays.\n",
    "\n",
    "arr1 = np.array([1, 2, 3, 4, 5])\n",
    "\n",
    "print(arr1)"
   ]
  },
  {
   "cell_type": "code",
   "execution_count": null,
   "metadata": {
    "colab": {
     "base_uri": "https://localhost:8080/",
     "height": 51
    },
    "id": "VdAiyAZj0O5x",
    "outputId": "b1899f3b-b64c-4d12-8039-793ac101a0fc"
   },
   "outputs": [
    {
     "name": "stdout",
     "output_type": "stream",
     "text": [
      "[[1 2 3]\n",
      " [4 5 6]]\n"
     ]
    }
   ],
   "source": [
    "#An array that has 1-D arrays as its elements is called a 2-D array.\n",
    "\n",
    "#These are often used to represent matrix or 2nd order tensors.\n",
    "\n",
    "\n",
    "arr2 = np.array([[1, 2, 3], [4, 5, 6]])\n",
    "\n",
    "print(arr2)\n"
   ]
  },
  {
   "cell_type": "code",
   "execution_count": null,
   "metadata": {
    "colab": {
     "base_uri": "https://localhost:8080/",
     "height": 34
    },
    "id": "1OD-sB2I0gQM",
    "outputId": "68a90ef4-5bfa-4e35-8011-38a871fc2cf2"
   },
   "outputs": [
    {
     "name": "stdout",
     "output_type": "stream",
     "text": [
      "77\n"
     ]
    }
   ],
   "source": [
    "arr3 = np.array([14, 25, 33, 44])\n",
    "\n",
    "print(arr3[2] + arr3[3])"
   ]
  },
  {
   "cell_type": "code",
   "execution_count": null,
   "metadata": {
    "colab": {
     "base_uri": "https://localhost:8080/",
     "height": 85
    },
    "id": "3j_PyeSs0rIe",
    "outputId": "3aab94c8-abe9-46c5-fea3-f105768d46ee"
   },
   "outputs": [
    {
     "name": "stdout",
     "output_type": "stream",
     "text": [
      "[[ 5  4  3  2  1]\n",
      " [ 6  7  8  9 10]]\n",
      "4th element on 2nd dim:  9\n",
      "int64\n"
     ]
    }
   ],
   "source": [
    "arr5 = np.array([[5,4,3,2,1], [6,7,8,9,10]])\n",
    "\n",
    "print(arr5)\n",
    "\n",
    "print('4th element on 2nd dim: ', arr5[1, 3])\n",
    "\n",
    "print(arr5.dtype)\n"
   ]
  },
  {
   "cell_type": "markdown",
   "metadata": {
    "id": "uz8pa6pr1Qmr"
   },
   "source": [
    "Below is a list of all data types in NumPy and the characters used to represent them.\n",
    "*   `i` - integer\n",
    "*   `b` - boolean\n",
    "*   `u` - unsigned integer\n",
    "*   `f` - float\n",
    "*   `c` - complex float\n",
    "*   `m`- timedelta\n",
    "*   `M` - datetime\n",
    "*   `O`- object\n",
    "*   `S`- string\n",
    "\n",
    "\n",
    "\n",
    "\n",
    "\n",
    "\n",
    "\n"
   ]
  },
  {
   "cell_type": "code",
   "execution_count": null,
   "metadata": {
    "colab": {
     "base_uri": "https://localhost:8080/",
     "height": 34
    },
    "id": "iZLN5BJY1PV5",
    "outputId": "011699de-204a-421b-cabc-5184f63a316d"
   },
   "outputs": [
    {
     "name": "stdout",
     "output_type": "stream",
     "text": [
      "|S1\n"
     ]
    }
   ],
   "source": [
    "arr = np.array([1, 2, 3, 4,5,6], dtype='S') #converts datatype to string\n",
    "\n",
    "print(arr.dtype)\n"
   ]
  },
  {
   "cell_type": "code",
   "execution_count": null,
   "metadata": {
    "colab": {
     "base_uri": "https://localhost:8080/",
     "height": 51
    },
    "id": "cNymfQth2r70",
    "outputId": "08bd7b2d-2139-4255-e74d-881f90106a23"
   },
   "outputs": [
    {
     "name": "stdout",
     "output_type": "stream",
     "text": [
      "[2 3 4 5]\n",
      "int64\n"
     ]
    }
   ],
   "source": [
    "#Change data type from float to integer by using int as parameter value:\n",
    "import numpy as np\n",
    "\n",
    "arr1 = np.array([2.3, 3.4, 4.5, 5.6])\n",
    "\n",
    "new_arr = arr1.astype(int)\n",
    "\n",
    "print(new_arr)\n",
    "print(new_arr.dtype)"
   ]
  },
  {
   "cell_type": "code",
   "execution_count": null,
   "metadata": {
    "colab": {
     "base_uri": "https://localhost:8080/",
     "height": 51
    },
    "id": "e9VcfvYc282P",
    "outputId": "0cae52dd-3036-4966-9ebe-ec2ea111af6c"
   },
   "outputs": [
    {
     "name": "stdout",
     "output_type": "stream",
     "text": [
      "[ True False  True  True  True False]\n",
      "bool\n"
     ]
    }
   ],
   "source": [
    "#Change data type from integer to boolean:\n",
    "arr2 = np.array([1, 0, 1, 1,1, 0])\n",
    "\n",
    "new_arr = arr2.astype(bool)\n",
    "\n",
    "print(new_arr)\n",
    "print(new_arr.dtype)\n"
   ]
  },
  {
   "cell_type": "markdown",
   "metadata": {
    "id": "YpVQUjfp4k7z"
   },
   "source": [
    "Each array has attributes ndim (the number of dimensions), shape (the size of each dimension), and size (the total size of the array):"
   ]
  },
  {
   "cell_type": "code",
   "execution_count": null,
   "metadata": {
    "id": "0HI00ZYs4otf"
   },
   "outputs": [],
   "source": [
    "np.random.seed(0)  # seed for reproducibility\n",
    "\n",
    "x1 = np.random.randint(5, size=6)  # One-dimensional array\n",
    "x2 = np.random.randint(5, size=(3, 4))  # Two-dimensional array\n",
    "x3 = np.random.randint(5, size=(3, 4, 5))  # Three-dimensional array"
   ]
  },
  {
   "cell_type": "code",
   "execution_count": null,
   "metadata": {
    "colab": {
     "base_uri": "https://localhost:8080/",
     "height": 374
    },
    "id": "4AfNhNSO54So",
    "outputId": "a181da44-9c66-41ba-ae6c-d6b915a78da1"
   },
   "outputs": [
    {
     "name": "stdout",
     "output_type": "stream",
     "text": [
      "x1: \n",
      "[4 0 3 3 3 1]\n",
      "x2 :\n",
      "[[3 2 4 0]\n",
      " [0 4 2 1]\n",
      " [0 1 1 0]]\n",
      "x3 : \n",
      "[[[1 4 3 0 3]\n",
      "  [0 2 3 0 1]\n",
      "  [3 3 3 0 1]\n",
      "  [1 1 0 2 4]]\n",
      "\n",
      " [[3 3 2 4 2]\n",
      "  [0 0 4 0 4]\n",
      "  [1 4 1 2 2]\n",
      "  [0 1 1 1 1]]\n",
      "\n",
      " [[3 3 2 3 0]\n",
      "  [3 4 1 2 4]\n",
      "  [3 4 4 4 3]\n",
      "  [4 4 4 0 4]]]\n"
     ]
    }
   ],
   "source": [
    "print(\"x1: \")\n",
    "print(x1)\n",
    "print( \"x2 :\")\n",
    "print(x2)\n",
    "print(\"x3 : \")\n",
    "print(x3)"
   ]
  },
  {
   "cell_type": "code",
   "execution_count": null,
   "metadata": {
    "colab": {
     "base_uri": "https://localhost:8080/",
     "height": 68
    },
    "id": "HocaRX1Z50b0",
    "outputId": "ef62f6fa-506b-416b-b599-931499cd7219"
   },
   "outputs": [
    {
     "name": "stdout",
     "output_type": "stream",
     "text": [
      "x3 ndim:  3\n",
      "x3 shape: (3, 4, 5)\n",
      "x3 size:  60\n"
     ]
    }
   ],
   "source": [
    "print(\"x3 ndim: \", x3.ndim)\n",
    "print(\"x3 shape:\", x3.shape)\n",
    "print(\"x3 size: \", x3.size)"
   ]
  },
  {
   "cell_type": "code",
   "execution_count": null,
   "metadata": {
    "colab": {
     "base_uri": "https://localhost:8080/",
     "height": 102
    },
    "id": "CeHwuFJnN-iQ",
    "outputId": "ee01bab7-b1c0-4e9e-8c20-d0af609fc191"
   },
   "outputs": [
    {
     "name": "stdout",
     "output_type": "stream",
     "text": [
      "\n",
      "Showing some basic calculations on arrays\n",
      "Max: 28\n",
      "Average: 12.2\n",
      "Max index: 4\n"
     ]
    }
   ],
   "source": [
    "print(\"\\nShowing some basic calculations on arrays\")\n",
    "y = np.array([15,12,4,2,28])\n",
    "print(\"Max: {}\".format(np.max(y)))\n",
    "print(\"Average: {}\".format(np.average(y)))\n",
    "print(\"Max index: {}\".format(np.argmax(y)))"
   ]
  },
  {
   "cell_type": "code",
   "execution_count": null,
   "metadata": {
    "colab": {
     "base_uri": "https://localhost:8080/",
     "height": 68
    },
    "id": "rrjcWmzgOAzn",
    "outputId": "cb950d00-69bc-4697-b80c-b76e2ab59a2c"
   },
   "outputs": [
    {
     "name": "stdout",
     "output_type": "stream",
     "text": [
      "\n",
      "You can print the type of anything\n",
      "Type of y: <class 'numpy.ndarray'>, type of y[0]: <class 'numpy.int64'>\n"
     ]
    }
   ],
   "source": [
    "print(\"\\nYou can print the type of anything\")\n",
    "print(\"Type of y: {}, type of y[0]: {}\".format(type(y), type(y[0])))"
   ]
  },
  {
   "cell_type": "code",
   "execution_count": null,
   "metadata": {
    "colab": {
     "base_uri": "https://localhost:8080/",
     "height": 136
    },
    "id": "q9bJMk3eODcz",
    "outputId": "c85ba0e4-9d75-40e0-cd84-9a7228fc998e"
   },
   "outputs": [
    {
     "name": "stdout",
     "output_type": "stream",
     "text": [
      "\n",
      "Use numpy to create a [5,2] dimension array with random number\n",
      "[[0.04262005 0.43060914]\n",
      " [0.5121623  0.92769727]\n",
      " [0.78963858 0.05463819]\n",
      " [0.95909683 0.94296399]\n",
      " [0.67962749 0.73108929]]\n"
     ]
    }
   ],
   "source": [
    "print(\"\\nUse numpy to create a [5,2] dimension array with random number\")\n",
    "z = np.random.rand(5, 2)\n",
    "print(z)"
   ]
  },
  {
   "cell_type": "code",
   "execution_count": null,
   "metadata": {
    "colab": {
     "base_uri": "https://localhost:8080/",
     "height": 119
    },
    "id": "-cIn6KI7OGAi",
    "outputId": "a87e0fd4-f857-4090-bebc-b06c902b4c31"
   },
   "outputs": [
    {
     "name": "stdout",
     "output_type": "stream",
     "text": [
      "\n",
      "You can print the dimensions of arrays\n",
      "Shape of a: (3,)\n",
      "Shape of b: (5,)\n",
      "Shape of c: (5, 2)\n",
      "...Observe, Python uses both [0,1,2] and (0,1,2) to specify lists\n"
     ]
    }
   ],
   "source": [
    "print(\"\\nYou can print the dimensions of arrays\")\n",
    "print(\"Shape of a: {}\".format(x.shape))\n",
    "print(\"Shape of b: {}\".format(y.shape))\n",
    "print(\"Shape of c: {}\".format(z.shape))\n",
    "print(\"...Observe, Python uses both [0,1,2] and (0,1,2) to specify lists\")"
   ]
  },
  {
   "cell_type": "code",
   "execution_count": null,
   "metadata": {
    "colab": {
     "base_uri": "https://localhost:8080/",
     "height": 51
    },
    "id": "1T4Vw6Q9SUVd",
    "outputId": "5d40c4db-81f5-4585-8e32-f187f457467a"
   },
   "outputs": [
    {
     "name": "stdout",
     "output_type": "stream",
     "text": [
      "0.003031015396118164 7.295608520507812e-05\n",
      "Numpy is in this example 41.54575163398693 faster!\n"
     ]
    }
   ],
   "source": [
    "import time\n",
    "import numpy as np\n",
    "\n",
    "size_of_vec = 10000\n",
    "\n",
    "#change the size of vector and compare the numpy vs python in terms of speed of obtained results\n",
    "#when you increase the size of the vector, your speed with numpy will be a lot faster than python\n",
    "\n",
    "def python_version():\n",
    "    t1 = time.time()\n",
    "    A = range(size_of_vec)\n",
    "    B = range(size_of_vec)\n",
    "    C = [A[i] + B[i] for i in range(len(A)) ]\n",
    "    return time.time() - t1\n",
    "\n",
    "def numpy_version():\n",
    "    t1 = time.time()\n",
    "    A = np.arange(size_of_vec)\n",
    "    B = np.arange(size_of_vec)\n",
    "    C = A + B\n",
    "    return time.time() - t1\n",
    "\n",
    "\n",
    "t1 = python_version()\n",
    "t2 = numpy_version()\n",
    "print(t1, t2)\n",
    "print(\"Numpy is in this example \" + str(t1/t2) + \" faster!\")"
   ]
  },
  {
   "cell_type": "code",
   "execution_count": null,
   "metadata": {
    "id": "9l8_xVLpzDMZ"
   },
   "outputs": [],
   "source": []
  },
  {
   "cell_type": "code",
   "execution_count": null,
   "metadata": {
    "colab": {
     "base_uri": "https://localhost:8080/",
     "height": 51
    },
    "id": "YPZxpeYH3V84",
    "outputId": "7ee9d5c5-7acd-4203-b00d-15ffbea94506"
   },
   "outputs": [
    {
     "name": "stdout",
     "output_type": "stream",
     "text": [
      "[True, True, False, False, True, True]\n",
      "[56 78 98 67]\n"
     ]
    }
   ],
   "source": [
    "#Create a filter array that will return only values higher than 50:\n",
    "import numpy as np\n",
    "heating_consumption = np.array([56, 78, 40, 25, 98, 67])\n",
    "\n",
    "# Create an empty list\n",
    "filter_arr = []\n",
    "\n",
    "# go through each element in heating consupmtion\n",
    "for each_element in heating_consumption:\n",
    "  # if the element is higher than 42, set the value to True, otherwise False:\n",
    "  if each_element > 50:\n",
    "    filter_arr.append(True)\n",
    "  else:\n",
    "    filter_arr.append(False)\n",
    "\n",
    "HEating_consuption_over50= heating_consumption[filter_arr]\n",
    "\n",
    "print(filter_arr)\n",
    "print(HEating_consuption_over50)"
   ]
  },
  {
   "cell_type": "markdown",
   "metadata": {
    "id": "KKt0PZz58FkE"
   },
   "source": [
    "# 5- Pandas- Creating Dataframe\n",
    "\n",
    "**Working on it**\n",
    "\n",
    "See A Whirlwind Tour of Python [A Preivew of Data Science Tools](https://jakevdp.github.io/WhirlwindTourOfPython/15-preview-of-data-science-tools.html) (pages 86 - 87 in PDF) for short introduction.\n",
    "\n",
    "Similar to NumPy, Pandas is one of the most widely used python libraries in data science. It provides high-performance, easy to use structures and data analysis tools. Pandas is an open-source library that is built on top of NumPy library. Unlike NumPy library which provides objects for multi-dimensional arrays, Pandas provides in-memory 2d table object called Dataframe. It is like a spreadsheet with column names and row labels.\n",
    "\n",
    "Both NumPy and pandas are often used together, as the pandas library relies heavily on the NumPy array for the implementation of pandas data objects and shares many of its features. In addition, pandas builds upon functionality provided by NumPy. Both libraries belong to what is known as the SciPy stack, a set of Python libraries used for scientific computing. The Anaconda Scientific Python distribution from Continuum Analytics installs both pandas and NumPy as part of the default installation."
   ]
  },
  {
   "cell_type": "code",
   "execution_count": 1,
   "metadata": {
    "colab": {
     "base_uri": "https://localhost:8080/"
    },
    "id": "ZdCtG16stkIq",
    "outputId": "7f86b291-4fe1-4a54-8bed-e6b92374c8f2"
   },
   "outputs": [
    {
     "name": "stdout",
     "output_type": "stream",
     "text": [
      "Empty DataFrame\n",
      "Columns: []\n",
      "Index: []\n",
      "         0\n",
      "0  Welcome\n",
      "1       to\n",
      "2      Dr.\n",
      "3   Nagy's\n",
      "4    class\n",
      "5   Spring\n",
      "6     2021\n"
     ]
    }
   ],
   "source": [
    "import pandas as pd  \n",
    "    \n",
    "# Calling DataFrame constructor  \n",
    "df = pd.DataFrame()  \n",
    "print(df) \n",
    "  \n",
    "# list of strings  \n",
    "my_list = ['Welcome', 'to', 'Dr.', \"Nagy's\",   \n",
    "            'class', 'Spring', '2021']  \n",
    "    \n",
    "# Calling DataFrame constructor on list  \n",
    "df = pd.DataFrame(my_list)  \n",
    "print(df)  "
   ]
  },
  {
   "cell_type": "code",
   "execution_count": null,
   "metadata": {
    "colab": {
     "base_uri": "https://localhost:8080/",
     "height": 102
    },
    "id": "5Nxh6SwYuCq6",
    "outputId": "bfc94401-dcd5-4ff7-f4d9-9340b468ce66"
   },
   "outputs": [
    {
     "name": "stdout",
     "output_type": "stream",
     "text": [
      "   Year  Registered_student\n",
      "0  2020                  20\n",
      "1  2019                  24\n",
      "2  2018                  35\n",
      "3  2017                  45\n"
     ]
    }
   ],
   "source": [
    "import pandas as pd \n",
    "  \n",
    "# intialise data of lists. \n",
    "my_data = {'Year':[2020, 2019, 2018, 2017], 'Registered_student':[20, 24, 35, 45]} \n",
    "  \n",
    "# Create DataFrame \n",
    "df = pd.DataFrame(my_data)\n",
    "  \n",
    "# Print the output. \n",
    "print(df)"
   ]
  },
  {
   "cell_type": "code",
   "execution_count": null,
   "metadata": {
    "colab": {
     "base_uri": "https://localhost:8080/",
     "height": 85
    },
    "id": "cgQoFpLsvDbk",
    "outputId": "d8c5803e-53a7-4c50-de75-be8a1a52ba27"
   },
   "outputs": [
    {
     "name": "stdout",
     "output_type": "stream",
     "text": [
      "         weight  birthyear  children    hobby\n",
      "alice        68       1985       NaN   Biking\n",
      "bob          83       1984       3.0  Dancing\n",
      "charles     112       1992       0.0      NaN\n"
     ]
    }
   ],
   "source": [
    "people_dict = { \"weight\": pd.Series([68, 83, 112],index=[\"alice\", \"bob\", \"charles\"]),\n",
    "                \"birthyear\": pd.Series([1984, 1985, 1992], index=[\"bob\", \"alice\", \"charles\"], name=\"year\"),\n",
    "                \"children\": pd.Series([0, 3], index=[\"charles\", \"bob\"]),\n",
    "                \"hobby\": pd.Series([\"Biking\", \"Dancing\"], index=[\"alice\", \"bob\"]),}\n",
    "people = pd.DataFrame(people_dict)\n",
    "print(people)"
   ]
  },
  {
   "cell_type": "code",
   "execution_count": null,
   "metadata": {
    "colab": {
     "base_uri": "https://localhost:8080/",
     "height": 111
    },
    "id": "7cDJBMKRvbMQ",
    "outputId": "53662732-ef1a-46d2-dec1-0b53ec7fc432"
   },
   "outputs": [
    {
     "data": {
      "text/html": [
       "<div>\n",
       "<style scoped>\n",
       "    .dataframe tbody tr th:only-of-type {\n",
       "        vertical-align: middle;\n",
       "    }\n",
       "\n",
       "    .dataframe tbody tr th {\n",
       "        vertical-align: top;\n",
       "    }\n",
       "\n",
       "    .dataframe thead th {\n",
       "        text-align: right;\n",
       "    }\n",
       "</style>\n",
       "<table border=\"1\" class=\"dataframe\">\n",
       "  <thead>\n",
       "    <tr style=\"text-align: right;\">\n",
       "      <th></th>\n",
       "      <th>weight</th>\n",
       "      <th>birthyear</th>\n",
       "      <th>children</th>\n",
       "      <th>hobby</th>\n",
       "    </tr>\n",
       "  </thead>\n",
       "  <tbody>\n",
       "    <tr>\n",
       "      <th>alice</th>\n",
       "      <td>68</td>\n",
       "      <td>1985</td>\n",
       "      <td>NaN</td>\n",
       "      <td>Biking</td>\n",
       "    </tr>\n",
       "    <tr>\n",
       "      <th>bob</th>\n",
       "      <td>83</td>\n",
       "      <td>1984</td>\n",
       "      <td>3.0</td>\n",
       "      <td>Dancing</td>\n",
       "    </tr>\n",
       "  </tbody>\n",
       "</table>\n",
       "</div>"
      ],
      "text/plain": [
       "       weight  birthyear  children    hobby\n",
       "alice      68       1985       NaN   Biking\n",
       "bob        83       1984       3.0  Dancing"
      ]
     },
     "execution_count": 18,
     "metadata": {
      "tags": []
     },
     "output_type": "execute_result"
    }
   ],
   "source": [
    "people[people[\"birthyear\"] < 1990]"
   ]
  },
  {
   "cell_type": "markdown",
   "metadata": {
    "id": "LXRt-UV57_zR"
   },
   "source": [
    "# 6- Plotting\n",
    "\n",
    "**Working on it**\n",
    "\n",
    "See A Whirlwind Tour of Python [A Preivew of Data Science Tools](https://jakevdp.github.io/WhirlwindTourOfPython/15-preview-of-data-science-tools.html) (pages 87 - 88 in PDF) for short introduction."
   ]
  },
  {
   "cell_type": "code",
   "execution_count": null,
   "metadata": {
    "colab": {
     "base_uri": "https://localhost:8080/",
     "height": 265
    },
    "id": "E2NeRXnmXjQb",
    "outputId": "5df5e36b-3ec4-4260-9c41-7c054c307324"
   },
   "outputs": [
    {
     "data": {
      "image/png": "[encoded data removed]",
      "text/plain": [
       "<Figure size 432x288 with 1 Axes>"
      ]
     },
     "metadata": {
      "needs_background": "light",
      "tags": []
     },
     "output_type": "display_data"
    }
   ],
   "source": [
    "import matplotlib.pyplot as plt\n",
    "plt.plot([20,24,35,45])\n",
    "plt.ylabel('Registered_student')\n",
    "plt.show()"
   ]
  },
  {
   "cell_type": "code",
   "execution_count": null,
   "metadata": {
    "colab": {
     "base_uri": "https://localhost:8080/",
     "height": 265
    },
    "id": "mZSYfWiauvJN",
    "outputId": "2ef06e1a-819b-4184-a763-338621453ad0"
   },
   "outputs": [
    {
     "data": {
      "image/png": "[encoded data removed]",
      "text/plain": [
       "<Figure size 432x288 with 1 Axes>"
      ]
     },
     "metadata": {
      "needs_background": "light",
      "tags": []
     },
     "output_type": "display_data"
    }
   ],
   "source": [
    "import matplotlib.pyplot as plt\n",
    "x = [21,22,23,4,5,6,77,8,9,10,31,32,33,34,35,36,37,18,49,50,100]\n",
    "num_bins = 10\n",
    "plt.hist(x, num_bins, facecolor='purple')\n",
    "plt.show()"
   ]
  },
  {
   "cell_type": "code",
   "execution_count": null,
   "metadata": {
    "id": "xYEXwmvku7Yl"
   },
   "outputs": [],
   "source": []
  },
  {
   "cell_type": "code",
   "execution_count": null,
   "metadata": {},
   "outputs": [],
   "source": []
  }
 ],
 "metadata": {
  "colab": {
   "collapsed_sections": [
    "wmIawIGAOnnh"
   ],
   "name": "0.5-getting-Started-with-Python-SamplesIncluded.ipynb",
   "provenance": [],
   "toc_visible": true
  },
  "kernelspec": {
   "display_name": "Python 3 (ipykernel)",
   "language": "python",
   "name": "python3"
  },
  "language_info": {
   "codemirror_mode": {
    "name": "ipython",
    "version": 3
   },
   "file_extension": ".py",
   "mimetype": "text/x-python",
   "name": "python",
   "nbconvert_exporter": "python",
   "pygments_lexer": "ipython3",
   "version": "3.9.1"
  }
 },
 "nbformat": 4,
 "nbformat_minor": 4
}
