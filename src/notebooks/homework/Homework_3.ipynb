{
 "cells": [
  {
   "cell_type": "markdown",
   "id": "9df4e422-8ebd-4a10-9f92-8c6079c1788f",
   "metadata": {},
   "source": [
    "<a href=\"https://colab.research.google.com/github/intelligent-environments-lab/occupant_centric_grid_interactive_buildings_course/blob/main/src/notebooks/homework/Homework_3.ipynb\" target=\"_parent\"><img src=\"https://colab.research.google.com/assets/colab-badge.svg\" alt=\"Open In Colab\"/></a>"
   ]
  },
  {
   "cell_type": "markdown",
   "id": "1bd88aec-1454-40d1-a382-a89c53d1a4b8",
   "metadata": {},
   "source": [
    "# Homework 3 - Getting to know the Southern Company Smart Neighborhood dataset\n",
    "---\n",
    "\n",
    "In this homework, you will familiarize yourself with the [Southern Company Smart Neighborhood](https://www.georgiapower.com/residential/save-money-and-energy/smart-neighborhood.html) dataset from a neighborhood in Atlanta, Georgia, USA by combining your SQL skills with your data analysis, visualization skills. The entire dataset consists of advanced metering infrastructure (AMI) time series that provides hourly electricity bought from and sold to the grid, submeter time series of plug loads, thermostat data, water heater use data, dynamic electricity pricing time series, battery and solar-inverter time series, e.t.c. \n",
    "\n",
    "This homework makes use of just the AMI data to learn about the electricity consumption patterns in the 46 buildings. There is also AMI data from 44 buildings considered to be baseline buildings that have similar floorplan as the smart neighborhood buildings but not as efficient and without battery and PV. \n",
    "\n",
    "Note: You will notice in the AMI data that for each timestamp and building, there are `kWh R`, `kWh F` or `kWh F + R` values. Sometimes there are only `kWh R` and `kWh F` or `kWh F` alone.  `kWh R`is kWh Reverse. It is tracking reverse power flow out of the home (the solar energy being sold back to utility from each home). It is typically 0 but there are sometimes where it is not.  `kWh F` is kWh Forward and is all the energy purchased from the utility. While you will insert data for all cases into the database, you should only use `kWh F` values in this homework which will be referred to as `net electricity consumption`.\n",
    "\n",
    "Last week you built a database to hold all your data, this week we will analyze some of the data with machine learning methods."
   ]
  },
  {
   "cell_type": "markdown",
   "id": "a5d7e669-07f8-45f0-b194-c6fefe6e3840",
   "metadata": {},
   "source": [
    "## Q1: Data cleaning and outlier detection\n",
    "\n",
    "In this section of the homework, you will clean the raw data and also look out for outliers. We want to spot missing values outliers and any other data quality issues you can think of. For outliers, you can use either the [IQR method](https://www.geeksforgeeks.org/interquartile-range-to-detect-outliers-in-data/) to identify potential outliers or any other preferred method of choice. However, note that you will still need to use your domain knowledge to decide if a value is indeed an outlier."
   ]
  },
  {
   "cell_type": "markdown",
   "id": "c3549251-3156-42e3-be98-a1544eb5eebe",
   "metadata": {},
   "source": [
    "__Q1.1:__ Query the electricity_consumption_time_series table to find any negative values. Take not of the building, unit of measurement and timestamp."
   ]
  },
  {
   "cell_type": "code",
   "execution_count": 9,
   "id": "42813771-dc3f-4e00-a5e6-9d1ac71731ca",
   "metadata": {},
   "outputs": [],
   "source": [
    "# ******* CODE BELOW *******\n"
   ]
  },
  {
   "cell_type": "markdown",
   "id": "f04cf0eb-3df0-4990-a5ef-5c81c61e5e6e",
   "metadata": {},
   "source": [
    "__Q1.2:__ Figure out a way to find out if any timestamp for any building has missing value for `kWh F` unit of measurement. Take not of the building and timestamp."
   ]
  },
  {
   "cell_type": "code",
   "execution_count": 10,
   "id": "f8d2b732-233a-4764-85e8-2630675ae685",
   "metadata": {},
   "outputs": [],
   "source": [
    "# ******* CODE BELOW *******\n"
   ]
  },
  {
   "cell_type": "markdown",
   "id": "8e8d1a00-d37d-406b-a67d-b05bff842b79",
   "metadata": {},
   "source": [
    "__Q1.3:__ Investigate potential outliers in each building's `kWh F` time series. You can choose to take a qualitative approach of eye-balling the time series to find the obvious ones and/or quantitiative approach using the IQR method or any other outlier detection method of choice. Take note of the building and timestamp where outliers occur."
   ]
  },
  {
   "cell_type": "code",
   "execution_count": 11,
   "id": "5595341f-cdd1-460c-8da4-ffa373740de1",
   "metadata": {},
   "outputs": [],
   "source": [
    "# ******* CODE BELOW *******\n"
   ]
  },
  {
   "cell_type": "markdown",
   "id": "725d9c06-d75f-4a2c-8f2c-ae2db103c5b1",
   "metadata": {},
   "source": [
    "__Q1.4:__ Can you think of a way to replace the values you are convinced are outliers and the missing values?"
   ]
  },
  {
   "cell_type": "code",
   "execution_count": 12,
   "id": "09fad9a5-0cef-4db0-8281-2b9b73966347",
   "metadata": {},
   "outputs": [],
   "source": [
    "# ******* CODE BELOW *******\n"
   ]
  },
  {
   "cell_type": "markdown",
   "id": "b78b75e2-c7a7-4b5e-856d-bfbf235da4d6",
   "metadata": {},
   "source": [
    "__Q1.5:__ Store your replacement values by creating a new table in the database called electricity_consumption_time_series_replacment that has the following columns: timestamp, building_id, value, notes. The notes column is a description of why you are replacing each value. Insert our replacement values for outliers and missing values in the new table."
   ]
  },
  {
   "cell_type": "code",
   "execution_count": 13,
   "id": "5e740503-36f5-4ad6-ab3a-fdd2148ef03b",
   "metadata": {},
   "outputs": [],
   "source": [
    "# ******* CODE BELOW *******\n"
   ]
  },
  {
   "cell_type": "markdown",
   "id": "a48f7fe1-d4ff-4713-8c34-d04cfb686d31",
   "metadata": {},
   "source": [
    "## Q2: Finding similarities in energy profile across buildings\n",
    "---\n",
    "\n",
    "Here, you will calculate correlations between building time series and find clusters of daily net electricity consumption profiles."
   ]
  },
  {
   "cell_type": "markdown",
   "id": "843024b8-59e2-44fa-a012-2a04f13c2c39",
   "metadata": {},
   "source": [
    "__Q2.1:__ Calculate the Pearson correlation coefficient of any two buildings' net electricity consumption (use values where unit of measuement = `kWh F`)"
   ]
  },
  {
   "cell_type": "code",
   "execution_count": 14,
   "id": "3cd5b60f-010c-4208-b325-3c77608e4766",
   "metadata": {},
   "outputs": [],
   "source": [
    "# ******* CODE BELOW *******\n"
   ]
  },
  {
   "cell_type": "markdown",
   "id": "9718e9d0-73ed-405c-b47a-db72eb111ce0",
   "metadata": {},
   "source": [
    "__Q2.2:__ Use KMeans to find cluster of daily net electricity consumption profiles. Build one model that uses profiles from all buildings in both neighborhoods. You many use the [elbow method](https://www.geeksforgeeks.org/elbow-method-for-optimal-value-of-k-in-kmeans/) to determine the appropriate number of clusters but other informed approaches are encouraged. Using your domain knowledge, you might also choose to build one model for each season and/or weekday/weekend to reduce the noise in the model. It is up to you what you decide  but remember \"garbage in, garbage out\" :)!"
   ]
  },
  {
   "cell_type": "code",
   "execution_count": 15,
   "id": "5aeea981-3a16-4176-ab37-2fdaae61b392",
   "metadata": {},
   "outputs": [],
   "source": [
    "# ******* CODE BELOW *******\n"
   ]
  },
  {
   "cell_type": "markdown",
   "id": "106987b3-bc51-43ea-86d9-b72eaa9b9753",
   "metadata": {},
   "source": [
    "__Q2.3:__ What percentage of profiles for each building falls under any of the clusters? Is there a clear distinction of smart neighborhood and baseline neighborhood clusters?"
   ]
  },
  {
   "cell_type": "code",
   "execution_count": 16,
   "id": "4238923e-7bde-44da-97f6-a25afb93beed",
   "metadata": {},
   "outputs": [],
   "source": [
    "# ******* CODE BELOW *******\n"
   ]
  },
  {
   "cell_type": "markdown",
   "id": "89bfde09-306f-4153-a025-89de1110324b",
   "metadata": {},
   "source": [
    "__Q2.4:__ What are the unique features of each cluster, i.e. try to explain the physical meaning of the generated clusters."
   ]
  },
  {
   "cell_type": "code",
   "execution_count": 17,
   "id": "6f457628-f2bc-4e5f-ba41-35e1dff453a0",
   "metadata": {},
   "outputs": [],
   "source": [
    "# ******* CODE BELOW *******\n"
   ]
  },
  {
   "cell_type": "markdown",
   "id": "aebe5a29-06ba-442c-8c82-e86ef074185a",
   "metadata": {},
   "source": [
    "## Q3: Build hour ahead net electricity consumption prediction model\n",
    "---\n",
    "\n",
    "In this last section of the homework, you will use any supervised machine learning algorithm of your choice and any building of your choice to build a model that predicts the hour ahead net electricity consumption. Use the first 12 months of data as your training dataset and make predictions for the first 7 days of each month of the following 12 months. \n",
    "\n",
    "You will need some feature engineering and are allowed to use publicly available datasets like weather to improve your model. Make sure you cross validate your model to ensure it is generalizable and split the training data into train-validation-test sets."
   ]
  },
  {
   "cell_type": "markdown",
   "id": "8506c449-ddb6-4c75-b3c0-5ccfc1bf323b",
   "metadata": {},
   "source": [
    "__Q3.1:__ Train and validate model"
   ]
  },
  {
   "cell_type": "code",
   "execution_count": 18,
   "id": "b4c00e63-5b4c-4e76-a89f-8cea905a12d4",
   "metadata": {},
   "outputs": [],
   "source": [
    "# ******* CODE BELOW *******\n"
   ]
  },
  {
   "cell_type": "markdown",
   "id": "955cb59a-effb-44ac-8a59-21aa01c99bd3",
   "metadata": {},
   "source": [
    "__Q3.2:__ Test model and plot profile of predicted and actual values"
   ]
  },
  {
   "cell_type": "code",
   "execution_count": 19,
   "id": "97d1975f-dffc-4a10-80ba-7b092ad92c83",
   "metadata": {},
   "outputs": [],
   "source": [
    "# ******* CODE BELOW *******\n"
   ]
  },
  {
   "cell_type": "markdown",
   "id": "052355c7-074f-44b6-86bb-f14759cf8387",
   "metadata": {},
   "source": [
    "__Q3.3:__ Report model root mean square error for train and test sets"
   ]
  },
  {
   "cell_type": "code",
   "execution_count": 20,
   "id": "6c0b553b-7e9e-4737-b8f5-4a8b94375e83",
   "metadata": {},
   "outputs": [],
   "source": [
    "# ******* CODE BELOW *******\n"
   ]
  }
 ],
 "metadata": {
  "kernelspec": {
   "display_name": "Python 3 (ipykernel)",
   "language": "python",
   "name": "python3"
  },
  "language_info": {
   "codemirror_mode": {
    "name": "ipython",
    "version": 3
   },
   "file_extension": ".py",
   "mimetype": "text/x-python",
   "name": "python",
   "nbconvert_exporter": "python",
   "pygments_lexer": "ipython3",
   "version": "3.9.1"
  }
 },
 "nbformat": 4,
 "nbformat_minor": 5
}
