{
 "cells": [
  {
   "cell_type": "markdown",
   "metadata": {},
   "source": [
    "<a href=\"https://colab.research.google.com/github/intelligent-environments-lab/occupant_centric_grid_interactive_buildings_course/blob/main/src/notebooks/homework/homework_5.ipynb\" target=\"_parent\"><img src=\"https://colab.research.google.com/assets/colab-badge.svg\" alt=\"Open In Colab\"/></a>"
   ]
  },
  {
   "cell_type": "markdown",
   "metadata": {},
   "source": [
    "# Homework 5: _\"Buildings don't use energy, people do\" - Kathryn B. Janda (2011)_\n",
    "---\n",
    "\n",
    "In this homework, you will use the schedules you generated in [homework 4](https://github.com/intelligent-environments-lab/occupant_centric_grid_interactive_buildings_course/blob/main/src/notebooks/homework/Homework_4.ipynb) to change the occupancy, lighting and electric equipment schedules in office spaces in a building similar to the data source building in [Modeling occupancy in single person offices](https://www.sciencedirect.com/science/article/abs/pii/S0378778804001951) (Wang et al., 2005). The building is an EnergyPlus model in the [End-Use Load Profiles (EULP) for the U.S. Building Stock](https://www.nrel.gov/buildings/end-use-load-profiles.html) dataset. For each change to the schedule, we will run an energy performance simulation and store the building's cooling, heating and total energy use as a time series.\n",
    "\n",
    "The code and functions used in running the simulations and returning the simulation results are already provided thus, all you need to do is provide a `filepath` that points to a `.csv` file where you will have stored 100 unique samples of hourly-resolution annual occupancy schedules with values between 0 and 1. The `.csv` file should have 8760 rows representing the number of hours in a year and 100 columns representing the 100 occupancy schedule samples. (this will be done on Q2.1)\n",
    "\n",
    "Internally (you do not have to do anything for this part), a baseline simulation will be run that uses the [ASHRAE Standard 90.1, Energy Standard for Buildings Except Low-Rise Residential Buildings](https://ashrae.iwrapper.com/ASHRAE_PREVIEW_ONLY_STANDARDS/STD_90.1_2022_SI) occupancy schedule for office buildings.\n",
    "\n",
    "Begin by executing the cells up until the `Questions` section where you will then begin to work your way towards generating results from the building energy performance simulations. The first question and second questions walk you through EnergyPlus installation and running the simulations. The following two questions ask you to analyze the building's energy use, cooling, and heating demand for the different occupancy schedules."
   ]
  },
  {
   "cell_type": "markdown",
   "metadata": {},
   "source": [
    "## Import dependencies\n",
    "---\n",
    "\n",
    "Here we import dependencies need to run the simulations and visualize results."
   ]
  },
  {
   "cell_type": "code",
   "execution_count": 1,
   "metadata": {},
   "outputs": [],
   "source": [
    "import concurrent.futures\n",
    "import os\n",
    "from pathlib import Path\n",
    "import shutil\n",
    "from typing import List, Mapping, Tuple, Union\n",
    "from doe_xstock.data import VersionDatasetType, VersionWeatherData\n",
    "from doe_xstock.end_use_load_profiles import EndUseLoadProfiles, EndUseLoadProfilesBuilding\n",
    "from doe_xstock.simulate import OpenStudioModelEditor\n",
    "import openstudio\n",
    "import matplotlib.pyplot as plt\n",
    "import matplotlib.ticker as ticker\n",
    "import numpy as np\n",
    "import pandas as pd"
   ]
  },
  {
   "cell_type": "markdown",
   "metadata": {},
   "source": [
    "# Setting constants and functions\n",
    "---\n",
    "\n",
    "Here we set some _constants_ and functions that will help with simulations and visualization. You do not need to do anything in this section beyond executing the following cells."
   ]
  },
  {
   "cell_type": "markdown",
   "metadata": {},
   "source": [
    "### Constants"
   ]
  },
  {
   "cell_type": "code",
   "execution_count": 11,
   "metadata": {},
   "outputs": [],
   "source": [
    "EULP = EndUseLoadProfiles(\n",
    "    dataset_type=VersionDatasetType.COMSTOCK,\n",
    "    weather_data=VersionWeatherData.TMY3,\n",
    "    year_of_publication=2021,\n",
    "    release=1,\n",
    "    cache=True\n",
    ")\n",
    "BLDG_ID = 197949\n",
    "ASHRAE_90_1_SCHEDULE_BASELINE_URL = 'https://raw.githubusercontent.com/intelligent-environments-lab/occupant_centric_grid_interactive_buildings_course/main/assets/data/ashrae_90_1_office_schedule_and_load.csv'\n",
    "EXAMPLE_SCHEDULES_URL = 'https://raw.githubusercontent.com/intelligent-environments-lab/occupant_centric_grid_interactive_buildings_course/main/assets/data/homework_5_example_schedules.csv'\n",
    "EXAMPLE_SCHEDULE_WEEKS = 53\n",
    "EXAMPLE_SCHEDULE_HOURS = 8760\n",
    "MINIMUM_SCHEDULE_SAMPLES = 100\n",
    "EXAMPLE_SCHEDULE_NOISE_MINIMUM = -0.3\n",
    "EXAMPLE_SCHEDULE_NOISE_MAXIMUM = abs(EXAMPLE_SCHEDULE_NOISE_MINIMUM)\n",
    "ENERGYPLUS_OUTPUT_DIRECTORY = Path('energyplus_output')\n",
    "DESTINATION_SCHEDULES_FILENAME = 'schedules.csv'\n",
    "ENERGYPLUS_NUMBER_OF_TIME_STEPS_PER_HOUR = 1\n",
    "ENERGYPLUS_OUTPUT_METERS = [\n",
    "    'Electricity:Building',\n",
    "    'NaturalGas:Building',\n",
    "]\n",
    "ENERGYPLUS_OUTPUT_VARIABLES = [\n",
    "    'Zone Predicted Sensible Load to Setpoint Heat Transfer Rate'\n",
    "]\n",
    "# this is the location for Colab\n",
    "DEFAULT_IDD_FILEPATH = '/usr/local/EnergyPlus-9-6-0/PreProcess/IDFVersionUpdater/V9-6-0-Energy+.idd'"
   ]
  },
  {
   "cell_type": "markdown",
   "metadata": {},
   "source": [
    "### Functions"
   ]
  },
  {
   "cell_type": "code",
   "execution_count": 26,
   "metadata": {},
   "outputs": [],
   "source": [
    "def simulate(filepath: Union[Path, str], idd_filepath: Union[Path, str], max_workers: int = None) -> List[Tuple[str, Path]]:\n",
    "    # validate schedules file\n",
    "    schedules = pd.read_csv(filepath)\n",
    "    assert schedules.shape[0] == EXAMPLE_SCHEDULE_HOURS, f'schedules file must have {EXAMPLE_SCHEDULE_HOURS} rows'\n",
    "    assert schedules.shape[1] >= MINIMUM_SCHEDULE_SAMPLES, f'schedules file must have at least {MINIMUM_SCHEDULE_SAMPLES} columns'\n",
    "    assert schedules.min().min() >= 0 and schedules.max().max() <= 1.0, 'schedules values must satisfy: 0 <= value <= 1'\n",
    "\n",
    "    # add baseline ashrae schedule as first to be simulated\n",
    "    schedules.insert(0, 'baseline', get_schedule_example(1, 0.0, 0.0).iloc[:, 0].tolist())\n",
    "    column_count = schedules.shape[1]\n",
    "    column_count = 3\n",
    "\n",
    "    # remove existing simulation output directory\n",
    "    if os.path.isdir(ENERGYPLUS_OUTPUT_DIRECTORY):\n",
    "        shutil.rmtree(ENERGYPLUS_OUTPUT_DIRECTORY)\n",
    "    \n",
    "    else:\n",
    "        pass\n",
    "    \n",
    "    os.makedirs(ENERGYPLUS_OUTPUT_DIRECTORY, exist_ok=True)\n",
    "\n",
    "    # save schedules to current directory\n",
    "    schedules.to_csv(DESTINATION_SCHEDULES_FILENAME, index=False)\n",
    "\n",
    "    # delete schedules instance to save memory\n",
    "    del schedules\n",
    "\n",
    "    # get simulators\n",
    "    result_ids_and_directories = []\n",
    "    buildings = []\n",
    "\n",
    "    try:\n",
    "        with concurrent.futures.ProcessPoolExecutor(max_workers=max_workers) as executor:\n",
    "            results = [executor.submit(get_simulator, *(i, filepath, idd_filepath)) for i in range(column_count)]\n",
    "        \n",
    "            for i, future in enumerate(concurrent.futures.as_completed(results)):\n",
    "                building = future.result()\n",
    "                buildings.append(building)\n",
    "                result_ids_and_directories.append((\n",
    "                    building.simulator.simulation_id, \n",
    "                    Path(building.simulator.output_directory).absolute()\n",
    "                ))\n",
    "\n",
    "        # run simulation\n",
    "        EULP.simulate_buildings(buildings, max_workers=max_workers)\n",
    "\n",
    "    finally:\n",
    "        if os.path.isfile(DESTINATION_SCHEDULES_FILENAME):\n",
    "            os.remove(DESTINATION_SCHEDULES_FILENAME)\n",
    "        \n",
    "        else:\n",
    "            pass\n",
    "\n",
    "    return result_ids_and_directories\n",
    "\n",
    "def get_simulator(ix: int, filepath: Union[Path, str], idd_filepath: Union[Path, str]) -> EndUseLoadProfilesBuilding:\n",
    "    # initialize openstudio model\n",
    "    osm = OpenStudioModelEditor(EULP.get_building(BLDG_ID).open_studio_model.get())\n",
    "    osm_model = osm.get_model()\n",
    "    \n",
    "    # get unique office space types\n",
    "    space_types = []\n",
    "\n",
    "    for z in osm_model.getThermalZones():\n",
    "        for s in z.spaces():\n",
    "            space_type = s.spaceType().get()\n",
    "            space_types += [space_type] if space_type not in space_types and 'Office' in space_type.name().get() else []\n",
    "\n",
    "    # set external file object that points to schedules filepath\n",
    "    # all office space types will use the same schedule file\n",
    "    external_file = openstudio.model.ExternalFile.getExternalFile(osm_model, filepath).get()\n",
    "    external_file.setName('OCCGEB_Office_Occupancy_Schedule_External_File')\n",
    "\n",
    "    # set default day schedule based on schedules file\n",
    "    schedule_file = openstudio.model.ScheduleFile(external_file, column=ix + 1, rowsToSkip=1)\n",
    "    schedule_file.setNumberofHoursofData(EXAMPLE_SCHEDULE_HOURS)\n",
    "    schedule_type_limits = osm_model.getObjectsByTypeAndName('OS:ScheduleTypeLimits', 'Fractional')[0].to_ScheduleTypeLimits().get()\n",
    "    schedule_file.setScheduleTypeLimits(schedule_type_limits)\n",
    "    schedule_file.setName('OCCGEB_Office_Occupancy_Schedule_File')\n",
    "\n",
    "    # update schedules\n",
    "    for space_type in space_types:\n",
    "        for people in space_type.people():\n",
    "            people.setNumberofPeopleSchedule(schedule_file)\n",
    "            \n",
    "        for light in space_type.lights():\n",
    "            light.setSchedule(schedule_file)\n",
    "\n",
    "        for electric_equipment in space_type.electricEquipment():\n",
    "            electric_equipment.setSchedule(schedule_file)\n",
    "\n",
    "    # get building\n",
    "    simulation_id = f'simulation-{str(EULP.version)}-{BLDG_ID}-{ix}'\n",
    "    output_directory = os.path.join(ENERGYPLUS_OUTPUT_DIRECTORY, simulation_id)\n",
    "    os.makedirs(output_directory, exist_ok=True)\n",
    "    building = EULP.prepare_building_for_simulation(\n",
    "        BLDG_ID,\n",
    "        idd_filepath, \n",
    "        simulation_id=simulation_id,\n",
    "        output_directory=output_directory,\n",
    "        output_variables=ENERGYPLUS_OUTPUT_VARIABLES,\n",
    "        output_meters=ENERGYPLUS_OUTPUT_METERS,\n",
    "        number_of_time_steps_per_hour=ENERGYPLUS_NUMBER_OF_TIME_STEPS_PER_HOUR,\n",
    "        model=str(osm_model),\n",
    "        osm=True,\n",
    "    )\n",
    "\n",
    "    return building\n",
    "\n",
    "def get_schedule_example(samples: int, noise_minumum: float, noise_maximum: float) -> pd.DataFrame:\n",
    "    data = pd.read_csv(ASHRAE_90_1_SCHEDULE_BASELINE_URL)\n",
    "    data = np.tile(\n",
    "        data[data['load']=='occupants']['fraction'], \n",
    "        EXAMPLE_SCHEDULE_WEEKS\n",
    "    )[:EXAMPLE_SCHEDULE_HOURS]\n",
    "    data = np.tile(data, samples)\n",
    "    data = np.reshape(data, (samples, EXAMPLE_SCHEDULE_HOURS))\n",
    "    data = pd.DataFrame(data).T\n",
    "    noise = np.random.uniform(\n",
    "        noise_minumum, noise_maximum, \n",
    "        size=(EXAMPLE_SCHEDULE_HOURS, samples)\n",
    "    )\n",
    "    data += noise\n",
    "    data = data.clip(lower=0.0, upper=1.0)\n",
    "    \n",
    "    return data\n",
    "\n",
    "def plot_baseline_schedule():\n",
    "    data = pd.read_csv(ASHRAE_90_1_SCHEDULE_BASELINE_URL)\n",
    "    data = data[data['load']=='occupants'].copy()\n",
    "    fig, ax = plt.subplots(1, 1, figsize=(10, 1.5))\n",
    "    x = data.reset_index().index.tolist()\n",
    "    y = data['fraction'].tolist()\n",
    "    ax.plot(x, y)\n",
    "    ax.xaxis.set_major_locator(ticker.MultipleLocator(24))\n",
    "    ax.set_xlabel('Hour-of-week')\n",
    "    ax.set_ylabel('People/\\nMax. people')\n",
    "    ax.set_ylim(0, 1)\n",
    "    ax.margins(False)\n",
    "    ax.set_title('ASHRAE Standard 90.1, Energy Standard for Buildings Except Low-Rise Residential Buildings\\nOccupancy schedule for office building')\n",
    "    \n",
    "    return fig\n",
    "\n",
    "def get_building_metadata_summary(eulp: EndUseLoadProfiles) -> Mapping[str, Mapping[str, str]]:\n",
    "    osm = OpenStudioModelEditor(eulp.get_building(BLDG_ID).open_studio_model.get())\n",
    "    osm_model = osm.get_model()\n",
    "    thermal_zone_metadata = pd.DataFrame([{\n",
    "        'name': z.name().get(),\n",
    "        'conditioned': z.thermostat().is_initialized(), \n",
    "        'floor_area_m2': z.floorArea(),\n",
    "        'occupant_count': z.numberOfPeople(),\n",
    "    } for z in osm_model.getThermalZones()])\n",
    "    metadata = eulp.get_building(BLDG_ID).metadata\n",
    "    metadata_summary = {}\n",
    "\n",
    "    # metadata\n",
    "    metadata_summary = {\n",
    "        'Location': {\n",
    "            'Climate zone': metadata['in.climate_zone_ashrae_2004'],\n",
    "            'County': metadata['in.resstock_county_id']\n",
    "        },\n",
    "        'Vintage': {\n",
    "            'Construction': metadata['in.energy_code_followed_during_original_building_construction'].split(' ')[-1],\n",
    "            'Roof last replacement': metadata['in.energy_code_followed_during_last_roof_replacement'].split(' ')[-1],\n",
    "            'Walls last replacement': metadata['in.energy_code_followed_during_last_walls_replacement'].split(' ')[-1],\n",
    "            'Windows last replacement': metadata['in.energy_code_followed_during_last_windows_replacement'].split(' ')[-1],\n",
    "            'Interior lighting last replacement': metadata['in.energy_code_followed_during_last_interior_lighting_replaceme'].split(' ')[-1],\n",
    "            'Exterior lighting last replacement': metadata['in.energy_code_followed_during_last_exterior_lighting_replaceme'].split(' ')[-1],\n",
    "            'Interior equipment last replacement': metadata['in.energy_code_followed_during_last_interior_equipment_replacem'].split(' ')[-1],\n",
    "            'HVAC last replacement': metadata['in.energy_code_followed_during_last_hvac_replacement'].split(' ')[-1],\n",
    "            'Service water heating last replacement': metadata['in.energy_code_followed_during_last_service_water_heating_repla'].split(' ')[-1],\n",
    "        },\n",
    "        'Geometry': {\n",
    "            'Building type':  metadata['in.building_type'],\n",
    "            'Stories': metadata['in.number_of_stories'],\n",
    "            'Total thermal zones count': thermal_zone_metadata.shape[0],\n",
    "            'Total floor area': f'{round(thermal_zone_metadata[\"floor_area_m2\"].sum(), 0)} m^2',\n",
    "            'Conditioned percentange of floor area': f'{thermal_zone_metadata[thermal_zone_metadata[\"conditioned\"]==True][\"floor_area_m2\"].sum()*100.0/thermal_zone_metadata[\"floor_area_m2\"].sum()} %',\n",
    "            'Office thermal zone count': f'{thermal_zone_metadata[thermal_zone_metadata[\"name\"].str.contains(\"Office\")].shape[0]}/{thermal_zone_metadata.shape[0]}',\n",
    "            'Office percentage of total floor area': f'{round(thermal_zone_metadata[thermal_zone_metadata[\"name\"].str.contains(\"Office\")][\"floor_area_m2\"].sum()*100.0/thermal_zone_metadata[\"floor_area_m2\"].sum(), 0)} %',\n",
    "        },\n",
    "        'HVAC': {\n",
    "            'System type':  metadata['in.hvac_system_type'],\n",
    "            'Heating fuel': metadata['in.heating_fuel'],\n",
    "            'Service hot water fuel': metadata['in.service_water_heating_fuel'],\n",
    "            'Average cooling COP': round(metadata['stat.average_dx_cooling_cop'], 1),\n",
    "            'Average gas coil efficiency': round(metadata['stat.average_gas_coil_efficiency'], 2),\n",
    "        },\n",
    "        'Occupancy': {\n",
    "            'Total occupant count':  f'{thermal_zone_metadata[\"occupant_count\"].sum().round(0)} people',\n",
    "            'Office percentage of total occupant count': f'{round(thermal_zone_metadata[thermal_zone_metadata[\"name\"].str.contains(\"Office\")][\"occupant_count\"].sum()*100.0/thermal_zone_metadata[\"occupant_count\"].sum(), 0)} %',\n",
    "        }\n",
    "    }\n",
    "\n",
    "    return metadata_summary"
   ]
  },
  {
   "cell_type": "markdown",
   "metadata": {},
   "source": [
    "## Building metadata\n",
    "---\n",
    "\n",
    "This section provides you with some information about the selected building's location, vintage, geometry, HVAC systems and occupancy."
   ]
  },
  {
   "cell_type": "code",
   "execution_count": 4,
   "metadata": {},
   "outputs": [
    {
     "name": "stdout",
     "output_type": "stream",
     "text": [
      "Location:\n",
      "\t- Climate zone: 3C\n",
      "\t- County: CA, San Francisco County\n",
      "Vintage:\n",
      "\t- Construction: Pre-1975\n",
      "\t- Roof last replacement: Pre-1975\n",
      "\t- Walls last replacement: Pre-1975\n",
      "\t- Windows last replacement: Pre-1975\n",
      "\t- Interior lighting last replacement: 2017\n",
      "\t- Exterior lighting last replacement: 2003\n",
      "\t- Interior equipment last replacement: 2011\n",
      "\t- HVAC last replacement: 2007\n",
      "\t- Service water heating last replacement: 2011\n",
      "Geometry:\n",
      "\t- Building type: LargeOffice\n",
      "\t- Stories: 6.0\n",
      "\t- Total thermal zones count: 63\n",
      "\t- Total floor area: 32516.0 m^2\n",
      "\t- Conditioned percentange of floor area: 100.0 %\n",
      "\t- Office thermal zone count: 54/63\n",
      "\t- Office percentage of total floor area: 90.0 %\n",
      "HVAC:\n",
      "\t- System type: PSZ-AC with gas coil\n",
      "\t- Heating fuel: NaturalGas\n",
      "\t- Service hot water fuel: NaturalGas\n",
      "\t- Average cooling COP: 5.4\n",
      "\t- Average gas coil efficiency: 0.8\n",
      "Occupancy:\n",
      "\t- Total occupant count: 1954.0 people\n",
      "\t- Office percentage of total occupant count: 93.0 %\n"
     ]
    }
   ],
   "source": [
    "for k, v in get_building_metadata_summary(EULP).items():\n",
    "    print(f'{k}:')\n",
    "\n",
    "    for k_, v_ in v.items():\n",
    "        print(f'\\t- {k_}: {v_}')"
   ]
  },
  {
   "cell_type": "markdown",
   "metadata": {},
   "source": [
    "<figure class=\"image\">\n",
    "  <img src=\"https://github.com/intelligent-environments-lab/occupant_centric_grid_interactive_buildings_course/blob/main/assets/figures/homework_5_building_geometry.jpg?raw=true\"  height=\"200\" style=\"background-color:white;\">\n",
    "  <figcaption>Building geometry and highlighted office space types where occupancy, lighting and electric equipment schedules will be replaced iteratively with your generated occupancy schedules.</figcaption>\n",
    "</figure>"
   ]
  },
  {
   "cell_type": "markdown",
   "metadata": {},
   "source": [
    "## Baseline occupancy\n",
    "---\n",
    "\n",
    "Below is a figure showing the ASHRAE standard occupancy for an office building where the profile is assumed to be repetitive during weekdays. Saturday occupancy peaks before midday at about a third of the peak during the weekdays. Sunday has the lowest occupancy."
   ]
  },
  {
   "cell_type": "code",
   "execution_count": 5,
   "metadata": {},
   "outputs": [
    {
     "data": {
      "image/png": "[encoded data removed]",
      "text/plain": [
       "<Figure size 1000x150 with 1 Axes>"
      ]
     },
     "metadata": {},
     "output_type": "display_data"
    }
   ],
   "source": [
    "fig = plot_baseline_schedule()\n",
    "plt.show()"
   ]
  },
  {
   "cell_type": "markdown",
   "metadata": {},
   "source": [
    "## Questions\n",
    "---"
   ]
  },
  {
   "cell_type": "markdown",
   "metadata": {},
   "source": [
    "### Q1: Install EnergyPlus\n",
    "\n",
    "If you already have EnergyPlus installed, you should skip this question.\n",
    "\n",
    "To get started, let us install EnergyPlus in the case that you do not already have it installed. The [Introduction to EnergyPlus](https://github.com/intelligent-environments-lab/occupant_centric_grid_interactive_buildings_course/blob/main/src/notebooks/tutorials/introduction_to_energy_plus.ipynb) tutorial has instructions on how to install EnergyPlus in a Colab environment or in your local machine."
   ]
  },
  {
   "cell_type": "markdown",
   "metadata": {},
   "source": [
    "__Q1.1:__ Use the next cell to install EnergyPlus if you do not have it installed and want to install it in Colab by copying the installation code for Colab in the the [Introduction to EnergyPlus](https://github.com/intelligent-environments-lab/occupant_centric_grid_interactive_buildings_course/blob/main/src/notebooks/tutorials/introduction_to_energy_plus.ipynb) tutorial:"
   ]
  },
  {
   "cell_type": "code",
   "execution_count": 6,
   "metadata": {},
   "outputs": [],
   "source": [
    "# TODO: Copy and paste EnergyPlus installation for Colab. \n",
    "# Finally, execute this cell to run installation"
   ]
  },
  {
   "cell_type": "markdown",
   "metadata": {},
   "source": [
    "### Q2: Simulating energy performance from data-driven occupancy schedules\n",
    "\n",
    "Here we will run the energy performance simulations. \n",
    "\n",
    "__Q2.1:__ First, you will need to generate 100 schedules and save them in a `.csv` file. You should reuse the notebook for hw4 and adapt it such that it generates not just one schedule for a year, but 100 schedules. All of them saved into one dataframe for simplicity.\n",
    "\n",
    "Then, save the dataframe into a `.csv` file that should have 8760 rows representing the number of hours in a year and 100 columns representing the 100 occupancy schedule samples. You can refer to the [example schedules](https://raw.githubusercontent.com/intelligent-environments-lab/occupant_centric_grid_interactive_buildings_course/main/assets/data/homework_5_example_schedules.csv) to see what the structure should look like."
   ]
  },
  {
   "cell_type": "markdown",
   "metadata": {},
   "source": [
    "__Q2.2:__ In the following cell, replace the `EXAMPLE_SCHEDULES_URL` with the absolute path to your own schedules file:"
   ]
  },
  {
   "cell_type": "code",
   "execution_count": 7,
   "metadata": {},
   "outputs": [],
   "source": [
    "# TODO: replace value with your own absolute filepath.\n",
    "MY_SCHEDULES_ABSOLUTE_FILEPATH = EXAMPLE_SCHEDULES_URL"
   ]
  },
  {
   "cell_type": "markdown",
   "metadata": {},
   "source": [
    "__Q2.2:__ You will now specify the path to your `Input Data Dictionary` (`IDD`) for you EnergyPlus simulation the next cell. if you installed using Colab, you do not need to do anything in the next cell as the path for a Colab installation was already defined in the `Setting constants and functions` section above. For local installations, a quick Google search will help you locate where yours is located."
   ]
  },
  {
   "cell_type": "code",
   "execution_count": 8,
   "metadata": {},
   "outputs": [],
   "source": [
    "# TODO: replace value with your own IDD filepath if simulating outside Colab.\n",
    "MY_IDD_FILEPATH = DEFAULT_IDD_FILEPATH\n",
    "assert os.path.isfile(MY_IDD_FILEPATH), f'Provided IDD does not exist: {MY_IDD_FILEPATH}'"
   ]
  },
  {
   "cell_type": "markdown",
   "metadata": {},
   "source": [
    "__Q2.3:__ Execute the next following cell to run the simulations. \n",
    "\n",
    "Note that this might take a while to complete (~4 mins per simulation). The simulation function defined in the `Setting constants and functions` section can run simulations in parallel. In the default Colab environment, two simulation can run at a time completing in ~ 3hrs 30 mins. For local runtime: On an Intel COre i5 MacBook Pro with 16 GB RAM, up to eight simulations can run at a time bringing the runtime down to about 50 mins. Use these times to roughly estimate how long you need to leave your own simulation running.\n",
    "\n",
    "Also, there will be a lot of printouts while the simulations run about unused schedules. Do not worry about these messages as they do not affect your simulations."
   ]
  },
  {
   "cell_type": "code",
   "execution_count": null,
   "metadata": {},
   "outputs": [],
   "source": [
    "result_ids_and_directories = simulate(MY_SCHEDULES_ABSOLUTE_FILEPATH, MY_IDD_FILEPATH)"
   ]
  },
  {
   "cell_type": "markdown",
   "metadata": {},
   "source": [
    "### Q3: Impact of occupancy on total building energy use\n"
   ]
  },
  {
   "cell_type": "markdown",
   "metadata": {},
   "source": [
    "__Q3.1:__ The results dataframe has hourly time series of building-level electricity and natural gas energy use. Both of these are in the unit of `kWh` so can be directly added to get the total building energy use for each hour. Use that to calculate the annual total building energy use for each unique simulation run. \n",
    "\n",
    "You only need to report the average annual total energy use for all data-driven-schedule simulations and the standard deviation compared to the annual total building energy use when the ASHRAE schedule is used."
   ]
  },
  {
   "cell_type": "code",
   "execution_count": null,
   "metadata": {},
   "outputs": [],
   "source": [
    "# TODO:\n",
    "average_annual_total_energy_use_for_data_driven_schedules = None\n",
    "standard_deviation_of_annual_total_energy_use_for_data_driven_schedules = None\n",
    "standard_deviation_annual_total_energy_use_for_baseline_ashrae_schedule = None"
   ]
  },
  {
   "cell_type": "markdown",
   "metadata": {},
   "source": [
    "__Q3.2:__ Leave one comment on how the energy use as a result of the data-driven schedules differs from that of the baseline:"
   ]
  },
  {
   "cell_type": "markdown",
   "metadata": {},
   "source": [
    "> _write your comment here_"
   ]
  },
  {
   "cell_type": "markdown",
   "metadata": {},
   "source": [
    "### Q4: Impact of occupancy on cooling and heating loads"
   ]
  },
  {
   "cell_type": "markdown",
   "metadata": {},
   "source": [
    "__Q4.1:__ The results dataframe has building-level hourly cooling and heating loads time series as well as hourly occupant counts. Using these data, how is occupancy impacting cooling and heating loads? Discuss with appropriate visualization(s)."
   ]
  },
  {
   "cell_type": "code",
   "execution_count": null,
   "metadata": {},
   "outputs": [],
   "source": [
    "# TODO: use simulation results to answer question above"
   ]
  },
  {
   "cell_type": "markdown",
   "metadata": {},
   "source": [
    "> _write your discussion here_"
   ]
  }
 ],
 "metadata": {
  "kernelspec": {
   "display_name": "Python 3 (ipykernel)",
   "language": "python",
   "name": "python3"
  },
  "language_info": {
   "codemirror_mode": {
    "name": "ipython",
    "version": 3
   },
   "file_extension": ".py",
   "mimetype": "text/x-python",
   "name": "python",
   "nbconvert_exporter": "python",
   "pygments_lexer": "ipython3",
   "version": "3.9.1"
  }
 },
 "nbformat": 4,
 "nbformat_minor": 4
}
