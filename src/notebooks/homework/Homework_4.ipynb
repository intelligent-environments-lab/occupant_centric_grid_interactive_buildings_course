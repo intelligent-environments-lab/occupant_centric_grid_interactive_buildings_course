{
 "cells": [
  {
   "cell_type": "code",
   "execution_count": null,
   "metadata": {
    "cell_id": "464d99da-e617-4152-ba89-3c94f0bdd8bc",
    "deepnote_cell_height": 112,
    "deepnote_cell_type": "code",
    "deepnote_to_be_reexecuted": false,
    "execution_millis": 2127191,
    "execution_start": 1664222883697,
    "source_hash": "a8fed67",
    "tags": []
   },
   "outputs": [],
   "source": [
    "# Code to simulate occupancy schedules according to\n",
    "# Wang et al \"Modeling Occupancy in single person offices\"\n",
    "# Energy and Buildings, 121-126, 2005"
   ]
  },
  {
   "cell_type": "code",
   "execution_count": null,
   "metadata": {
    "cell_id": "71d823c44ac8480e8f317af4d799b1ec",
    "deepnote_cell_height": 130,
    "deepnote_cell_type": "code",
    "deepnote_to_be_reexecuted": false,
    "execution_millis": 2127239,
    "execution_start": 1664222883792,
    "source_hash": "ab905b6d",
    "tags": []
   },
   "outputs": [],
   "source": [
    "# We want to simulate occupancy pattern in a single office using\n",
    "# the method and variables from the paper\n",
    "# lenght of occupancy and lenght of absence/vacancy are modeled as two separate\n",
    "# exponential random variables with parameter beta_occ and beta_abs respectively"
   ]
  },
  {
   "cell_type": "code",
   "execution_count": 3,
   "metadata": {
    "cell_id": "da543ff753854b5ca82f4d9f9bd30676",
    "deepnote_cell_height": 184,
    "deepnote_cell_type": "code",
    "deepnote_to_be_reexecuted": false,
    "execution_millis": 900,
    "execution_start": 1664238155098,
    "source_hash": "232b0f3c",
    "tags": []
   },
   "outputs": [],
   "source": [
    "# Parameters estimated in paper (section 3/3.2)\n",
    "beta_occ = 72.8 # mean length of occupancy\n",
    "beta_abs = 42.6 # mean length of absence\n",
    "\n",
    "# Load numpy and matplotlib\n",
    "import numpy as np\n",
    "import matplotlib.pyplot as plt"
   ]
  },
  {
   "cell_type": "code",
   "execution_count": 4,
   "metadata": {
    "cell_id": "666576c3d0fa409aa034720d823fe963",
    "deepnote_cell_height": 823.75,
    "deepnote_cell_type": "code",
    "deepnote_output_heights": [
     173.75,
     414
    ],
    "deepnote_to_be_reexecuted": false,
    "execution_millis": 0,
    "execution_start": 1664238417739,
    "output_cleared": true,
    "source_hash": "598ccdef",
    "tags": []
   },
   "outputs": [],
   "source": [
    "# 1. Generate 1000 samples of the occupancy interval and plot the probability distribution/histogram. \n",
    "# Compare to Figure 3/6 in the paper\n",
    "# Tips\n",
    "# study the exponential distribution fuction of numpy: https://numpy.org/doc/stable/reference/random/generated/numpy.random.exponential.html\n",
    "# matplotlib has a built-in histogram plot: https://matplotlib.org/stable/api/_as_gen/matplotlib.pyplot.hist.html\n",
    "#     study the hist plotters function call and parameters\n",
    "# handy function for a evenly spaced values in numpy: https://numpy.org/doc/stable/reference/generated/numpy.arange.html"
   ]
  },
  {
   "cell_type": "code",
   "execution_count": 5,
   "metadata": {
    "cell_id": "5c9624fc4d7a463e9ce1cf29cdb5eb26",
    "deepnote_cell_height": 112,
    "deepnote_cell_type": "code",
    "deepnote_output_heights": [
     96.96875,
     414
    ],
    "deepnote_to_be_reexecuted": false,
    "execution_millis": 2,
    "execution_start": 1664238420976,
    "source_hash": "e5fbed12",
    "tags": []
   },
   "outputs": [],
   "source": [
    "# 2. Generate 1000 samples of the vacance/absence interval and plot the distribution/histogram\n",
    "# Compare to Figure 4/7 in the paper\n"
   ]
  },
  {
   "cell_type": "code",
   "execution_count": null,
   "metadata": {
    "cell_id": "10283be3f97644d09373cc6f0a793c8b",
    "deepnote_cell_height": 205,
    "deepnote_cell_type": "code",
    "tags": []
   },
   "outputs": [],
   "source": [
    "# 3. Simulate ONE day of occupancy following the method in Section 3.2 and plot\n",
    "# morning arrival time is (mean, std) = (8:12, 11min)\n",
    "# evening leaving time is (mean, std) = (17:48, 79min)\n",
    "# lunch break is (mean,std) = (12:30, 15min)\n",
    "\n",
    "# Tips:\n",
    "# - This should be an array of 0 (vacant/absent) and 1 (present)\n",
    "# - Convert time of day into minutes of day\n",
    "# - During the day, presence and vacancy are sequential"
   ]
  },
  {
   "cell_type": "code",
   "execution_count": null,
   "metadata": {
    "cell_id": "e8b95c69ff6f430fb87ec4a77292653e",
    "deepnote_cell_height": 97,
    "deepnote_cell_type": "code",
    "tags": []
   },
   "outputs": [],
   "source": [
    "# 4. Simulate 365 days (the paper has 171 days), \n",
    "# Plot resulting average schedule and compare to Figured 10\n",
    "# Compute statistics as in Table 1 and compare"
   ]
  },
  {
   "cell_type": "code",
   "execution_count": null,
   "metadata": {
    "cell_id": "1aa56ab6023d4a55bf192e53bb491127",
    "deepnote_cell_height": 61,
    "deepnote_cell_type": "code",
    "tags": []
   },
   "outputs": [],
   "source": [
    "# 5. Convert the occupancy schedule computed in 4. from minute resolution to hourly resolution"
   ]
  }
 ],
 "metadata": {
  "deepnote": {},
  "deepnote_execution_queue": [],
  "deepnote_notebook_id": "6131eac5-556a-4a82-8167-01fa7e65b0eb",
  "deepnote_persisted_session": {
   "createdAt": "2022-09-26T21:15:23.373Z"
  },
  "kernelspec": {
   "display_name": "Python 3 (ipykernel)",
   "language": "python",
   "name": "python3"
  },
  "language_info": {
   "codemirror_mode": {
    "name": "ipython",
    "version": 3
   },
   "file_extension": ".py",
   "mimetype": "text/x-python",
   "name": "python",
   "nbconvert_exporter": "python",
   "pygments_lexer": "ipython3",
   "version": "3.9.1"
  }
 },
 "nbformat": 4,
 "nbformat_minor": 4
}
