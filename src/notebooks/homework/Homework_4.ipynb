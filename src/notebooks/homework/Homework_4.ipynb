{
 "cells": [
  {
   "cell_type": "code",
   "metadata": {
    "tags": [],
    "cell_id": "464d99da-e617-4152-ba89-3c94f0bdd8bc",
    "deepnote_to_be_reexecuted": false,
    "source_hash": "a8fed67",
    "execution_start": 1664222883697,
    "execution_millis": 2127191,
    "deepnote_cell_type": "code",
    "deepnote_cell_height": 112
   },
   "source": "# Code to simulate occupancy schedules according to\n# Wang et al \"Modeling Occupancy in single person offices\"\n# Energy and Buildings, 121-126, 2005",
   "execution_count": null,
   "outputs": []
  },
  {
   "cell_type": "code",
   "metadata": {
    "cell_id": "71d823c44ac8480e8f317af4d799b1ec",
    "tags": [],
    "deepnote_to_be_reexecuted": false,
    "source_hash": "ab905b6d",
    "execution_start": 1664222883792,
    "execution_millis": 2127239,
    "deepnote_cell_type": "code",
    "deepnote_cell_height": 130
   },
   "source": "# We want to simulate occupancy pattern in a single office using\n# the method and variables from the paper\n# lenght of occupancy and lenght of absence/vacancy are modeled as two separate\n# exponential random variables with parameter beta_occ and beta_abs respectively",
   "execution_count": null,
   "outputs": []
  },
  {
   "cell_type": "code",
   "metadata": {
    "cell_id": "da543ff753854b5ca82f4d9f9bd30676",
    "tags": [],
    "deepnote_to_be_reexecuted": false,
    "source_hash": "232b0f3c",
    "execution_start": 1664238155098,
    "execution_millis": 900,
    "deepnote_cell_type": "code",
    "deepnote_cell_height": 184
   },
   "source": "# Parameters estimated in paper (section 3/3.2)\nbeta_occ = 72.8 # mean length of occupancy\nbeta_abs = 42.6 # mean length of absence\n\n# Load numpy and matplotlib\nimport numpy as np\nimport matplotlib.pyplot as plt",
   "execution_count": 3,
   "outputs": []
  },
  {
   "cell_type": "code",
   "source": "# 1. Generate 1000 samples of the occupancy interval and plot the probability distribution/histogram. \n# Compare to Figure 3/6 in the paper\n# Tips\n# study the exponential distribution fuction of numpy: https://numpy.org/doc/stable/reference/random/generated/numpy.random.exponential.html\n# matplotlib has a built-in histogram plot: https://matplotlib.org/stable/api/_as_gen/matplotlib.pyplot.hist.html\n#     study the hist plotters function call and parameters\n# handy function for a evenly spaced values in numpy: https://numpy.org/doc/stable/reference/generated/numpy.arange.html",
   "metadata": {
    "cell_id": "666576c3d0fa409aa034720d823fe963",
    "tags": [],
    "deepnote_to_be_reexecuted": false,
    "source_hash": "598ccdef",
    "execution_start": 1664238417739,
    "execution_millis": 0,
    "output_cleared": true,
    "deepnote_cell_type": "code",
    "deepnote_cell_height": 823.75,
    "deepnote_output_heights": [
     173.75,
     414
    ]
   },
   "execution_count": 4,
   "outputs": []
  },
  {
   "cell_type": "code",
   "metadata": {
    "cell_id": "5c9624fc4d7a463e9ce1cf29cdb5eb26",
    "tags": [],
    "deepnote_to_be_reexecuted": false,
    "source_hash": "e5fbed12",
    "execution_start": 1664238420976,
    "execution_millis": 2,
    "deepnote_cell_type": "code",
    "deepnote_cell_height": 112,
    "deepnote_output_heights": [
     96.96875,
     414
    ]
   },
   "source": "# 2. Generate 1000 samples of the vacance/absence interval and plot the distribution/histogram\n# Compare to Figure 4/7 in the paper\n",
   "execution_count": 5,
   "outputs": []
  },
  {
   "cell_type": "code",
   "source": "# 3. Simulate ONE day of occupancy following the method in Section 3.2 and plot\n# morning arrival time is (mean, std) = (8:12, 11min)\n# evening leaving time is (mean, std) = (17:48, 79min)\n# lunch break is (mean,std) = (12:30, 15min)\n\n# Tips:\n# - This should be an array of 0 (vacant/absent) and 1 (present)\n# - Convert time of day into minutes of day\n# - During the day, presence and vacancy are sequential",
   "metadata": {
    "cell_id": "10283be3f97644d09373cc6f0a793c8b",
    "tags": [],
    "deepnote_cell_type": "code",
    "deepnote_cell_height": 205
   },
   "execution_count": null,
   "outputs": []
  },
  {
   "cell_type": "code",
   "metadata": {
    "cell_id": "e8b95c69ff6f430fb87ec4a77292653e",
    "tags": [],
    "deepnote_cell_type": "code",
    "deepnote_cell_height": 97
   },
   "source": "# 4. Simulate 365 days (the paper has 171 days), \n# Plot resulting average schedule and compare to Figured 10\n# Compute statistics as in Table 1 and compare",
   "execution_count": null,
   "outputs": []
  },
  {
   "cell_type": "code",
   "metadata": {
    "cell_id": "1aa56ab6023d4a55bf192e53bb491127",
    "tags": [],
    "deepnote_cell_type": "code",
    "deepnote_cell_height": 61
   },
   "source": "# 5. Convert the occupancy schedule computed in 4. from minute resolution to hourly resolution",
   "execution_count": null,
   "outputs": []
  },
  {
   "cell_type": "markdown",
   "source": "<a style='text-decoration:none;line-height:16px;display:flex;color:#5B5B62;padding:10px;justify-content:end;' href='https://deepnote.com?utm_source=created-in-deepnote-cell&projectId=33df8a64-755a-4762-95d0-879a0b0e296b' target=\"_blank\">\n<img alt='Created in deepnote.com' style='display:inline;max-height:16px;margin:0px;margin-right:7.5px;' src='data:image/svg+xml;base64,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' > </img>\nCreated in <span style='font-weight:600;margin-left:4px;'>Deepnote</span></a>",
   "metadata": {
    "tags": [],
    "created_in_deepnote_cell": true,
    "deepnote_cell_type": "markdown"
   }
  }
 ],
 "nbformat": 4,
 "nbformat_minor": 2,
 "metadata": {
  "orig_nbformat": 2,
  "deepnote": {},
  "deepnote_notebook_id": "6131eac5-556a-4a82-8167-01fa7e65b0eb",
  "deepnote_persisted_session": {
   "createdAt": "2022-09-26T21:15:23.373Z"
  },
  "deepnote_execution_queue": []
 }
}