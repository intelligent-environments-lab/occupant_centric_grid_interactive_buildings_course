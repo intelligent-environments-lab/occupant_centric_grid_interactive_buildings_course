{
 "cells": [
  {
   "cell_type": "markdown",
   "metadata": {},
   "source": [
    "<a href=\"https://colab.research.google.com/github/intelligent-environments-lab/occupant_centric_grid_interactive_buildings_course/blob/main/src/notebooks/homework/homework_2.ipynb\" target=\"_parent\"><img src=\"https://colab.research.google.com/assets/colab-badge.svg\" alt=\"Open In Colab\"/></a>"
   ]
  },
  {
   "cell_type": "markdown",
   "metadata": {},
   "source": [
    "# Homework 2 - Getting to know the Southern Company Smart Neighborhood dataset\n",
    "---\n",
    "\n",
    "In this homework, you will familiarize yourself with the [Southern Company Smart Neighborhood](https://www.georgiapower.com/residential/save-money-and-energy/smart-neighborhood.html) dataset from a neighborhood in Atlanta, Georgia, USA by combining your SQL skills with your data analysis, visualization skills. The entire dataset consists of advanced metering infrastructure (AMI) time series that provides hourly electricity bought from and sold to the grid, submeter time series of plug loads, thermostat data, water heater use data, dynamic electricity pricing time series, battery and solar-inverter time series, e.t.c. \n",
    "\n",
    "This homework makes use of just the AMI data to learn about the electricity consumption patterns in the 46 buildings. There is also AMI data from 44 buildings considered to be baseline buildings that have similar floorplan as the smart neighborhood buildings but not as efficient and without battery and PV. In this homework, we will create a database to hold are the data.\n",
    "\n",
    "Note: You will notice in the AMI data that for each timestamp and building, there are `kWh R`, `kWh F` or `kWh F + R` values. Sometimes there are only `kWh R` and `kWh F` or `kWh F` alone.  `kWh R`is kWh Reverse. It is tracking reverse power flow out of the home (the solar energy being sold back to utility from each home). It is typically 0 but there are sometimes where it is not.  `kWh F` is kWh Forward and is all the energy purchased from the utility. While you will insert data for all cases into the database, you should only use `kWh F` values in this homework which will be referred to as `net electricity consumption`.\n"
   ]
  },
  {
   "cell_type": "markdown",
   "metadata": {},
   "source": [
    "## Q1: Build database\n",
    "---\n",
    "\n",
    "Before the data analysis, you will build a SQLite database to hold the AMI data using the provided schema below and insert the data from the AMI `.csv` files. All columns in the tables should be set to `NOT NULL`.\n",
    "\n",
    "<img style=\"background-color:#FFFFFF\" src=\"https://github.com/intelligent-environments-lab/occupant_centric_grid_interactive_buildings_course/blob/main/figures/scsn_ami_data_sqlite_schema.jpg?raw=true\" width=350></img>"
   ]
  },
  {
   "cell_type": "markdown",
   "metadata": {},
   "source": [
    "__Q1.1:__ Create database and define in database:"
   ]
  },
  {
   "cell_type": "code",
   "execution_count": 1,
   "metadata": {},
   "outputs": [],
   "source": [
    "# ******* CODE BELOW *******\n"
   ]
  },
  {
   "cell_type": "markdown",
   "metadata": {},
   "source": [
    "__Q1.2:__ Insert data from AMI csv files into database. Refer to Canvas for file URLs. You can uncomment the code below and replace `<replace with list of urls from Canvas>` with the list of URLs from Canvas if you want to read all the files into one dataframe:"
   ]
  },
  {
   "cell_type": "code",
   "execution_count": 2,
   "metadata": {},
   "outputs": [],
   "source": [
    "# ******* CODE BELOW *******\n",
    "\n",
    "# df_list = []\n",
    "# file_urls = <replace with list of urls from Canvas>\n",
    "\n",
    "# for url in file_urls:\n",
    "#     df = pd.read_csv(url)\n",
    "#     df_list.append(df)\n",
    "\n",
    "# df = pd.concat(df_list, ignore_index=True)\n",
    "# del df_list"
   ]
  },
  {
   "cell_type": "markdown",
   "metadata": {},
   "source": [
    "## Q2: Querying the database\n",
    "---\n",
    "\n",
    "In this part of the homework, you will query the database to extract and plot information about the buildings' energy behavior."
   ]
  },
  {
   "cell_type": "markdown",
   "metadata": {},
   "source": [
    "__Q2.1:__ Execute query that calculates the energy use intensity (EUI) of each building for each year of provided data. Follow this [link](https://my.matterport.com/show/?m=1oJSPeBrNuJ&brand=0) to estimate the total floor area of the  buildings assuming all buildings are similarly sized. How do the EUIs compare against what is expected for a typical residential building in the same location/climate zone?"
   ]
  },
  {
   "cell_type": "code",
   "execution_count": 3,
   "metadata": {},
   "outputs": [],
   "source": [
    "# ******* CODE BELOW *******\n"
   ]
  },
  {
   "cell_type": "markdown",
   "metadata": {},
   "source": [
    "__Q2.2:__ Execute query that returns the monthly (include only last 12 months) net electricity consumption of each building and plot grouped bar graphs, one axes for each building. When season is electricity consumption highest/lowest and why?"
   ]
  },
  {
   "cell_type": "code",
   "execution_count": 4,
   "metadata": {},
   "outputs": [],
   "source": [
    "# ******* CODE BELOW *******\n"
   ]
  },
  {
   "cell_type": "markdown",
   "metadata": {},
   "source": [
    "__Q2.3:__ Execute query that returns the average weekly net electricity consumption profile i.e. for an hourly resolution data, you will have 168 values (24 hours per day * 7 days of the week (Mon-Sun)) per building. Plot the profile for each building on a separate axes. What patterns do you discover about the average profile for each building and how do the profiles vary form one building to another?"
   ]
  },
  {
   "cell_type": "code",
   "execution_count": 5,
   "metadata": {},
   "outputs": [],
   "source": [
    "# ******* CODE BELOW *******\n"
   ]
  },
  {
   "cell_type": "markdown",
   "metadata": {},
   "source": [
    "__Q2.4:__ Execute query that returns the average weekly net electricity consumption profile per neighborhood. Plot the profiles of the two neighborhoods on the same axes. Are there any differences in profiles between neighborhoods?"
   ]
  },
  {
   "cell_type": "code",
   "execution_count": 6,
   "metadata": {},
   "outputs": [],
   "source": [
    "# ******* CODE BELOW *******\n"
   ]
  },
  {
   "cell_type": "markdown",
   "metadata": {},
   "source": [
    "__Q2.5:__ Execute query that returns the average and standard deviation of daily net electricity consumption profile i.e. for an hourly resolution data, you will have 24 values (24 hours per day) per building. Plot the profile for each building on a separate axes. What patterns do you discover about the average profile for each building and how do the profiles vary form one building to another? What time does the peak occur for each building? How do the peaks in the smart neighborhood compare to those in the baseline neighborhood?"
   ]
  },
  {
   "cell_type": "code",
   "execution_count": 7,
   "metadata": {},
   "outputs": [],
   "source": [
    "# ******* CODE BELOW *******\n"
   ]
  },
  {
   "cell_type": "markdown",
   "metadata": {},
   "source": [
    "__Q2.6:__ Execute query that allows you visualize the distribution of daily peak times for each building."
   ]
  },
  {
   "cell_type": "code",
   "execution_count": 8,
   "metadata": {},
   "outputs": [],
   "source": [
    "# ******* CODE BELOW *******\n"
   ]
  }
 ],
 "metadata": {
  "kernelspec": {
   "display_name": "Python 3 (ipykernel)",
   "language": "python",
   "name": "python3"
  },
  "language_info": {
   "codemirror_mode": {
    "name": "ipython",
    "version": 3
   },
   "file_extension": ".py",
   "mimetype": "text/x-python",
   "name": "python",
   "nbconvert_exporter": "python",
   "pygments_lexer": "ipython3",
   "version": "3.7.7"
  }
 },
 "nbformat": 4,
 "nbformat_minor": 4
}
