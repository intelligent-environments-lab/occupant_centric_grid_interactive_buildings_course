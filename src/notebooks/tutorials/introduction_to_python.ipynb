{
 "cells": [
  {
   "cell_type": "markdown",
   "metadata": {},
   "source": [
    "<a href=\"https://colab.research.google.com/github/intelligent-environments-lab/occupant_centric_grid_interactive_buildings_course/blob/main/src/notebooks/tutorials/introduction_to_python.ipynb\" target=\"_parent\"><img src=\"https://colab.research.google.com/assets/colab-badge.svg\" alt=\"Open In Colab\"/></a>"
   ]
  },
  {
   "cell_type": "markdown",
   "metadata": {},
   "source": [
    "# Introduction to Python\n",
    "---\n",
    "\n",
    "<i><strong>Authored by <a href=\"https://kingsleynweye.com\" target=\"__blank\">Kingsley Nweye</a> and <a href=\"https://www.ie-lab.org\" target=\"__blank\">Zoltan Nagy</a></strong></i>\n",
    "\n",
    "Python is one of many high-level programming languages that has grown in popularity for its easy implementation for prototyping new code and community-driven and open-source culture. It is relaxed in its syntax (which can be a curse sometime to be fair) and is sometimes referred to as executable pseudo-code since it reads like plain English. It has become very popular amongst non-traditional computer scientists for these reasons and is the more preferred language for data science and machine learning projects.\n",
    "\n",
    "It will be impractical to to attempt to cover all the basics of the Python language as it can very easily turn into a class of itself. Instead, this tutorial will provides a brief and high-level introduction to Python but detailed enough for the purposes of a first-time coder in this class. In this tutorial, you will learn:\n",
    "\n",
    "1. about variable declaration;\n",
    "2. different the native data types in Python language;\n",
    "3. how to carry out mathematical and other important operations on variables;\n",
    "4. how to write conditional statements;\n",
    "5. the different types of loops and their syntax;\n",
    "6. function definition;\n",
    "7. exception handling; and\n",
    "8. documentation."
   ]
  },
  {
   "cell_type": "markdown",
   "metadata": {},
   "source": [
    "## Variables\n",
    "---\n",
    "\n",
    "Think of variables as empty buckets (variable name) that are used to store content (variable value) that need to be accessed multiple times during their lifetime. As the name suggests, the value of the variable can change. To define a variable an assign a value, the name is set equal to some value:"
   ]
  },
  {
   "cell_type": "code",
   "execution_count": null,
   "metadata": {},
   "outputs": [],
   "source": [
    "indoor_dry_bulb_temperature = 24"
   ]
  },
  {
   "cell_type": "markdown",
   "metadata": {},
   "source": [
    "Above, we have defined a variable named `indoor_dry_bulb_temperature` and assigned it the value 24. We can change the value to something else:"
   ]
  },
  {
   "cell_type": "code",
   "execution_count": null,
   "metadata": {},
   "outputs": [],
   "source": [
    "indoor_dry_bulb_temperature = 26"
   ]
  },
  {
   "cell_type": "markdown",
   "metadata": {},
   "source": [
    "Now, let print to the console, the current value of `indoor_dry_bulb_temperature`. Printing variable values is a simple but very effective way of debugging your code (read finding out why your code is not working as expected) since you typically have some idea of what the values of the variables in your code should be at any given time and can check the actual value against your groundtruth. To print variables, we use the in-built `print` function:"
   ]
  },
  {
   "cell_type": "code",
   "execution_count": null,
   "metadata": {},
   "outputs": [],
   "source": [
    "print(indoor_dry_bulb_temperature)"
   ]
  },
  {
   "cell_type": "markdown",
   "metadata": {},
   "source": [
    "We see that the value of `indoor_dry_bulb_temperature` is the second value assignment we carried out.\n",
    "\n",
    "Sometimes, we want to define a 'variable' whose value should never change during its lifetime. These kind of variable is called a 'constant'. Python however by default, does not have support for constant values i.e. all variables are allowed to change values during their lifetime. Instead, we _soft define_ constants in Python by the way we write the variable name. In practice, the constant's value can change and WILL CHANGE if a new value is assigned however, its name can be indicative to you writing the code or other users that it's best not set the value once and never change it.\n",
    "\n",
    "In the variable we defined earlier, we wrote its name in lowercase characters. We also separated words using underscores. This style of variable naming convention is known as [snake case](https://en.wikipedia.org/wiki/Snake_case). Constants, follow the snake case convention but all characters are written in uppercase, for example:"
   ]
  },
  {
   "cell_type": "code",
   "execution_count": null,
   "metadata": {},
   "outputs": [],
   "source": [
    "AUSTIN_LATITUDE = 30.2672"
   ]
  },
  {
   "cell_type": "markdown",
   "metadata": {},
   "source": [
    "We have used the constant named `AUSTIN_LATITUDE` to define the latitude of Austin, Texas. Unless the state of Texas gets remapped, Austin's latitude will not be changing anytime soon hence, is a constant. However, since Python has no real constants, we can change the value of `AUSTIN_LATITUDE` but we shouldn't for the sake of staying true to our naming convention 🙂.\n",
    "\n",
    "Note that it is good practice to be as explicit as possible when naming variables. Your variable names should be obvious, self-documenting and exclude abbreviations as much as possible. For example, a variable that defines the dry-bulb temperature of a building is better defined as `indoor_dry_bulb_temperature`. One might be tempted to name it as just `dry_bulb_temperature` for brevity which might be confused with the weather's dry-bulb temperature. Also, `temperature` might be ambiguous since there are other relevant temperature variables within a building such wet-bulb temperature, operative temperature, e.t.c. `temp` might be obvious to someone reading your code that is familiar with its context but is also often used as a lazy name to define [temp]orary variables.\n",
    "\n",
    "In the next cell, define a variable that stores the boiling point temperature value of pure water in degrees Celcius (is this a variable that can change or is constant?):"
   ]
  },
  {
   "cell_type": "code",
   "execution_count": null,
   "metadata": {},
   "outputs": [],
   "source": [
    "# *** define your variable below ****\n"
   ]
  },
  {
   "cell_type": "markdown",
   "metadata": {},
   "source": [
    "The above code and text cover conclude the tutorial on variables in Python for the purpose of this class. The next section introduces the different data types that can be stored in variables."
   ]
  },
  {
   "cell_type": "markdown",
   "metadata": {},
   "source": [
    "## Data types\n",
    "---\n",
    "\n",
    "A bucket may hold water but can also be used to store sand, cleaning supplies, e.t.c. The same reasoning applies to variables in Python. Our earlier defined variable `indoor_dry_bulb_temperature` was used to store a number. Similarly, our constant `AUSTIN_LATITUDE` stores a number with 4 decimal places. Python has an in-built function, `type` that can be used to return the data type of any variable. Let us print out the data types of `indoor_dry_bulb_temperature` and `AUSTIN_LATITUDE`:"
   ]
  },
  {
   "cell_type": "code",
   "execution_count": null,
   "metadata": {},
   "outputs": [],
   "source": [
    "print('indoor_dry_bulb_temperature type:', type(indoor_dry_bulb_temperature))\n",
    "print('AUSTIN_LATITUDE:', type(AUSTIN_LATITUDE))"
   ]
  },
  {
   "cell_type": "markdown",
   "metadata": {},
   "source": [
    "Asides the `int` and `float` types, there are 13 other in-built data types in Python classified under 8 categories:\n",
    "\n",
    "1. Text:\n",
    "    - `str`<sup>*</sup>\n",
    "2. Numeric:\t\n",
    "    - `int`<sup>*</sup>\n",
    "    - `float`<sup>*</sup>\n",
    "    - `complex`\n",
    "3. Sequence:\n",
    "    - `list`<sup>*</sup>\n",
    "    - `tuple`<sup>*</sup>\n",
    "    - `range`<sup>*</sup>\n",
    "6. Boolean Type:\n",
    "    - `bool`<sup>*</sup>\n",
    "4. Mapping Type:\n",
    "    - `dict`<sup>*</sup>\n",
    "5. Set Types:\n",
    "    - `set`<sup>*</sup>\n",
    "    - `frozenset`\n",
    "7. Binary Types:\n",
    "    - `bytes`\n",
    "    - `bytearray`\n",
    "    - `memoryview`\n",
    "8. None:\n",
    "    - `NoneType`<sup>*</sup>\n",
    "\n",
    "However, we will only discuss 10 of these types, identified by the asterisk superscript next to their name as they are what we will be typically used in our exercises."
   ]
  },
  {
   "cell_type": "markdown",
   "metadata": {},
   "source": [
    "### Text types\n",
    "\n",
    "The `str` type is used to store a sequence of alphanumeric characters as well as whitespace characters a.k.a. strings and its value is wrapped around either single quotes or double quotes. The choice of quote style is dependent on personal preference. Names and unique alphanumeric IDs are usually defined as strings. Let us define a name below:"
   ]
  },
  {
   "cell_type": "code",
   "execution_count": null,
   "metadata": {},
   "outputs": [],
   "source": [
    "occupant_first_name = 'Reilly'"
   ]
  },
  {
   "cell_type": "markdown",
   "metadata": {},
   "source": [
    "We can also define a string that has a quotation mark within the string as:"
   ]
  },
  {
   "cell_type": "code",
   "execution_count": null,
   "metadata": {},
   "outputs": [],
   "source": [
    "occupant_first_name = 'O\\'Reilly'\n",
    "print(occupant_first_name)"
   ]
  },
  {
   "cell_type": "code",
   "execution_count": null,
   "metadata": {},
   "outputs": [],
   "source": [
    "occupant_first_name = \"O'Reilly\"\n",
    "print(occupant_first_name)"
   ]
  },
  {
   "cell_type": "markdown",
   "metadata": {},
   "source": [
    "The `str` type has a number of convenience functions (a.k.a. methods) that allows one carry inquire about a `str` variables value. Some of the favorites are `len` to inquire about the number of characters in a string, `lower` to convert the string to lowercase, `upper` to convert the string to uppercase, `replace` to replace a character in the string with another character, `strip` used to remove leading and trailing whitespace by default or any specified character, `startswith` to assert if the string starts with a sequence of characters, `endswith` to assert if the string ends with a sequence of characters, `split` to break a string into a list of characters where the splitting happens at each occurrence of specified characters, and `join` used as a conjunction when convert a list of strings to a single string. Example usages of these `str` methods are shown below:"
   ]
  },
  {
   "cell_type": "code",
   "execution_count": null,
   "metadata": {},
   "outputs": [],
   "source": [
    "print('str length:', len(occupant_first_name))\n",
    "print('str in lowercase:', occupant_first_name.lower())\n",
    "print('str in uppercase:', occupant_first_name.upper())\n",
    "print('str replacement:', occupant_first_name.replace('Reilly', 'Brien'))\n",
    "print('str strip:', occupant_first_name.strip('O\\''))\n",
    "print('str startswith check:', occupant_first_name.startswith('O'))\n",
    "print('str endswith check:', occupant_first_name.endswith('n'))\n",
    "print('str split into list of strings:', occupant_first_name.split('\\''))"
   ]
  },
  {
   "cell_type": "markdown",
   "metadata": {},
   "source": [
    "We can retrieve a substring of the full string using string indices. Note that Python, like many other languages, starts indexing from 0 such that if we wanted to retrieve the first character, we will use index 0 and if we wanted to retrieve the third character, we will use index 2. If we want to retrieve the first to third characters, we will use the index of the first character up to the index of the last character plus one. See the examples below:"
   ]
  },
  {
   "cell_type": "code",
   "execution_count": null,
   "metadata": {},
   "outputs": [],
   "source": [
    "print('First character:', occupant_first_name[0])\n",
    "print('Third character:', occupant_first_name[2])\n",
    "print('First to third characters:', occupant_first_name[0:3])"
   ]
  },
  {
   "cell_type": "markdown",
   "metadata": {},
   "source": [
    "### Numeric types\n",
    "\n",
    "The numeric data types we learn about are `int` for storing integer variables and `float` for storing real numbers. We already defined one of each earlier in the `Variable` section where `indoor_dry_bulb_temperature` is an integer and the constant `AUSTIN_LATITUDE` is a float type. There are no `int` nor `float` type methods that need to be discussed but will mention that `float` type has an accuracy of up to 15 decimal places. This means that you cannot store a real number that has more than 17 decimal place precision:"
   ]
  },
  {
   "cell_type": "code",
   "execution_count": null,
   "metadata": {},
   "outputs": [],
   "source": [
    "A_CONSTANT_WITH_MORE_THAN_20_DECIMAL_PLACES = 0.01234567890123456789\n",
    "print(A_CONSTANT_WITH_MORE_THAN_20_DECIMAL_PLACES)"
   ]
  },
  {
   "cell_type": "markdown",
   "metadata": {},
   "source": [
    "Although the constant `A_CONSTANT_WITH_MORE_THAN_20_DECIMAL_PLACES` has 20 decimal places by definition, it prints only up to 17 decimal places."
   ]
  },
  {
   "cell_type": "markdown",
   "metadata": {},
   "source": [
    "### Sequence types\n",
    "\n",
    "Sequence types for our purposes refer to `list`, `tuple` and `range` types. A `list` is an ordered sequence of variables and different data types can be stored in one list. This is a powerful feature of lists in Python compared to their counterparts in other programming languages that allow only one data type to be stored in their list equivalents. Although, it is good practice to make one-data-type lists. The syntax to define a `list` is:"
   ]
  },
  {
   "cell_type": "code",
   "execution_count": null,
   "metadata": {},
   "outputs": [],
   "source": [
    "indoor_dry_bulb_temperature_setpoint_schedule = [20, 21, 22, 24, indoor_dry_bulb_temperature]\n",
    "print(indoor_dry_bulb_temperature_setpoint_schedule)"
   ]
  },
  {
   "cell_type": "markdown",
   "metadata": {},
   "source": [
    "Above, we have defined a list that stores the previous 4 indoor dry-bulb temperature values as well as the current value. To retrieve any element in the list, we use the element's index like we did with `str` type:"
   ]
  },
  {
   "cell_type": "code",
   "execution_count": null,
   "metadata": {},
   "outputs": [],
   "source": [
    "print('First element in list:', indoor_dry_bulb_temperature_setpoint_schedule[0])\n",
    "print('Third element in list:', indoor_dry_bulb_temperature_setpoint_schedule[2])"
   ]
  },
  {
   "cell_type": "markdown",
   "metadata": {},
   "source": [
    "To retrieve the last element in a list, we use a negative index 1:"
   ]
  },
  {
   "cell_type": "code",
   "execution_count": null,
   "metadata": {},
   "outputs": [],
   "source": [
    "print('Last element in list:', indoor_dry_bulb_temperature_setpoint_schedule[-1])"
   ]
  },
  {
   "cell_type": "markdown",
   "metadata": {},
   "source": [
    "A slice of the list can be retrieved in the same way we retrieve substrings in `str` type:"
   ]
  },
  {
   "cell_type": "code",
   "execution_count": null,
   "metadata": {},
   "outputs": [],
   "source": [
    "print('Second to fourth elements in list:', indoor_dry_bulb_temperature_setpoint_schedule[1:4])"
   ]
  },
  {
   "cell_type": "markdown",
   "metadata": {},
   "source": [
    "Lists are mutable types, i.e., the elements of a list variable can change after assignment. We can also use the index to reassign values in a list:"
   ]
  },
  {
   "cell_type": "code",
   "execution_count": null,
   "metadata": {},
   "outputs": [],
   "source": [
    "indoor_dry_bulb_temperature_setpoint_schedule[0] = 18\n",
    "print('First element in list:', indoor_dry_bulb_temperature_setpoint_schedule[0])"
   ]
  },
  {
   "cell_type": "markdown",
   "metadata": {},
   "source": [
    "We can also use the `insert` method to put in a new element that increases the length of the list:"
   ]
  },
  {
   "cell_type": "code",
   "execution_count": null,
   "metadata": {},
   "outputs": [],
   "source": [
    "indoor_dry_bulb_temperature_setpoint_schedule.insert(1, 16)\n",
    "print('List with inserted value at first index:', indoor_dry_bulb_temperature_setpoint_schedule)"
   ]
  },
  {
   "cell_type": "markdown",
   "metadata": {},
   "source": [
    "Then to get the new length of the list, we use the `len` function as used with the `str` type:"
   ]
  },
  {
   "cell_type": "code",
   "execution_count": null,
   "metadata": {},
   "outputs": [],
   "source": [
    "print('Number of elements in list:', len(indoor_dry_bulb_temperature_setpoint_schedule))"
   ]
  },
  {
   "cell_type": "markdown",
   "metadata": {},
   "source": [
    "If we know that an element in a list has a particular value but for whatever reason need to know what position in the list that element is at, i.e. its index, we can use the `index` function:"
   ]
  },
  {
   "cell_type": "code",
   "execution_count": null,
   "metadata": {},
   "outputs": [],
   "source": [
    "('Index for element with value = 26:', indoor_dry_bulb_temperature_setpoint_schedule.index(26))"
   ]
  },
  {
   "cell_type": "markdown",
   "metadata": {},
   "source": [
    "Other `list` functions worthy of note are `append` to add a new element to a list, `extend` to add a sequence of new elements to a list, `pop` to remove and return an element from a list at a specific index, `remove` which is similar to `pop` but removes with reference to the value instead of index, `reverse` to reverse the order of elements in a list, `sort` to order the elements in a list, and `count` to get the number of occurrences of a value. See examples below:"
   ]
  },
  {
   "cell_type": "code",
   "execution_count": null,
   "metadata": {},
   "outputs": [],
   "source": [
    "indoor_dry_bulb_temperature_setpoint_schedule.append(29)\n",
    "print('List with appended element:', indoor_dry_bulb_temperature_setpoint_schedule)\n",
    "\n",
    "indoor_dry_bulb_temperature_setpoint_schedule.extend([30, 32, 33])\n",
    "print('List with extended elements:', indoor_dry_bulb_temperature_setpoint_schedule)\n",
    "\n",
    "pop_element = indoor_dry_bulb_temperature_setpoint_schedule.pop(0)\n",
    "print('List with 0th element removed:', indoor_dry_bulb_temperature_setpoint_schedule, 'where the 0th element was:', pop_element)\n",
    "\n",
    "indoor_dry_bulb_temperature_setpoint_schedule.remove(24)\n",
    "print('List with element whose value = 24 removed:', indoor_dry_bulb_temperature_setpoint_schedule)\n",
    "\n",
    "indoor_dry_bulb_temperature_setpoint_schedule.reverse()\n",
    "print('List in reverse order:', indoor_dry_bulb_temperature_setpoint_schedule)\n",
    "\n",
    "indoor_dry_bulb_temperature_setpoint_schedule.sort()\n",
    "print('List sorted in ascending order:', indoor_dry_bulb_temperature_setpoint_schedule)\n",
    "\n",
    "indoor_dry_bulb_temperature_setpoint_schedule.sort(reverse=True)\n",
    "print('List sorted in descending order:', indoor_dry_bulb_temperature_setpoint_schedule)\n",
    "\n",
    "print('Number of elements in list with value = 30:', indoor_dry_bulb_temperature_setpoint_schedule.count(30))"
   ]
  },
  {
   "cell_type": "markdown",
   "metadata": {},
   "source": [
    "Next, we will discuss the `tuple` type. Like the `list`, it holds a sequence of multi-type values but is defined using a slightly different syntax (can you spot the difference?):"
   ]
  },
  {
   "cell_type": "code",
   "execution_count": null,
   "metadata": {},
   "outputs": [],
   "source": [
    "indoor_dry_bulb_temperature_history = (24.4, 24.0, 23.5, 22.1, 21.3, 24.3, 25.5)"
   ]
  },
  {
   "cell_type": "markdown",
   "metadata": {},
   "source": [
    "Like lists, we can use index to retrieve elements or sequence of elements in tuples. However, tuples are immutable and as such, their elements cannot change after initialization (initialization is when a variable is declared for the first time and assigned some value):"
   ]
  },
  {
   "cell_type": "code",
   "execution_count": null,
   "metadata": {},
   "outputs": [],
   "source": [
    "indoor_dry_bulb_temperature_history[0] = 22.5"
   ]
  },
  {
   "cell_type": "markdown",
   "metadata": {},
   "source": [
    "The `TypeError` thrown above when we try to reassign the 0th element a new value tells us that the `tuple` type does not support such operation. This distinction between lists and tuples is very important when defining your data structures to hold variables as you build you Python code. Choosing one or the other can have rewarding or hair-pulling effects down the line. Let us take for example code that is meant to store the indoor dry-bulb temperature of a building from 3 years back. Data from 3 years ago is final and ideally, should not change as you work with it. In this case, a tuple seems better suited for its storage. However, you might want to do some data cleaning like replacing outliers with some average value. Using the same tuple variable, you will not be able to replace values unless you define a new tuple variable that stores the cleaned data. Depending on your system resources and data size, a new variable may or may not be ideal because time-series data, as you will see first-hand in this course, can vary easily take up a lot of memory. To save space, a list, where the element values can change might be better suited to store the initial raw data and the latter replacement preprocessed values.\n",
    "\n",
    "The `tuple` type has its own built in methods however, we will not discuss them here. Instead, we will introduce the `help` function that can be used on any python object (we will define what an object is later) to provide its documentation including its definition and functions: "
   ]
  },
  {
   "cell_type": "code",
   "execution_count": null,
   "metadata": {},
   "outputs": [],
   "source": [
    "help(tuple)"
   ]
  },
  {
   "cell_type": "markdown",
   "metadata": {},
   "source": [
    "The last sequence type we will discuss is `range`. It is used to define a sequence of integers that have a `start`, `stop` (value not included in generated sequence) and `step`. An example is:"
   ]
  },
  {
   "cell_type": "code",
   "execution_count": null,
   "metadata": {},
   "outputs": [],
   "source": [
    "valid_thermostat_dry_bulb_temperature_setpoints = range(21, 24, 1)\n",
    "print(valid_thermostat_dry_bulb_temperature_setpoints)"
   ]
  },
  {
   "cell_type": "markdown",
   "metadata": {},
   "source": [
    "With `list` and `tuple` types, you can have sub lists and tuples as:"
   ]
  },
  {
   "cell_type": "code",
   "execution_count": null,
   "metadata": {},
   "outputs": [],
   "source": [
    "buildings_indoor_dry_bulb_temperature_setpoint_schedule = [\n",
    "    indoor_dry_bulb_temperature_setpoint_schedule, \n",
    "    [23, 24, 22, 21, 20 , 25, 25, 26, 27, 29],\n",
    "    [20, 24, 20, 21, 20 , 21, 23, 29, 28, 28],\n",
    "]\n",
    "print(buildings_indoor_dry_bulb_temperature_setpoint_schedule)"
   ]
  },
  {
   "cell_type": "markdown",
   "metadata": {},
   "source": [
    "We can then retrieve the first sublist as:"
   ]
  },
  {
   "cell_type": "code",
   "execution_count": null,
   "metadata": {},
   "outputs": [],
   "source": [
    "print(buildings_indoor_dry_bulb_temperature_setpoint_schedule[0])"
   ]
  },
  {
   "cell_type": "markdown",
   "metadata": {},
   "source": [
    "Or the second element of the second sublist as:"
   ]
  },
  {
   "cell_type": "code",
   "execution_count": null,
   "metadata": {},
   "outputs": [],
   "source": [
    "buildings_indoor_dry_bulb_temperature_setpoint_schedule[1][1]"
   ]
  },
  {
   "cell_type": "markdown",
   "metadata": {},
   "source": [
    "Without getting into much detail about the `range` type, it is mostly used when designing loops to dictate how long the loop should run or what index to apply to some other sequence during an i'th iteration of a loop. We will discuss loops further in subsequent sections."
   ]
  },
  {
   "cell_type": "markdown",
   "metadata": {},
   "source": [
    "### Boolean types\n",
    "\n",
    "The `bool` type is best used to define variables that are binary in nature for example, if a heat pump is on/off, if an occupant is present/absent, e.t.c. An example of a initialized boolean is shown below:"
   ]
  },
  {
   "cell_type": "code",
   "execution_count": null,
   "metadata": {},
   "outputs": [],
   "source": [
    "occupant_is_present = True\n",
    "lamp_is_turned_on = False\n",
    "print('Is building occupied?', occupant_is_present, '; Is the lamp turned on?', lamp_is_turned_on)"
   ]
  },
  {
   "cell_type": "markdown",
   "metadata": {},
   "source": [
    "### Mapping types\n",
    "\n",
    "The `dict` data type is used to map `key`-`value` pairs. One can think of it as 'dictionary' where the word is the `key` and the word definition is the `value`. The `key` can be a `str`, `int`, `float`, `bool`, or `tuple`. `value` can be of any type. `dict` keys must be unique however, values can be repeated across different keys. See below for how to define a `dict`:"
   ]
  },
  {
   "cell_type": "code",
   "execution_count": null,
   "metadata": {},
   "outputs": [],
   "source": [
    "building_metadata = {\n",
    "    'name': 'ECJ',\n",
    "    'year_constructed': 1974,\n",
    "    'floor_count': 14,\n",
    "    'gross_square_footage': 240246,\n",
    "    'primary_space_use': 'Laboratory',\n",
    "    'cooling_commodity': 'Chilled water',\n",
    "    'Heating_commodity': 'Steam',\n",
    "}\n",
    "print('building metadata:', building_metadata)"
   ]
  },
  {
   "cell_type": "markdown",
   "metadata": {},
   "source": [
    "The keys and values in a `dict` can be returned as:"
   ]
  },
  {
   "cell_type": "code",
   "execution_count": null,
   "metadata": {},
   "outputs": [],
   "source": [
    "print('dict keys:', building_metadata.keys())\n",
    "print('dict values:', building_metadata.values())"
   ]
  },
  {
   "cell_type": "markdown",
   "metadata": {},
   "source": [
    "To get the value for a known key in the dictionary:"
   ]
  },
  {
   "cell_type": "code",
   "execution_count": null,
   "metadata": {},
   "outputs": [],
   "source": [
    "print('building name:', building_metadata['name'])"
   ]
  },
  {
   "cell_type": "markdown",
   "metadata": {},
   "source": [
    "If we use the above syntax to attempt to retrieve the value for a key that does not exist in the dictionary, we will get a `KeyError`:"
   ]
  },
  {
   "cell_type": "code",
   "execution_count": null,
   "metadata": {},
   "outputs": [],
   "source": [
    "print('building latitude:', building_metadata['latitude'])"
   ]
  },
  {
   "cell_type": "markdown",
   "metadata": {},
   "source": [
    "Alternatively, we can safely return a value for keys that may not be in our dictionary yet with the `get` method:"
   ]
  },
  {
   "cell_type": "code",
   "execution_count": null,
   "metadata": {},
   "outputs": [],
   "source": [
    "print('building latitude:', building_metadata.get('latitude'))\n",
    "print('building latitude:', building_metadata.get('latitude', 'ECJ does not not have a defined latitude'))"
   ]
  },
  {
   "cell_type": "markdown",
   "metadata": {},
   "source": [
    "To define a new key-value pair in the dictionary, execute:"
   ]
  },
  {
   "cell_type": "code",
   "execution_count": null,
   "metadata": {},
   "outputs": [],
   "source": [
    "building_metadata['latitude'] = 30.289\n",
    "print('building latitude:', building_metadata.get('latitude'))"
   ]
  },
  {
   "cell_type": "markdown",
   "metadata": {},
   "source": [
    "The same syntax is used to assign a new value to an existing key:"
   ]
  },
  {
   "cell_type": "code",
   "execution_count": null,
   "metadata": {},
   "outputs": [],
   "source": [
    "previous_primary_space_use = building_metadata['primary_space_use']\n",
    "building_metadata['primary_space_use'] = 'Classroom'\n",
    "print('building primary space use changed from', previous_primary_space_use, 'to', building_metadata['primary_space_use'])"
   ]
  },
  {
   "cell_type": "markdown",
   "metadata": {},
   "source": [
    "We can also define nested dictionary within the main dictionary:"
   ]
  },
  {
   "cell_type": "code",
   "execution_count": null,
   "metadata": {},
   "outputs": [],
   "source": [
    "building_metadata['chiller'] = {\n",
    "    'manufacturer': 'Trane',\n",
    "    'capacity_tons': 100,\n",
    "    'seasonal_energy_efficiency_ratio': 13.0\n",
    "}\n",
    "print(building_metadata)"
   ]
  },
  {
   "cell_type": "markdown",
   "metadata": {},
   "source": [
    "Can you find out about other `dict` methods using the `help` function, provide their definition and use them in examples?\n",
    "\n",
    "__`dict` methods__:\n",
    "- `get`: Return key-value otherwise, return default.\n",
    "-\n",
    "-"
   ]
  },
  {
   "cell_type": "code",
   "execution_count": null,
   "metadata": {},
   "outputs": [],
   "source": [
    "# *** put your examples where you use dict methods below ***\n"
   ]
  },
  {
   "cell_type": "markdown",
   "metadata": {},
   "source": [
    "### Set types\n",
    "\n",
    "A `set` is used to define unique values and is an unordered, unindexed and unchangeable data type. The syntax used to define a set is:"
   ]
  },
  {
   "cell_type": "code",
   "execution_count": null,
   "metadata": {},
   "outputs": [],
   "source": [
    "occupant_first_names = {occupant_first_name, 'Jane', 'Doe', 'Jack', 'Robinson', 'Jack'}\n",
    "print(occupant_first_names)"
   ]
  },
  {
   "cell_type": "markdown",
   "metadata": {},
   "source": [
    "Notice that although we included the name, 'Jack', twice, it was printed just once. Also, the print order differs from the order at initialization. Sets better suited for quickly inferring about value membership in a list of items and comparisons between separately defined lists of items. For example, if we have two sets of first names for two different buildings and want to find out which occupants have been to both buildings, we can use the `intersection` method:"
   ]
  },
  {
   "cell_type": "code",
   "execution_count": null,
   "metadata": {},
   "outputs": [],
   "source": [
    "building_1_occupant_first_names = occupant_first_names\n",
    "building_2_occupant_first_names = {'Jane', 'Robinson', 'Sally', 'Bill'}\n",
    "print('Occupants that have visited both building 1 and 2:', building_1_occupant_first_names.intersection(building_2_occupant_first_names))"
   ]
  },
  {
   "cell_type": "markdown",
   "metadata": {},
   "source": [
    "We can also infer about the occupants in one building that have not been to the other using the `difference` method:"
   ]
  },
  {
   "cell_type": "code",
   "execution_count": null,
   "metadata": {},
   "outputs": [],
   "source": [
    "print('Occupants that have visited building 1 but not 2:', building_1_occupant_first_names.difference(building_2_occupant_first_names))\n",
    "print('Occupants that have visited building 2 but not 1:', building_2_occupant_first_names.difference(building_1_occupant_first_names))"
   ]
  },
  {
   "cell_type": "markdown",
   "metadata": {},
   "source": [
    "There are other `set` methods. Can you use them in examples?"
   ]
  },
  {
   "cell_type": "code",
   "execution_count": null,
   "metadata": {},
   "outputs": [],
   "source": [
    "# *** put your examples where you use set methods below ***\n"
   ]
  },
  {
   "cell_type": "markdown",
   "metadata": {},
   "source": [
    "### None types\n",
    "\n",
    "The `NoneType` is a very powerful and useful type. It can be used as default value during variable initialization, or a default value for certain use cases, such as when we used the `get` method on the `dict` type. For example, it is better to initialize the name of an occupant as `NoneType` rather than an empty string '' when the name is not yet known. This ensures that subsequent operations on the undefined name variable will always let you know that the name has not yet been defined which can be in the form of an error (yes, errors are good! Even better are errors that a descriptive and show up whenever your code does not run the way you assume it should). The syntax for defining a `NoneType` variable is:"
   ]
  },
  {
   "cell_type": "code",
   "execution_count": null,
   "metadata": {},
   "outputs": [],
   "source": [
    "room_1_occupant_name = None\n",
    "print('Occupant name:', room_1_occupant_name)"
   ]
  },
  {
   "cell_type": "markdown",
   "metadata": {},
   "source": [
    "Subsequently, if we try to return the length of the occupant's name, it will let us know that we are yet to assign a non-null value to the name:"
   ]
  },
  {
   "cell_type": "code",
   "execution_count": null,
   "metadata": {},
   "outputs": [],
   "source": [
    "print('Occupant name length:', len(room_1_occupant_name))"
   ]
  },
  {
   "cell_type": "markdown",
   "metadata": {},
   "source": [
    "If we had used an empty string, it will return a length of 0 which, might be obvious that a name has not been defined but in complex code bases where you are not printing variables all the time, it can go unnoticed since no error is thrown and causes bigger problems down the pipeline.\n",
    "\n",
    "This brings us to the end of data types in Python. In the following sections, we will learn how to convert from one data type to an other using a methodology called type castings. We will also spend some more time on reassigning values to a variable and how mutation in data types can be useful or harmful."
   ]
  },
  {
   "cell_type": "markdown",
   "metadata": {},
   "source": [
    "### Type casting\n",
    "\n",
    "Sometimes, one may need to convert a variable from one data type to another. One popular use case is to convert a `list` to a `set` in order to get the unique elements in the `list` or vise versa where we wanted a sorted list of the elements in a set. Another one is to convert a `float` to an `integer` to use as an index or rounding purposes. We may also choose to convert a `bool` to an `int` for cases where only numeric values are allowed e.g. regression modelling. Some examples of type casting are provided below: "
   ]
  },
  {
   "cell_type": "code",
   "execution_count": null,
   "metadata": {},
   "outputs": [],
   "source": [
    "print('int', indoor_dry_bulb_temperature, 'casted to str:', str(indoor_dry_bulb_temperature))\n",
    "print('int', indoor_dry_bulb_temperature, 'casted to float:', float(indoor_dry_bulb_temperature))\n",
    "print('int', indoor_dry_bulb_temperature, 'casted to bool:', bool(indoor_dry_bulb_temperature))\n",
    "print('bool', occupant_is_present, 'casted to int:', int(occupant_is_present))\n",
    "print('bool', lamp_is_turned_on, 'casted to int:', int(lamp_is_turned_on))\n",
    "print('float', AUSTIN_LATITUDE, 'casted to int:', int(AUSTIN_LATITUDE))\n",
    "print('list', indoor_dry_bulb_temperature_setpoint_schedule[0:5], 'casted to set:', set(indoor_dry_bulb_temperature_setpoint_schedule[0:5]))\n",
    "print('set', occupant_first_names, 'casted to list and sorted:', sorted(list(occupant_first_names)))"
   ]
  },
  {
   "cell_type": "markdown",
   "metadata": {},
   "source": [
    "Other times, we may be unsure if a variable is of a particular data type. The `isinstance` method can be used to confirm such doubts:"
   ]
  },
  {
   "cell_type": "code",
   "execution_count": null,
   "metadata": {},
   "outputs": [],
   "source": [
    "print('is 2.0 a float?', isinstance(2.0, float))\n",
    "print('is 2.0 an int?', isinstance(2.0, int))\n",
    "print('is 2.0 either a float or an int?', isinstance(2.0, (float, int)))"
   ]
  },
  {
   "cell_type": "markdown",
   "metadata": {},
   "source": [
    "### Variable type reassignment\n",
    "\n",
    "Python is a dynamically typed language meaning once a variable has been initialized to a specific data type, it can be subsequently re-assigned a value of a different data type. This can be a good or bad thing depending on how it is used so one must use this feature with care. See the example below where an `int` variable is reassigned a `str` value:"
   ]
  },
  {
   "cell_type": "code",
   "execution_count": null,
   "metadata": {},
   "outputs": [],
   "source": [
    "indoor_relative_humidity = 60.0\n",
    "print('Relative humidity type before reassignment:', type(indoor_relative_humidity))\n",
    "indoor_relative_humidity = str(indoor_relative_humidity)\n",
    "print('Relative humidity type after reassignment:', type(indoor_relative_humidity))"
   ]
  },
  {
   "cell_type": "markdown",
   "metadata": {},
   "source": [
    "Good practice is to stick to one data-type for each variable however, it may sometimes be useful to reassign new data with new data type to a variable to avoid keeping variables that are only used in the initial stage of processing a dataset or to save space in memory. To make your code self-documenting, you can use type hinting to inform a 3-rd party, or even yourself down the line when you revisit old code, what type a variable is. Of course Python being dynamically typed will not enforce the types you declare for your variables but it can help make your code more legible. An example of such type hinting is provided below:"
   ]
  },
  {
   "cell_type": "code",
   "execution_count": null,
   "metadata": {},
   "outputs": [],
   "source": [
    "indoor_relative_humidity: float = None"
   ]
  },
  {
   "cell_type": "markdown",
   "metadata": {},
   "source": [
    "Above we have initialized the variable with a null value however, using the type hint, we know to expect and store only float data type values when we eventually assign it a value."
   ]
  },
  {
   "cell_type": "markdown",
   "metadata": {},
   "source": [
    "### Variable mutation\n",
    "\n",
    "Mutation refers to the ability to modify a variable after it has been assigned a value. Of the data types we considered, `str`, `int`, `float`, `bool`, `tuple` are immutable while `list`, `set` and `dict` are mutable. For immutable data types, one cannot change the value of the assigned variable after initialization without having to create a new object in memory. We will demonstrate this using the in-built `id` method: "
   ]
  },
  {
   "cell_type": "code",
   "execution_count": null,
   "metadata": {},
   "outputs": [],
   "source": [
    "str_variable = 'abc'\n",
    "print('str id before reassignment:', id(str_variable))\n",
    "str_variable = 'efg'\n",
    "print('str id after reassignment:', id(str_variable))"
   ]
  },
  {
   "cell_type": "markdown",
   "metadata": {},
   "source": [
    "After reassignment, the id for the string variable changed. We also cannot modify a character in the exisitng string even though a string is a sequence of characters at its base level:"
   ]
  },
  {
   "cell_type": "code",
   "execution_count": null,
   "metadata": {},
   "outputs": [],
   "source": [
    "str_variable[0] = 'r'"
   ]
  },
  {
   "cell_type": "markdown",
   "metadata": {},
   "source": [
    "Now let us investigate similarly for `int`, `float` and `bool` types:"
   ]
  },
  {
   "cell_type": "code",
   "execution_count": null,
   "metadata": {},
   "outputs": [],
   "source": [
    "int_variable = 2\n",
    "print('int id before reassignment:', id(int_variable))\n",
    "int_variable = 5\n",
    "print('int id after reassignment:', id(int_variable))\n",
    "\n",
    "float_variable = 2.0\n",
    "print('float id before reassignment:', id(float_variable))\n",
    "float_variable = 5.0\n",
    "print('float id after reassignment:', id(float_variable))\n",
    "\n",
    "bool_variable = True\n",
    "print('bool id before reassignment:', id(bool_variable))\n",
    "bool_variable = False\n",
    "print('bool id after reassignment:', id(bool_variable))"
   ]
  },
  {
   "cell_type": "markdown",
   "metadata": {},
   "source": [
    "More importantly is the fact that is we created a new immutable variable by simply assigning it an existing immutable variable as its value, it will in fact share the same `id` as the assigning variable. However, the moment we try to change the value of the new variable, its `id` will point to a new address in memory:"
   ]
  },
  {
   "cell_type": "code",
   "execution_count": null,
   "metadata": {},
   "outputs": [],
   "source": [
    "int_variable_2 = int_variable\n",
    "print('assigning int id:', id(int_variable))\n",
    "print('new int id before reassignment:', id(int_variable_2))\n",
    "int_variable_2 = 34\n",
    "print('new int id after reassignment:', id(int_variable_2))"
   ]
  },
  {
   "cell_type": "markdown",
   "metadata": {},
   "source": [
    "We already demonstrated earlier the immutability of `tuple` compared to `list`, thus reassigning the value of a tuple will point the tuple to a new id.\n",
    "\n",
    "For mutable types, changing its value will not change its `id` but will only change the `id` of the changed element if immutable. Let us demonstrate with a `list` of `int`:"
   ]
  },
  {
   "cell_type": "code",
   "execution_count": null,
   "metadata": {},
   "outputs": [],
   "source": [
    "list_variable = [0, 1, 2, 3, 4]\n",
    "print('list id before reassignment:', id(list_variable))\n",
    "print('0th element id before reassignment:', id(list_variable[0]))\n",
    "print('0th element before reassignment:', list_variable[0])\n",
    "list_variable[0] = 9\n",
    "print('list id after reassignment:', id(list_variable))\n",
    "print('0th element id after reassignment:', id(list_variable[0]))\n",
    "print('0th element after reassignment:', list_variable[0])"
   ]
  },
  {
   "cell_type": "markdown",
   "metadata": {},
   "source": [
    "We see that the list itself did not change address after the 0th element's value changed however, changing the value at the 0th index changed the address of the 0th element.\n",
    "\n",
    "Now what happens if we create a new list by simply assigning our existing list to a new variable:"
   ]
  },
  {
   "cell_type": "code",
   "execution_count": null,
   "metadata": {},
   "outputs": [],
   "source": [
    "list_variable_2 = list_variable\n",
    "print('assigning list id:', id(list_variable))\n",
    "print('new list id before reassignment:', id(list_variable_2))"
   ]
  },
  {
   "cell_type": "markdown",
   "metadata": {},
   "source": [
    "Both lists share the same `id`. What happens if we try to change the 0th element in our new list?:"
   ]
  },
  {
   "cell_type": "code",
   "execution_count": null,
   "metadata": {},
   "outputs": [],
   "source": [
    "print('assigning list before reassignment:', list_variable)\n",
    "print('assigning list id before reassignment:', id(list_variable))\n",
    "print('new list before reassignment:', list_variable_2)\n",
    "print('new list id before reassignment:', id(list_variable_2))\n",
    "list_variable_2[0] = 6\n",
    "print('assigning list after reassignment:', list_variable)\n",
    "print('assigning list id after reassignment:', id(list_variable))\n",
    "print('new list after reassignment:', list_variable_2)\n",
    "print('new list id after reassignment:', id(list_variable_2))"
   ]
  },
  {
   "cell_type": "markdown",
   "metadata": {},
   "source": [
    "Both lists still share the same `id` and the same elements even though we only changed the value from the second list! This is important to note when creating new variables from mutable types as it can lead to very unexpected behavior down the line where you are changing the data in a variable you never planned to change!\n",
    "\n",
    "One way to create a new variable from an existing mutable variable is to use copy the latter:"
   ]
  },
  {
   "cell_type": "code",
   "execution_count": null,
   "metadata": {},
   "outputs": [],
   "source": [
    "list_variable_3 = list_variable_2.copy()\n",
    "print('list_variable_2 id:', id(list_variable_2))\n",
    "print('list_variable_3 id:', id(list_variable_3))"
   ]
  },
  {
   "cell_type": "markdown",
   "metadata": {},
   "source": [
    "The two lists, though having identical elements, point to different addresses."
   ]
  },
  {
   "cell_type": "markdown",
   "metadata": {},
   "source": [
    "## Operations on variables\n",
    "---\n",
    "\n",
    "In this section we will look at different operators in Python. operators refer to symbols, keywords or a combination that can be used alongside variables to build expressions for computation. Operators allow you \"manipulate data, perform mathematical calculations, compare values, run boolean test, assign values to variables and more\" [[ref](https://realpython.com/python-operators-expressions)]. An operator is used on either one or more operands (think variables). An operator that acts on one operand is unary and whose those that act on two operands are binary.\n",
    "\n",
    "Operators can be grouped into 11 categories:\n",
    "1. Assignment operator\n",
    "2. Arithmetic operators and expressions<sup>*</sup>\n",
    "1. Comparison operators and expressions<sup>*</sup>\n",
    "2. Boolean operators and expressions<sup>*</sup>\n",
    "3. Conditional expressions<sup>*</sup>\n",
    "4. Identity operators and expressions<sup>*</sup>\n",
    "5. Membership operators and expressions<sup>*</sup>\n",
    "6. Concatenation and repetition operators and expressions<sup>*</sup>\n",
    "7. Walrus operator and assignment expressions\n",
    "8. Bitwise operators and expressions\n",
    "9. Augmented assignment operators and expressions<sup>*</sup>\n",
    "\n",
    "We will not go into much detail on each category and will only address the ones with a asterisk superscript."
   ]
  },
  {
   "cell_type": "markdown",
   "metadata": {},
   "source": [
    "### Arithmetic operators and expressions\n",
    "\n",
    "These operators are the typical ones used for math expressions and the include following [[ref](https://realpython.com/python-operators-expressions)]:\n",
    "\n",
    "<table>\n",
    "    <thead>\n",
    "        <tr>\n",
    "            <th>Operator</th>\n",
    "            <th>Type</th>\n",
    "            <th>Operation</th>\n",
    "            <th>Example</th>\n",
    "            <th>Result</th>\n",
    "        </tr>\n",
    "    </thead>\n",
    "    <tbody>\n",
    "        <tr>\n",
    "            <td><code>+</code></td>\n",
    "            <td>Unary</td>\n",
    "            <td>Positive</td>\n",
    "            <td><code>+</code>a</td>\n",
    "            <td>a without any transformation since this is simply a complement to negation</td>\n",
    "        </tr>\n",
    "        <tr>\n",
    "            <td><code>+</code></td>\n",
    "            <td>Binary</td>\n",
    "            <td>Addition</td>\n",
    "            <td>a <code>+</code> b</td>\n",
    "            <td>Arithmetic sum of a and b</td>\n",
    "        </tr>\n",
    "        <tr>\n",
    "            <td><code>-</code></td>\n",
    "            <td>Unary</td>\n",
    "            <td>Negation</td>\n",
    "            <td><code>-</code>a</td>\n",
    "            <td>The value of a but with the opposite sign</td>\n",
    "        </tr>\n",
    "        <tr>\n",
    "            <td><code>-</code></td>\n",
    "            <td>Binary</td>\n",
    "            <td>Subtraction</td>\n",
    "            <td>a <code>-</code> b</td>\n",
    "            <td>b subtracted from a</td>\n",
    "        </tr>\n",
    "        <tr>\n",
    "            <td><code>*</code></td>\n",
    "            <td>Binary</td>\n",
    "            <td>Multiplication</td>\n",
    "            <td>a <code>*</code> b</td>\n",
    "            <td>Product of a and b</td>\n",
    "        </tr>\n",
    "        <tr>\n",
    "            <td><code>/</code></td>\n",
    "            <td>Binary</td>\n",
    "            <td>Division</td>\n",
    "            <td>a <code>/</code> b</td>\n",
    "            <td>Quotient of a and b</td>\n",
    "        </tr>\n",
    "        <tr>\n",
    "            <td><code>%</code></td>\n",
    "            <td>Binary</td>\n",
    "            <td>Modulo</td>\n",
    "            <td>a <code>%</code> b</td>\n",
    "            <td>Remainder of a / b</td>\n",
    "        </tr>\n",
    "        <tr>\n",
    "            <td><code>//</code></td>\n",
    "            <td>Binary</td>\n",
    "            <td>Floor division or integer division</td>\n",
    "            <td>a <code>//</code> b</td>\n",
    "            <td>The quotient of a divided by b rounded to the next smallest whole number</td>\n",
    "        </tr>\n",
    "        <tr>\n",
    "            <td><code>**</code></td>\n",
    "            <td>Binary</td>\n",
    "            <td>Exponentiation</td>\n",
    "            <td>a<code>**</code>b</td>\n",
    "            <td>a raised to the power of b</td>\n",
    "        </tr>\n",
    "    </tbody>\n",
    "</table>\n",
    "\n",
    "Below are some example uses of these operators:"
   ]
  },
  {
   "cell_type": "code",
   "execution_count": null,
   "metadata": {},
   "outputs": [],
   "source": [
    "a = 10\n",
    "b = 3\n",
    "print('+a =', +a)\n",
    "print('a + b =', a + b)\n",
    "print('-a =', -a)\n",
    "print('a - b =', a - b)\n",
    "print('a * b =', a * b)\n",
    "print('a / b =', a / b)\n",
    "print('a % b =', a % b)\n",
    "print('a // b =', a // b)\n",
    "print('a**b =', a**b)"
   ]
  },
  {
   "cell_type": "markdown",
   "metadata": {},
   "source": [
    "### Comparison operators and expressions\n",
    "\n",
    "The comparison operators include [[ref](https://realpython.com/python-operators-expressions)]:\n",
    "\n",
    "<table>\n",
    "    <thead>\n",
    "        <tr>\n",
    "            <th>Operator</th>\n",
    "            <th>Type</th>\n",
    "            <th>Operation</th>\n",
    "            <th>Example</th>\n",
    "            <th>Result</th>\n",
    "        </tr>\n",
    "    </thead>\n",
    "    <tbody>\n",
    "        <tr>\n",
    "            <td><code>==</code></td>\n",
    "            <td>Binary</td>\n",
    "            <td>Equal to</td>\n",
    "            <td>a <code>==</code> b</td>\n",
    "            <td>True if the value of a is equal to the value of b otherwise, false</td>\n",
    "        </tr>\n",
    "        <tr>\n",
    "            <td><code>!=</code></td>\n",
    "            <td>Binary</td>\n",
    "            <td>Not equal to</td>\n",
    "            <td>a <code>!=</code> b</td>\n",
    "            <td>True if a is not equal to b otherwise false</td>\n",
    "        </tr>\n",
    "        <tr>\n",
    "            <td><code><</code></td>\n",
    "            <td>Binary</td>\n",
    "            <td>Less than</td>\n",
    "            <td>a <code><</code> b</td>\n",
    "            <td>True if a is less than b otherwise, false</td>\n",
    "        </tr>\n",
    "        <tr>\n",
    "            <td><code><=</code></td>\n",
    "            <td>Binary</td>\n",
    "            <td>Less than or equal to</td>\n",
    "            <td>a <code><=</code> b</td>\n",
    "            <td>True if a is less than or equal to b otherwise, false</td>\n",
    "        </tr>\n",
    "        <tr>\n",
    "            <td><code>></code></td>\n",
    "            <td>Binary</td>\n",
    "            <td>Greater than</td>\n",
    "            <td>a <code>></code> b</td>\n",
    "            <td>True if a is greater than b otherwise, false</td>\n",
    "        </tr>\n",
    "        <tr>\n",
    "            <td><code>>=</code></td>\n",
    "            <td>Binary</td>\n",
    "            <td>Greater than or equal to</td>\n",
    "            <td>a <code>>=</code> b</td>\n",
    "            <td>True if a is greater than or equal to b otherwise, false</td>\n",
    "        </tr>\n",
    "    </tbody>\n",
    "</table>\n",
    "\n",
    "Below are some examples using the comparison operators:"
   ]
  },
  {
   "cell_type": "code",
   "execution_count": null,
   "metadata": {},
   "outputs": [],
   "source": [
    "print('a == b =', a == b)\n",
    "print('a != b =', a != b)\n",
    "print('a < b =', a < b)\n",
    "print('a <= b =', a <= b)\n",
    "print('a > b =', a > b)\n",
    "print('a >= b =', a >= b)"
   ]
  },
  {
   "cell_type": "markdown",
   "metadata": {},
   "source": [
    "You can also use the comparison operators on strings. Python uses a character's unicode code point to compare string such that characters with lower point have a smaller numerical value. To get the unicode value for a string, use the `ord` function:"
   ]
  },
  {
   "cell_type": "code",
   "execution_count": null,
   "metadata": {},
   "outputs": [],
   "source": [
    "a = 'j'\n",
    "b = 'd'\n",
    "print('a =', a)\n",
    "print('b =', b)\n",
    "\n",
    "if len(a) == 1:\n",
    "    print('Unicode code point for', a, '=', ord(a))\n",
    "else:\n",
    "    pass\n",
    "\n",
    "if len(b) == 1:\n",
    "    print('Unicode code point for', b, '=', ord(b))\n",
    "else:\n",
    "    pass\n",
    "\n",
    "print('a == b =', a == b)\n",
    "print('a != b =', a != b)\n",
    "print('a < b =', a < b)\n",
    "print('a <= b =', a <= b)\n",
    "print('a > b =', a > b)\n",
    "print('a >= b =', a >= b)"
   ]
  },
  {
   "cell_type": "markdown",
   "metadata": {},
   "source": [
    "Note that the `ord` function will only work for one-character strings. For strings with more than one character, Python checks the unicode code point for any two characters at the same index in the two strings and once it finds a case where two characters have different points, it uses it to sort the strings.\n",
    "\n",
    "Comparison operators also work on sequence types where the same approach of element pair comparisons is carried out:"
   ]
  },
  {
   "cell_type": "code",
   "execution_count": null,
   "metadata": {},
   "outputs": [],
   "source": [
    "a = [1, 2, 3]\n",
    "b = [2, 3, 4]\n",
    "print('a =', a)\n",
    "print('b =', b)\n",
    "print('a == b =', a == b)\n",
    "print('a != b =', a != b)\n",
    "print('a < b =', a < b)\n",
    "print('a <= b =', a <= b)\n",
    "print('a > b =', a > b)\n",
    "print('a >= b =', a >= b)"
   ]
  },
  {
   "cell_type": "markdown",
   "metadata": {},
   "source": [
    "### Boolean operators and expressions\n",
    "\n",
    "The boolean operators include [[ref](https://realpython.com/python-operators-expressions)]:\n",
    "\n",
    "<table>\n",
    "    <thead>\n",
    "        <tr>\n",
    "            <th>Operator</th>\n",
    "            <th>Type</th>\n",
    "            <th>Example</th>\n",
    "            <th>Result</th>\n",
    "        </tr>\n",
    "    </thead>\n",
    "    <tbody>\n",
    "        <tr>\n",
    "            <td><code>and</code></td>\n",
    "            <td>Binary</td>\n",
    "            <td>x <code>and</code> y</td>\n",
    "            <td>True if both x and y are true otherwise, false</td>\n",
    "        </tr>\n",
    "        <tr>\n",
    "            <td><code>or</td>\n",
    "            <td>Binary</td>\n",
    "            <td>x <code>or</code> y</td>\n",
    "            <td>True if either x or y is true, otherwise false</td>\n",
    "        </tr>\n",
    "        <tr>\n",
    "            <td><code>not</td>\n",
    "            <td>Unary</td>\n",
    "            <td><code>not</code> x</td>\n",
    "            <td>True if x is false otherwise, true</td>\n",
    "        </tr>\n",
    "    </tbody>\n",
    "</table>\n",
    "\n",
    "Below are some examples using the boolean operators:"
   ]
  },
  {
   "cell_type": "code",
   "execution_count": null,
   "metadata": {},
   "outputs": [],
   "source": [
    "a = 4\n",
    "b = 10\n",
    "x = a < b\n",
    "y = a == b\n",
    "print('a =', a)\n",
    "print('b =', b)\n",
    "print('x =', x)\n",
    "print('y =', y)\n",
    "print('x and y =', x and y)\n",
    "print('x or y =', x or y)\n",
    "print('not x =', not y)\n",
    "print('not y =', not x)"
   ]
  },
  {
   "cell_type": "markdown",
   "metadata": {},
   "source": [
    "### Conditional expressions\n",
    "\n",
    "Conditional expressions are best used to assign a value to a variable based on the truth value of some some other sub expressions. It makes use if the `if`-`else` keywords. An example is:"
   ]
  },
  {
   "cell_type": "code",
   "execution_count": null,
   "metadata": {},
   "outputs": [],
   "source": [
    "default_dry_bulb_temperature_setpoint = 23.4\n",
    "initial_dry_bulb_temperature_setpoint = 30.0\n",
    "dry_bulb_temperature_setpoint = default_dry_bulb_temperature_setpoint if initial_dry_bulb_temperature_setpoint > 25.0 else initial_dry_bulb_temperature_setpoint\n",
    "print('dry_bulb_temperature_setpoint =', dry_bulb_temperature_setpoint)"
   ]
  },
  {
   "cell_type": "markdown",
   "metadata": {},
   "source": [
    "### Identity operators and expressions\n",
    "\n",
    "The identity operators include [[ref](https://realpython.com/python-operators-expressions)]:\n",
    "\n",
    "<table>\n",
    "    <thead>\n",
    "        <tr>\n",
    "            <th>Operator</th>\n",
    "            <th>Type</th>\n",
    "            <th>Example</th>\n",
    "            <th>Result</th>\n",
    "        </tr>\n",
    "    </thead>\n",
    "    <tbody>\n",
    "        <tr>\n",
    "            <td><code>is</code></td>\n",
    "            <td>Binary</td>\n",
    "            <td>x <code>is</code> y</td>\n",
    "            <td>True if x and y hold a reference to the same in-memory object otherwise, false</td>\n",
    "        </tr>\n",
    "        <tr>\n",
    "            <td><code>is not</code></td>\n",
    "            <td>Binary</td>\n",
    "            <td>x <code>is not</code> y</td>\n",
    "            <td>True if x and u point to different in-memory objects otherwise,false</td>\n",
    "        </tr>\n",
    "    </tbody>\n",
    "</table>\n",
    "\n",
    "Below are some examples using the identity operators:"
   ]
  },
  {
   "cell_type": "code",
   "execution_count": null,
   "metadata": {},
   "outputs": [],
   "source": [
    "a = 0\n",
    "b = 9\n",
    "c = b\n",
    "print('a =', a)\n",
    "print('b =', b)\n",
    "print('c =', c)\n",
    "print('a id:', id(a))\n",
    "print('b id:', id(b))\n",
    "print('c id:', id(c))\n",
    "print('a is b =', a is b)\n",
    "print('a is c =', a is c)\n",
    "print('b is c =', b is c)\n",
    "print('a is not b =', a is not b)\n",
    "print('a is not c =', a is not c)\n",
    "print('b is not c =', b is not c)"
   ]
  },
  {
   "cell_type": "markdown",
   "metadata": {},
   "source": [
    "### Membership operators and expressions\n",
    "\n",
    "The membership operators include [[ref](https://realpython.com/python-operators-expressions)]:\n",
    "\n",
    "<table>\n",
    "    <thead>\n",
    "        <tr>\n",
    "            <th>Operator</th>\n",
    "            <th>Type</th>\n",
    "            <th>Example</th>\n",
    "            <th>Result</th>\n",
    "        </tr>\n",
    "    </thead>\n",
    "    <tbody>\n",
    "        <tr>\n",
    "            <td><code>in</code></td>\n",
    "            <td>Binary</td>\n",
    "            <td>value <code>in</code> collection</td>\n",
    "            <td>True if value is an element in collection otherwise, false</td>\n",
    "        </tr>\n",
    "        <tr>\n",
    "            <td><code>not in</code></td>\n",
    "            <td>Binary</td>\n",
    "            <td>value <code>not in</code> collection</td>\n",
    "            <td>True if value is not an element in collection otherwise, false</td>\n",
    "        </tr>\n",
    "    </tbody>\n",
    "</table>\n",
    "\n",
    "Below are some examples using the membership operators:"
   ]
  },
  {
   "cell_type": "code",
   "execution_count": null,
   "metadata": {},
   "outputs": [],
   "source": [
    "v = 4\n",
    "collection_1 = [1, 2, 3, 4]\n",
    "collection_2 = [5, 6, 6, 7]\n",
    "print('value =', v)\n",
    "print('collection_1 =', collection_1)\n",
    "print('collection_2 =', collection_2)\n",
    "print('value in collection_1 =', v in collection_1)\n",
    "print('value not in collection_2 =', v not in collection_2)"
   ]
  },
  {
   "cell_type": "markdown",
   "metadata": {},
   "source": [
    "### Concatenation and repetition operation\n",
    "\n",
    "The concatenation and repetition operators include [[ref](https://realpython.com/python-operators-expressions)]:\n",
    "\n",
    "<table>\n",
    "    <thead>\n",
    "        <tr>\n",
    "            <th>Operator</th>\n",
    "            <th>Type</th>\n",
    "            <th>Operation</th>\n",
    "            <th>Example</th>\n",
    "            <th>Result</th>\n",
    "        </tr>\n",
    "    </thead>\n",
    "    <tbody>\n",
    "        <tr>\n",
    "            <td><code>+</code></td>\n",
    "            <td>Binary</td>\n",
    "            <td>Concatenation</td>\n",
    "            <td>sequence_1 <code>+</code> sequence_2</td>\n",
    "            <td>A new sequence containing all the items from both sequences</td>\n",
    "        </tr>\n",
    "        <tr>\n",
    "            <td><code>*</code></td>\n",
    "            <td>Binary</td>\n",
    "            <td>Repetition</td>\n",
    "            <td>sequence <code>*</code> n</td>\n",
    "            <td>A new sequence containing the items of sequence repeated n times</td>\n",
    "        </tr>\n",
    "    </tbody>\n",
    "</table>\n",
    "\n",
    "Below are some examples using the concatenation and repetition operators:"
   ]
  },
  {
   "cell_type": "code",
   "execution_count": null,
   "metadata": {},
   "outputs": [],
   "source": [
    "sequence_1 = [1, 2, 3, 4]\n",
    "sequence_2 = [5, 6, 7, 8]\n",
    "n = 2\n",
    "print('sequence_1 =', sequence_1)\n",
    "print('sequence_2 =', sequence_2)\n",
    "print('n =', n)\n",
    "print('sequence_1 + sequence_2 =', sequence_1 + sequence_2)\n",
    "print('sequence_1 * n =', sequence_1 * n)"
   ]
  },
  {
   "cell_type": "code",
   "execution_count": null,
   "metadata": {},
   "outputs": [],
   "source": [
    "print(id(sequence_1), id)"
   ]
  },
  {
   "cell_type": "markdown",
   "metadata": {},
   "source": [
    "We can also concatenate strings using `+`:"
   ]
  },
  {
   "cell_type": "code",
   "execution_count": null,
   "metadata": {},
   "outputs": [],
   "source": [
    "string_1 = 'air'\n",
    "string_2 = 'handler'\n",
    "string_3 = string_1 + ' ' + string_2\n",
    "print('concatenated string:', string_3)"
   ]
  },
  {
   "cell_type": "markdown",
   "metadata": {},
   "source": [
    "A cleaner way however, is to use f-string to concatenate strings. With f-string, one can write complete blocks of text and also insert variables of any type to make the string dynamic. See the example below:"
   ]
  },
  {
   "cell_type": "code",
   "execution_count": null,
   "metadata": {},
   "outputs": [],
   "source": [
    "occupant_name = 'Jane'\n",
    "preferred_setpoint = 24\n",
    "building = 'ECJ'\n",
    "room = '3.412'\n",
    "print(f'{occupant_name} who occupies room {room} in {building} prefers their {preferred_setpoint}C as their setpoint.')"
   ]
  },
  {
   "cell_type": "markdown",
   "metadata": {},
   "source": [
    "Very convenient! If you have strings in a list, you can also concatenate them using the `join` function available to strings:"
   ]
  },
  {
   "cell_type": "code",
   "execution_count": null,
   "metadata": {},
   "outputs": [],
   "source": [
    "names = ['Jane', 'Doe', 'Jack', 'Robinson']\n",
    "print(f'The occupants of this room are {\", \".join(names[0:-1])} and {names[-1]}.')"
   ]
  },
  {
   "cell_type": "markdown",
   "metadata": {},
   "source": [
    "You can also take a string and convert it to a list. For example, if you have a block of text that describes who occupies a room but need just the names of the occupants in a list, you can use the `list` `split` function:"
   ]
  },
  {
   "cell_type": "code",
   "execution_count": null,
   "metadata": {},
   "outputs": [],
   "source": [
    "text = 'The occupants of this room are Jane, Doe, Jack and Robinson.'\n",
    "\n",
    "# first replace the and with a comma to grab all the names at once:\n",
    "text = text.replace(' and', ',')\n",
    "print('text after replacing and with a comma:', text)\n",
    "\n",
    "# get rid of all the text before and after the names. there are different ways to do this but we will use substrings:\n",
    "text = text[31:-1]\n",
    "\n",
    "# now split the text:\n",
    "names = text.split(', ')\n",
    "print('Names in a list after split:', names)"
   ]
  },
  {
   "cell_type": "markdown",
   "metadata": {},
   "source": [
    "### Augmented assignment operators and expressions\n",
    "\n",
    "The concatenation and repetition operators include [[ref](https://realpython.com/python-operators-expressions)]:\n",
    "\n",
    "<table>\n",
    "    <thead>\n",
    "        <tr>\n",
    "            <th>Operator</th>\n",
    "            <th>Type</th>\n",
    "            <th>Example</th>\n",
    "            <th>Result</th>\n",
    "        </tr>\n",
    "    </thead>\n",
    "    <tbody>\n",
    "        <tr>\n",
    "            <td><code>+=</code></td>\n",
    "            <td>Binary</td>\n",
    "            <td>a <code>+=</code> b</td>\n",
    "            <td>a <code>=</code> x <code>+</code> y</td>\n",
    "        </tr>\n",
    "        <tr>\n",
    "            <td><code>-=</code></td>\n",
    "            <td>Binary</td>\n",
    "            <td>a <code>-=</code> b</td>\n",
    "            <td>a <code>=</code> x <code>-</code> y</td>\n",
    "        </tr>\n",
    "        <tr>\n",
    "            <td><code>*=</code></td>\n",
    "            <td>Binary</td>\n",
    "            <td>a <code>*=</code> b</td>\n",
    "            <td>a <code>=</code> x <code>*+*</code> y</td>\n",
    "        </tr>\n",
    "        <tr>\n",
    "            <td><code>/=</code></td>\n",
    "            <td>Binary</td>\n",
    "            <td>a <code>/=</code> b</td>\n",
    "            <td>a <code>=</code> x <code>/</code> y</td>\n",
    "        </tr>\n",
    "        <tr>\n",
    "            <td><code>//=</code></td>\n",
    "            <td>Binary</td>\n",
    "            <td>a <code>//=</code> b</td>\n",
    "            <td>a <code>=</code> x <code>//</code> y</td>\n",
    "        </tr>\n",
    "        <tr>\n",
    "            <td><code>%=</code></td>\n",
    "            <td>Binary</td>\n",
    "            <td>a <code>%=</code> b</td>\n",
    "            <td>a <code>=</code> x <code>%</code> y</td>\n",
    "        </tr>\n",
    "        <tr>\n",
    "            <td><code>**=</code></td>\n",
    "            <td>Binary</td>\n",
    "            <td>a <code>**=</code> b</td>\n",
    "            <td>a <code>=</code> x <code>**</code> y</td>\n",
    "        </tr>\n",
    "        <tr>\n",
    "            <td><code>+=</code></td>\n",
    "            <td>Binary</td>\n",
    "            <td>sequence_1 <code>+=</code> sequence_2</td>\n",
    "            <td>sequence_1 <code>=</code> sequence_1 <code>+</code> sequence_2</td>\n",
    "        </tr>\n",
    "        <tr>\n",
    "            <td><code>*=</code></td>\n",
    "            <td>Binary</td>\n",
    "            <td>sequence <code>*=</code> n</td>\n",
    "            <td>sequence <code>=</code> sequence <code>*</code> n</td>\n",
    "        </tr>\n",
    "    </tbody>\n",
    "</table>\n",
    "\n",
    "Can you write some expressions that use the augmented assignment operators below?:"
   ]
  },
  {
   "cell_type": "code",
   "execution_count": null,
   "metadata": {},
   "outputs": [],
   "source": [
    "# *** write code that uses augmented assignment operators below ***\n"
   ]
  },
  {
   "cell_type": "markdown",
   "metadata": {},
   "source": [
    "## Conditional statements\n",
    "---\n",
    "\n",
    "This section introduces the syntax for conditional statements on Python. Conditional statements help control the sequence of execution in a code block. The are also used to define rules that drive code execution. The keywords associated with conditional statements are `if`, `else`, `elif` and, `pass`. The general syntax for a conditional statement is:\n",
    "\n",
    "```\n",
    "if <expression_1>:\n",
    "    <statement_1>\n",
    "elif <expression_n-1>:\n",
    "    <statement_n-1>\n",
    "else:\n",
    "    <statement_n>\n",
    "```\n",
    "\n",
    "Conditional statements always start with the <if> clause and may optionally contain one or more <elif> clauses. The <else> clause is also optional however, it is good practice to always end an <if> clause with an <else> even though there is no statement for the <else> clause. It helps with code legibility and self-documentation. When an <else> clause has no statement, we use the <pass> keyword as a placeholder. As the name implies, it just allows the code execution to pass through without any action. The first statement whose expression has a true value will be executed while all other statements will not be executed. If none of the <if> nor <elif> expressions is true then the default statement defined in the  <else> clause is executed.\n",
    "\n",
    "Also, notice the indentation when declaring the statements under their relevant expression. Python is indentation-sensitive!\n",
    "\n",
    "See below an example of a conditional statement:"
   ]
  },
  {
   "cell_type": "code",
   "execution_count": null,
   "metadata": {},
   "outputs": [],
   "source": [
    "hour_of_day = 8\n",
    "day_of_week = 'Monday'\n",
    "bedroom_heat_pump_setpoint = None\n",
    "\n",
    "if hour_of_day <= 6 or hour_of_day >= 21:\n",
    "    bedroom_heat_pump_setpoint = 23\n",
    "    print('setpoint:', bedroom_heat_pump_setpoint)\n",
    "\n",
    "elif hour_of_day <= 8:\n",
    "    bedroom_heat_pump_setpoint = 24\n",
    "    print('setpoint:', bedroom_heat_pump_setpoint)\n",
    "\n",
    "else:\n",
    "    if day_of_week in ['Saturday', 'Sunday']:\n",
    "        bedroom_heat_pump_setpoint = 22\n",
    "        print('setpoint:', bedroom_heat_pump_setpoint)\n",
    "\n",
    "    else:\n",
    "        bedroom_heat_pump_setpoint = 26\n",
    "        print('setpoint:', bedroom_heat_pump_setpoint)"
   ]
  },
  {
   "cell_type": "markdown",
   "metadata": {},
   "source": [
    "We have set up a conditional statement that sets a heat pump's setpoint based on hour of day and day of week. Our <else> clause is a sub conditional statement.\n",
    "\n",
    "See the example below where we use the <pass> keyword:"
   ]
  },
  {
   "cell_type": "code",
   "execution_count": null,
   "metadata": {},
   "outputs": [],
   "source": [
    "setpoint_lower_bound = 20\n",
    "setpoint_upper_bound = 27\n",
    "setpoint = 22\n",
    "\n",
    "if not (setpoint_lower_bound <= setpoint <= setpoint_upper_bound):\n",
    "    print('Setpoint out of bound!')\n",
    "\n",
    "else:\n",
    "    pass"
   ]
  },
  {
   "cell_type": "markdown",
   "metadata": {},
   "source": [
    "The above statement enters into the <else> clause because the setpoint is not out of its bounds but prints nothing because of the <pass> keyword."
   ]
  },
  {
   "cell_type": "markdown",
   "metadata": {},
   "source": [
    "## Loops\n",
    "---\n",
    "\n",
    "Loops are very useful for iterative programs where you need to execute a block of code repeatedly while some condition is met. There are two keywords used to declare a loop; `for` and `while` keywords. Depending on which one you choose to use, the way the condition for termination of execution for the loop will differ. We will start with the `for` loop which is more popular."
   ]
  },
  {
   "cell_type": "markdown",
   "metadata": {},
   "source": [
    "### For loop\n",
    "\n",
    "The `for` loop iterates over a sequence which could be a range, `str`,`tuple`, `list`, or `dict` variable. The most popular use of the `for` loop is to iterate over a range as with the range type, one can conveniently define how many times the loop should run. See an example below:"
   ]
  },
  {
   "cell_type": "code",
   "execution_count": null,
   "metadata": {},
   "outputs": [],
   "source": [
    "for i in range(6):\n",
    "    print('i:', i)"
   ]
  },
  {
   "cell_type": "markdown",
   "metadata": {},
   "source": [
    "We see that when we provide the `range` constructor with just one value, that value specifies how many times the loop will run but notice that the loop index starts from 0?\n",
    "\n",
    "We can also provide `range` with `start` and `stop` arguments:"
   ]
  },
  {
   "cell_type": "code",
   "execution_count": null,
   "metadata": {},
   "outputs": [],
   "source": [
    "for i in range(3, 6):\n",
    "    print('i:', i)"
   ]
  },
  {
   "cell_type": "markdown",
   "metadata": {},
   "source": [
    "Notice the difference in the printed indices with respect to the `start` and `stop` values? A third way to use `range` is to provide a step size in addition to the `start` and `stop` arguments:"
   ]
  },
  {
   "cell_type": "code",
   "execution_count": null,
   "metadata": {},
   "outputs": [],
   "source": [
    "for i in range(3, 12, 2):\n",
    "    print('i:', i)"
   ]
  },
  {
   "cell_type": "markdown",
   "metadata": {},
   "source": [
    "Nested loops can also be designed as such:"
   ]
  },
  {
   "cell_type": "code",
   "execution_count": null,
   "metadata": {},
   "outputs": [],
   "source": [
    "for i in range(3, 6):\n",
    "    print('i:', i)\n",
    "\n",
    "    for j in range(2):\n",
    "        print('j:', j)"
   ]
  },
  {
   "cell_type": "markdown",
   "metadata": {},
   "source": [
    "Sometimes, one might want to keep track of a `for` loop's iteration as it is executed. The `enumerate` function helps us with such feature:"
   ]
  },
  {
   "cell_type": "code",
   "execution_count": null,
   "metadata": {},
   "outputs": [],
   "source": [
    "for i, j in enumerate(range(3, 6)):\n",
    "    print('iteration:', i, 'j:', j)"
   ]
  },
  {
   "cell_type": "markdown",
   "metadata": {},
   "source": [
    "Asides `range`, we can loop through `str` type and it loops throught its characters:"
   ]
  },
  {
   "cell_type": "code",
   "execution_count": null,
   "metadata": {},
   "outputs": [],
   "source": [
    "for c in 'abcdef':\n",
    "    print('character:', c)"
   ]
  },
  {
   "cell_type": "markdown",
   "metadata": {},
   "source": [
    "We can also loop through a `list`:"
   ]
  },
  {
   "cell_type": "code",
   "execution_count": null,
   "metadata": {},
   "outputs": [],
   "source": [
    "for n in ['Jane', 'Doe', 'Jack', 'Robinson']:\n",
    "    print('name:', n)"
   ]
  },
  {
   "cell_type": "markdown",
   "metadata": {},
   "source": [
    "We get something similar as above if we looped through a `tuple`. There are two ways we can loop through a `dict`. The first just returns each key in the `dict`:"
   ]
  },
  {
   "cell_type": "code",
   "execution_count": null,
   "metadata": {},
   "outputs": [],
   "source": [
    "for k in building_metadata:\n",
    "    print('key:', k)"
   ]
  },
  {
   "cell_type": "markdown",
   "metadata": {},
   "source": [
    "The other approach is to use the `dict` `items` method that returns a `tuple` of `key`-`value` pairs:"
   ]
  },
  {
   "cell_type": "code",
   "execution_count": null,
   "metadata": {},
   "outputs": [],
   "source": [
    "for k, v in building_metadata.items():\n",
    "    print('key:', k, '; value:', v)"
   ]
  },
  {
   "cell_type": "markdown",
   "metadata": {},
   "source": [
    "Sometimes, we may want to loop through two variables at the same time. For example, if we have a list that contains names of occupants and another that contains their age, we can return each occupant's name and age each iteration using the in-built `zip` function:"
   ]
  },
  {
   "cell_type": "code",
   "execution_count": null,
   "metadata": {},
   "outputs": [],
   "source": [
    "for n, a in zip(['Jane', 'Doe', 'Jack', 'Robinson'], [23, 29, 40, 19]):\n",
    "    print('name:', n, '; age:', a)"
   ]
  },
  {
   "cell_type": "markdown",
   "metadata": {},
   "source": [
    "### While loop\n",
    "\n",
    "The `while` loop iterates over a block of code provided some condition continues to evaluate to `True` at the start of each iteration. Thus, the `while` loop can be set up in such a way that it runs infinitely due to to the condition never becoming `False`. There are very few cases where you will want to run some code infinitely however, there are cases, especially involving programming hardware where you will want to continuously listen for value updates at some port before breaking out of a loop to perform other functions. Most times, a `for` loop will suffice but in the rare cases where a `while` loop is need, the syntax is as follows:"
   ]
  },
  {
   "cell_type": "code",
   "execution_count": null,
   "metadata": {},
   "outputs": [],
   "source": [
    "# initialize a counter\n",
    "i = 5\n",
    "\n",
    "while i > 0:\n",
    "    print('i:', i)\n",
    "\n",
    "    # use augmented assignment operator to decrease i \n",
    "    # towards 0 so that we don't get into an infinite loop :)\n",
    "    i -= 1"
   ]
  },
  {
   "cell_type": "markdown",
   "metadata": {},
   "source": [
    "We have set up a `while` loop above that prints to the console provided our counter, `i`, is greater than zero. However, the unlike the `for` loop, the `while` loop has no internal iterator thus, we must handle termination ourselves. In our example, we decrease `i` by 1 at the end of each iteration to eventually reach our termination point."
   ]
  },
  {
   "cell_type": "markdown",
   "metadata": {},
   "source": [
    "### Conditional statements in loops\n",
    "\n",
    "While looping through some block of code, we can also make decisions based on some conditions. For example, let us set up a loop that updates some arbitrary counter and lets us know if it is an even or odd number:"
   ]
  },
  {
   "cell_type": "code",
   "execution_count": null,
   "metadata": {},
   "outputs": [],
   "source": [
    "counter = 0\n",
    "\n",
    "for i, j in enumerate(range(10)):\n",
    "    counter += 1\n",
    "\n",
    "    if counter % 2 == 0:\n",
    "        print('Iteration:', i, f'; Counter {counter} is an even number')\n",
    "\n",
    "    else:\n",
    "        print('Iteration:', i, f'; Counter {counter} is an odd number')"
   ]
  },
  {
   "cell_type": "markdown",
   "metadata": {},
   "source": [
    "We can also choose to terminate our loop if some condition is met using the `break` keyword:"
   ]
  },
  {
   "cell_type": "code",
   "execution_count": null,
   "metadata": {},
   "outputs": [],
   "source": [
    "counter = 0\n",
    "\n",
    "for i, j in enumerate(range(10)):\n",
    "    counter += 1\n",
    "\n",
    "    if counter % 2 == 0:\n",
    "        print('Iteration:', i, f'; Counter {counter} is an even number')\n",
    "\n",
    "    elif counter > 8:\n",
    "        break\n",
    "\n",
    "    else:\n",
    "        print('Iteration:', i, f'; Counter {counter} is an odd number')"
   ]
  },
  {
   "cell_type": "markdown",
   "metadata": {},
   "source": [
    "Notice that although we set our range to `10`, the moment we satisfied the `counter > 8` condition, we exited the loop. Notice that we could have written the same block of code using a `while` loop? Can you convert the `for` loop above to a while loop?"
   ]
  },
  {
   "cell_type": "code",
   "execution_count": null,
   "metadata": {},
   "outputs": [],
   "source": [
    "# *** write while loop below ***\n"
   ]
  },
  {
   "cell_type": "markdown",
   "metadata": {},
   "source": [
    "Another keyword that get's used in loops is the `continue` keyword. Any block of code that appears after `continue` is not executed and the loop immediately starts the next iteration:"
   ]
  },
  {
   "cell_type": "code",
   "execution_count": null,
   "metadata": {},
   "outputs": [],
   "source": [
    "counter = 0\n",
    "\n",
    "for i, j in enumerate(range(10)):\n",
    "    counter += 1\n",
    "\n",
    "    if counter == 8:\n",
    "        continue\n",
    "\n",
    "    else:\n",
    "        pass\n",
    "\n",
    "    \n",
    "    if counter % 2 == 0:\n",
    "        print('Iteration:', i, f'; Counter {counter} is an even number')\n",
    "\n",
    "    else:\n",
    "        print('Iteration:', i, f'; Counter {counter} is an odd number')"
   ]
  },
  {
   "cell_type": "markdown",
   "metadata": {},
   "source": [
    "See that we have no print out for when the `counter==8`?"
   ]
  },
  {
   "cell_type": "markdown",
   "metadata": {},
   "source": [
    "## Functions\n",
    "---\n",
    "\n",
    "Function capability a very essential feature in programming. It allows one avoid code repetition for code blocks that are needed during different points of a program development and help us modularize our code base into chunks that can be edited in isolation without affecting the larger whole. Function may or may not take in an input (a.k.a. arguments, parameters) and may or may not return a useful output (a.k.a. return value). We say 'useful' output because by default, all functions in Python return `None`. In its simplest form, a function takes in no arguments performs a `pass` and returns nothing:"
   ]
  },
  {
   "cell_type": "code",
   "execution_count": null,
   "metadata": {},
   "outputs": [],
   "source": [
    "def get_coefficient_of_performance():\n",
    "    pass"
   ]
  },
  {
   "cell_type": "markdown",
   "metadata": {},
   "source": [
    "We can then make a call to the function:"
   ]
  },
  {
   "cell_type": "code",
   "execution_count": null,
   "metadata": {},
   "outputs": [],
   "source": [
    "get_coefficient_of_performance()"
   ]
  },
  {
   "cell_type": "markdown",
   "metadata": {},
   "source": [
    "Since we did not define our function to perform any action, the call does nothing but if we print the call, we will see that `None` is indeed returned:"
   ]
  },
  {
   "cell_type": "code",
   "execution_count": null,
   "metadata": {},
   "outputs": [],
   "source": [
    "print(get_coefficient_of_performance())"
   ]
  },
  {
   "cell_type": "markdown",
   "metadata": {},
   "source": [
    "Let us build up our function with arguments. We can set up our function to have positional arguments, keyword arguments, default arguments or any combination of the three. Positional arguments are required arguments that must have values supplied when the funtion is called. THey also have the rule that they must be supplied in the same order as defined. To demonstrate this, let us redefine our function with some positional arguments:"
   ]
  },
  {
   "cell_type": "code",
   "execution_count": null,
   "metadata": {},
   "outputs": [],
   "source": [
    "def get_coefficient_of_performance(cold_temperature, hot_temperature):\n",
    "    print('Cold temperature:', cold_temperature)\n",
    "    print('Hot temperature:', hot_temperature)"
   ]
  },
  {
   "cell_type": "markdown",
   "metadata": {},
   "source": [
    "We can then call the function while providing values to the positional arguments:"
   ]
  },
  {
   "cell_type": "code",
   "execution_count": null,
   "metadata": {},
   "outputs": [],
   "source": [
    "get_coefficient_of_performance(8, 23)"
   ]
  },
  {
   "cell_type": "markdown",
   "metadata": {},
   "source": [
    "If we try to call it as before without any arguments, we get an error:"
   ]
  },
  {
   "cell_type": "code",
   "execution_count": null,
   "metadata": {},
   "outputs": [],
   "source": [
    "get_coefficient_of_performance()"
   ]
  },
  {
   "cell_type": "markdown",
   "metadata": {},
   "source": [
    "What this means is that positional arguments are required in a function. We also get an error if we supply more than the expected number of arguments:"
   ]
  },
  {
   "cell_type": "code",
   "execution_count": null,
   "metadata": {},
   "outputs": [],
   "source": [
    "get_coefficient_of_performance(8, 23, 34)"
   ]
  },
  {
   "cell_type": "markdown",
   "metadata": {},
   "source": [
    "Also, if we try do not supply the arguments in the same order as defined, we get unexpected results:"
   ]
  },
  {
   "cell_type": "code",
   "execution_count": null,
   "metadata": {},
   "outputs": [],
   "source": [
    "cold_temperature = 8\n",
    "hot_temperature = 23\n",
    "print('Expected cold temperature:', cold_temperature)\n",
    "print('Expected hot temperature:', hot_temperature)\n",
    "get_coefficient_of_performance(hot_temperature, cold_temperature)"
   ]
  },
  {
   "cell_type": "markdown",
   "metadata": {},
   "source": [
    "The work-around to avoid the problem of argument ordering is to use keyword arguments instead of positional arguments. With keyword arguments, you specify what argument at the time of function declaration that you are assigning a value to:"
   ]
  },
  {
   "cell_type": "code",
   "execution_count": null,
   "metadata": {},
   "outputs": [],
   "source": [
    "get_coefficient_of_performance(hot_temperature=23, cold_temperature=8)"
   ]
  },
  {
   "cell_type": "markdown",
   "metadata": {},
   "source": [
    "However, you can only use keywords defined when the function was first declared and the limitation on number of arguments as with positional arguments still holds. Sometime, you might want to use a combination of positional and keyword argument parsing. In such cases, the positional arguments must come first before any keyword arguments, for example:"
   ]
  },
  {
   "cell_type": "code",
   "execution_count": null,
   "metadata": {},
   "outputs": [],
   "source": [
    "get_coefficient_of_performance(8, hot_temperature=23)"
   ]
  },
  {
   "cell_type": "markdown",
   "metadata": {},
   "source": [
    "Sometimes, we know of a default value for some arguments in our function and will rarely choose to use a value different from the default. We can define default values for arguments during function definition so that when we make calls to the function, we can leave out values for those arguments that already have a default:"
   ]
  },
  {
   "cell_type": "code",
   "execution_count": null,
   "metadata": {},
   "outputs": [],
   "source": [
    "def get_coefficient_of_performance(cold_temperature, hot_temperature, heating_mode=False):\n",
    "    print('Expected cold temperature:', cold_temperature)\n",
    "    print('Expected hot temperature:', hot_temperature)\n",
    "    print('heating mode:', heating_mode)\n",
    "\n",
    "get_coefficient_of_performance(8, 23)"
   ]
  },
  {
   "cell_type": "markdown",
   "metadata": {},
   "source": [
    "See how we defined a default value for `heating_mode` right there in the function definition? While this approach of defining default values works as expected most of the time, one can run into mutation issues. It is safer to set arguments that have default values to `None` then set the default within the function in the case that no value is parsed during call time to override the default:"
   ]
  },
  {
   "cell_type": "code",
   "execution_count": null,
   "metadata": {},
   "outputs": [],
   "source": [
    "def get_coefficient_of_performance(cold_temperature, hot_temperature, heating_mode=None):\n",
    "    heating_mode = False if heating_mode is None else heating_mode\n",
    "    print('Expected cold temperature:', cold_temperature)\n",
    "    print('Expected hot temperature:', hot_temperature)\n",
    "    print('heating mode:', heating_mode)\n",
    "\n",
    "get_coefficient_of_performance(8, 23)"
   ]
  },
  {
   "cell_type": "markdown",
   "metadata": {},
   "source": [
    "If we did supply a diferent value, the default will be overriden:"
   ]
  },
  {
   "cell_type": "code",
   "execution_count": null,
   "metadata": {},
   "outputs": [],
   "source": [
    "get_coefficient_of_performance(8, 23, heating_mode=True)"
   ]
  },
  {
   "cell_type": "markdown",
   "metadata": {},
   "source": [
    "So far, all we have done is print out the arguments we parse to our function. How about we carry out some calculation and return some value? To return a value from a function, we use the `return` keyword. Let us calculate the coefficient of performance and then return it:"
   ]
  },
  {
   "cell_type": "code",
   "execution_count": null,
   "metadata": {},
   "outputs": [],
   "source": [
    "def get_coefficient_of_performance(cold_temperature, hot_temperature, heating_mode=None):\n",
    "    heating_mode = False if heating_mode is None else heating_mode\n",
    "    \n",
    "    if heating_mode:\n",
    "        cop = (hot_temperature + 273.15)/(hot_temperature - cold_temperature)\n",
    "\n",
    "    else:\n",
    "        cop = (cold_temperature + 273.15)/(hot_temperature - cold_temperature)\n",
    "\n",
    "    return cop\n",
    "\n",
    "cooling_coefficient_of_performance = get_coefficient_of_performance(8, 23)\n",
    "heating_coefficient_of_performance = get_coefficient_of_performance(8, 23, heating_mode=True)\n",
    "print('cooling coefficient_of_performance =', cooling_coefficient_of_performance)\n",
    "print('heating coefficient_of_performance =', heating_coefficient_of_performance)"
   ]
  },
  {
   "cell_type": "markdown",
   "metadata": {},
   "source": [
    "Note that variables defined within a function cannot be accessed outside the function i.e., their scope of existence ceases outside the function. If we try to access the `cop` variable in the above function, we get an error:"
   ]
  },
  {
   "cell_type": "code",
   "execution_count": null,
   "metadata": {},
   "outputs": [],
   "source": [
    "print(cop)"
   ]
  },
  {
   "cell_type": "markdown",
   "metadata": {},
   "source": [
    "There is a way to declare globally defined variables within a function and access them outside the function however, it is generally a bad design to use them and should be avoided as they can lead to unintended results.\n",
    "\n",
    "There are two other ways used to prescribe the arguments in a function that will not be covered here but can be read about:\n",
    "- [Variable-Length Argument Lists](https://realpython.com/defining-your-own-python-function/#variable-length-argument-lists)\n",
    "- [Keyword-Only Arguments](https://realpython.com/defining-your-own-python-function/#keyword-only-arguments)\n",
    "- [Positional-Only Arguments](https://realpython.com/defining-your-own-python-function/#positional-only-arguments)"
   ]
  },
  {
   "cell_type": "markdown",
   "metadata": {},
   "source": [
    "## Exception handling\n",
    "---\n",
    "\n",
    "In the course of executing this notebook, we have intentionally executed bad code that threw errors. What if we had no intentions of executing code that will throw errors but want to prepare for them just in case? This is where exception handling comes in handy. The errors we have seen come from exceptions (think error) that were raised during our code execution but were not handled (think resolved). Sometimes we may want out code to fail silently and continue executing but most times, we want to know when things don't go as planned and immediately as they happened. Other times, we want to also provide more meaningful information when our code fails but to do that, we need to anticipate its failure and catch it when it fails. We may also want to make sure a block of code always runs the end of our program regardless of if earlier code failed or not. This could be a post-run clean up operation that involves deleting files that will otherwise take up space.\n",
    "\n",
    "To learn about exceptions, we will start by defining how they are raised. To raise an exception, you use the `raise` keyword followed by the exception class (we will learn about classes later). We can make use of the default `Exception` class, any other in-built exception classes like `ValueError` as we have seen before, or a custom exception class. Let us modify our previous function to raise an exception if the `cold_temperature` is below 0C or above `hot_temperature`:"
   ]
  },
  {
   "cell_type": "code",
   "execution_count": null,
   "metadata": {},
   "outputs": [],
   "source": [
    "def get_coefficient_of_performance(cold_temperature, hot_temperature, heating_mode=None):\n",
    "    if not 0 <= cold_temperature <= hot_temperature:\n",
    "        raise ValueError('Cold temperature does not meet condition: 0 <= cold_temperature <= hot_temperature')\n",
    "    else:\n",
    "        pass\n",
    "    \n",
    "    heating_mode = False if heating_mode is None else heating_mode\n",
    "    \n",
    "    if heating_mode:\n",
    "        cop = (hot_temperature + 273.15)/(hot_temperature - cold_temperature)\n",
    "\n",
    "    else:\n",
    "        cop = (cold_temperature + 273.15)/(hot_temperature - cold_temperature)\n",
    "\n",
    "    return cop"
   ]
  },
  {
   "cell_type": "markdown",
   "metadata": {},
   "source": [
    "Now, if we try to call the function with a `cold_temperature` that does not meet our validity condition, our `ValueError` exception will be thrown with our custom message:"
   ]
  },
  {
   "cell_type": "code",
   "execution_count": null,
   "metadata": {},
   "outputs": [],
   "source": [
    "coefficient_of_performance = get_coefficient_of_performance(-4, 23)"
   ]
  },
  {
   "cell_type": "markdown",
   "metadata": {},
   "source": [
    "To handle an exception, we call the exception-throwing code in a `try` clause, then catch it in an `except` clause like:"
   ]
  },
  {
   "cell_type": "code",
   "execution_count": null,
   "metadata": {},
   "outputs": [],
   "source": [
    "try:\n",
    "    coefficient_of_performance = get_coefficient_of_performance(-4 ,23)\n",
    "\n",
    "except ValueError as e:\n",
    "    print('Caught ValueError:')\n",
    "    print(e)"
   ]
  },
  {
   "cell_type": "markdown",
   "metadata": {},
   "source": [
    "Above, we have caught the exception. We still get the error message but just as a regular printout i.e., no code-stopping error is thrown.\n",
    "\n",
    "Sometimes we want to provide default exception handling for other exceptions we do not anticipate but could still happen. For those, we can use the default `Exception` class to catch all unexpected exceptions. Let us modify our above code block so that we get an error for parsing too-few arguments:"
   ]
  },
  {
   "cell_type": "code",
   "execution_count": null,
   "metadata": {},
   "outputs": [],
   "source": [
    "try:\n",
    "    coefficient_of_performance = get_coefficient_of_performance(-4)\n",
    "\n",
    "except ValueError as e:\n",
    "    print('Caught ValueError:')\n",
    "    print(e)\n",
    "\n",
    "except Exception as e:\n",
    "    print('Caught Exception:')\n",
    "    print(type(e), e)"
   ]
  },
  {
   "cell_type": "markdown",
   "metadata": {},
   "source": [
    "Making use of the general `Exception` class to catch all unanticipated exceptions is considered bad practice as we want to be intentional about the exception we do in fact catch. We will replace it with the `TypeError`.\n",
    "\n",
    "Also, in the case that no exception is thrown, and only if no exception is thrown, we may want to execute some code block. The `else` clause makes this possible:"
   ]
  },
  {
   "cell_type": "code",
   "execution_count": null,
   "metadata": {},
   "outputs": [],
   "source": [
    "try:\n",
    "    coefficient_of_performance = get_coefficient_of_performance(4, 23)\n",
    "\n",
    "except ValueError as e:\n",
    "    print('Caught ValueError:')\n",
    "    print(e)\n",
    "\n",
    "except TypeError as e:\n",
    "    print('Caught TypeError:')\n",
    "    print(e)\n",
    "\n",
    "else:\n",
    "    print('No exceptions thrown')\n",
    "    print('coefficient_of_performance =', coefficient_of_performance)"
   ]
  },
  {
   "cell_type": "markdown",
   "metadata": {},
   "source": [
    "Finally, we may want to make sure subsequent code is run even though we get an exception thrown. For such cases, we use the `finally` clause in combination with a `try` clause:"
   ]
  },
  {
   "cell_type": "code",
   "execution_count": null,
   "metadata": {},
   "outputs": [],
   "source": [
    "try:\n",
    "    coefficient_of_performance = get_coefficient_of_performance(4, 23)\n",
    "\n",
    "    # trigger an exception by dividing the coefficient of performance by 0\n",
    "    coefficient_of_performance /= 0\n",
    "\n",
    "except ValueError as e:\n",
    "    print('Caught ValueError:')\n",
    "    print(e)\n",
    "\n",
    "except TypeError as e:\n",
    "    print('Caught TypeError:')\n",
    "    print(e)\n",
    "\n",
    "else:\n",
    "    print('No exceptions thrown')\n",
    "    print('coefficient_of_performance =', coefficient_of_performance)\n",
    "\n",
    "finally:\n",
    "    print('Final code executed with or without exception thrown')"
   ]
  },
  {
   "cell_type": "markdown",
   "metadata": {},
   "source": [
    "## Documentation\n",
    "---\n",
    "\n",
    "Up until now, asides being explicit in our function name, we have defined our function without necessarily providing any instructions on how to use it, what data type to parse to the argument and what data type to expect as output. This may be fine for code when in prototype and exploration mode however, production ready code should always have some documentation for others who read it and yourself (yes, yourself! You don't want to return to code that you wrote weeks back confused and lost about what it actually does!). \n",
    "\n",
    "With docstrings and annotations, we can better document what our function does and help guide users who interface with it to supply the appropriate value types and give them context on how to receive its output. We will modify our `get_coefficent_of_performance` method so that it provides us with some meaningful information when read:"
   ]
  },
  {
   "cell_type": "code",
   "execution_count": null,
   "metadata": {},
   "outputs": [],
   "source": [
    "def get_coefficient_of_performance(cold_temperature: float, hot_temperature: float, heating_mode: bool = None) -> float:\n",
    "    \"\"\"Calculates the Carnot cycle coefficent of performance for a heat pump.\n",
    "\n",
    "    A heat pump can operate in cooling or heating mode. \n",
    "    This function calculates the theoretical maximum coefficent of performance for either mode. \n",
    "\n",
    "    Parameters\n",
    "    ----------\n",
    "    cold_temperature: float\n",
    "        Temperature of heat source in [C]. This is the outdoor dry-bulb temperature for heating \n",
    "        mode otherwise, it is the supply temperature.\n",
    "    hot_temperature: float\n",
    "        Temperature of heat sink in [C]. This is the supply temperature for heating \n",
    "        mode otherwise, it is the outdoor dry-bulb temperature.\n",
    "    heating_mode: bool, default: False\n",
    "        Heat pump thermal mode. If heating_mode is True, then the heat pump moves heat from outdoor to the indoor. \n",
    "        The reverse is the case when heating_mode is False.\n",
    "\n",
    "    Returns\n",
    "    -------\n",
    "    cop: float\n",
    "        Coefficient of performance for active thermal mode.\n",
    "    \"\"\"\n",
    "\n",
    "    if not 0 <= cold_temperature <= hot_temperature:\n",
    "        raise ValueError('Cold temperature does not meet condition: 0 <= cold_temperature <= hot_temperature')\n",
    "    else:\n",
    "        pass\n",
    "    \n",
    "    heating_mode = False if heating_mode is None else heating_mode\n",
    "    \n",
    "    if heating_mode:\n",
    "        cop = (hot_temperature + 273.15)/(hot_temperature - cold_temperature)\n",
    "\n",
    "    else:\n",
    "        cop = (cold_temperature + 273.15)/(hot_temperature - cold_temperature)\n",
    "\n",
    "    return cop"
   ]
  },
  {
   "cell_type": "markdown",
   "metadata": {},
   "source": [
    "We have now documented our function. Now whenever we call it lines of code away from where it was defined, with any decent code editor, we can hover over the name of the function call and get the information we have provided in the docstring and annotations. The annotations might seem redundant since we have the data types defined in the docstring however, annotations are useful when trying to supply value to parameters during a function call as they show up as you type the values. Also, in the early stage of development, you might not want to spend too much time explaining what the code does as that might change very quickly however, it is always nice to know what data type to supply to and expect from your function as not knowing can cause confusion very quickly."
   ]
  },
  {
   "cell_type": "markdown",
   "metadata": {},
   "source": [
    "## Conclusion\n",
    "---\n",
    "\n",
    "We have learned some of the essential basics to get started with Python. However, there is more to these topics than covered here as well as so many topics that are not covered in this notebook.\n",
    "\n",
    "Thus it is encouraged that you take some time to read through the references and further reading links. Most importantly, practice, practice, practice!"
   ]
  },
  {
   "cell_type": "markdown",
   "metadata": {},
   "source": [
    "## Further reading and references\n",
    "---\n",
    "\n",
    "1. [Python Basics: Introduction to Python](https://realpython.com/learning-paths/python-basics/)\n",
    "3. [PEP 8 – Style Guide for Python Code](https://peps.python.org/pep-0008/)\n",
    "4. [Python's Mutable vs Immutable Types: What's the Difference?](https://realpython.com/python-mutable-vs-immutable-types/)\n",
    "5. [Operators and Expressions in Python](https://realpython.com/python-operators-expressions/)\n",
    "6. [Defining Your Own Python Function](https://realpython.com/defining-your-own-python-function/)\n",
    "2. [Zen of Python](https://en.wikipedia.org/wiki/Zen_of_Python)"
   ]
  }
 ],
 "metadata": {
  "kernelspec": {
   "display_name": "env",
   "language": "python",
   "name": "python3"
  },
  "language_info": {
   "codemirror_mode": {
    "name": "ipython",
    "version": 3
   },
   "file_extension": ".py",
   "mimetype": "text/x-python",
   "name": "python",
   "nbconvert_exporter": "python",
   "pygments_lexer": "ipython3",
   "version": "3.7.7"
  }
 },
 "nbformat": 4,
 "nbformat_minor": 2
}
