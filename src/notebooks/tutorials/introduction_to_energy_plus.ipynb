{
  "cells": [
    {
      "cell_type": "markdown",
      "metadata": {
        "id": "FM7sno71G7H_"
      },
      "source": [
        "<a href=\"https://colab.research.google.com/github/intelligent-environments-lab/occupant_centric_grid_interactive_buildings_course/blob/main/src/notebooks/tutorials/introduction_to_energy_plus.ipynb\" target=\"_parent\"><img src=\"https://colab.research.google.com/assets/colab-badge.svg\" alt=\"Open In Colab\"/></a>"
      ]
    },
    {
      "cell_type": "markdown",
      "metadata": {
        "id": "dVYbKNWvPcHT"
      },
      "source": [
        "# Introduction to EnergyPlus\n",
        "---\n",
        "\n",
        "[EnergyPlus](https://energyplus.net) is a physics-based whole building energy performance simulation software. It is widely used in academia and academia by building energy professionals for design optimization, retrofit analyses, energy audits, and performance verification to mention a few.\n",
        "\n",
        "One way to use EnergyPlus is to build an energy model from scratch. However, this approach requires a significant expertise and time investment as well as access to data that may not be readily available. The other route which we adopt in this class is to take advantage of stock energy models that have been developed and vetted by experts in the energy research field. To this end, we will make use of the [End-Use Load Profiles (EULP) for the U.S. Building Stock](https://www.nrel.gov/buildings/end-use-load-profiles.html) dataset that has about 900 thousand energy models representing the residential and commercial building stock in the United States. The dataset has had a few releases over the years however we will make use of the `resstock-amy2018-2021-release-1`. This [dataset](https://data.openei.org/s3_viewer?bucket=oedi-data-lake&prefix=nrel-pds-building-stock%2Fend-use-load-profiles-for-us-building-stock%2F2021%2Fresstock_amy2018_release_1%2F) is\n",
        "the 2021 release of about 500,000 energy models and their simulation results for a 2018\n",
        "actual meteorological year weather.\n",
        "\n",
        "In this tutorial, you will learn how to install EnergyPlus, run a simulation on an EULP energy model, and visualize its results using a _Pythonic_ interface."
      ]
    },
    {
      "cell_type": "markdown",
      "metadata": {
        "id": "uGb21ElIUJIY"
      },
      "source": [
        "## Installing EnergyPlus\n",
        "---\n",
        "\n",
        "There are two ways you could go about installing EnergyPlus. The first is to install it locally in your machine and always have it when you need it. Note that if you take this approach, you will also have to run this notebook locally as Colab is unable to point to your local file structure.\n",
        "\n",
        "The second way, and recommended for this class, is to install it temporarily in the Colab environment runtime. This approach is local-machine-agnostic and will help avoid typically installation problems that are specific to your local machine.\n",
        "\n",
        "Whichever approach you choose, make sure you install the `v9.6.0` version of EnergyPlus as it is what will be compatible with the dataset we use.\n",
        "\n",
        "To install to local computer, [download the installer for your specific platform](https://github.com/NREL/EnergyPlus/releases/tag/v9.6.0).\n",
        "\n",
        "To install to the current Colab environment runtime, uncomment and execute the next cell:"
      ]
    },
    {
      "cell_type": "code",
      "execution_count": null,
      "metadata": {
        "colab": {
          "base_uri": "https://localhost:8080/"
        },
        "id": "jyGl8bGCUHx7",
        "outputId": "f01d5847-e1a7-4fbe-9412-8a32ca0bb187"
      },
      "outputs": [],
      "source": [
        "# download installation script\n",
        "!rm -f /content/EnergyPlus-9.6.0-f420c06a69-Linux-Ubuntu20.04-x86_64.sh\n",
        "!wget https://github.com/NREL/EnergyPlus/releases/download/v9.6.0/EnergyPlus-9.6.0-f420c06a69-Linux-Ubuntu20.04-x86_64.sh\n",
        "\n",
        "# install\n",
        "!chmod +x /content/EnergyPlus-9.6.0-f420c06a69-Linux-Ubuntu20.04-x86_64.sh\n",
        "!echo -e \"yes\\n\" | sudo /content/EnergyPlus-9.6.0-f420c06a69-Linux-Ubuntu20.04-x86_64.sh\n",
        "\n",
        "# to capture C-level stdout/stderr pipes in Python\n",
        "!pip install wurlitzer\n",
        "\n",
        "# check EP\n",
        "print('\\nEnergyPlus Version:')\n",
        "!energyplus -version\n",
        "\n",
        "# delete installer\n",
        "!rm -f /content/EnergyPlus-9.6.0-f420c06a69-Linux-Ubuntu20.04-x86_64.sh"
      ]
    },
    {
      "cell_type": "markdown",
      "metadata": {
        "id": "MadpC5H3XhD3"
      },
      "source": [
        "Confirm that the last printout above reports that `EnergyPlus Version 9.6.0` was installed."
      ]
    },
    {
      "cell_type": "markdown",
      "metadata": {
        "id": "v6nkaP1HYRIQ"
      },
      "source": [
        "## Interfacing with EULP dataset\n",
        "---\n",
        "\n",
        "We will test our installation by simulating a random single-family attached building in Fulton County (Atlanta), Goergia (like our smart neighborhood building). We have written a Python wrapper called `DOE_XStock` around the EULP dataset that allows use to easily query its metadata and run simulations. First we will install this wrapper and other relevant dependencies:"
      ]
    },
    {
      "cell_type": "code",
      "execution_count": null,
      "metadata": {
        "colab": {
          "base_uri": "https://localhost:8080/"
        },
        "id": "WE-k_3JRPUWd",
        "outputId": "ee441d90-0623-4fc8-d8f0-353894295552"
      },
      "outputs": [],
      "source": [
        "# wrapper for EULP dataset\n",
        "!pip install git+https://github.com/intelligent-environments-lab/DOE_XStock.git@v1-develop\n",
        "\n",
        "# for plotting figures\n",
        "!pip install matplotlib"
      ]
    },
    {
      "cell_type": "markdown",
      "metadata": {
        "id": "nJFmdagW0kU6"
      },
      "source": [
        "### How to retrieve building metadata in EULP dataset\n",
        "\n",
        "With the wrapper installed we can now interface with the dataset. The models in the EULP dataset are referenced using building IDs. Let us return the metadata of all single-family attached building in Fulton County. We begin by making the necessary imports:"
      ]
    },
    {
      "cell_type": "code",
      "execution_count": null,
      "metadata": {
        "id": "rJj4LZOA05_Z"
      },
      "outputs": [],
      "source": [
        "import os\n",
        "from doe_xstock.end_use_load_profiles import EndUseLoadProfiles\n",
        "import matplotlib.pyplot as plt\n",
        "import pandas as pd"
      ]
    },
    {
      "cell_type": "markdown",
      "metadata": {
        "id": "kMka-xCN1NiU"
      },
      "source": [
        "Next we initialize the dataset:"
      ]
    },
    {
      "cell_type": "code",
      "execution_count": null,
      "metadata": {
        "id": "fXx06hQN1B1g"
      },
      "outputs": [],
      "source": [
        "eulp = EndUseLoadProfiles(\n",
        "    dataset_type='resstock',\n",
        "    weather_data='amy2018',\n",
        "    year_of_publication=2021,\n",
        "    release=1,\n",
        ")"
      ]
    },
    {
      "cell_type": "markdown",
      "metadata": {
        "id": "dlFTlzrn1TAQ"
      },
      "source": [
        "We can now return the metadata:"
      ]
    },
    {
      "cell_type": "code",
      "execution_count": null,
      "metadata": {
        "colab": {
          "base_uri": "https://localhost:8080/",
          "height": 484
        },
        "id": "Vu4-JBvD1Rge",
        "outputId": "92c12385-e632-4d4a-d25c-be42d2ed4bdf"
      },
      "outputs": [],
      "source": [
        "metadata = eulp.metadata.metadata.get(filters={\n",
        "    'in.resstock_county_id': ['GA, Fulton County'],\n",
        "    'in.geometry_building_type_recs': ['Single-Family Attached'],\n",
        "})\n",
        "\n",
        "with pd.option_context('display.max_columns', None):\n",
        "    display(metadata.head())\n",
        "    print('Number of represented single-family attached buildings in GA, Fulton County:', metadata.shape[0])"
      ]
    },
    {
      "cell_type": "markdown",
      "metadata": {
        "id": "4jDml9g43kDo"
      },
      "source": [
        "From the printout, there are 116 buildings that match our filter criteria. We will now randomly pick a building to simulate:"
      ]
    },
    {
      "cell_type": "code",
      "execution_count": null,
      "metadata": {
        "colab": {
          "base_uri": "https://localhost:8080/"
        },
        "id": "8el7syAp1ruY",
        "outputId": "e64bf9ca-f0a8-4dad-c0dd-4651d875c3ac"
      },
      "outputs": [],
      "source": [
        "BLDG_ID = metadata.sample(1, random_state=0).iloc[0].name\n",
        "print('Picked building ID:', BLDG_ID)"
      ]
    },
    {
      "cell_type": "markdown",
      "metadata": {
        "id": "xRvlj8R85I4X"
      },
      "source": [
        "We can also retrieve a dictionary containing all the metadata for this particular building:"
      ]
    },
    {
      "cell_type": "code",
      "execution_count": null,
      "metadata": {
        "colab": {
          "base_uri": "https://localhost:8080/",
          "height": 1000
        },
        "id": "ZYArPVSf4ECw",
        "outputId": "1d646f87-7170-4439-dd27-f1ea7ba57d50"
      },
      "outputs": [],
      "source": [
        "print(BLDG_ID, 'metadata:')\n",
        "display(eulp.get_building(BLDG_ID).metadata)"
      ]
    },
    {
      "cell_type": "markdown",
      "metadata": {
        "id": "Utib3LGr6A4Y"
      },
      "source": [
        "## Simulating an EULP building energy model\n",
        "---\n",
        "\n",
        "Simulating energy models is quite straightforward using the `DOE_XStock` wrapper. However, there is one variable, a filpath, you need to retrieve called the `EnergyPlus IDD`. `IDD` stands for `Input Data Dictionary` and is an ASCII (text) file containing a list of all possible EnergyPlus objects and a specification of the data each object requires. It is EnergyPlus version specific and helps the internal model editor in `DOE_XStock` aware of the _version language_.\n",
        "\n",
        "If you installed EnergyPlus within Colab then, the path defined in the next cell points to the correct `IDD`.\n",
        "\n",
        "For local installations, it will be in a similar path as below but the root will be specific to your machine. Mac users should be able to find the EnergyPlus directory in their Applications directory. Once found, replace the `IDD_FILEPATH` below with the correct path:"
      ]
    },
    {
      "cell_type": "code",
      "execution_count": null,
      "metadata": {
        "colab": {
          "base_uri": "https://localhost:8080/"
        },
        "id": "jZI8YCfz4-S0",
        "outputId": "bf1f87aa-097f-4e55-d319-9cff38d27d10"
      },
      "outputs": [],
      "source": [
        "IDD_FILEPATH = '/usr/local/EnergyPlus-9-6-0/PreProcess/IDFVersionUpdater/V9-6-0-Energy+.idd'\n",
        "\n",
        "if os.path.isfile(IDD_FILEPATH):\n",
        "    print('IDD exists!')\n",
        "else:\n",
        "    print('Provided IDD does not exist:', IDD_FILEPATH)"
      ]
    },
    {
      "cell_type": "markdown",
      "metadata": {
        "id": "INel0tkq8j7d"
      },
      "source": [
        "To then simulate the building is as simple as parsing its ID to the relevant function with the `IDD_FILEPATH` we have defined:"
      ]
    },
    {
      "cell_type": "code",
      "execution_count": null,
      "metadata": {
        "id": "UtsKI3Cy8jmH"
      },
      "outputs": [],
      "source": [
        "SIMULATION_ID = f'simulation-{BLDG_ID}'\n",
        "building = eulp.simulate_building(\n",
        "    BLDG_ID, \n",
        "    IDD_FILEPATH, \n",
        "    simulation_id=SIMULATION_ID, \n",
        "    output_directory=SIMULATION_ID\n",
        ")"
      ]
    },
    {
      "cell_type": "markdown",
      "metadata": {
        "id": "h3Je_tFD90rY"
      },
      "source": [
        "## Analyzing and visualizing results from simulation\n",
        "---\n",
        "\n",
        "With our simulation completed, all that is left is to look at how the building performed with its as provided parameters seen in its metadata printout. EnergyPlus exports results in a `.sqlite` file as well as `.csv` file. It is up to you which output you want to work with. The `SQLite` database is easier to use when trying to manage results from many variables and thermal zones in a building. The `CSV` text file is a more familiar interface for most people. Let us start by using the `.csv` to retrieve and plot the outdoor and indoor dry-bulb temperature as well as the air system cooling and heating rates in any of the zones of the building. We will use the `SQLite` approach in a later tutorial."
      ]
    },
    {
      "cell_type": "code",
      "execution_count": null,
      "metadata": {
        "colab": {
          "base_uri": "https://localhost:8080/",
          "height": 843
        },
        "id": "pEjp0pZKAFU2",
        "outputId": "fcce941c-7af1-4f02-8296-2eb7decb3efd"
      },
      "outputs": [],
      "source": [
        "results = building.simulator.get_result_csv()\n",
        "\n",
        "with pd.option_context('display.max_columns', None):\n",
        "    display(results)"
      ]
    },
    {
      "cell_type": "markdown",
      "metadata": {
        "id": "ZVIlYOUYBQFI"
      },
      "source": [
        "From inspecting the dataframe, we can find the four relevant columns. Also notice that by default, the simulation is on a 15-minute time step and is done for a full year?"
      ]
    },
    {
      "cell_type": "code",
      "execution_count": null,
      "metadata": {
        "id": "KkDs9mtkAp_3"
      },
      "outputs": [],
      "source": [
        "columns = [\n",
        "    \"Environment:Site Outdoor Air Drybulb Temperature [C](TimeStep)\",\n",
        "    \"LIVING ZONE:Zone Air Temperature [C](TimeStep)\",\n",
        "    \"LIVING ZONE:Zone Air System Sensible Heating Rate [W](TimeStep)\",\n",
        "    \"LIVING ZONE:Zone Air System Sensible Cooling Rate [W](TimeStep)\",\n",
        "]"
      ]
    },
    {
      "cell_type": "markdown",
      "metadata": {
        "id": "QMqgUW2LB6q0"
      },
      "source": [
        "Sometimes, you may not know what variables are availble or reported from the simulation. There are two output files that can help with this. They are:\n",
        "\n",
        "1. *.rdd (Report variable Data Dictionary): list of output variables available from the run.\n",
        "2. *.mdd (report Meter Data Ditionary): list of output meters available from the run.\n",
        "\n",
        "They are in the same path as the simulation results. You can locate the path by executing the following:"
      ]
    },
    {
      "cell_type": "code",
      "execution_count": null,
      "metadata": {
        "colab": {
          "base_uri": "https://localhost:8080/"
        },
        "id": "pigENhalEMGR",
        "outputId": "2b65ff2c-d784-4bc7-e6bb-202ac79b2c2f"
      },
      "outputs": [],
      "source": [
        "print('Simulation output directory:', building.simulator.output_directory)"
      ]
    },
    {
      "cell_type": "markdown",
      "metadata": {
        "id": "ZXh4vHWRFEIN"
      },
      "source": [
        "Those two files have a long list of variables that may be intimidating if you have no idea what they reference or come from. The easiest way to learn about them is either through a Google search or directly search the [EnergyPlus documentation](https://bigladdersoftware.com/epx/docs/9-6/input-output-reference/).\n",
        "\n",
        "Now let us go back to visualizing our results:"
      ]
    },
    {
      "cell_type": "code",
      "execution_count": null,
      "metadata": {
        "colab": {
          "base_uri": "https://localhost:8080/",
          "height": 973
        },
        "id": "KSQnl5fZCEk2",
        "outputId": "c5c87c00-88ad-4540-9c93-1ed155df0620"
      },
      "outputs": [],
      "source": [
        "for c in columns:\n",
        "    fig, ax = plt.subplots(1, 1, figsize=(10, 2.0))\n",
        "    x = results.index\n",
        "    y = results[c]\n",
        "    ax.plot(x, y)\n",
        "    ax.set_xlabel('Time step')\n",
        "    ax.set_title(c)\n",
        "    plt.show()"
      ]
    },
    {
      "cell_type": "markdown",
      "metadata": {
        "id": "e4BQjkQpF-JZ"
      },
      "source": [
        "Do you spot anything interesting from the figures? You can now go back to simulate a different building if you wish and perhaps compare its results to this."
      ]
    },
    {
      "cell_type": "markdown",
      "metadata": {
        "id": "GfOxjnywGsdW"
      },
      "source": [
        "## Conclusion\n",
        "---\n",
        "\n",
        "We have learned how to install EnergyPlus and how to interface with the End-Use Load Profiles (EULP) for the U.S. Building Stock as well as run simulations on its energy models. This tutorial was short but prepares you for longer tutorials where you will run a number of simulations.\n",
        "\n",
        "It is encouraged that you take some time to read through the references and further reading links. Most importantly, practice, practice, practice!"
      ]
    },
    {
      "cell_type": "markdown",
      "metadata": {
        "id": "8n3zxKWSGtks"
      },
      "source": [
        "## Further reading and references\n",
        "---\n",
        "\n",
        "1. [Introduction to building energy performance simulation](https://github.com/intelligent-environments-lab/occupant_centric_grid_interactive_buildings_course/blob/main/src/lectures/CE397_OCCGEB_Sp24_05.pdf)\n",
        "4. [End-Use Load Profiles (EULP) for the U.S. Building Stock](https://www.nrel.gov/buildings/end-use-load-profiles.html)\n",
        "2. [EnergyPlus quickstart](https://energyplus.net/quick-start)\n",
        "2. [EnergyPlus](https://energyplus.net)\n",
        "2. [EnergyPlus documentation](https://bigladdersoftware.com/epx/docs/9-6/input-output-reference/)\n",
        "3. [EULP DOE_XStock wrapper documentation](https://github.com/intelligent-environments-lab/DOE_XStock/tree/v1-develop)\n",
        "5. [Eppy tutorial for manipulating EnergyPlus IDF file](https://eppy.readthedocs.io/en/latest/Main_Tutorial.html)"
      ]
    }
  ],
  "metadata": {
    "colab": {
      "provenance": []
    },
    "kernelspec": {
      "display_name": "Python 3",
      "name": "python3"
    },
    "language_info": {
      "name": "python"
    }
  },
  "nbformat": 4,
  "nbformat_minor": 0
}
