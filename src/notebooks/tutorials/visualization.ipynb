{
 "cells": [
  {
   "cell_type": "markdown",
   "metadata": {},
   "source": [
    "# Visualization\n",
    "---\n",
    "\n",
    "\"A picture is worth a thousand words\" - Arthur Brisbane [[ref](https://en.wikipedia.org/wiki/A_picture_is_worth_a_thousand_words)]. An important part of science is telling a compelling story to compel your audience to but whatever it is you are \"selling\". In the context of this class, your audience could entail tenants to homeowners, to building manager, electricity market actors and policymakers. This tutorial will teach you the basics of generating figure the _Pythonic_ way. However it is in no way exhaustive as you will have to do some practice and discovery yourself. Visualization is an iterative process and the type of visual and style you eventually choose is down to the story you want to tell with your data. We will the basics of generating:\n",
    "\n",
    "1. line plots\n",
    "2. "
   ]
  },
  {
   "cell_type": "code",
   "execution_count": null,
   "metadata": {},
   "outputs": [],
   "source": []
  }
 ],
 "metadata": {
  "language_info": {
   "name": "python"
  }
 },
 "nbformat": 4,
 "nbformat_minor": 2
}
