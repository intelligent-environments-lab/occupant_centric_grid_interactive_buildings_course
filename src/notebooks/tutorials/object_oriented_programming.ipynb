{
 "cells": [
  {
   "cell_type": "markdown",
   "metadata": {},
   "source": [
    "<a href=\"https://colab.research.google.com/github/intelligent-environments-lab/occupant_centric_grid_interactive_buildings_course/blob/main/src/notebooks/src/notebooks/tutorials/object_oriented_programming.ipynb\" target=\"_parent\"><img src=\"https://colab.research.google.com/assets/colab-badge.svg\" alt=\"Open In Colab\"/></a>"
   ]
  },
  {
   "cell_type": "markdown",
   "metadata": {},
   "source": [
    "# Object-oriented programming in Python\n",
    "---\n",
    "\n",
    "Object-oriented programming (OOP) is a programming paradigm based on the concept of objects, which can contain data and code: data in the form of fields (often known as attributes or properties), and code in the form of procedures (often known as methods a.k.a. functions) [[ref](https://en.wikipedia.org/wiki/Object-oriented_programming)]. OOP is powerful for generalizing definitions of components of a complex system or entity e.g. a heat pump or a building and the functions of each component. In the case of a building, it has components such as spaces. Each space may or may not be a thermal zone such that thermal zone becomes a property of a space that may have value of True or False. A room that is a thermal zone will have some component HVAC equipment and so on and so forth (you get the point?). \n",
    "\n",
    "OOP begins with the definition of a class that defines properties and functions of objects that are of that class type. In this tutorial, we will cover:\n",
    "1. the basics of a class definition;\n",
    "2. instantiation of a class object;\n",
    "3. class instance attributes attributes;\n",
    "4. types of functions in OOP;\n",
    "5. class inheritance; and\n",
    "6. taking advantage of mutation in class objects."
   ]
  },
  {
   "cell_type": "markdown",
   "metadata": {},
   "source": [
    "## Class\n",
    "---\n",
    "\n",
    "OOP starts with the definition of a `class` that is used to prescribe the attribute and functions of objects that belong to that class. To define a class, we use the `class` keyword:"
   ]
  },
  {
   "cell_type": "code",
   "execution_count": 1,
   "metadata": {},
   "outputs": [],
   "source": [
    "class EnergyStorageSystem:\n",
    "    pass"
   ]
  },
  {
   "cell_type": "markdown",
   "metadata": {},
   "source": [
    "We have defined a class named `EnergyStorageSystem`. Notice the writing style used in naming the class? This style is called camelcase with the first character capitalized. It is different from the snakecase we introduced for variable naming.\n",
    "\n",
    "Our class as-is does not do anything. Let us define some constant that will be used in our class:"
   ]
  },
  {
   "cell_type": "code",
   "execution_count": 14,
   "metadata": {},
   "outputs": [],
   "source": [
    "class EnergyStorageSystem:\n",
    "    DEFAULT_STATE_OF_CHARGE = 0.0"
   ]
  },
  {
   "cell_type": "markdown",
   "metadata": {},
   "source": [
    "### Class object initialization\n",
    "\n",
    "Now that we have defined a very basic class, let us instantiate an object of that class:"
   ]
  },
  {
   "cell_type": "code",
   "execution_count": 15,
   "metadata": {},
   "outputs": [
    {
     "name": "stdout",
     "output_type": "stream",
     "text": [
      "energy_storage_system is an instance of EnergyStorageSystem: True\n"
     ]
    }
   ],
   "source": [
    "energy_storage_system = EnergyStorageSystem()\n",
    "print('energy_storage_system is an instance of EnergyStorageSystem:', isinstance(energy_storage_system, EnergyStorageSystem))"
   ]
  },
  {
   "cell_type": "markdown",
   "metadata": {},
   "source": [
    "We can then access the `DEFAULT_STATE_OF_CHARGE` variable like:"
   ]
  },
  {
   "cell_type": "code",
   "execution_count": 16,
   "metadata": {},
   "outputs": [
    {
     "name": "stdout",
     "output_type": "stream",
     "text": [
      "DEFAULT_STATE_OF_CHARGE = 0.0\n"
     ]
    }
   ],
   "source": [
    "print('DEFAULT_STATE_OF_CHARGE =', energy_storage_system.DEFAULT_STATE_OF_CHARGE)"
   ]
  },
  {
   "cell_type": "markdown",
   "metadata": {},
   "source": [
    "However, because of the way we defined `DEFAULT_STATE_OF_CHARGE`, it's scope exists outside of even a object of the class. Thus we can access it using just the class name:"
   ]
  },
  {
   "cell_type": "code",
   "execution_count": 17,
   "metadata": {},
   "outputs": [
    {
     "name": "stdout",
     "output_type": "stream",
     "text": [
      "DEFAULT_STATE_OF_CHARGE = 0.0\n"
     ]
    }
   ],
   "source": [
    "print('DEFAULT_STATE_OF_CHARGE =', EnergyStorageSystem.DEFAULT_STATE_OF_CHARGE)"
   ]
  },
  {
   "cell_type": "markdown",
   "metadata": {},
   "source": [
    "We will see later, variable in a class that can only be accessed through an object of the class."
   ]
  },
  {
   "cell_type": "markdown",
   "metadata": {},
   "source": [
    "### The `__init__` method\n",
    "\n",
    "The `__init__` function is a method used to initialize a class object. It defines what must happen when a class object is initialized i.e. its initial state, and also used to defined object attributes. Let us redefine our class with the `__init__` method included:"
   ]
  },
  {
   "cell_type": "code",
   "execution_count": 18,
   "metadata": {},
   "outputs": [],
   "source": [
    "class EnergyStorageSystem:\n",
    "    DEFAULT_STATE_OF_CHARGE = 0.0\n",
    "\n",
    "    def __init__(self):\n",
    "        print('Class object has been initialized')"
   ]
  },
  {
   "cell_type": "markdown",
   "metadata": {},
   "source": [
    "The `__init__` method takes in at least one argument, `self`. `self` refers to the object that calls the `__init__` method and automatically gets parsed to the method when it is called. See the initialization example below:"
   ]
  },
  {
   "cell_type": "code",
   "execution_count": 19,
   "metadata": {},
   "outputs": [
    {
     "name": "stdout",
     "output_type": "stream",
     "text": [
      "Class object has been initialized\n"
     ]
    }
   ],
   "source": [
    "energy_storage_system = EnergyStorageSystem()"
   ]
  },
  {
   "cell_type": "markdown",
   "metadata": {},
   "source": [
    "## Instance attributes\n",
    "---\n",
    "\n",
    "Instance attributes differ from class attributes like the one we defined earlier in the sense that their scope is limited to just the instantiated object of the class and cannot be accessed through the class name alone. We define instance attributes in the `__init__` method:"
   ]
  },
  {
   "cell_type": "code",
   "execution_count": 28,
   "metadata": {},
   "outputs": [],
   "source": [
    "class EnergyStorageSystem:\n",
    "    DEFAULT_STATE_OF_CHARGE = 0.0\n",
    "\n",
    "    def __init__(self):\n",
    "        self.state_of_charge = self.DEFAULT_STATE_OF_CHARGE\n",
    "        self.capacity = 0.0"
   ]
  },
  {
   "cell_type": "markdown",
   "metadata": {},
   "source": [
    "We can then access them after we initialize an object of the class:"
   ]
  },
  {
   "cell_type": "code",
   "execution_count": 29,
   "metadata": {},
   "outputs": [
    {
     "name": "stdout",
     "output_type": "stream",
     "text": [
      "state_of_charge = 0.0\n",
      "capacity = 0.0\n"
     ]
    }
   ],
   "source": [
    "energy_storage_system = EnergyStorageSystem()\n",
    "print('state_of_charge =', energy_storage_system.state_of_charge)\n",
    "print('capacity =', energy_storage_system.capacity)"
   ]
  },
  {
   "cell_type": "markdown",
   "metadata": {},
   "source": [
    "To then alter the value of any instance attribute, we use the assignment operator as we have used in the past:"
   ]
  },
  {
   "cell_type": "code",
   "execution_count": 30,
   "metadata": {},
   "outputs": [
    {
     "name": "stdout",
     "output_type": "stream",
     "text": [
      "capacity before update: 0.0\n",
      "capacity after update: 10\n"
     ]
    }
   ],
   "source": [
    "print('capacity before update:', energy_storage_system.capacity)\n",
    "energy_storage_system.capacity = 10\n",
    "print('capacity after update:', energy_storage_system.capacity)"
   ]
  },
  {
   "cell_type": "markdown",
   "metadata": {},
   "source": [
    "We can also use the `__init__` method to parse custom initialization values for instance attributes:"
   ]
  },
  {
   "cell_type": "code",
   "execution_count": 31,
   "metadata": {},
   "outputs": [],
   "source": [
    "class EnergyStorageSystem:\n",
    "    DEFAULT_STATE_OF_CHARGE = 0.0\n",
    "\n",
    "    def __init__(self, state_of_charge: float, capacity: float):\n",
    "        self.state_of_charge = state_of_charge\n",
    "        self.capacity = capacity"
   ]
  },
  {
   "cell_type": "markdown",
   "metadata": {},
   "source": [
    "Now, when we initialize an `EnergyStorageSystem` object, we must supply the positional arguments `state_of_charge` and `capacity`:"
   ]
  },
  {
   "cell_type": "code",
   "execution_count": 32,
   "metadata": {},
   "outputs": [
    {
     "name": "stdout",
     "output_type": "stream",
     "text": [
      "state_of_charge = 0.1\n",
      "capacity = 10\n"
     ]
    }
   ],
   "source": [
    "energy_storage_system = EnergyStorageSystem(0.1, 10)\n",
    "print('state_of_charge =', energy_storage_system.state_of_charge)\n",
    "print('capacity =', energy_storage_system.capacity)"
   ]
  },
  {
   "cell_type": "markdown",
   "metadata": {},
   "source": [
    "We can also make attributes optional so that if a value is not provided to them we set to some default:"
   ]
  },
  {
   "cell_type": "code",
   "execution_count": 33,
   "metadata": {},
   "outputs": [],
   "source": [
    "class EnergyStorageSystem:\n",
    "    DEFAULT_STATE_OF_CHARGE = 0.0\n",
    "\n",
    "    def __init__(self, state_of_charge: float = None, capacity: float = None):\n",
    "        self.state_of_charge = self.DEFAULT_STATE_OF_CHARGE if state_of_charge is None else state_of_charge\n",
    "        self.capacity = 0.0 if capacity is None else capacity"
   ]
  },
  {
   "cell_type": "markdown",
   "metadata": {},
   "source": [
    "Now, our instance variables will have some numeric value even if we don't supply one during initialization:"
   ]
  },
  {
   "cell_type": "code",
   "execution_count": 34,
   "metadata": {},
   "outputs": [
    {
     "name": "stdout",
     "output_type": "stream",
     "text": [
      "state_of_charge = 0.1\n",
      "capacity = 0.0\n"
     ]
    }
   ],
   "source": [
    "energy_storage_system = EnergyStorageSystem(state_of_charge=0.1)\n",
    "print('state_of_charge =', energy_storage_system.state_of_charge)\n",
    "print('capacity =', energy_storage_system.capacity)"
   ]
  },
  {
   "cell_type": "markdown",
   "metadata": {},
   "source": [
    "However, as you can see, we ended up setting up a storage system that has no capacity but magically has a state-of-charge that is greater than zero, physically impossible! Thus we need to add some logic to our initialization function that avoids this kind of outcome:"
   ]
  },
  {
   "cell_type": "code",
   "execution_count": 35,
   "metadata": {},
   "outputs": [],
   "source": [
    "class EnergyStorageSystem:\n",
    "    DEFAULT_STATE_OF_CHARGE = 0.0\n",
    "\n",
    "    def __init__(self, state_of_charge: float = None, capacity: float = None):\n",
    "        self.capacity = 0.0 if capacity is None else capacity\n",
    "        self.state_of_charge = self.DEFAULT_STATE_OF_CHARGE if state_of_charge is None else state_of_charge\n",
    "\n",
    "        if self.state_of_charge > 0.0 and self.capacity == 0.0:\n",
    "            raise ValueError('state_of_charge must be == 0.0 if capacity is == 0')\n",
    "        else:\n",
    "            pass"
   ]
  },
  {
   "cell_type": "markdown",
   "metadata": {},
   "source": [
    "If we carry out our previous initialization, we will now get a `ValueError`:"
   ]
  },
  {
   "cell_type": "code",
   "execution_count": 36,
   "metadata": {},
   "outputs": [
    {
     "ename": "ValueError",
     "evalue": "state_of_charge must be == 0.0 if capacity is == 0",
     "output_type": "error",
     "traceback": [
      "\u001b[0;31m---------------------------------------------------------------------------\u001b[0m",
      "\u001b[0;31mValueError\u001b[0m                                Traceback (most recent call last)",
      "\u001b[0;32m/var/folders/gz/rbl0rksd7dqcx5pny2wgmsb40000gn/T/ipykernel_29354/4063519649.py\u001b[0m in \u001b[0;36m<module>\u001b[0;34m\u001b[0m\n\u001b[0;32m----> 1\u001b[0;31m \u001b[0menergy_storage_system\u001b[0m \u001b[0;34m=\u001b[0m \u001b[0mEnergyStorageSystem\u001b[0m\u001b[0;34m(\u001b[0m\u001b[0mstate_of_charge\u001b[0m\u001b[0;34m=\u001b[0m\u001b[0;36m0.1\u001b[0m\u001b[0;34m)\u001b[0m\u001b[0;34m\u001b[0m\u001b[0;34m\u001b[0m\u001b[0m\n\u001b[0m",
      "\u001b[0;32m/var/folders/gz/rbl0rksd7dqcx5pny2wgmsb40000gn/T/ipykernel_29354/3422369283.py\u001b[0m in \u001b[0;36m__init__\u001b[0;34m(self, state_of_charge, capacity)\u001b[0m\n\u001b[1;32m      7\u001b[0m \u001b[0;34m\u001b[0m\u001b[0m\n\u001b[1;32m      8\u001b[0m         \u001b[0;32mif\u001b[0m \u001b[0mself\u001b[0m\u001b[0;34m.\u001b[0m\u001b[0mstate_of_charge\u001b[0m \u001b[0;34m>\u001b[0m \u001b[0;36m0.0\u001b[0m \u001b[0;32mand\u001b[0m \u001b[0mself\u001b[0m\u001b[0;34m.\u001b[0m\u001b[0mcapacity\u001b[0m \u001b[0;34m==\u001b[0m \u001b[0;36m0.0\u001b[0m\u001b[0;34m:\u001b[0m\u001b[0;34m\u001b[0m\u001b[0;34m\u001b[0m\u001b[0m\n\u001b[0;32m----> 9\u001b[0;31m             \u001b[0;32mraise\u001b[0m \u001b[0mValueError\u001b[0m\u001b[0;34m(\u001b[0m\u001b[0;34m'state_of_charge must be == 0.0 if capacity is == 0'\u001b[0m\u001b[0;34m)\u001b[0m\u001b[0;34m\u001b[0m\u001b[0;34m\u001b[0m\u001b[0m\n\u001b[0m\u001b[1;32m     10\u001b[0m         \u001b[0;32melse\u001b[0m\u001b[0;34m:\u001b[0m\u001b[0;34m\u001b[0m\u001b[0;34m\u001b[0m\u001b[0m\n\u001b[1;32m     11\u001b[0m             \u001b[0;32mpass\u001b[0m\u001b[0;34m\u001b[0m\u001b[0;34m\u001b[0m\u001b[0m\n",
      "\u001b[0;31mValueError\u001b[0m: state_of_charge must be == 0.0 if capacity is == 0"
     ]
    }
   ],
   "source": [
    "energy_storage_system = EnergyStorageSystem(state_of_charge=0.1)"
   ]
  },
  {
   "cell_type": "markdown",
   "metadata": {},
   "source": [
    "Still, there is a problem with our current error-checking procedure. What if the user of our class satisfies the conditions of setting the`state_of_charge` at initialization time but goes ahead and sets the `state_of_charge` to a value greater than zero while the capacity is still zero?"
   ]
  },
  {
   "cell_type": "code",
   "execution_count": 37,
   "metadata": {},
   "outputs": [
    {
     "name": "stdout",
     "output_type": "stream",
     "text": [
      "state_of_charge after initialization: 0.0\n",
      "capacity after initialization: 0.0\n",
      "state_of_charge after state_of_charge update: 0.4\n",
      "capacity after state_of_charge update: 0.0\n"
     ]
    }
   ],
   "source": [
    "energy_storage_system = EnergyStorageSystem(state_of_charge=0.0)\n",
    "print('state_of_charge after initialization:', energy_storage_system.state_of_charge)\n",
    "print('capacity after initialization:', energy_storage_system.capacity)\n",
    "energy_storage_system.state_of_charge = 0.4\n",
    "print('state_of_charge after state_of_charge update:', energy_storage_system.state_of_charge)\n",
    "print('capacity after state_of_charge update:', energy_storage_system.capacity)"
   ]
  },
  {
   "cell_type": "markdown",
   "metadata": {},
   "source": [
    "Because we have included our error-checking only in the `__init__` function, the error silently passes post-initialization. In the next section, we will introduce the notion of `public` and `private` attributes, the `getter` and `setter` methods."
   ]
  },
  {
   "cell_type": "markdown",
   "metadata": {},
   "source": [
    "### `public` and `private` instance attributes\n",
    "\n",
    "So far, the instance attributes we have defined are all public i.e. they can be accessed directly using an instantiated object of our class. However, better practice is to actually make attributes private and then expose them as needed. Privatizing attributes also helps with more robust error-checking as we will see in the next section. To make an attribute private, it's name is prefixed with a double underscore:"
   ]
  },
  {
   "cell_type": "code",
   "execution_count": 41,
   "metadata": {},
   "outputs": [],
   "source": [
    "class EnergyStorageSystem:\n",
    "    DEFAULT_STATE_OF_CHARGE = 0.0\n",
    "\n",
    "    def __init__(self, state_of_charge: float = None, capacity: float = None):\n",
    "        self.__capacity = 0.0 if capacity is None else capacity\n",
    "        self.__state_of_charge = self.DEFAULT_STATE_OF_CHARGE if state_of_charge is None else state_of_charge\n",
    "\n",
    "        if self.__state_of_charge > 0.0 and self.__capacity == 0.0:\n",
    "            raise ValueError('state_of_charge must be == 0.0 if capacity is == 0')\n",
    "        else:\n",
    "            pass"
   ]
  },
  {
   "cell_type": "markdown",
   "metadata": {},
   "source": [
    "Now if we  try to access our attributes as before, we will get an `AttributeError`:"
   ]
  },
  {
   "cell_type": "code",
   "execution_count": 42,
   "metadata": {},
   "outputs": [
    {
     "ename": "AttributeError",
     "evalue": "'EnergyStorageSystem' object has no attribute '__state_of_charge'",
     "output_type": "error",
     "traceback": [
      "\u001b[0;31m---------------------------------------------------------------------------\u001b[0m",
      "\u001b[0;31mAttributeError\u001b[0m                            Traceback (most recent call last)",
      "\u001b[0;32m/var/folders/gz/rbl0rksd7dqcx5pny2wgmsb40000gn/T/ipykernel_29354/3200435511.py\u001b[0m in \u001b[0;36m<module>\u001b[0;34m\u001b[0m\n\u001b[1;32m      1\u001b[0m \u001b[0menergy_storage_system\u001b[0m \u001b[0;34m=\u001b[0m \u001b[0mEnergyStorageSystem\u001b[0m\u001b[0;34m(\u001b[0m\u001b[0mstate_of_charge\u001b[0m\u001b[0;34m=\u001b[0m\u001b[0;36m0.0\u001b[0m\u001b[0;34m)\u001b[0m\u001b[0;34m\u001b[0m\u001b[0;34m\u001b[0m\u001b[0m\n\u001b[0;32m----> 2\u001b[0;31m \u001b[0mprint\u001b[0m\u001b[0;34m(\u001b[0m\u001b[0;34m'state_of_charge ='\u001b[0m\u001b[0;34m,\u001b[0m \u001b[0menergy_storage_system\u001b[0m\u001b[0;34m.\u001b[0m\u001b[0m__state_of_charge\u001b[0m\u001b[0;34m)\u001b[0m\u001b[0;34m\u001b[0m\u001b[0;34m\u001b[0m\u001b[0m\n\u001b[0m\u001b[1;32m      3\u001b[0m \u001b[0mprint\u001b[0m\u001b[0;34m(\u001b[0m\u001b[0;34m'capacity ='\u001b[0m\u001b[0;34m,\u001b[0m \u001b[0menergy_storage_system\u001b[0m\u001b[0;34m.\u001b[0m\u001b[0m__capacity\u001b[0m\u001b[0;34m)\u001b[0m\u001b[0;34m\u001b[0m\u001b[0;34m\u001b[0m\u001b[0m\n",
      "\u001b[0;31mAttributeError\u001b[0m: 'EnergyStorageSystem' object has no attribute '__state_of_charge'"
     ]
    }
   ],
   "source": [
    "energy_storage_system = EnergyStorageSystem(state_of_charge=0.0)\n",
    "print('state_of_charge =', energy_storage_system.__state_of_charge)\n",
    "print('capacity =', energy_storage_system.__capacity)"
   ]
  },
  {
   "cell_type": "markdown",
   "metadata": {},
   "source": [
    "In the next section, we will learn how to access our private attributes using the `property` decorator."
   ]
  },
  {
   "cell_type": "markdown",
   "metadata": {},
   "source": [
    "### The `property` decorator\n",
    "\n",
    "The property decorator is a method that returns some value when called. It can be referred to as a `getter` method. It is used to access private attributes or return calculated values that you may only want calculated on-demand. To use it for private attribute retrieval, we redefine our class as:"
   ]
  },
  {
   "cell_type": "code",
   "execution_count": 75,
   "metadata": {},
   "outputs": [],
   "source": [
    "class EnergyStorageSystem:\n",
    "    DEFAULT_STATE_OF_CHARGE = 0.0\n",
    "\n",
    "    def __init__(self, state_of_charge: float = None, capacity: float = None):\n",
    "        self.__capacity = 0.0 if capacity is None else capacity\n",
    "        self.__state_of_charge = self.DEFAULT_STATE_OF_CHARGE if state_of_charge is None else state_of_charge\n",
    "\n",
    "        if self.state_of_charge > 0.0 and self.capacity == 0.0:\n",
    "            raise ValueError('state_of_charge must be == 0.0 if capacity is == 0')\n",
    "        else:\n",
    "            pass\n",
    "\n",
    "    @property\n",
    "    def capacity(self) -> float:\n",
    "        return self.__capacity\n",
    "    \n",
    "    @property\n",
    "    def state_of_charge(self) -> float:\n",
    "        return self.__state_of_charge"
   ]
  },
  {
   "cell_type": "markdown",
   "metadata": {},
   "source": [
    "Now we can access the values we set at initialization using these properties:"
   ]
  },
  {
   "cell_type": "code",
   "execution_count": 76,
   "metadata": {},
   "outputs": [
    {
     "name": "stdout",
     "output_type": "stream",
     "text": [
      "state_of_charge = 0.0\n",
      "capacity = 10\n"
     ]
    }
   ],
   "source": [
    "energy_storage_system = EnergyStorageSystem(state_of_charge=0.0, capacity=10)\n",
    "print('state_of_charge =', energy_storage_system.state_of_charge)\n",
    "print('capacity =', energy_storage_system.capacity)"
   ]
  },
  {
   "cell_type": "markdown",
   "metadata": {},
   "source": [
    "But there is one problem. How do we change the value of our attributes after initialization? If we try to set the property, we get an error:"
   ]
  },
  {
   "cell_type": "code",
   "execution_count": 77,
   "metadata": {},
   "outputs": [
    {
     "ename": "AttributeError",
     "evalue": "can't set attribute",
     "output_type": "error",
     "traceback": [
      "\u001b[0;31m---------------------------------------------------------------------------\u001b[0m",
      "\u001b[0;31mAttributeError\u001b[0m                            Traceback (most recent call last)",
      "\u001b[0;32m/var/folders/gz/rbl0rksd7dqcx5pny2wgmsb40000gn/T/ipykernel_29354/1194096781.py\u001b[0m in \u001b[0;36m<module>\u001b[0;34m\u001b[0m\n\u001b[0;32m----> 1\u001b[0;31m \u001b[0menergy_storage_system\u001b[0m\u001b[0;34m.\u001b[0m\u001b[0mcapacity\u001b[0m \u001b[0;34m=\u001b[0m \u001b[0;36m10\u001b[0m\u001b[0;34m\u001b[0m\u001b[0;34m\u001b[0m\u001b[0m\n\u001b[0m",
      "\u001b[0;31mAttributeError\u001b[0m: can't set attribute"
     ]
    }
   ],
   "source": [
    "energy_storage_system.capacity = 10"
   ]
  },
  {
   "cell_type": "markdown",
   "metadata": {},
   "source": [
    "Interestingly, if we try to set the private attribute, it does not raise an exception!:"
   ]
  },
  {
   "cell_type": "code",
   "execution_count": 80,
   "metadata": {},
   "outputs": [],
   "source": [
    "energy_storage_system.__capacity = 15"
   ]
  },
  {
   "cell_type": "markdown",
   "metadata": {},
   "source": [
    "The property value has not changed though:"
   ]
  },
  {
   "cell_type": "code",
   "execution_count": 81,
   "metadata": {},
   "outputs": [
    {
     "name": "stdout",
     "output_type": "stream",
     "text": [
      "capacity property: 10\n"
     ]
    }
   ],
   "source": [
    "print('capacity property:', energy_storage_system.capacity)"
   ]
  },
  {
   "cell_type": "markdown",
   "metadata": {},
   "source": [
    "However, we are suddenly able to get the private attribute version with the new set value, i.e., we can bypass the need to use the property:"
   ]
  },
  {
   "cell_type": "code",
   "execution_count": 82,
   "metadata": {},
   "outputs": [
    {
     "name": "stdout",
     "output_type": "stream",
     "text": [
      "capacity private attribute: 15\n"
     ]
    }
   ],
   "source": [
    "print('capacity private attribute:', energy_storage_system.__capacity)"
   ]
  },
  {
   "cell_type": "markdown",
   "metadata": {},
   "source": [
    "The reason for this is that privatization of attributes in Python, unlike other programming languages, does not exactly exist. What Python does under the hood is to carry out some name mangling to make it harder to access the so-called private attributes however, there are tricks to access them for a determined mind. If you use the in-built `id` function, you will find that after directly assigning `energy_storage_system.__capacity = 15`, a new object that is different from the value returned with `energy_storage_system.capacity` is in fact created. Do not get lost in the details as the main takeaway is that private attributes are not strictly enforced in Python so be aware of their limitations such as this.\n",
    "\n",
    "In our case however, we can reinforce the privatization of our attributes by defining `setter` decorators that at least allow us change the value returned by the `property` method."
   ]
  },
  {
   "cell_type": "markdown",
   "metadata": {},
   "source": [
    "### The `setter` decorator\n",
    "\n",
    "The `setter` decorator is used to define a `setter` method that is typically used in combination of the `property` method where the former is used to set some private attribute and the latter to retrieve it. Let us modify our class to include `setter` methods for our attributes:"
   ]
  },
  {
   "cell_type": "code",
   "execution_count": 93,
   "metadata": {},
   "outputs": [],
   "source": [
    "class EnergyStorageSystem:\n",
    "    DEFAULT_STATE_OF_CHARGE = 0.0\n",
    "\n",
    "    def __init__(self, state_of_charge: float = None, capacity: float = None):\n",
    "        self.capacity = 0.0 if capacity is None else capacity\n",
    "        self.state_of_charge = self.DEFAULT_STATE_OF_CHARGE if state_of_charge is None else state_of_charge\n",
    "\n",
    "        if self.state_of_charge > 0.0 and self.capacity == 0.0:\n",
    "            raise ValueError('state_of_charge must be == 0.0 if capacity is == 0')\n",
    "        else:\n",
    "            pass\n",
    "\n",
    "    @property\n",
    "    def capacity(self) -> float:\n",
    "        return self.__capacity\n",
    "    \n",
    "    @property\n",
    "    def state_of_charge(self) -> float:\n",
    "        return self.__state_of_charge\n",
    "    \n",
    "    @capacity.setter\n",
    "    def capacity(self, value: float):\n",
    "        self.__capacity = value\n",
    "\n",
    "    @state_of_charge.setter\n",
    "    def state_of_charge(self, value: float):\n",
    "        self.__state_of_charge = value"
   ]
  },
  {
   "cell_type": "markdown",
   "metadata": {},
   "source": [
    "Notice how in the `__init__` method, we have removed the double underscore prefix in our attribute names and they only show up in our `setter` and `getter` methods? Now if we initialize an object we can change the value returned by the `property`:"
   ]
  },
  {
   "cell_type": "code",
   "execution_count": 103,
   "metadata": {},
   "outputs": [
    {
     "name": "stdout",
     "output_type": "stream",
     "text": [
      "capacity property before reset: 10\n",
      "capacity property after reset: 20\n"
     ]
    }
   ],
   "source": [
    "energy_storage_system = EnergyStorageSystem(state_of_charge=0.0, capacity=10)\n",
    "print('capacity property before reset:', energy_storage_system.capacity)\n",
    "energy_storage_system.capacity = 20\n",
    "print('capacity property after reset:', energy_storage_system.capacity)"
   ]
  },
  {
   "cell_type": "markdown",
   "metadata": {},
   "source": [
    "Now, we have our setter methods, we can also move our current error-checking to there to better modularize our code:"
   ]
  },
  {
   "cell_type": "code",
   "execution_count": 104,
   "metadata": {},
   "outputs": [],
   "source": [
    "class EnergyStorageSystem:\n",
    "    DEFAULT_STATE_OF_CHARGE = 0.0\n",
    "\n",
    "    def __init__(self, state_of_charge: float = None, capacity: float = None):\n",
    "        self.capacity = capacity\n",
    "        self.state_of_charge = state_of_charge\n",
    "\n",
    "    @property\n",
    "    def capacity(self) -> float:\n",
    "        return self.__capacity\n",
    "    \n",
    "    @property\n",
    "    def state_of_charge(self) -> float:\n",
    "        return self.__state_of_charge\n",
    "    \n",
    "    @capacity.setter\n",
    "    def capacity(self, value: float):\n",
    "        self.__capacity = 0.0 if value is None else value\n",
    "\n",
    "    @state_of_charge.setter\n",
    "    def state_of_charge(self, value: float):\n",
    "        self.__state_of_charge = self.DEFAULT_STATE_OF_CHARGE if value is None else value\n",
    "\n",
    "        if self.state_of_charge > 0.0 and self.capacity == 0.0:\n",
    "            raise ValueError('state_of_charge must be == 0.0 if capacity is == 0')\n",
    "        \n",
    "        else:\n",
    "            pass"
   ]
  },
  {
   "cell_type": "markdown",
   "metadata": {},
   "source": [
    "Doing this also ensures that our error-checking is applied even after initialization:"
   ]
  },
  {
   "cell_type": "code",
   "execution_count": 106,
   "metadata": {},
   "outputs": [
    {
     "ename": "ValueError",
     "evalue": "state_of_charge must be == 0.0 if capacity is == 0",
     "output_type": "error",
     "traceback": [
      "\u001b[0;31m---------------------------------------------------------------------------\u001b[0m",
      "\u001b[0;31mValueError\u001b[0m                                Traceback (most recent call last)",
      "\u001b[0;32m/var/folders/gz/rbl0rksd7dqcx5pny2wgmsb40000gn/T/ipykernel_29354/4243974467.py\u001b[0m in \u001b[0;36m<module>\u001b[0;34m\u001b[0m\n\u001b[1;32m      1\u001b[0m \u001b[0menergy_storage_system\u001b[0m \u001b[0;34m=\u001b[0m \u001b[0mEnergyStorageSystem\u001b[0m\u001b[0;34m(\u001b[0m\u001b[0mstate_of_charge\u001b[0m\u001b[0;34m=\u001b[0m\u001b[0;36m0.0\u001b[0m\u001b[0;34m)\u001b[0m\u001b[0;34m\u001b[0m\u001b[0;34m\u001b[0m\u001b[0m\n\u001b[0;32m----> 2\u001b[0;31m \u001b[0menergy_storage_system\u001b[0m\u001b[0;34m.\u001b[0m\u001b[0mstate_of_charge\u001b[0m \u001b[0;34m=\u001b[0m \u001b[0;36m0.4\u001b[0m\u001b[0;34m\u001b[0m\u001b[0;34m\u001b[0m\u001b[0m\n\u001b[0m",
      "\u001b[0;32m/var/folders/gz/rbl0rksd7dqcx5pny2wgmsb40000gn/T/ipykernel_29354/3693694225.py\u001b[0m in \u001b[0;36mstate_of_charge\u001b[0;34m(self, value)\u001b[0m\n\u001b[1;32m     23\u001b[0m \u001b[0;34m\u001b[0m\u001b[0m\n\u001b[1;32m     24\u001b[0m         \u001b[0;32mif\u001b[0m \u001b[0mself\u001b[0m\u001b[0;34m.\u001b[0m\u001b[0mstate_of_charge\u001b[0m \u001b[0;34m>\u001b[0m \u001b[0;36m0.0\u001b[0m \u001b[0;32mand\u001b[0m \u001b[0mself\u001b[0m\u001b[0;34m.\u001b[0m\u001b[0mcapacity\u001b[0m \u001b[0;34m==\u001b[0m \u001b[0;36m0.0\u001b[0m\u001b[0;34m:\u001b[0m\u001b[0;34m\u001b[0m\u001b[0;34m\u001b[0m\u001b[0m\n\u001b[0;32m---> 25\u001b[0;31m             \u001b[0;32mraise\u001b[0m \u001b[0mValueError\u001b[0m\u001b[0;34m(\u001b[0m\u001b[0;34m'state_of_charge must be == 0.0 if capacity is == 0'\u001b[0m\u001b[0;34m)\u001b[0m\u001b[0;34m\u001b[0m\u001b[0;34m\u001b[0m\u001b[0m\n\u001b[0m\u001b[1;32m     26\u001b[0m \u001b[0;34m\u001b[0m\u001b[0m\n\u001b[1;32m     27\u001b[0m         \u001b[0;32melse\u001b[0m\u001b[0;34m:\u001b[0m\u001b[0;34m\u001b[0m\u001b[0;34m\u001b[0m\u001b[0m\n",
      "\u001b[0;31mValueError\u001b[0m: state_of_charge must be == 0.0 if capacity is == 0"
     ]
    }
   ],
   "source": [
    "energy_storage_system = EnergyStorageSystem(state_of_charge=0.0)\n",
    "energy_storage_system.state_of_charge = 0.4"
   ]
  },
  {
   "cell_type": "markdown",
   "metadata": {},
   "source": [
    "There are other conditions that we should check for to make sure we don't end up with values that are physically impossible. For example, the `state_of_charge` is a value bounded between 0 and 1. The capacity should never be less than 0 and if the capacity is ever set to 0, we should immediately set the `state_of_charge` to zero. Let us modify our class to carry out these error-checks:"
   ]
  },
  {
   "cell_type": "code",
   "execution_count": 107,
   "metadata": {},
   "outputs": [],
   "source": [
    "class EnergyStorageSystem:\n",
    "    DEFAULT_STATE_OF_CHARGE = 0.0\n",
    "\n",
    "    def __init__(self, state_of_charge: float = None, capacity: float = None):\n",
    "        self.capacity = capacity\n",
    "        self.state_of_charge = state_of_charge\n",
    "\n",
    "    @property\n",
    "    def capacity(self) -> float:\n",
    "        return self.__capacity\n",
    "    \n",
    "    @property\n",
    "    def state_of_charge(self) -> float:\n",
    "        return self.__state_of_charge\n",
    "    \n",
    "    @capacity.setter\n",
    "    def capacity(self, value: float):\n",
    "        value = 0.0 if value is None else value\n",
    "        assert value >= 0.0, 'capacity must be >= 0.0'\n",
    "        self.__capacity = value\n",
    "\n",
    "        if self.capacity == 0.0:\n",
    "            self.state_of_charge = 0.0\n",
    "\n",
    "        else:\n",
    "            pass\n",
    "\n",
    "    @state_of_charge.setter\n",
    "    def state_of_charge(self, value: float):\n",
    "        value = self.DEFAULT_STATE_OF_CHARGE if value is None else value\n",
    "        assert 0 <= value <= 1.0, 'state_of_charge must be between 0.0 and 1.0'\n",
    "        self.__state_of_charge = value\n",
    "\n",
    "        if self.state_of_charge > 0.0 and self.capacity == 0.0:\n",
    "            raise ValueError('state_of_charge must be == 0.0 if capacity is == 0')\n",
    "        \n",
    "        else:\n",
    "            pass"
   ]
  },
  {
   "cell_type": "markdown",
   "metadata": {},
   "source": [
    "If we try to initialize our object with values that violate any of our value conditions, we will get an error. Notice the use of the `assert` keyword? It is a convenient for one-line error checks. Let us test our error conditions:"
   ]
  },
  {
   "cell_type": "code",
   "execution_count": 112,
   "metadata": {},
   "outputs": [
    {
     "ename": "ValueError",
     "evalue": "state_of_charge must be == 0.0 if capacity is == 0",
     "output_type": "error",
     "traceback": [
      "\u001b[0;31m---------------------------------------------------------------------------\u001b[0m",
      "\u001b[0;31mValueError\u001b[0m                                Traceback (most recent call last)",
      "\u001b[0;32m/var/folders/gz/rbl0rksd7dqcx5pny2wgmsb40000gn/T/ipykernel_29354/4063519649.py\u001b[0m in \u001b[0;36m<module>\u001b[0;34m\u001b[0m\n\u001b[0;32m----> 1\u001b[0;31m \u001b[0menergy_storage_system\u001b[0m \u001b[0;34m=\u001b[0m \u001b[0mEnergyStorageSystem\u001b[0m\u001b[0;34m(\u001b[0m\u001b[0mstate_of_charge\u001b[0m\u001b[0;34m=\u001b[0m\u001b[0;36m0.1\u001b[0m\u001b[0;34m)\u001b[0m\u001b[0;34m\u001b[0m\u001b[0;34m\u001b[0m\u001b[0m\n\u001b[0m",
      "\u001b[0;32m/var/folders/gz/rbl0rksd7dqcx5pny2wgmsb40000gn/T/ipykernel_29354/1007274121.py\u001b[0m in \u001b[0;36m__init__\u001b[0;34m(self, state_of_charge, capacity)\u001b[0m\n\u001b[1;32m      4\u001b[0m     \u001b[0;32mdef\u001b[0m \u001b[0m__init__\u001b[0m\u001b[0;34m(\u001b[0m\u001b[0mself\u001b[0m\u001b[0;34m,\u001b[0m \u001b[0mstate_of_charge\u001b[0m\u001b[0;34m:\u001b[0m \u001b[0mfloat\u001b[0m \u001b[0;34m=\u001b[0m \u001b[0;32mNone\u001b[0m\u001b[0;34m,\u001b[0m \u001b[0mcapacity\u001b[0m\u001b[0;34m:\u001b[0m \u001b[0mfloat\u001b[0m \u001b[0;34m=\u001b[0m \u001b[0;32mNone\u001b[0m\u001b[0;34m)\u001b[0m\u001b[0;34m:\u001b[0m\u001b[0;34m\u001b[0m\u001b[0;34m\u001b[0m\u001b[0m\n\u001b[1;32m      5\u001b[0m         \u001b[0mself\u001b[0m\u001b[0;34m.\u001b[0m\u001b[0mcapacity\u001b[0m \u001b[0;34m=\u001b[0m \u001b[0mcapacity\u001b[0m\u001b[0;34m\u001b[0m\u001b[0;34m\u001b[0m\u001b[0m\n\u001b[0;32m----> 6\u001b[0;31m         \u001b[0mself\u001b[0m\u001b[0;34m.\u001b[0m\u001b[0mstate_of_charge\u001b[0m \u001b[0;34m=\u001b[0m \u001b[0mstate_of_charge\u001b[0m\u001b[0;34m\u001b[0m\u001b[0;34m\u001b[0m\u001b[0m\n\u001b[0m\u001b[1;32m      7\u001b[0m \u001b[0;34m\u001b[0m\u001b[0m\n\u001b[1;32m      8\u001b[0m     \u001b[0;34m@\u001b[0m\u001b[0mproperty\u001b[0m\u001b[0;34m\u001b[0m\u001b[0;34m\u001b[0m\u001b[0m\n",
      "\u001b[0;32m/var/folders/gz/rbl0rksd7dqcx5pny2wgmsb40000gn/T/ipykernel_29354/1007274121.py\u001b[0m in \u001b[0;36mstate_of_charge\u001b[0;34m(self, value)\u001b[0m\n\u001b[1;32m     33\u001b[0m \u001b[0;34m\u001b[0m\u001b[0m\n\u001b[1;32m     34\u001b[0m         \u001b[0;32mif\u001b[0m \u001b[0mself\u001b[0m\u001b[0;34m.\u001b[0m\u001b[0mstate_of_charge\u001b[0m \u001b[0;34m>\u001b[0m \u001b[0;36m0.0\u001b[0m \u001b[0;32mand\u001b[0m \u001b[0mself\u001b[0m\u001b[0;34m.\u001b[0m\u001b[0mcapacity\u001b[0m \u001b[0;34m==\u001b[0m \u001b[0;36m0.0\u001b[0m\u001b[0;34m:\u001b[0m\u001b[0;34m\u001b[0m\u001b[0;34m\u001b[0m\u001b[0m\n\u001b[0;32m---> 35\u001b[0;31m             \u001b[0;32mraise\u001b[0m \u001b[0mValueError\u001b[0m\u001b[0;34m(\u001b[0m\u001b[0;34m'state_of_charge must be == 0.0 if capacity is == 0'\u001b[0m\u001b[0;34m)\u001b[0m\u001b[0;34m\u001b[0m\u001b[0;34m\u001b[0m\u001b[0m\n\u001b[0m\u001b[1;32m     36\u001b[0m \u001b[0;34m\u001b[0m\u001b[0m\n\u001b[1;32m     37\u001b[0m         \u001b[0;32melse\u001b[0m\u001b[0;34m:\u001b[0m\u001b[0;34m\u001b[0m\u001b[0;34m\u001b[0m\u001b[0m\n",
      "\u001b[0;31mValueError\u001b[0m: state_of_charge must be == 0.0 if capacity is == 0"
     ]
    }
   ],
   "source": [
    "energy_storage_system = EnergyStorageSystem(state_of_charge=0.1)"
   ]
  },
  {
   "cell_type": "code",
   "execution_count": 114,
   "metadata": {},
   "outputs": [
    {
     "ename": "AssertionError",
     "evalue": "state_of_charge must be between 0.0 and 1.0",
     "output_type": "error",
     "traceback": [
      "\u001b[0;31m---------------------------------------------------------------------------\u001b[0m",
      "\u001b[0;31mAssertionError\u001b[0m                            Traceback (most recent call last)",
      "\u001b[0;32m/var/folders/gz/rbl0rksd7dqcx5pny2wgmsb40000gn/T/ipykernel_29354/1107132196.py\u001b[0m in \u001b[0;36m<module>\u001b[0;34m\u001b[0m\n\u001b[0;32m----> 1\u001b[0;31m \u001b[0menergy_storage_system\u001b[0m \u001b[0;34m=\u001b[0m \u001b[0mEnergyStorageSystem\u001b[0m\u001b[0;34m(\u001b[0m\u001b[0mstate_of_charge\u001b[0m\u001b[0;34m=\u001b[0m\u001b[0;36m10\u001b[0m\u001b[0;34m)\u001b[0m\u001b[0;34m\u001b[0m\u001b[0;34m\u001b[0m\u001b[0m\n\u001b[0m",
      "\u001b[0;32m/var/folders/gz/rbl0rksd7dqcx5pny2wgmsb40000gn/T/ipykernel_29354/1007274121.py\u001b[0m in \u001b[0;36m__init__\u001b[0;34m(self, state_of_charge, capacity)\u001b[0m\n\u001b[1;32m      4\u001b[0m     \u001b[0;32mdef\u001b[0m \u001b[0m__init__\u001b[0m\u001b[0;34m(\u001b[0m\u001b[0mself\u001b[0m\u001b[0;34m,\u001b[0m \u001b[0mstate_of_charge\u001b[0m\u001b[0;34m:\u001b[0m \u001b[0mfloat\u001b[0m \u001b[0;34m=\u001b[0m \u001b[0;32mNone\u001b[0m\u001b[0;34m,\u001b[0m \u001b[0mcapacity\u001b[0m\u001b[0;34m:\u001b[0m \u001b[0mfloat\u001b[0m \u001b[0;34m=\u001b[0m \u001b[0;32mNone\u001b[0m\u001b[0;34m)\u001b[0m\u001b[0;34m:\u001b[0m\u001b[0;34m\u001b[0m\u001b[0;34m\u001b[0m\u001b[0m\n\u001b[1;32m      5\u001b[0m         \u001b[0mself\u001b[0m\u001b[0;34m.\u001b[0m\u001b[0mcapacity\u001b[0m \u001b[0;34m=\u001b[0m \u001b[0mcapacity\u001b[0m\u001b[0;34m\u001b[0m\u001b[0;34m\u001b[0m\u001b[0m\n\u001b[0;32m----> 6\u001b[0;31m         \u001b[0mself\u001b[0m\u001b[0;34m.\u001b[0m\u001b[0mstate_of_charge\u001b[0m \u001b[0;34m=\u001b[0m \u001b[0mstate_of_charge\u001b[0m\u001b[0;34m\u001b[0m\u001b[0;34m\u001b[0m\u001b[0m\n\u001b[0m\u001b[1;32m      7\u001b[0m \u001b[0;34m\u001b[0m\u001b[0m\n\u001b[1;32m      8\u001b[0m     \u001b[0;34m@\u001b[0m\u001b[0mproperty\u001b[0m\u001b[0;34m\u001b[0m\u001b[0;34m\u001b[0m\u001b[0m\n",
      "\u001b[0;32m/var/folders/gz/rbl0rksd7dqcx5pny2wgmsb40000gn/T/ipykernel_29354/1007274121.py\u001b[0m in \u001b[0;36mstate_of_charge\u001b[0;34m(self, value)\u001b[0m\n\u001b[1;32m     29\u001b[0m     \u001b[0;32mdef\u001b[0m \u001b[0mstate_of_charge\u001b[0m\u001b[0;34m(\u001b[0m\u001b[0mself\u001b[0m\u001b[0;34m,\u001b[0m \u001b[0mvalue\u001b[0m\u001b[0;34m:\u001b[0m \u001b[0mfloat\u001b[0m\u001b[0;34m)\u001b[0m\u001b[0;34m:\u001b[0m\u001b[0;34m\u001b[0m\u001b[0;34m\u001b[0m\u001b[0m\n\u001b[1;32m     30\u001b[0m         \u001b[0mvalue\u001b[0m \u001b[0;34m=\u001b[0m \u001b[0mself\u001b[0m\u001b[0;34m.\u001b[0m\u001b[0mDEFAULT_STATE_OF_CHARGE\u001b[0m \u001b[0;32mif\u001b[0m \u001b[0mvalue\u001b[0m \u001b[0;32mis\u001b[0m \u001b[0;32mNone\u001b[0m \u001b[0;32melse\u001b[0m \u001b[0mvalue\u001b[0m\u001b[0;34m\u001b[0m\u001b[0;34m\u001b[0m\u001b[0m\n\u001b[0;32m---> 31\u001b[0;31m         \u001b[0;32massert\u001b[0m \u001b[0;36m0\u001b[0m \u001b[0;34m<=\u001b[0m \u001b[0mvalue\u001b[0m \u001b[0;34m<=\u001b[0m \u001b[0;36m1.0\u001b[0m\u001b[0;34m,\u001b[0m \u001b[0;34m'state_of_charge must be between 0.0 and 1.0'\u001b[0m\u001b[0;34m\u001b[0m\u001b[0;34m\u001b[0m\u001b[0m\n\u001b[0m\u001b[1;32m     32\u001b[0m         \u001b[0mself\u001b[0m\u001b[0;34m.\u001b[0m\u001b[0m__state_of_charge\u001b[0m \u001b[0;34m=\u001b[0m \u001b[0mvalue\u001b[0m\u001b[0;34m\u001b[0m\u001b[0;34m\u001b[0m\u001b[0m\n\u001b[1;32m     33\u001b[0m \u001b[0;34m\u001b[0m\u001b[0m\n",
      "\u001b[0;31mAssertionError\u001b[0m: state_of_charge must be between 0.0 and 1.0"
     ]
    }
   ],
   "source": [
    "energy_storage_system = EnergyStorageSystem(state_of_charge=10)"
   ]
  },
  {
   "cell_type": "code",
   "execution_count": 115,
   "metadata": {},
   "outputs": [
    {
     "ename": "AssertionError",
     "evalue": "capacity must be >= 0.0",
     "output_type": "error",
     "traceback": [
      "\u001b[0;31m---------------------------------------------------------------------------\u001b[0m",
      "\u001b[0;31mAssertionError\u001b[0m                            Traceback (most recent call last)",
      "\u001b[0;32m/var/folders/gz/rbl0rksd7dqcx5pny2wgmsb40000gn/T/ipykernel_29354/3034955279.py\u001b[0m in \u001b[0;36m<module>\u001b[0;34m\u001b[0m\n\u001b[0;32m----> 1\u001b[0;31m \u001b[0menergy_storage_system\u001b[0m \u001b[0;34m=\u001b[0m \u001b[0mEnergyStorageSystem\u001b[0m\u001b[0;34m(\u001b[0m\u001b[0mcapacity\u001b[0m\u001b[0;34m=\u001b[0m\u001b[0;34m-\u001b[0m\u001b[0;36m13\u001b[0m\u001b[0;34m)\u001b[0m\u001b[0;34m\u001b[0m\u001b[0;34m\u001b[0m\u001b[0m\n\u001b[0m",
      "\u001b[0;32m/var/folders/gz/rbl0rksd7dqcx5pny2wgmsb40000gn/T/ipykernel_29354/1007274121.py\u001b[0m in \u001b[0;36m__init__\u001b[0;34m(self, state_of_charge, capacity)\u001b[0m\n\u001b[1;32m      3\u001b[0m \u001b[0;34m\u001b[0m\u001b[0m\n\u001b[1;32m      4\u001b[0m     \u001b[0;32mdef\u001b[0m \u001b[0m__init__\u001b[0m\u001b[0;34m(\u001b[0m\u001b[0mself\u001b[0m\u001b[0;34m,\u001b[0m \u001b[0mstate_of_charge\u001b[0m\u001b[0;34m:\u001b[0m \u001b[0mfloat\u001b[0m \u001b[0;34m=\u001b[0m \u001b[0;32mNone\u001b[0m\u001b[0;34m,\u001b[0m \u001b[0mcapacity\u001b[0m\u001b[0;34m:\u001b[0m \u001b[0mfloat\u001b[0m \u001b[0;34m=\u001b[0m \u001b[0;32mNone\u001b[0m\u001b[0;34m)\u001b[0m\u001b[0;34m:\u001b[0m\u001b[0;34m\u001b[0m\u001b[0;34m\u001b[0m\u001b[0m\n\u001b[0;32m----> 5\u001b[0;31m         \u001b[0mself\u001b[0m\u001b[0;34m.\u001b[0m\u001b[0mcapacity\u001b[0m \u001b[0;34m=\u001b[0m \u001b[0mcapacity\u001b[0m\u001b[0;34m\u001b[0m\u001b[0;34m\u001b[0m\u001b[0m\n\u001b[0m\u001b[1;32m      6\u001b[0m         \u001b[0mself\u001b[0m\u001b[0;34m.\u001b[0m\u001b[0mstate_of_charge\u001b[0m \u001b[0;34m=\u001b[0m \u001b[0mstate_of_charge\u001b[0m\u001b[0;34m\u001b[0m\u001b[0;34m\u001b[0m\u001b[0m\n\u001b[1;32m      7\u001b[0m \u001b[0;34m\u001b[0m\u001b[0m\n",
      "\u001b[0;32m/var/folders/gz/rbl0rksd7dqcx5pny2wgmsb40000gn/T/ipykernel_29354/1007274121.py\u001b[0m in \u001b[0;36mcapacity\u001b[0;34m(self, value)\u001b[0m\n\u001b[1;32m     17\u001b[0m     \u001b[0;32mdef\u001b[0m \u001b[0mcapacity\u001b[0m\u001b[0;34m(\u001b[0m\u001b[0mself\u001b[0m\u001b[0;34m,\u001b[0m \u001b[0mvalue\u001b[0m\u001b[0;34m:\u001b[0m \u001b[0mfloat\u001b[0m\u001b[0;34m)\u001b[0m\u001b[0;34m:\u001b[0m\u001b[0;34m\u001b[0m\u001b[0;34m\u001b[0m\u001b[0m\n\u001b[1;32m     18\u001b[0m         \u001b[0mvalue\u001b[0m \u001b[0;34m=\u001b[0m \u001b[0;36m0.0\u001b[0m \u001b[0;32mif\u001b[0m \u001b[0mvalue\u001b[0m \u001b[0;32mis\u001b[0m \u001b[0;32mNone\u001b[0m \u001b[0;32melse\u001b[0m \u001b[0mvalue\u001b[0m\u001b[0;34m\u001b[0m\u001b[0;34m\u001b[0m\u001b[0m\n\u001b[0;32m---> 19\u001b[0;31m         \u001b[0;32massert\u001b[0m \u001b[0mvalue\u001b[0m \u001b[0;34m>=\u001b[0m \u001b[0;36m0.0\u001b[0m\u001b[0;34m,\u001b[0m \u001b[0;34m'capacity must be >= 0.0'\u001b[0m\u001b[0;34m\u001b[0m\u001b[0;34m\u001b[0m\u001b[0m\n\u001b[0m\u001b[1;32m     20\u001b[0m         \u001b[0mself\u001b[0m\u001b[0;34m.\u001b[0m\u001b[0m__capacity\u001b[0m \u001b[0;34m=\u001b[0m \u001b[0mvalue\u001b[0m\u001b[0;34m\u001b[0m\u001b[0;34m\u001b[0m\u001b[0m\n\u001b[1;32m     21\u001b[0m \u001b[0;34m\u001b[0m\u001b[0m\n",
      "\u001b[0;31mAssertionError\u001b[0m: capacity must be >= 0.0"
     ]
    }
   ],
   "source": [
    "energy_storage_system = EnergyStorageSystem(capacity=-13)"
   ]
  },
  {
   "cell_type": "markdown",
   "metadata": {},
   "source": [
    "## Method types\n",
    "---\n",
    "\n",
    "There are three kinds of methods that may be defined within a class and each provides a different level of access. They are instance, class or static methods."
   ]
  },
  {
   "cell_type": "markdown",
   "metadata": {},
   "source": [
    "### Instance methods\n",
    "Thus far, we have defined instance methods that require an instantiated object to be called. The instance methods all have one compulsory argument, `self`. Asides, the `__init__` method, let us include other instance methods in our class that (1) returns the energy stored and (2) charge/discharge the storage system by some specified energy:"
   ]
  },
  {
   "cell_type": "code",
   "execution_count": 117,
   "metadata": {},
   "outputs": [],
   "source": [
    "class EnergyStorageSystem:\n",
    "    DEFAULT_STATE_OF_CHARGE = 0.0\n",
    "\n",
    "    def __init__(self, state_of_charge: float = None, capacity: float = None):\n",
    "        self.capacity = capacity\n",
    "        self.state_of_charge = state_of_charge\n",
    "\n",
    "    @property\n",
    "    def capacity(self) -> float:\n",
    "        return self.__capacity\n",
    "    \n",
    "    @property\n",
    "    def state_of_charge(self) -> float:\n",
    "        return self.__state_of_charge\n",
    "    \n",
    "    @capacity.setter\n",
    "    def capacity(self, value: float):\n",
    "        value = 0.0 if value is None else value\n",
    "        assert value >= 0.0, 'capacity must be >= 0.0'\n",
    "        self.__capacity = value\n",
    "\n",
    "        if self.capacity == 0.0:\n",
    "            self.state_of_charge = 0.0\n",
    "\n",
    "        else:\n",
    "            pass\n",
    "\n",
    "    @state_of_charge.setter\n",
    "    def state_of_charge(self, value: float):\n",
    "        value = self.DEFAULT_STATE_OF_CHARGE if value is None else value\n",
    "        assert 0 <= value <= 1.0, 'state_of_charge must be between 0.0 and 1.0'\n",
    "        self.__state_of_charge = value\n",
    "\n",
    "        if self.state_of_charge > 0.0 and self.capacity == 0.0:\n",
    "            raise ValueError('state_of_charge must be == 0.0 if capacity is == 0')\n",
    "        \n",
    "        else:\n",
    "            pass\n",
    "\n",
    "    def get_stored_energy(self) -> float:\n",
    "        return self.capacity * self.state_of_charge\n",
    "    \n",
    "    def charge(self, energy: float):\n",
    "        if energy >= 0:\n",
    "            # check to make sure we don't charge beyond capacity\n",
    "            energy = min(self.capacity - self.get_stored_energy(), energy)\n",
    "\n",
    "        else:\n",
    "            # check to make sure we do not discharge more than what is stored\n",
    "            energy = max(-self.get_stored_energy(), energy)\n",
    "\n",
    "        # update state of charge\n",
    "        self.state_of_charge = self.state_of_charge + energy/self.capacity"
   ]
  },
  {
   "cell_type": "markdown",
   "metadata": {},
   "source": [
    "We can now test out or brand new `charge` instance method:"
   ]
  },
  {
   "cell_type": "code",
   "execution_count": 127,
   "metadata": {},
   "outputs": [
    {
     "name": "stdout",
     "output_type": "stream",
     "text": [
      "Stored energy after initialization: 0.0\n",
      "Energy to charge: 1.2 ; capacity: 10 ; stored energy before charge: 0.0 ; after: 1.2\n",
      "Energy to charge: 2.3 ; capacity: 10 ; stored energy before charge: 1.2 ; after: 3.5\n",
      "Energy to charge: -0.5 ; capacity: 10 ; stored energy before charge: 3.5 ; after: 3.0\n",
      "Energy to charge: -4.0 ; capacity: 10 ; stored energy before charge: 3.0 ; after: 0.0\n",
      "Energy to charge: -5.0 ; capacity: 10 ; stored energy before charge: 0.0 ; after: 0.0\n",
      "Energy to charge: 5.0 ; capacity: 10 ; stored energy before charge: 0.0 ; after: 5.0\n",
      "Energy to charge: 5.4 ; capacity: 10 ; stored energy before charge: 5.0 ; after: 10.0\n",
      "Energy to charge: 2.4 ; capacity: 10 ; stored energy before charge: 10.0 ; after: 10.0\n"
     ]
    }
   ],
   "source": [
    "energy_storage_system = EnergyStorageSystem(capacity=10)\n",
    "energy_list = [1.2, 2.3, -0.5, -4.0, -5.0, 5.0, 5.4, 2.4]\n",
    "print('Stored energy after initialization:', energy_storage_system.get_stored_energy())\n",
    "\n",
    "for energy in energy_list:\n",
    "    stored_energy = energy_storage_system.get_stored_energy()\n",
    "    energy_storage_system.charge(energy)\n",
    "    print('Energy to charge:', energy, '; capacity:', energy_storage_system.capacity, '; stored energy before charge:', stored_energy, '; after:', energy_storage_system.get_stored_energy())\n",
    "    "
   ]
  },
  {
   "cell_type": "markdown",
   "metadata": {},
   "source": [
    "Our method makes sure that we never charge below 0 and never above capacity."
   ]
  },
  {
   "cell_type": "markdown",
   "metadata": {},
   "source": [
    "### Class methods\n",
    "\n",
    "Another type of method is the class method and it is declared using the `classmethod` decorator above the method definition. The `classmethod` takes in one compulsory parameter, `cls`, that refers to the class itself and is automatically parsed when the method is called. Class methods do not need an instantiated object to called although, it will work that way as well. With class methods, we have access to any class-level attribute e.g. `DEFAULT_STATE_OF_CHARGE` and any other class methods. However, since the call to `__init__` is prefixed with the class name, it means we can also somewhat access it using the `cls` parameter parsed to class methods. With this knowledge, let us define a `classmethod` that returns some default energy storage system object that has an average sized capacity:"
   ]
  },
  {
   "cell_type": "code",
   "execution_count": 132,
   "metadata": {},
   "outputs": [],
   "source": [
    "class EnergyStorageSystem:\n",
    "    DEFAULT_STATE_OF_CHARGE = 0.0\n",
    "\n",
    "    def __init__(self, state_of_charge: float = None, capacity: float = None):\n",
    "        self.capacity = capacity\n",
    "        self.state_of_charge = state_of_charge\n",
    "\n",
    "    @property\n",
    "    def capacity(self) -> float:\n",
    "        return self.__capacity\n",
    "    \n",
    "    @property\n",
    "    def state_of_charge(self) -> float:\n",
    "        return self.__state_of_charge\n",
    "    \n",
    "    @capacity.setter\n",
    "    def capacity(self, value: float):\n",
    "        value = 0.0 if value is None else value\n",
    "        assert value >= 0.0, 'capacity must be >= 0.0'\n",
    "        self.__capacity = value\n",
    "\n",
    "        if self.capacity == 0.0:\n",
    "            self.state_of_charge = 0.0\n",
    "\n",
    "        else:\n",
    "            pass\n",
    "\n",
    "    @state_of_charge.setter\n",
    "    def state_of_charge(self, value: float):\n",
    "        value = self.DEFAULT_STATE_OF_CHARGE if value is None else value\n",
    "        assert 0 <= value <= 1.0, 'state_of_charge must be between 0.0 and 1.0'\n",
    "        self.__state_of_charge = value\n",
    "\n",
    "        if self.state_of_charge > 0.0 and self.capacity == 0.0:\n",
    "            raise ValueError('state_of_charge must be == 0.0 if capacity is == 0')\n",
    "        \n",
    "        else:\n",
    "            pass\n",
    "\n",
    "    def get_stored_energy(self) -> float:\n",
    "        return self.capacity * self.state_of_charge\n",
    "    \n",
    "    def charge(self, energy: float):\n",
    "        if energy >= 0:\n",
    "            # check to make sure we don't charge beyond capacity\n",
    "            energy = min(self.capacity - self.get_stored_energy(), energy)\n",
    "\n",
    "        else:\n",
    "            # check to make sure we do not discharge more than what is stored\n",
    "            energy = max(-self.get_stored_energy(), energy)\n",
    "\n",
    "        # update state of charge\n",
    "        self.state_of_charge = self.state_of_charge + energy/self.capacity\n",
    "\n",
    "    @classmethod\n",
    "    def get_default_energy_storage_system(cls) -> EnergyStorageSystem:\n",
    "        return cls(capacity=5.0)"
   ]
  },
  {
   "cell_type": "markdown",
   "metadata": {},
   "source": [
    "Now we can use the class method to initialize a default non-zero capacity energy storage system:"
   ]
  },
  {
   "cell_type": "code",
   "execution_count": 133,
   "metadata": {},
   "outputs": [
    {
     "name": "stdout",
     "output_type": "stream",
     "text": [
      "state_of_charge = 0.0\n",
      "capacity = 5.0\n"
     ]
    }
   ],
   "source": [
    "energy_storage_system = EnergyStorageSystem.get_default_energy_storage_system()\n",
    "print('state_of_charge =', energy_storage_system.state_of_charge)\n",
    "print('capacity =', energy_storage_system.capacity)"
   ]
  },
  {
   "cell_type": "markdown",
   "metadata": {},
   "source": [
    "Alternatively, we can initialize an object the way we have always done, then use it to call the class method to instantiate a new object that uses default values:"
   ]
  },
  {
   "cell_type": "code",
   "execution_count": 135,
   "metadata": {},
   "outputs": [
    {
     "name": "stdout",
     "output_type": "stream",
     "text": [
      "state_of_charge = 0.0\n",
      "capacity = 5.0\n"
     ]
    }
   ],
   "source": [
    "energy_storage_system_1 = EnergyStorageSystem(capacity=20.0)\n",
    "energy_storage_system_2 = energy_storage_system_1.get_default_energy_storage_system()\n",
    "print('state_of_charge =', energy_storage_system_2.state_of_charge)\n",
    "print('capacity =', energy_storage_system_2.capacity)"
   ]
  },
  {
   "cell_type": "markdown",
   "metadata": {},
   "source": [
    "### Static methods\n",
    "\n",
    "The third type of method is the static method declared using the `staticmethod` decorator. Like the `classmethod`, it does not need an instantiated object to be called but unlike the `classmethod` does not have access to the class nor its attributes. The static method is best used to define very general helper functions such as calculations that may be useful when defining values used to eventually initialize an object. Let us modify our class to include a `staticmethod` that performs a simple volume calculation given a width, length and height that can be used to calculate the capacity of cube-shaped thermal storage tanks:"
   ]
  },
  {
   "cell_type": "code",
   "execution_count": 136,
   "metadata": {},
   "outputs": [],
   "source": [
    "class EnergyStorageSystem:\n",
    "    DEFAULT_STATE_OF_CHARGE = 0.0\n",
    "\n",
    "    def __init__(self, state_of_charge: float = None, capacity: float = None):\n",
    "        self.capacity = capacity\n",
    "        self.state_of_charge = state_of_charge\n",
    "\n",
    "    @property\n",
    "    def capacity(self) -> float:\n",
    "        return self.__capacity\n",
    "    \n",
    "    @property\n",
    "    def state_of_charge(self) -> float:\n",
    "        return self.__state_of_charge\n",
    "    \n",
    "    @capacity.setter\n",
    "    def capacity(self, value: float):\n",
    "        value = 0.0 if value is None else value\n",
    "        assert value >= 0.0, 'capacity must be >= 0.0'\n",
    "        self.__capacity = value\n",
    "\n",
    "        if self.capacity == 0.0:\n",
    "            self.state_of_charge = 0.0\n",
    "\n",
    "        else:\n",
    "            pass\n",
    "\n",
    "    @state_of_charge.setter\n",
    "    def state_of_charge(self, value: float):\n",
    "        value = self.DEFAULT_STATE_OF_CHARGE if value is None else value\n",
    "        assert 0 <= value <= 1.0, 'state_of_charge must be between 0.0 and 1.0'\n",
    "        self.__state_of_charge = value\n",
    "\n",
    "        if self.state_of_charge > 0.0 and self.capacity == 0.0:\n",
    "            raise ValueError('state_of_charge must be == 0.0 if capacity is == 0')\n",
    "        \n",
    "        else:\n",
    "            pass\n",
    "\n",
    "    def get_stored_energy(self) -> float:\n",
    "        return self.capacity * self.state_of_charge\n",
    "    \n",
    "    def charge(self, energy: float):\n",
    "        if energy >= 0:\n",
    "            # check to make sure we don't charge beyond capacity\n",
    "            energy = min(self.capacity - self.get_stored_energy(), energy)\n",
    "\n",
    "        else:\n",
    "            # check to make sure we do not discharge more than what is stored\n",
    "            energy = max(-self.get_stored_energy(), energy)\n",
    "\n",
    "        # update state of charge\n",
    "        self.state_of_charge = self.state_of_charge + energy/self.capacity\n",
    "\n",
    "    @classmethod\n",
    "    def get_default_energy_storage_system(cls) -> EnergyStorageSystem:\n",
    "        return cls(capacity=5.0)\n",
    "    \n",
    "    @staticmethod\n",
    "    def get_volume(width: float, length: float, height: float) -> float:\n",
    "        assert all([width > 0.0, length > 0.0, height > 0.0]), 'width, length, and height must be > 0'\n",
    "\n",
    "        return width * length * height"
   ]
  },
  {
   "cell_type": "markdown",
   "metadata": {},
   "source": [
    "Now, we can calculate some volume, and use it to set the capacity of our storage system during initialization:"
   ]
  },
  {
   "cell_type": "code",
   "execution_count": 138,
   "metadata": {},
   "outputs": [
    {
     "name": "stdout",
     "output_type": "stream",
     "text": [
      "capacity = 30.0\n"
     ]
    }
   ],
   "source": [
    "energy_storage_system = EnergyStorageSystem(capacity=EnergyStorageSystem.get_volume(3.0, 2.0, 5.0))\n",
    "print('capacity =', energy_storage_system.capacity)"
   ]
  },
  {
   "cell_type": "markdown",
   "metadata": {},
   "source": [
    "private methods"
   ]
  },
  {
   "cell_type": "markdown",
   "metadata": {},
   "source": [
    "## Inheritance\n",
    "---\n",
    "\n",
    "Inheritance is the process by which one class takes on the attributes and methods of another. Newly formed classes are called child classes, and the classes that you derive child classes from are called parent classes [[ref](https://realpython.com/python3-object-oriented-programming/#how-do-you-inherit-from-another-class-in-python)]. Inheritance is a powerful concept in OOP and as it allows us define general attributes and functions in one class that can then be specialized, fine-tuned or overriden in inheriting classes. It is important to note that all classes in Python, are child classes of the in-built `object` class:"
   ]
  },
  {
   "cell_type": "code",
   "execution_count": 141,
   "metadata": {},
   "outputs": [
    {
     "name": "stdout",
     "output_type": "stream",
     "text": [
      "EnergyStorageSystem type: (<class 'object'>,)\n"
     ]
    }
   ],
   "source": [
    "print('EnergyStorageSystem base type:', EnergyStorageSystem.__bases__)"
   ]
  },
  {
   "cell_type": "markdown",
   "metadata": {},
   "source": [
    "Following our energy storage analogy, we can have specific systems such as a thermal energy storage system, or a battery energy storage system. In this section, we will develop our generic `EnergyStorageSystem` class so that it can act as a battery energy storage system. To do this, we will define a new class `Battery` that inherits all attributes and methods of `EnergyStorageSystem`:"
   ]
  },
  {
   "cell_type": "code",
   "execution_count": 155,
   "metadata": {},
   "outputs": [],
   "source": [
    "class Battery(EnergyStorageSystem):\n",
    "    pass"
   ]
  },
  {
   "cell_type": "code",
   "execution_count": 156,
   "metadata": {},
   "outputs": [
    {
     "name": "stdout",
     "output_type": "stream",
     "text": [
      "battery state-of-charge: 0.0\n",
      "battery capacity: 0.0\n"
     ]
    }
   ],
   "source": [
    "battery = Battery()\n",
    "print('battery state-of-charge:', battery.state_of_charge)\n",
    "print('battery capacity:', battery.capacity)"
   ]
  },
  {
   "cell_type": "markdown",
   "metadata": {},
   "source": [
    "We can also parse custom values for the attributes like before:"
   ]
  },
  {
   "cell_type": "code",
   "execution_count": 157,
   "metadata": {},
   "outputs": [
    {
     "name": "stdout",
     "output_type": "stream",
     "text": [
      "battery state-of-charge: 0.0\n",
      "battery capacity: 10\n"
     ]
    }
   ],
   "source": [
    "battery = Battery(state_of_charge=0.0, capacity=10)\n",
    "print('battery state-of-charge:', battery.state_of_charge)\n",
    "print('battery capacity:', battery.capacity)"
   ]
  },
  {
   "cell_type": "markdown",
   "metadata": {},
   "source": [
    "We can also call the methods of `EnergyStorageSystem` like `get_stored_energy`:"
   ]
  },
  {
   "cell_type": "code",
   "execution_count": 158,
   "metadata": {},
   "outputs": [
    {
     "name": "stdout",
     "output_type": "stream",
     "text": [
      "battery stored energy: 0.0\n"
     ]
    }
   ],
   "source": [
    "print('battery stored energy:', battery.get_stored_energy())"
   ]
  },
  {
   "cell_type": "markdown",
   "metadata": {},
   "source": [
    "So far, our `Battery` class is not any different from `EnergyStorageSystem`. We will now modify `Battery` to include attributes that are specific to battery energy storage systems. To do this, we will need to modify the `__init__` function. However, we still want to initialize `state_of_charge` and `capacity` as before with the error checking we defined in their setters in `EnergyStorageSystem`. When inheriting from a parent class, you can still access the parent calss using the `super()`. Now let us define battery-specific attributes while setting our other general energy storage system attributes using the parent class `__init__` method:"
   ]
  },
  {
   "cell_type": "code",
   "execution_count": 159,
   "metadata": {},
   "outputs": [],
   "source": [
    "class Battery(EnergyStorageSystem):\n",
    "    def __init__(self, state_of_charge: float = None, capacity: float = None, nominal_power: float = None, capacity_loss_coefficient: float = None):\n",
    "        super().__init__(state_of_charge, capacity)\n",
    "        self.nominal_power = nominal_power\n",
    "        self.capacity_loss_coefficient = capacity_loss_coefficient\n",
    "\n",
    "    @property\n",
    "    def nominal_power(self) -> float:\n",
    "        return self.__nominal_power\n",
    "    \n",
    "    @property\n",
    "    def capacity_loss_coefficient(self) -> float:\n",
    "        return self.__capacity_loss_coefficient\n",
    "    \n",
    "    @nominal_power.setter\n",
    "    def nominal_power(self, value: float):\n",
    "        value = 0.0 if value is None else value\n",
    "        assert value >= 0.0, 'nominal_power must be >= 0.0'\n",
    "        self.__nominal_power = value\n",
    "\n",
    "    @capacity_loss_coefficient.setter\n",
    "    def capacity_loss_coefficient(self, value: float):\n",
    "       value = 0.0 if value is None else value\n",
    "       assert 0.0 <= value <= 1.0, 'capacity_loss_coefficient must be between 0.0 and 1.0'\n",
    "       self.__capacity_loss_coefficient = value"
   ]
  },
  {
   "cell_type": "markdown",
   "metadata": {},
   "source": [
    "We have included two battery-specific attributes: `nominal_power` and `capacity_loss_coefficient`. The former limits how much energy can be charged onr discharged at a time while the latter specifies the degradation of the battery's capacity due to charge/discharge cycles. Let us now initialize a new battery with the updated class definition:"
   ]
  },
  {
   "cell_type": "code",
   "execution_count": 160,
   "metadata": {},
   "outputs": [
    {
     "name": "stdout",
     "output_type": "stream",
     "text": [
      "state_of_charge = 0.0\n",
      "capacity = 10\n",
      "nominal_power = 2\n",
      "capacity_loss_coefficient = 0.0005\n"
     ]
    }
   ],
   "source": [
    "battery = Battery(state_of_charge=0.0, capacity=10, nominal_power=2, capacity_loss_coefficient=0.0005)\n",
    "print('state_of_charge =', battery.state_of_charge)\n",
    "print('capacity =', battery.capacity)\n",
    "print('nominal_power =', battery.nominal_power)\n",
    "print('capacity_loss_coefficient =', battery.capacity_loss_coefficient)"
   ]
  },
  {
   "cell_type": "markdown",
   "metadata": {},
   "source": [
    "Next we need to make use of these new attributes, specifically in the `get_stored_energy` and `charge` instance methods. We also want to modify the `get_default_energy_storage_system` to set non-zero values for `nominal_power` and `capacity_loss_coefficient` so that the default battery is somewhat realistic. To do these, we will override the existing methods:"
   ]
  },
  {
   "cell_type": "code",
   "execution_count": 167,
   "metadata": {},
   "outputs": [],
   "source": [
    "class Battery(EnergyStorageSystem):\n",
    "    def __init__(self, state_of_charge: float = None, capacity: float = None, nominal_power: float = None, capacity_loss_coefficient: float = None):\n",
    "        super().__init__(state_of_charge, capacity)\n",
    "        self.nominal_power = nominal_power\n",
    "        self.capacity_loss_coefficient = capacity_loss_coefficient\n",
    "        self.__initial_capacity = self.capacity\n",
    "\n",
    "    @property\n",
    "    def nominal_power(self) -> float:\n",
    "        return self.__nominal_power\n",
    "    \n",
    "    @property\n",
    "    def capacity_loss_coefficient(self) -> float:\n",
    "        return self.__capacity_loss_coefficient\n",
    "    \n",
    "    @property\n",
    "    def initial_capacity(self) -> float:\n",
    "        return self.__initial_capacity\n",
    "    \n",
    "    @nominal_power.setter\n",
    "    def nominal_power(self, value: float):\n",
    "        value = 0.0 if value is None else value\n",
    "        assert value >= 0.0, 'nominal_power must be >= 0.0'\n",
    "        self.__nominal_power = value\n",
    "\n",
    "    @capacity_loss_coefficient.setter\n",
    "    def capacity_loss_coefficient(self, value: float):\n",
    "       value = 0.0 if value is None else value\n",
    "       assert 0.0 <= value <= 1.0, 'capacity_loss_coefficient must be between 0.0 and 1.0'\n",
    "       self.__capacity_loss_coefficient = value\n",
    "\n",
    "    def get_stored_energy(self) -> float:\n",
    "        return self.state_of_charge * self.__initial_capacity\n",
    "    \n",
    "    def charge(self, energy: float):\n",
    "        if energy >= 0:\n",
    "            # check to make sure energy does not exceed the nominal power\n",
    "            energy = min(energy, self.nominal_power)\n",
    "\n",
    "        else:\n",
    "            # check to make sure discharged energy is not more than the nominal power\n",
    "            energy = max(energy, -self.nominal_power)\n",
    "\n",
    "        # update state of charge using parent class charge method\n",
    "        super().charge(energy)\n",
    "\n",
    "        # degrade battery\n",
    "        self.degrade()\n",
    "\n",
    "    def degrade(self):\n",
    "        self.capacity = self.capacity - self.capacity*self.capacity_loss_coefficient\n",
    "\n",
    "        # make sure soc is not greater than the new capacity\n",
    "        self.state_of_charge = min(self.state_of_charge, self.capacity/self.__initial_capacity)\n",
    "\n",
    "    @classmethod\n",
    "    def get_default_energy_storage_system(cls) -> Battery:\n",
    "        ess = super().get_default_energy_storage_system()\n",
    "        return cls(\n",
    "            capacity=ess.capacity, \n",
    "            state_of_charge=ess.state_of_charge, \n",
    "            nominal_power=0.2*ess.capacity, \n",
    "            capacity_loss_coefficient=0.0005\n",
    "        )"
   ]
  },
  {
   "cell_type": "markdown",
   "metadata": {},
   "source": [
    "For the sake of modularizing our code, we have defined the degradation model as a separate instance method in our `Battery` class. Our `charge` method now limits the energy to the `nominal_power` before calling the original logic for charging that we defined in the parent `EnergyStorageSystem` class. We also defined a private attribute `__initial_capacity` that is needed when calculating the stored energy. Let us go ahead an initialize a new battery with the updated class definition:"
   ]
  },
  {
   "cell_type": "code",
   "execution_count": 175,
   "metadata": {},
   "outputs": [
    {
     "name": "stdout",
     "output_type": "stream",
     "text": [
      "state_of_charge = 0.0\n",
      "capacity = 5.0\n",
      "nominal_power = 1.0\n",
      "capacity_loss_coefficient = 0.0005\n"
     ]
    }
   ],
   "source": [
    "battery = Battery.get_default_energy_storage_system()\n",
    "print('state_of_charge =', battery.state_of_charge)\n",
    "print('capacity =', battery.capacity)\n",
    "print('nominal_power =', battery.nominal_power)\n",
    "print('capacity_loss_coefficient =', battery.capacity_loss_coefficient)"
   ]
  },
  {
   "cell_type": "markdown",
   "metadata": {},
   "source": [
    "Now watch how the capacity changes because of the modifications we made to the `charge` method:"
   ]
  },
  {
   "cell_type": "code",
   "execution_count": 176,
   "metadata": {},
   "outputs": [
    {
     "name": "stdout",
     "output_type": "stream",
     "text": [
      "{'e': 0.2, 'before': {'c': 5.0, 'stored': 0.0, 'soc': 0.0}, 'after': {'c': 4.9975, 'stored': 0.2, 'soc': 0.04}}\n",
      "{'e': 0.1, 'before': {'c': 4.9975, 'stored': 0.2, 'soc': 0.04}, 'after': {'c': 4.99500125, 'stored': 0.30005002501250627, 'soc': 0.060010005002501254}}\n",
      "{'e': -0.1, 'before': {'c': 4.99500125, 'stored': 0.30005002501250627, 'soc': 0.060010005002501254}, 'after': {'c': 4.9925037493749995, 'stored': 0.199949949962475, 'soc': 0.039989989992495}}\n",
      "{'e': 0.4, 'before': {'c': 4.9925037493749995, 'stored': 0.199949949962475, 'soc': 0.039989989992495}, 'after': {'c': 4.990007497500312, 'stored': 0.6005505504628503, 'soc': 0.12011011009257005}}\n",
      "{'e': 2.0, 'before': {'c': 4.990007497500312, 'stored': 0.6005505504628503, 'soc': 0.12011011009257005}, 'after': {'c': 4.987512493751562, 'stored': 1.6025530529650394, 'soc': 0.3205106105930079}}\n",
      "{'e': 2.5, 'before': {'c': 4.987512493751562, 'stored': 1.6025530529650394, 'soc': 0.3205106105930079}, 'after': {'c': 4.985018737504686, 'stored': 2.6050568073444187, 'soc': 0.5210113614688837}}\n",
      "{'e': 1.4, 'before': {'c': 4.985018737504686, 'stored': 2.6050568073444187, 'soc': 0.5210113614688837}, 'after': {'c': 4.982526228135933, 'stored': 3.6080620643523016, 'soc': 0.7216124128704603}}\n",
      "{'e': 2.5, 'before': {'c': 4.982526228135933, 'stored': 3.6080620643523016, 'soc': 0.7216124128704603}, 'after': {'c': 4.980034965021865, 'stored': 4.611569074865441, 'soc': 0.9223138149730883}}\n",
      "{'e': -2.6, 'before': {'c': 4.980034965021865, 'stored': 4.611569074865441, 'soc': 0.9223138149730883}, 'after': {'c': 4.977544947539354, 'stored': 3.6075600598447917, 'soc': 0.7215120119689583}}\n",
      "{'e': -0.3, 'before': {'c': 4.977544947539354, 'stored': 3.6075600598447917, 'soc': 0.7215120119689583}, 'after': {'c': 4.975056175065584, 'stored': 3.306206678647998, 'soc': 0.6612413357295996}}\n"
     ]
    }
   ],
   "source": [
    "battery = Battery.get_default_energy_storage_system()\n",
    "energy_list = [0.2, 0.1, -0.1, 0.4, 2.0, 2.5, 1.4, 2.5, -2.6, -0.3]\n",
    "\n",
    "for energy in energy_list:\n",
    "    capacity = battery.capacity\n",
    "    stored_energy = battery.get_stored_energy()\n",
    "    state_of_charge = battery.state_of_charge\n",
    "    battery.charge(energy)\n",
    "    info_dict = {\n",
    "        'e': energy,\n",
    "        'before': {'c': capacity, 'stored': stored_energy, 'soc': state_of_charge},\n",
    "        'after': {'c': battery.capacity, 'stored': battery.get_stored_energy(), 'soc': battery.state_of_charge},\n",
    "    }\n",
    "    print(info_dict)"
   ]
  },
  {
   "cell_type": "markdown",
   "metadata": {},
   "source": [
    "### Private methods\n",
    "\n",
    "So far, we have built up our original `EnergyStorageSystem` class to the point that we created a `Battery` class that inherits from it. Recall, the section on private attributes? It turns out that we can also have private methods. Sometimes, we do not want our users to directly access some methods as there may be some conditions we want to exist before such method is called which, the user may not be aware of and may misuse the method. In our `Battery` class, the `degrade` method should only be called after a charge/discharge cycle. However, the way it has been defined publicly, it can be called at will by user:"
   ]
  },
  {
   "cell_type": "code",
   "execution_count": 177,
   "metadata": {},
   "outputs": [
    {
     "name": "stdout",
     "output_type": "stream",
     "text": [
      "battery capacity after degradation: 4.9975\n",
      "battery capacity after degradation: 4.99500125\n",
      "battery capacity after degradation: 4.9925037493749995\n",
      "battery capacity after degradation: 4.990007497500312\n",
      "battery capacity after degradation: 4.987512493751562\n"
     ]
    }
   ],
   "source": [
    "battery = Battery.get_default_energy_storage_system()\n",
    "\n",
    "for _ in range(5):\n",
    "    battery.degrade()\n",
    "    print('battery capacity after degradation:', battery.capacity)"
   ]
  },
  {
   "cell_type": "markdown",
   "metadata": {},
   "source": [
    "We can prevent this kind of exposed call by converting the method to a private instance method. To do this, we use the same double underscore prefix in the method name:"
   ]
  },
  {
   "cell_type": "code",
   "execution_count": 179,
   "metadata": {},
   "outputs": [],
   "source": [
    "class Battery(EnergyStorageSystem):\n",
    "    def __init__(self, state_of_charge: float = None, capacity: float = None, nominal_power: float = None, capacity_loss_coefficient: float = None):\n",
    "        super().__init__(state_of_charge, capacity)\n",
    "        self.nominal_power = nominal_power\n",
    "        self.capacity_loss_coefficient = capacity_loss_coefficient\n",
    "        self.__initial_capacity = self.capacity\n",
    "\n",
    "    @property\n",
    "    def nominal_power(self) -> float:\n",
    "        return self.__nominal_power\n",
    "    \n",
    "    @property\n",
    "    def capacity_loss_coefficient(self) -> float:\n",
    "        return self.__capacity_loss_coefficient\n",
    "    \n",
    "    @property\n",
    "    def initial_capacity(self) -> float:\n",
    "        return self.__initial_capacity\n",
    "    \n",
    "    @nominal_power.setter\n",
    "    def nominal_power(self, value: float):\n",
    "        value = 0.0 if value is None else value\n",
    "        assert value >= 0.0, 'nominal_power must be >= 0.0'\n",
    "        self.__nominal_power = value\n",
    "\n",
    "    @capacity_loss_coefficient.setter\n",
    "    def capacity_loss_coefficient(self, value: float):\n",
    "       value = 0.0 if value is None else value\n",
    "       assert 0.0 <= value <= 1.0, 'capacity_loss_coefficient must be between 0.0 and 1.0'\n",
    "       self.__capacity_loss_coefficient = value\n",
    "\n",
    "    def get_stored_energy(self) -> float:\n",
    "        return self.state_of_charge * self.__initial_capacity\n",
    "    \n",
    "    def charge(self, energy: float):\n",
    "        if energy >= 0:\n",
    "            # check to make sure energy does not exceed the nominal power\n",
    "            energy = min(energy, self.nominal_power)\n",
    "\n",
    "        else:\n",
    "            # check to make sure discharged energy is not more than the nominal power\n",
    "            energy = max(energy, -self.nominal_power)\n",
    "\n",
    "        # update state of charge using parent class charge method\n",
    "        super().charge(energy)\n",
    "\n",
    "        # degrade battery\n",
    "        self.__degrade()\n",
    "\n",
    "    def __degrade(self):\n",
    "        self.capacity = self.capacity - self.capacity*self.capacity_loss_coefficient\n",
    "\n",
    "        # make sure soc is not greater than the new capacity\n",
    "        self.state_of_charge = min(self.state_of_charge, self.capacity/self.__initial_capacity)\n",
    "\n",
    "    @classmethod\n",
    "    def get_default_energy_storage_system(cls) -> Battery:\n",
    "        ess = super().get_default_energy_storage_system()\n",
    "        return cls(\n",
    "            capacity=ess.capacity, \n",
    "            state_of_charge=ess.state_of_charge, \n",
    "            nominal_power=0.2*ess.capacity, \n",
    "            capacity_loss_coefficient=0.0005\n",
    "        )"
   ]
  },
  {
   "cell_type": "markdown",
   "metadata": {},
   "source": [
    "Now neither the public `degrade` nor private `__degrade` is accessible:"
   ]
  },
  {
   "cell_type": "code",
   "execution_count": 184,
   "metadata": {},
   "outputs": [
    {
     "ename": "AttributeError",
     "evalue": "'Battery' object has no attribute 'degrade'",
     "output_type": "error",
     "traceback": [
      "\u001b[0;31m---------------------------------------------------------------------------\u001b[0m",
      "\u001b[0;31mAttributeError\u001b[0m                            Traceback (most recent call last)",
      "\u001b[0;32m/var/folders/gz/rbl0rksd7dqcx5pny2wgmsb40000gn/T/ipykernel_29354/2740033953.py\u001b[0m in \u001b[0;36m<module>\u001b[0;34m\u001b[0m\n\u001b[1;32m      1\u001b[0m \u001b[0mbattery\u001b[0m \u001b[0;34m=\u001b[0m \u001b[0mBattery\u001b[0m\u001b[0;34m.\u001b[0m\u001b[0mget_default_energy_storage_system\u001b[0m\u001b[0;34m(\u001b[0m\u001b[0;34m)\u001b[0m\u001b[0;34m\u001b[0m\u001b[0;34m\u001b[0m\u001b[0m\n\u001b[0;32m----> 2\u001b[0;31m \u001b[0mbattery\u001b[0m\u001b[0;34m.\u001b[0m\u001b[0mdegrade\u001b[0m\u001b[0;34m(\u001b[0m\u001b[0;34m)\u001b[0m\u001b[0;34m\u001b[0m\u001b[0;34m\u001b[0m\u001b[0m\n\u001b[0m",
      "\u001b[0;31mAttributeError\u001b[0m: 'Battery' object has no attribute 'degrade'"
     ]
    }
   ],
   "source": [
    "battery = Battery.get_default_energy_storage_system()\n",
    "battery.degrade()"
   ]
  },
  {
   "cell_type": "code",
   "execution_count": 185,
   "metadata": {},
   "outputs": [
    {
     "ename": "AttributeError",
     "evalue": "'Battery' object has no attribute '__degrade'",
     "output_type": "error",
     "traceback": [
      "\u001b[0;31m---------------------------------------------------------------------------\u001b[0m",
      "\u001b[0;31mAttributeError\u001b[0m                            Traceback (most recent call last)",
      "\u001b[0;32m/var/folders/gz/rbl0rksd7dqcx5pny2wgmsb40000gn/T/ipykernel_29354/704310332.py\u001b[0m in \u001b[0;36m<module>\u001b[0;34m\u001b[0m\n\u001b[1;32m      1\u001b[0m \u001b[0mbattery\u001b[0m \u001b[0;34m=\u001b[0m \u001b[0mBattery\u001b[0m\u001b[0;34m.\u001b[0m\u001b[0mget_default_energy_storage_system\u001b[0m\u001b[0;34m(\u001b[0m\u001b[0;34m)\u001b[0m\u001b[0;34m\u001b[0m\u001b[0;34m\u001b[0m\u001b[0m\n\u001b[0;32m----> 2\u001b[0;31m \u001b[0mbattery\u001b[0m\u001b[0;34m.\u001b[0m\u001b[0m__degrade\u001b[0m\u001b[0;34m(\u001b[0m\u001b[0;34m)\u001b[0m\u001b[0;34m\u001b[0m\u001b[0;34m\u001b[0m\u001b[0m\n\u001b[0m",
      "\u001b[0;31mAttributeError\u001b[0m: 'Battery' object has no attribute '__degrade'"
     ]
    }
   ],
   "source": [
    "battery = Battery.get_default_energy_storage_system()\n",
    "battery.__degrade()"
   ]
  },
  {
   "cell_type": "markdown",
   "metadata": {},
   "source": [
    "## Mutation\n",
    "---\n",
    "\n",
    "We learned about mutation in Python in a previous tutorial. Mutation is also relevant when building your own custom classes. Unless a variable is assigned a class object using the `__init__` method, merely assigning an existing object to a new variable will end up in a situation where more than one variable points to the same object. This might be a desirable or undesirable effect. Here we will focus on the desirable side of things.\n",
    "\n",
    "Say for example, we have two buildings that share one battery in a neighborhood. We want to make sure that we account for changes in the battery state-of-charge across both buildings. We can take advantage of the fact that class objects are mutable by assigning the same `Battery` object to both buildings. To illustrate this, we will first define a very simple `Building` class that has a `battery` attribute:"
   ]
  },
  {
   "cell_type": "code",
   "execution_count": 192,
   "metadata": {},
   "outputs": [],
   "source": [
    "class Building:\n",
    "    def __init__(self, battery: Battery = None):\n",
    "        self.battery = battery\n",
    "    \n",
    "    @property\n",
    "    def battery(self) -> Battery:\n",
    "        return self.__battery\n",
    "\n",
    "    @battery.setter\n",
    "    def battery(self, value: Battery):\n",
    "        self.__battery = Battery.get_default_energy_storage_system() if value is None else value"
   ]
  },
  {
   "cell_type": "markdown",
   "metadata": {},
   "source": [
    "Now we will initialize a `Battery` and then use it to initialize two different `Building` objects:"
   ]
  },
  {
   "cell_type": "code",
   "execution_count": 200,
   "metadata": {},
   "outputs": [
    {
     "name": "stdout",
     "output_type": "stream",
     "text": [
      "Both building battery properties have the same memory id? True\n"
     ]
    }
   ],
   "source": [
    "battery = Battery.get_default_energy_storage_system()\n",
    "building_1 = Building(battery=battery)\n",
    "building_2 = Building(battery=battery)\n",
    "print('Both building battery properties have the same memory id?', id(building_1.battery) == id(building_2.battery))"
   ]
  },
  {
   "cell_type": "markdown",
   "metadata": {},
   "source": [
    "If we change the battery's `nominal_power`, it is changed in both buildings:"
   ]
  },
  {
   "cell_type": "code",
   "execution_count": 201,
   "metadata": {},
   "outputs": [
    {
     "name": "stdout",
     "output_type": "stream",
     "text": [
      "battery nominal_power before change: 1.0\n",
      "building_1 nominal_power before change: 1.0\n",
      "building_2 nominal_power before change: 1.0\n",
      "battery nominal_power after change: 1.5\n",
      "building_1 nominal_power after change: 1.5\n",
      "building_2 nominal_power after change: 1.5\n"
     ]
    }
   ],
   "source": [
    "print('battery nominal_power before change:', battery.nominal_power)\n",
    "print('building_1 nominal_power before change:', building_1.battery.nominal_power)\n",
    "print('building_2 nominal_power before change:', building_2.battery.nominal_power)\n",
    "battery.nominal_power = 1.5\n",
    "print('battery nominal_power after change:', battery.nominal_power)\n",
    "print('building_1 nominal_power after change:', building_1.battery.nominal_power)\n",
    "print('building_2 nominal_power after change:', building_2.battery.nominal_power)"
   ]
  },
  {
   "cell_type": "markdown",
   "metadata": {},
   "source": [
    "We get the same effect if we change it at the building level:"
   ]
  },
  {
   "cell_type": "code",
   "execution_count": 202,
   "metadata": {},
   "outputs": [
    {
     "name": "stdout",
     "output_type": "stream",
     "text": [
      "battery nominal_power before change: 1.5\n",
      "building_1 nominal_power before change: 1.5\n",
      "building_2 nominal_power before change: 1.5\n",
      "battery nominal_power after change: 2.0\n",
      "building_1 nominal_power after change: 2.0\n",
      "building_2 nominal_power after change: 2.0\n"
     ]
    }
   ],
   "source": [
    "print('battery nominal_power before change:', battery.nominal_power)\n",
    "print('building_1 nominal_power before change:', building_1.battery.nominal_power)\n",
    "print('building_2 nominal_power before change:', building_2.battery.nominal_power)\n",
    "building_1.battery.nominal_power = 2.0\n",
    "print('battery nominal_power after change:', battery.nominal_power)\n",
    "print('building_1 nominal_power after change:', building_1.battery.nominal_power)\n",
    "print('building_2 nominal_power after change:', building_2.battery.nominal_power)"
   ]
  },
  {
   "cell_type": "markdown",
   "metadata": {},
   "source": [
    "This means that we can then charge or discharge the same battery from either building:"
   ]
  },
  {
   "cell_type": "code",
   "execution_count": 203,
   "metadata": {},
   "outputs": [
    {
     "name": "stdout",
     "output_type": "stream",
     "text": [
      "Battery state_of_charge before building calls: 0.0\n",
      "Battery state_of_charge after building_1 call: 0.04\n",
      "Battery state_of_charge after building_2 call: 0.019989994997498747\n"
     ]
    }
   ],
   "source": [
    "print('Battery state_of_charge before building calls:', battery.state_of_charge)\n",
    "building_1.battery.charge(0.2)\n",
    "print('Battery state_of_charge after building_1 call:', battery.state_of_charge)\n",
    "building_2.battery.charge(-0.1)\n",
    "print('Battery state_of_charge after building_2 call:', battery.state_of_charge)"
   ]
  },
  {
   "cell_type": "markdown",
   "metadata": {},
   "source": [
    "## Conclusion\n",
    "---\n",
    "\n",
    "In this tutorial, we have learned the basics of object-oriented programming the _Pythonic_ way. However, there is more to these topics than covered here as well as so many topics that are not covered in this notebook.\n",
    "\n",
    "Thus it is encouraged that you take some time to read through the references and further reading links. Most importantly, practice, practice, practice!"
   ]
  },
  {
   "cell_type": "markdown",
   "metadata": {},
   "source": [
    "## Further reading and references\n",
    "---\n",
    "\n",
    "1. [Object-oriented programming](https://en.wikipedia.org/wiki/Object-oriented_programming)\n",
    "2. [Object-Oriented Programming (OOP) in Python 3](https://realpython.com/python3-object-oriented-programming/)\n",
    "3. [Getters and Setters: Manage Attributes in Python](https://realpython.com/python-getter-setter/)\n",
    "4. [Python's Instance, Class, and Static Methods Demystified](https://realpython.com/instance-class-and-static-methods-demystified/)"
   ]
  }
 ],
 "metadata": {
  "kernelspec": {
   "display_name": "env",
   "language": "python",
   "name": "python3"
  },
  "language_info": {
   "codemirror_mode": {
    "name": "ipython",
    "version": 3
   },
   "file_extension": ".py",
   "mimetype": "text/x-python",
   "name": "python",
   "nbconvert_exporter": "python",
   "pygments_lexer": "ipython3",
   "version": "3.7.7"
  }
 },
 "nbformat": 4,
 "nbformat_minor": 2
}
