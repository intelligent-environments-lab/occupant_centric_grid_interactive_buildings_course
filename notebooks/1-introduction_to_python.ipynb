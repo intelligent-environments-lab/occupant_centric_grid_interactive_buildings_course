{
 "cells": [
  {
   "cell_type": "markdown",
   "metadata": {},
   "source": [
    "# Introduction to Python\n",
    "---\n",
    "\n",
    "[Python](https://www.python.org) is one of many high-level programming languages that has grown in popularity for its easy implementation for prototyping new code and community-driven and open-source culture. It is relaxed in its syntax (which can be a curse sometime to be fair) and is sometimes referred to as executable pseudo-code since it reads like plain English. It has become very popular amongst non-traditional computer scientists for these reasons and is the more preferred language for data science and machine learning projects.\n",
    "\n",
    "It will be impractical to to attempt to cover all the basics of the Python language as it can very easily turn into a class of itself. Instead, this tutorial will provides a brief and high-level introduction to Python but detailed enough for the purposes of a first-time coder in this class. In this tutorial, you will learn:\n",
    "\n",
    "1. about variables and different native data types in Python language;\n",
    "3. to write loops and define their termination point;\n",
    "4. to define conditional statements that drive code execution; \n",
    "5. execute math operations; and\n",
    "5. learn the syntax used to define functions.\n",
    "7. Basic I/O"
   ]
  },
  {
   "cell_type": "markdown",
   "metadata": {},
   "source": [
    "## Variables\n",
    "Think of variables as empty buckets (variable name) that are used to store content (variable value) that need to be accessed multiple times during their lifetime. As the name suggests, the value of the variable can change. To define a variable an assign a value, the name is set equal to some value:"
   ]
  },
  {
   "cell_type": "code",
   "execution_count": 1,
   "metadata": {},
   "outputs": [],
   "source": [
    "indoor_dry_bulb_temperature = 24"
   ]
  },
  {
   "cell_type": "markdown",
   "metadata": {},
   "source": [
    "Above, we have defined a variable named `indoor_dry_bulb_temperature` and assigned it the value 24. We can change the value to something else:"
   ]
  },
  {
   "cell_type": "code",
   "execution_count": 2,
   "metadata": {},
   "outputs": [],
   "source": [
    "indoor_dry_bulb_temperature = 26"
   ]
  },
  {
   "cell_type": "markdown",
   "metadata": {},
   "source": [
    "Now, let print to the console, the current value of `indoor_dry_bulb_temperature`. Printing variable values is a simple but very effective way of debugging your code (read finding out why your code is not working as expected) since you typically have some idea of what the values of the variables in your code should be at any given time and can check the actual value against your groundtruth. To print variables, we use the in-built `print` function:"
   ]
  },
  {
   "cell_type": "code",
   "execution_count": 3,
   "metadata": {},
   "outputs": [
    {
     "name": "stdout",
     "output_type": "stream",
     "text": [
      "26\n"
     ]
    }
   ],
   "source": [
    "print(indoor_dry_bulb_temperature)"
   ]
  },
  {
   "cell_type": "markdown",
   "metadata": {},
   "source": [
    "We see that the value of `indoor_dry_bulb_temperature` is the second value assignment we carried out.\n",
    "\n",
    "Sometimes, we want to define a 'variable' whose value should never change during its lifetime. These kind of variable is called a 'constant'. Python however by default, does not have support for constant values i.e. all variables are allowed to change values during their lifetime. Instead, we _soft define_ constants in Python by the way we write the variable name. In practice, the constant's value can change and WILL CHANGE if a new value is assigned however, its name can be indicative to you writing the code or other users that it's best not set the value once and never change it.\n",
    "\n",
    "In the variable we defined earlier, we wrote its name in lowercase characters. We also separated words using underscores. This style of variable naming convention is known as [snake case](https://en.wikipedia.org/wiki/Snake_case). Constants, follow the snake case convention but all characters are written in uppercase, for example:"
   ]
  },
  {
   "cell_type": "code",
   "execution_count": 4,
   "metadata": {},
   "outputs": [],
   "source": [
    "AUSTIN_LATITUDE = 30.2672"
   ]
  },
  {
   "cell_type": "markdown",
   "metadata": {},
   "source": [
    "We have used the constant named `AUSTIN_LATITUDE` to define the latitude of Austin, Texas. Unless the state of Texas gets remapped, Austin's latitude will not be changing anytime soon hence, is a constant. However, since Python has no real constants, we can change the value of `AUSTIN_LATITUDE` but we shouldn't for the sake of staying true to our naming convention 🙂.\n",
    "\n",
    "Note that it is good practice to be as explicit as possible when naming variables. Your variable names should be obvious, self-documenting and exclude abbreviations as much as possible. For example, a variable that defines the dry-bulb temperature of a building is better defined as `indoor_dry_bulb_temperature`. One might be tempted to name it as just `dry_bulb_temperature` for brevity which might be confused with the weather's dry-bulb temperature. Also, `temperature` might be ambiguous since there are other relevant temperature variables within a building such wet-bulb temperature, operative temperature, e.t.c. `temp` might be obvious to someone reading your code that is familiar with its context but is also often used as a lazy name to define [temp]orary variables.\n",
    "\n",
    "In the next cell, define a variable that stores the boiling point temperature value of pure water in degrees Celcius (is this a variable that can change or is constant?):"
   ]
  },
  {
   "cell_type": "code",
   "execution_count": 5,
   "metadata": {},
   "outputs": [],
   "source": [
    "# *** define your variable below ****\n"
   ]
  },
  {
   "cell_type": "markdown",
   "metadata": {},
   "source": [
    "The above code and text cover conclude the tutorial on variables in Python for the purpose of this class. The next section introduces the different data types that can be stored in variables."
   ]
  },
  {
   "cell_type": "markdown",
   "metadata": {},
   "source": [
    "## Data types\n",
    "\n",
    "A bucket may hold water but can also be used to store sand, cleaning supplies, e.t.c. The same reasoning applies to variables in Python. Our earlier defined variable `indoor_dry_bulb_temperature` was used to store a number. Similarly, our constant `AUSTIN_LATITUDE` stores a number with 4 decimal places. Python has an in-built function, `type` that can be used to return the data type of any variable. Let us print out the data types of `indoor_dry_bulb_temperature` and `AUSTIN_LATITUDE`:"
   ]
  },
  {
   "cell_type": "code",
   "execution_count": 6,
   "metadata": {},
   "outputs": [
    {
     "name": "stdout",
     "output_type": "stream",
     "text": [
      "indoor_dry_bulb_temperature type: <class 'int'>\n",
      "AUSTIN_LATITUDE: <class 'float'>\n"
     ]
    }
   ],
   "source": [
    "print('indoor_dry_bulb_temperature type:', type(indoor_dry_bulb_temperature))\n",
    "print('AUSTIN_LATITUDE:', type(AUSTIN_LATITUDE))"
   ]
  },
  {
   "cell_type": "markdown",
   "metadata": {},
   "source": [
    "Asides the `int` and `float` types, there are 13 other in-built data types in Python classified under 8 categories:\n",
    "\n",
    "1. Text:\n",
    "    - `str`<sup>*</sup>\n",
    "2. Numeric:\t\n",
    "    - `int`<sup>*</sup>\n",
    "    - `float`<sup>*</sup>\n",
    "    - `complex`\n",
    "3. Sequence:\n",
    "    - `list`<sup>*</sup>\n",
    "    - `tuple`<sup>*</sup>\n",
    "    - `range`<sup>*</sup>\n",
    "6. Boolean Type:\n",
    "    - `bool`<sup>*</sup>\n",
    "4. Mapping Type:\n",
    "    - `dict`<sup>*</sup>\n",
    "5. Set Types:\n",
    "    - `set`<sup>*</sup>\n",
    "    - `frozenset`\n",
    "7. Binary Types:\n",
    "    - `bytes`\n",
    "    - `bytearray`\n",
    "    - `memoryview`\n",
    "8. None:\n",
    "    - `NoneType`<sup>*</sup>\n",
    "\n",
    "However, we will only discuss 10 of these types, identified by the asterisk superscript next to their name as they are what we will be typically used in our exercises."
   ]
  },
  {
   "cell_type": "markdown",
   "metadata": {},
   "source": [
    "### Text types\n",
    "\n",
    "The `str` type is used to store a sequence of alphanumeric characters as well as whitespace characters a.k.a. strings and its value is wrapped around either single quotes or double quotes. The choice of quote style is dependent on personal preference. Names and unique alphanumeric IDs are usually defined as strings. Let us define a name below:"
   ]
  },
  {
   "cell_type": "code",
   "execution_count": 7,
   "metadata": {},
   "outputs": [],
   "source": [
    "occupant_first_name = 'Reilly'"
   ]
  },
  {
   "cell_type": "markdown",
   "metadata": {},
   "source": [
    "We can also define a string that has a quotation mark within the string as:"
   ]
  },
  {
   "cell_type": "code",
   "execution_count": 8,
   "metadata": {},
   "outputs": [
    {
     "name": "stdout",
     "output_type": "stream",
     "text": [
      "O'Reilly\n"
     ]
    }
   ],
   "source": [
    "occupant_first_name = 'O\\'Reilly'\n",
    "print(occupant_first_name)"
   ]
  },
  {
   "cell_type": "code",
   "execution_count": 9,
   "metadata": {},
   "outputs": [
    {
     "name": "stdout",
     "output_type": "stream",
     "text": [
      "O'Reilly\n"
     ]
    }
   ],
   "source": [
    "occupant_first_name = \"O'Reilly\"\n",
    "print(occupant_first_name)"
   ]
  },
  {
   "cell_type": "markdown",
   "metadata": {},
   "source": [
    "The `str` type has a number of convenience functions (a.k.a. methods) that allows one carry inquire about a `str` variables value. Some of the favorites are `len` to inquire about the number of characters in a string, `lower` to convert the string to lowercase, `upper` to convert the string to uppercase, `replace` to replace a character in the string with another character, `strip` used to remove leading and trailing whitespace by default or any specified character, `startswith` to assert if the string starts with a sequence of characters, `endswith` to assert if the string ends with a sequence of characters, `split` to break a string into a list of characters where the splitting happens at each occurrence of specified characters, and `join` used as a conjunction when convert a list of strings to a single string. Example usages of these `str` methods are shown below:"
   ]
  },
  {
   "cell_type": "code",
   "execution_count": 10,
   "metadata": {},
   "outputs": [
    {
     "name": "stdout",
     "output_type": "stream",
     "text": [
      "str length: 8\n",
      "str in lowercase: o'reilly\n",
      "str in uppercase: O'REILLY\n",
      "str replacement: O'Brien\n",
      "str strip: Reilly\n",
      "str startswith check: True\n",
      "str endswith check: False\n",
      "str split into list of strings: ['O', 'Reilly']\n"
     ]
    }
   ],
   "source": [
    "print('str length:', len(occupant_first_name))\n",
    "print('str in lowercase:', occupant_first_name.lower())\n",
    "print('str in uppercase:', occupant_first_name.upper())\n",
    "print('str replacement:', occupant_first_name.replace('Reilly', 'Brien'))\n",
    "print('str strip:', occupant_first_name.strip('O\\''))\n",
    "print('str startswith check:', occupant_first_name.startswith('O'))\n",
    "print('str endswith check:', occupant_first_name.endswith('n'))\n",
    "print('str split into list of strings:', occupant_first_name.split('\\''))"
   ]
  },
  {
   "cell_type": "markdown",
   "metadata": {},
   "source": [
    "We can retrieve a substring of the full string using string indices. Note that Python, like many other languages, starts indexing from 0 such that if we wanted to retrieve the first character, we will use index 0 and if we wanted to retrieve the third character, we will use index 2. If we want to retrieve the first to third characters, we will use the index of the first character up to the index of the last character plus one. See the examples below:"
   ]
  },
  {
   "cell_type": "code",
   "execution_count": 11,
   "metadata": {},
   "outputs": [
    {
     "name": "stdout",
     "output_type": "stream",
     "text": [
      "First character: O\n",
      "Third character: R\n",
      "First to third characters: O'R\n"
     ]
    }
   ],
   "source": [
    "print('First character:', occupant_first_name[0])\n",
    "print('Third character:', occupant_first_name[2])\n",
    "print('First to third characters:', occupant_first_name[0:3])"
   ]
  },
  {
   "cell_type": "markdown",
   "metadata": {},
   "source": [
    "### Numeric types\n",
    "\n",
    "The numeric data types we learn about are `int` for storing integer variables and `float` for storing real numbers. We already defined one of each earlier in the `Variable` section where `indoor_dry_bulb_temperature` is an integer and the constant `AUSTIN_LATITUDE` is a float type. There are no `int` nor `float` type methods that need to be discussed but will mention that `float` type has an accuracy of up to 15 decimal places. This means that you cannot store a real number that has more than 17 decimal place precision:"
   ]
  },
  {
   "cell_type": "code",
   "execution_count": 12,
   "metadata": {},
   "outputs": [
    {
     "name": "stdout",
     "output_type": "stream",
     "text": [
      "0.012345678901234568\n"
     ]
    }
   ],
   "source": [
    "A_CONSTANT_WITH_MORE_THAN_20_DECIMAL_PLACES = 0.01234567890123456789\n",
    "print(A_CONSTANT_WITH_MORE_THAN_20_DECIMAL_PLACES)"
   ]
  },
  {
   "cell_type": "markdown",
   "metadata": {},
   "source": [
    "Although the constant `A_CONSTANT_WITH_MORE_THAN_20_DECIMAL_PLACES` has 20 decimal places by definition, it prints only up to 17 decimal places."
   ]
  },
  {
   "cell_type": "markdown",
   "metadata": {},
   "source": [
    "### Sequence types\n",
    "\n",
    "Sequence types for our purposes refer to `list`, `tuple` and `range` types. A `list` is an ordered sequence of variables and different data types can be stored in one list. This is a powerful feature of lists in Python compared to their counterparts in other programming languages that allow only one data type to be stored in their list equivalents. Although, it is good practice to make one-data-type lists. The syntax to define a `list` is:"
   ]
  },
  {
   "cell_type": "code",
   "execution_count": 13,
   "metadata": {},
   "outputs": [
    {
     "name": "stdout",
     "output_type": "stream",
     "text": [
      "[20, 21, 22, 24, 26]\n"
     ]
    }
   ],
   "source": [
    "indoor_dry_bulb_temperature_setpoint_schedule = [20, 21, 22, 24, indoor_dry_bulb_temperature]\n",
    "print(indoor_dry_bulb_temperature_setpoint_schedule)"
   ]
  },
  {
   "cell_type": "markdown",
   "metadata": {},
   "source": [
    "Above, we have defined a list that stores the previous 4 indoor dry-bulb temperature values as well as the current value. To retrieve any element in the list, we use the element's index like we did with `str` type:"
   ]
  },
  {
   "cell_type": "code",
   "execution_count": 14,
   "metadata": {},
   "outputs": [
    {
     "name": "stdout",
     "output_type": "stream",
     "text": [
      "First element in list: 20\n",
      "Third element in list: 22\n"
     ]
    }
   ],
   "source": [
    "print('First element in list:', indoor_dry_bulb_temperature_setpoint_schedule[0])\n",
    "print('Third element in list:', indoor_dry_bulb_temperature_setpoint_schedule[2])"
   ]
  },
  {
   "cell_type": "markdown",
   "metadata": {},
   "source": [
    "To retrieve the last element in a list, we use a negative index 1:"
   ]
  },
  {
   "cell_type": "code",
   "execution_count": 15,
   "metadata": {},
   "outputs": [
    {
     "name": "stdout",
     "output_type": "stream",
     "text": [
      "Last element in list: 26\n"
     ]
    }
   ],
   "source": [
    "print('Last element in list:', indoor_dry_bulb_temperature_setpoint_schedule[-1])"
   ]
  },
  {
   "cell_type": "markdown",
   "metadata": {},
   "source": [
    "A slice of the list can be retrieved in the same way we retrieve substrings in `str` type:"
   ]
  },
  {
   "cell_type": "code",
   "execution_count": 16,
   "metadata": {},
   "outputs": [
    {
     "name": "stdout",
     "output_type": "stream",
     "text": [
      "Second to fourth elements in list: [21, 22, 24]\n"
     ]
    }
   ],
   "source": [
    "print('Second to fourth elements in list:', indoor_dry_bulb_temperature_setpoint_schedule[1:4])"
   ]
  },
  {
   "cell_type": "markdown",
   "metadata": {},
   "source": [
    "Lists are mutable types, i.e., the elements of a list variable can change after assignment. We can also use the index to reassign values in a list:"
   ]
  },
  {
   "cell_type": "code",
   "execution_count": 17,
   "metadata": {},
   "outputs": [
    {
     "name": "stdout",
     "output_type": "stream",
     "text": [
      "First element in list: 18\n"
     ]
    }
   ],
   "source": [
    "indoor_dry_bulb_temperature_setpoint_schedule[0] = 18\n",
    "print('First element in list:', indoor_dry_bulb_temperature_setpoint_schedule[0])"
   ]
  },
  {
   "cell_type": "markdown",
   "metadata": {},
   "source": [
    "We can also use the `insert` method to put in a new element that increases the length of the list:"
   ]
  },
  {
   "cell_type": "code",
   "execution_count": 18,
   "metadata": {},
   "outputs": [
    {
     "name": "stdout",
     "output_type": "stream",
     "text": [
      "List with inserted value at first index: [18, 16, 21, 22, 24, 26]\n"
     ]
    }
   ],
   "source": [
    "indoor_dry_bulb_temperature_setpoint_schedule.insert(1, 16)\n",
    "print('List with inserted value at first index:', indoor_dry_bulb_temperature_setpoint_schedule)"
   ]
  },
  {
   "cell_type": "markdown",
   "metadata": {},
   "source": [
    "Then to get the new length of the list, we use the `len` function as used with the `str` type:"
   ]
  },
  {
   "cell_type": "code",
   "execution_count": 19,
   "metadata": {},
   "outputs": [
    {
     "name": "stdout",
     "output_type": "stream",
     "text": [
      "Number of elements in list: 6\n"
     ]
    }
   ],
   "source": [
    "print('Number of elements in list:', len(indoor_dry_bulb_temperature_setpoint_schedule))"
   ]
  },
  {
   "cell_type": "markdown",
   "metadata": {},
   "source": [
    "If we know that an element in a list has a particular value but for whatever reason need to know what position in the list that element is at, i.e. its index, we can use the `index` function:"
   ]
  },
  {
   "cell_type": "code",
   "execution_count": 20,
   "metadata": {},
   "outputs": [
    {
     "data": {
      "text/plain": [
       "('Index for element with value = 26:', 5)"
      ]
     },
     "execution_count": 20,
     "metadata": {},
     "output_type": "execute_result"
    }
   ],
   "source": [
    "('Index for element with value = 26:', indoor_dry_bulb_temperature_setpoint_schedule.index(26))"
   ]
  },
  {
   "cell_type": "markdown",
   "metadata": {},
   "source": [
    "Other `list` functions worthy of note are `append` to add a new element to a list, `extend` to add a sequence of new elements to a list, `pop` to remove and return an element from a list at a specific index, `remove` which is similar to `pop` but removes with reference to the value instead of index, `reverse` to reverse the order of elements in a list, `sort` to order the elements in a list, and `count` to get the number of occurrences of a value. See examples below:"
   ]
  },
  {
   "cell_type": "code",
   "execution_count": 21,
   "metadata": {},
   "outputs": [
    {
     "name": "stdout",
     "output_type": "stream",
     "text": [
      "List with appended element: [18, 16, 21, 22, 24, 26, 29]\n",
      "List with extended elements: [18, 16, 21, 22, 24, 26, 29, 30, 32, 33]\n",
      "List with 0th element removed: [16, 21, 22, 24, 26, 29, 30, 32, 33] where the 0th element was: 18\n",
      "List with element whose value = 24 removed: [16, 21, 22, 26, 29, 30, 32, 33]\n",
      "List in reverse order: [33, 32, 30, 29, 26, 22, 21, 16]\n",
      "List sorted in ascending order: [16, 21, 22, 26, 29, 30, 32, 33]\n",
      "List sorted in descending order: [33, 32, 30, 29, 26, 22, 21, 16]\n",
      "Number of elements in list with value = 30: 1\n"
     ]
    }
   ],
   "source": [
    "indoor_dry_bulb_temperature_setpoint_schedule.append(29)\n",
    "print('List with appended element:', indoor_dry_bulb_temperature_setpoint_schedule)\n",
    "\n",
    "indoor_dry_bulb_temperature_setpoint_schedule.extend([30, 32, 33])\n",
    "print('List with extended elements:', indoor_dry_bulb_temperature_setpoint_schedule)\n",
    "\n",
    "pop_element = indoor_dry_bulb_temperature_setpoint_schedule.pop(0)\n",
    "print('List with 0th element removed:', indoor_dry_bulb_temperature_setpoint_schedule, 'where the 0th element was:', pop_element)\n",
    "\n",
    "indoor_dry_bulb_temperature_setpoint_schedule.remove(24)\n",
    "print('List with element whose value = 24 removed:', indoor_dry_bulb_temperature_setpoint_schedule)\n",
    "\n",
    "indoor_dry_bulb_temperature_setpoint_schedule.reverse()\n",
    "print('List in reverse order:', indoor_dry_bulb_temperature_setpoint_schedule)\n",
    "\n",
    "indoor_dry_bulb_temperature_setpoint_schedule.sort()\n",
    "print('List sorted in ascending order:', indoor_dry_bulb_temperature_setpoint_schedule)\n",
    "\n",
    "indoor_dry_bulb_temperature_setpoint_schedule.sort(reverse=True)\n",
    "print('List sorted in descending order:', indoor_dry_bulb_temperature_setpoint_schedule)\n",
    "\n",
    "print('Number of elements in list with value = 30:', indoor_dry_bulb_temperature_setpoint_schedule.count(30))"
   ]
  },
  {
   "cell_type": "markdown",
   "metadata": {},
   "source": [
    "Next, we will discuss the `tuple` type. Like the `list`, it holds a sequence of multi-type values but is defined using a slightly different syntax (can you spot the difference?):"
   ]
  },
  {
   "cell_type": "code",
   "execution_count": 22,
   "metadata": {},
   "outputs": [],
   "source": [
    "indoor_dry_bulb_temperature_history = (24.4, 24.0, 23.5, 22.1, 21.3, 24.3, 25.5)"
   ]
  },
  {
   "cell_type": "markdown",
   "metadata": {},
   "source": [
    "Like lists, we can use index to retrieve elements or sequence of elements in tuples. However, tuples are immutable and as such, their elements cannot change after initialization (initialization is when a variable is declared for the first time and assigned some value):"
   ]
  },
  {
   "cell_type": "code",
   "execution_count": 23,
   "metadata": {},
   "outputs": [
    {
     "ename": "TypeError",
     "evalue": "'tuple' object does not support item assignment",
     "output_type": "error",
     "traceback": [
      "\u001b[0;31m---------------------------------------------------------------------------\u001b[0m",
      "\u001b[0;31mTypeError\u001b[0m                                 Traceback (most recent call last)",
      "\u001b[0;32m/var/folders/gz/rbl0rksd7dqcx5pny2wgmsb40000gn/T/ipykernel_3221/908378972.py\u001b[0m in \u001b[0;36m<module>\u001b[0;34m\u001b[0m\n\u001b[0;32m----> 1\u001b[0;31m \u001b[0mindoor_dry_bulb_temperature_history\u001b[0m\u001b[0;34m[\u001b[0m\u001b[0;36m0\u001b[0m\u001b[0;34m]\u001b[0m \u001b[0;34m=\u001b[0m \u001b[0;36m22.5\u001b[0m\u001b[0;34m\u001b[0m\u001b[0;34m\u001b[0m\u001b[0m\n\u001b[0m",
      "\u001b[0;31mTypeError\u001b[0m: 'tuple' object does not support item assignment"
     ]
    }
   ],
   "source": [
    "indoor_dry_bulb_temperature_history[0] = 22.5"
   ]
  },
  {
   "cell_type": "markdown",
   "metadata": {},
   "source": [
    "The `TypeError` thrown above when we try to reassign the 0th element a new value tells us that the `tuple` type does not support such operation. This distinction between lists and tuples is very important when defining your data structures to hold variables as you build you Python code. Choosing one or the other can have rewarding or hair-pulling effects down the line. Let us take for example code that is meant to store the indoor dry-bulb temperature of a building from 3 years back. Data from 3 years ago is final and ideally, should not change as you work with it. In this case, a tuple seems better suited for its storage. However, you might want to do some data cleaning like replacing outliers with some average value. Using the same tuple variable, you will not be able to replace values unless you define a new tuple variable that stores the cleaned data. Depending on your system resources and data size, a new variable may or may not be ideal because time-series data, as you will see first-hand in this course, can vary easily take up a lot of memory. To save space, a list, where the element values can change might be better suited to store the initial raw data and the latter replacement preprocessed values.\n",
    "\n",
    "The `tuple` type has its own built in methods however, we will not discuss them here. Instead, we will introduce the `help` function that can be used on any python object (we will define what an object is later) to provide its documentation including its definition and functions: "
   ]
  },
  {
   "cell_type": "code",
   "execution_count": 24,
   "metadata": {},
   "outputs": [
    {
     "name": "stdout",
     "output_type": "stream",
     "text": [
      "Help on class tuple in module builtins:\n",
      "\n",
      "class tuple(object)\n",
      " |  tuple(iterable=(), /)\n",
      " |  \n",
      " |  Built-in immutable sequence.\n",
      " |  \n",
      " |  If no argument is given, the constructor returns an empty tuple.\n",
      " |  If iterable is specified the tuple is initialized from iterable's items.\n",
      " |  \n",
      " |  If the argument is a tuple, the return value is the same object.\n",
      " |  \n",
      " |  Methods defined here:\n",
      " |  \n",
      " |  __add__(self, value, /)\n",
      " |      Return self+value.\n",
      " |  \n",
      " |  __contains__(self, key, /)\n",
      " |      Return key in self.\n",
      " |  \n",
      " |  __eq__(self, value, /)\n",
      " |      Return self==value.\n",
      " |  \n",
      " |  __ge__(self, value, /)\n",
      " |      Return self>=value.\n",
      " |  \n",
      " |  __getattribute__(self, name, /)\n",
      " |      Return getattr(self, name).\n",
      " |  \n",
      " |  __getitem__(self, key, /)\n",
      " |      Return self[key].\n",
      " |  \n",
      " |  __getnewargs__(self, /)\n",
      " |  \n",
      " |  __gt__(self, value, /)\n",
      " |      Return self>value.\n",
      " |  \n",
      " |  __hash__(self, /)\n",
      " |      Return hash(self).\n",
      " |  \n",
      " |  __iter__(self, /)\n",
      " |      Implement iter(self).\n",
      " |  \n",
      " |  __le__(self, value, /)\n",
      " |      Return self<=value.\n",
      " |  \n",
      " |  __len__(self, /)\n",
      " |      Return len(self).\n",
      " |  \n",
      " |  __lt__(self, value, /)\n",
      " |      Return self<value.\n",
      " |  \n",
      " |  __mul__(self, value, /)\n",
      " |      Return self*value.\n",
      " |  \n",
      " |  __ne__(self, value, /)\n",
      " |      Return self!=value.\n",
      " |  \n",
      " |  __repr__(self, /)\n",
      " |      Return repr(self).\n",
      " |  \n",
      " |  __rmul__(self, value, /)\n",
      " |      Return value*self.\n",
      " |  \n",
      " |  count(self, value, /)\n",
      " |      Return number of occurrences of value.\n",
      " |  \n",
      " |  index(self, value, start=0, stop=9223372036854775807, /)\n",
      " |      Return first index of value.\n",
      " |      \n",
      " |      Raises ValueError if the value is not present.\n",
      " |  \n",
      " |  ----------------------------------------------------------------------\n",
      " |  Static methods defined here:\n",
      " |  \n",
      " |  __new__(*args, **kwargs) from builtins.type\n",
      " |      Create and return a new object.  See help(type) for accurate signature.\n",
      "\n"
     ]
    }
   ],
   "source": [
    "help(tuple)"
   ]
  },
  {
   "cell_type": "markdown",
   "metadata": {},
   "source": [
    "The last sequence type we will discuss is `range`. It is used to define a sequence of integers that have a `start`, `stop` (value not included in generated sequence) and `step`. An example is:"
   ]
  },
  {
   "cell_type": "code",
   "execution_count": 25,
   "metadata": {},
   "outputs": [
    {
     "name": "stdout",
     "output_type": "stream",
     "text": [
      "range(21, 24)\n"
     ]
    }
   ],
   "source": [
    "valid_thermostat_dry_bulb_temperature_setpoints = range(21, 24, 1)\n",
    "print(valid_thermostat_dry_bulb_temperature_setpoints)"
   ]
  },
  {
   "cell_type": "markdown",
   "metadata": {},
   "source": [
    "With `list` and `tuple` types, you can have sub lists and tuples as:"
   ]
  },
  {
   "cell_type": "code",
   "execution_count": 26,
   "metadata": {},
   "outputs": [
    {
     "name": "stdout",
     "output_type": "stream",
     "text": [
      "[[33, 32, 30, 29, 26, 22, 21, 16], [23, 24, 22, 21, 20, 25, 25, 26, 27, 29], [20, 24, 20, 21, 20, 21, 23, 29, 28, 28]]\n"
     ]
    }
   ],
   "source": [
    "buildings_indoor_dry_bulb_temperature_setpoint_schedule = [\n",
    "    indoor_dry_bulb_temperature_setpoint_schedule, \n",
    "    [23, 24, 22, 21, 20 , 25, 25, 26, 27, 29],\n",
    "    [20, 24, 20, 21, 20 , 21, 23, 29, 28, 28],\n",
    "]\n",
    "print(buildings_indoor_dry_bulb_temperature_setpoint_schedule)"
   ]
  },
  {
   "cell_type": "markdown",
   "metadata": {},
   "source": [
    "We can then retrieve the first sublist as:"
   ]
  },
  {
   "cell_type": "code",
   "execution_count": 27,
   "metadata": {},
   "outputs": [
    {
     "name": "stdout",
     "output_type": "stream",
     "text": [
      "[33, 32, 30, 29, 26, 22, 21, 16]\n"
     ]
    }
   ],
   "source": [
    "print(buildings_indoor_dry_bulb_temperature_setpoint_schedule[0])"
   ]
  },
  {
   "cell_type": "markdown",
   "metadata": {},
   "source": [
    "Or the second element of the second sublist as:"
   ]
  },
  {
   "cell_type": "code",
   "execution_count": 28,
   "metadata": {},
   "outputs": [
    {
     "data": {
      "text/plain": [
       "24"
      ]
     },
     "execution_count": 28,
     "metadata": {},
     "output_type": "execute_result"
    }
   ],
   "source": [
    "buildings_indoor_dry_bulb_temperature_setpoint_schedule[1][1]"
   ]
  },
  {
   "cell_type": "markdown",
   "metadata": {},
   "source": [
    "Without getting into much detail about the `range` type, it is mostly used when designing loops to dictate how long the loop should run or what index to apply to some other sequence during an i'th iteration of a loop. We will discuss loops further in subsequent sections."
   ]
  },
  {
   "cell_type": "markdown",
   "metadata": {},
   "source": [
    "### Boolean types\n",
    "\n",
    "The `bool` type is best used to define variables that are binary in nature for example, if a heat pump is on/off, if an occupant is present/absent, e.t.c. An example of a initialized boolean is shown below:"
   ]
  },
  {
   "cell_type": "code",
   "execution_count": 33,
   "metadata": {},
   "outputs": [
    {
     "name": "stdout",
     "output_type": "stream",
     "text": [
      "Is building occupied? True ; Is the lamp turned on? False\n"
     ]
    }
   ],
   "source": [
    "occupant_is_present = True\n",
    "lamp_is_turned_on = False\n",
    "print('Is building occupied?', occupant_is_present, '; Is the lamp turned on?', lamp_is_turned_on)"
   ]
  },
  {
   "cell_type": "markdown",
   "metadata": {},
   "source": [
    "### Mapping types\n",
    "\n",
    "The `dict` data type is used to map `key`-`value` pairs. One can think of it as 'dictionary' where the word is the `key` and the word definition is the `value`. The `key` can be a `str`, `int`, `float`, `bool`, or `tuple`. `value` can be of any type. `dict` keys must be unique however, values can be repeated across different keys. See below for how to define a `dict`:"
   ]
  },
  {
   "cell_type": "code",
   "execution_count": 35,
   "metadata": {},
   "outputs": [
    {
     "name": "stdout",
     "output_type": "stream",
     "text": [
      "building metadata: {'name': 'ECJ', 'year_constructed': 1974, 'floor_count': 14, 'gross_square_footage': 240246, 'primary_space_use': 'Laboratory', 'cooling_commodity': 'Chilled water', 'Heating_commodity': 'Steam'}\n"
     ]
    }
   ],
   "source": [
    "building_metadata = {\n",
    "    'name': 'ECJ',\n",
    "    'year_constructed': 1974,\n",
    "    'floor_count': 14,\n",
    "    'gross_square_footage': 240246,\n",
    "    'primary_space_use': 'Laboratory',\n",
    "    'cooling_commodity': 'Chilled water',\n",
    "    'Heating_commodity': 'Steam',\n",
    "}\n",
    "print('building metadata:', building_metadata)"
   ]
  },
  {
   "cell_type": "markdown",
   "metadata": {},
   "source": [
    "The keys and values in a `dict` can be returned as:"
   ]
  },
  {
   "cell_type": "code",
   "execution_count": 36,
   "metadata": {},
   "outputs": [
    {
     "name": "stdout",
     "output_type": "stream",
     "text": [
      "dict keys: dict_keys(['name', 'year_constructed', 'floor_count', 'gross_square_footage', 'primary_space_use', 'cooling_commodity', 'Heating_commodity'])\n",
      "dict values: dict_values(['ECJ', 1974, 14, 240246, 'Laboratory', 'Chilled water', 'Steam'])\n"
     ]
    }
   ],
   "source": [
    "print('dict keys:', building_metadata.keys())\n",
    "print('dict values:', building_metadata.values())"
   ]
  },
  {
   "cell_type": "markdown",
   "metadata": {},
   "source": [
    "To get the value for a known key in the dictionary:"
   ]
  },
  {
   "cell_type": "code",
   "execution_count": 37,
   "metadata": {},
   "outputs": [
    {
     "name": "stdout",
     "output_type": "stream",
     "text": [
      "building name: ECJ\n"
     ]
    }
   ],
   "source": [
    "print('building name:', building_metadata['name'])"
   ]
  },
  {
   "cell_type": "markdown",
   "metadata": {},
   "source": [
    "If we use the above syntax to attempt to retrieve the value for a key that does not exist in the dictionary, we will get a `KeyError`:"
   ]
  },
  {
   "cell_type": "code",
   "execution_count": 38,
   "metadata": {},
   "outputs": [
    {
     "ename": "KeyError",
     "evalue": "'latitude'",
     "output_type": "error",
     "traceback": [
      "\u001b[0;31m---------------------------------------------------------------------------\u001b[0m",
      "\u001b[0;31mKeyError\u001b[0m                                  Traceback (most recent call last)",
      "\u001b[0;32m/var/folders/gz/rbl0rksd7dqcx5pny2wgmsb40000gn/T/ipykernel_3221/4148772350.py\u001b[0m in \u001b[0;36m<module>\u001b[0;34m\u001b[0m\n\u001b[0;32m----> 1\u001b[0;31m \u001b[0mprint\u001b[0m\u001b[0;34m(\u001b[0m\u001b[0;34m'building latitude:'\u001b[0m\u001b[0;34m,\u001b[0m \u001b[0mbuilding_metadata\u001b[0m\u001b[0;34m[\u001b[0m\u001b[0;34m'latitude'\u001b[0m\u001b[0;34m]\u001b[0m\u001b[0;34m)\u001b[0m\u001b[0;34m\u001b[0m\u001b[0;34m\u001b[0m\u001b[0m\n\u001b[0m",
      "\u001b[0;31mKeyError\u001b[0m: 'latitude'"
     ]
    }
   ],
   "source": [
    "print('building latitude:', building_metadata['latitude'])"
   ]
  },
  {
   "cell_type": "markdown",
   "metadata": {},
   "source": [
    "Alternatively, we can safely return a value for keys that may not be in our dictionary yet with the `get` method:"
   ]
  },
  {
   "cell_type": "code",
   "execution_count": 41,
   "metadata": {},
   "outputs": [
    {
     "name": "stdout",
     "output_type": "stream",
     "text": [
      "building latitude: None\n",
      "building latitude: ECJ does not not have a defined latitude\n"
     ]
    }
   ],
   "source": [
    "print('building latitude:', building_metadata.get('latitude'))\n",
    "print('building latitude:', building_metadata.get('latitude', 'ECJ does not not have a defined latitude'))"
   ]
  },
  {
   "cell_type": "markdown",
   "metadata": {},
   "source": [
    "To define a new key-value pair in the dictionary, execute:"
   ]
  },
  {
   "cell_type": "code",
   "execution_count": 42,
   "metadata": {},
   "outputs": [
    {
     "name": "stdout",
     "output_type": "stream",
     "text": [
      "building latitude: 30.289\n"
     ]
    }
   ],
   "source": [
    "building_metadata['latitude'] = 30.289\n",
    "print('building latitude:', building_metadata.get('latitude'))"
   ]
  },
  {
   "cell_type": "markdown",
   "metadata": {},
   "source": [
    "The same syntax is used to assign a new value to an existing key:"
   ]
  },
  {
   "cell_type": "code",
   "execution_count": 44,
   "metadata": {},
   "outputs": [
    {
     "name": "stdout",
     "output_type": "stream",
     "text": [
      "building primary space use changed from Laboratory to Classroom\n"
     ]
    }
   ],
   "source": [
    "previous_primary_space_use = building_metadata['primary_space_use']\n",
    "building_metadata['primary_space_use'] = 'Classroom'\n",
    "print('building primary space use changed from', previous_primary_space_use, 'to', building_metadata['primary_space_use'])"
   ]
  },
  {
   "cell_type": "markdown",
   "metadata": {},
   "source": [
    "We can also define nested dictionary within the main dictionary:"
   ]
  },
  {
   "cell_type": "code",
   "execution_count": 43,
   "metadata": {},
   "outputs": [
    {
     "name": "stdout",
     "output_type": "stream",
     "text": [
      "{'name': 'ECJ', 'year_constructed': 1974, 'floor_count': 14, 'gross_square_footage': 240246, 'primary_space_use': 'Laboratory', 'cooling_commodity': 'Chilled water', 'Heating_commodity': 'Steam', 'latitude': 30.289, 'chiller': {'manufacture': 'Trane', 'capacity': 100, 'seer': 4.0}}\n"
     ]
    }
   ],
   "source": [
    "building_metadata['chiller'] = {\n",
    "    'manufacturer': 'Trane',\n",
    "    'capacity_tons': 100,\n",
    "    'seasonal_energy_efficiency_ratio': 13.0\n",
    "}\n",
    "print(building_metadata)"
   ]
  },
  {
   "cell_type": "markdown",
   "metadata": {},
   "source": [
    "Can you find out about other `dict` methods using the `help` function, provide their definition and use them in examples?\n",
    "\n",
    "__`dict` methods__:\n",
    "- `get`: Return key-value otherwise, return default.\n",
    "-\n",
    "-"
   ]
  },
  {
   "cell_type": "code",
   "execution_count": 45,
   "metadata": {},
   "outputs": [],
   "source": [
    "# *** put your examples where you use dict methods below ***\n"
   ]
  },
  {
   "cell_type": "markdown",
   "metadata": {},
   "source": [
    "### Set types\n",
    "\n",
    "A `set` is used to define unique values and is an unordered, unindexed and unchangeable data type. The syntax used to define a set is:"
   ]
  },
  {
   "cell_type": "code",
   "execution_count": 48,
   "metadata": {},
   "outputs": [
    {
     "name": "stdout",
     "output_type": "stream",
     "text": [
      "{'Jane', \"O'Reilly\", 'Doe', 'Jack', 'Robinson'}\n"
     ]
    }
   ],
   "source": [
    "occupant_first_names = {occupant_first_name, 'Jane', 'Doe', 'Jack', 'Robinson', 'Jack'}\n",
    "print(occupant_first_names)"
   ]
  },
  {
   "cell_type": "markdown",
   "metadata": {},
   "source": [
    "Notice that although we included the name, 'Jack', twice, it was printed just once. Also, the print order differs from the order at initialization. Sets better suited for quickly inferring about value membership in a list of items and comparisons between separately defined lists of items. For example, if we have two sets of first names for two different buildings and want to find out which occupants have been to both buildings, we can use the `intersection` method:"
   ]
  },
  {
   "cell_type": "code",
   "execution_count": 50,
   "metadata": {},
   "outputs": [
    {
     "name": "stdout",
     "output_type": "stream",
     "text": [
      "Occupants that have visited both building 1 and 2: {'Jane', 'Robinson'}\n"
     ]
    }
   ],
   "source": [
    "building_1_occupant_first_names = occupant_first_names\n",
    "building_2_occupant_first_names = {'Jane', 'Robinson', 'Sally', 'Bill'}\n",
    "print('Occupants that have visited both building 1 and 2:', building_1_occupant_first_names.intersection(building_2_occupant_first_names))"
   ]
  },
  {
   "cell_type": "markdown",
   "metadata": {},
   "source": [
    "We can also infer about the occupants in one building that have not been to the other using the `difference` method:"
   ]
  },
  {
   "cell_type": "code",
   "execution_count": 52,
   "metadata": {},
   "outputs": [
    {
     "name": "stdout",
     "output_type": "stream",
     "text": [
      "Occupants that have visited building 1 but not 2: {'Doe', \"O'Reilly\", 'Jack'}\n",
      "Occupants that have visited building 2 but not 1: {'Sally', 'Bill'}\n"
     ]
    }
   ],
   "source": [
    "print('Occupants that have visited building 1 but not 2:', building_1_occupant_first_names.difference(building_2_occupant_first_names))\n",
    "print('Occupants that have visited building 2 but not 1:', building_2_occupant_first_names.difference(building_1_occupant_first_names))"
   ]
  },
  {
   "cell_type": "markdown",
   "metadata": {},
   "source": [
    "There are other `set` methods. Can you use them in examples?"
   ]
  },
  {
   "cell_type": "code",
   "execution_count": 53,
   "metadata": {},
   "outputs": [],
   "source": [
    "# *** put your examples where you use set methods below ***\n"
   ]
  },
  {
   "cell_type": "markdown",
   "metadata": {},
   "source": [
    "### None types\n",
    "\n",
    "The `NoneType` is a very powerful and useful type. It can be used as default value during variable initialization, or a default value for certain use cases, such as when we used the `get` method on the `dict` type. For example, it is better to initialize the name of an occupant as `NoneType` rather than an empty string '' when the name is not yet known. This ensures that subsequent operations on the undefined name variable will always let you know that the name has not yet been defined which can be in the form of an error (yes, errors are good! Even better are errors that a descriptive and show up whenever your code does not run the way you assume it should). The syntax for defining a `NoneType` variable is:"
   ]
  },
  {
   "cell_type": "code",
   "execution_count": 55,
   "metadata": {},
   "outputs": [
    {
     "name": "stdout",
     "output_type": "stream",
     "text": [
      "None\n"
     ]
    }
   ],
   "source": [
    "room_1_occupant_name = None\n",
    "print('Occupant name:', room_1_occupant_name)"
   ]
  },
  {
   "cell_type": "markdown",
   "metadata": {},
   "source": [
    "Subsequently, if we try to return the length of the occupant's name, it will let us know that we are yet to assign a non-null value to the name:"
   ]
  },
  {
   "cell_type": "code",
   "execution_count": 56,
   "metadata": {},
   "outputs": [
    {
     "ename": "TypeError",
     "evalue": "object of type 'NoneType' has no len()",
     "output_type": "error",
     "traceback": [
      "\u001b[0;31m---------------------------------------------------------------------------\u001b[0m",
      "\u001b[0;31mTypeError\u001b[0m                                 Traceback (most recent call last)",
      "\u001b[0;32m/var/folders/gz/rbl0rksd7dqcx5pny2wgmsb40000gn/T/ipykernel_3221/3359793259.py\u001b[0m in \u001b[0;36m<module>\u001b[0;34m\u001b[0m\n\u001b[0;32m----> 1\u001b[0;31m \u001b[0mprint\u001b[0m\u001b[0;34m(\u001b[0m\u001b[0;34m'Occupant name length:'\u001b[0m\u001b[0;34m,\u001b[0m \u001b[0mlen\u001b[0m\u001b[0;34m(\u001b[0m\u001b[0mroom_1_occupant_name\u001b[0m\u001b[0;34m)\u001b[0m\u001b[0;34m)\u001b[0m\u001b[0;34m\u001b[0m\u001b[0;34m\u001b[0m\u001b[0m\n\u001b[0m",
      "\u001b[0;31mTypeError\u001b[0m: object of type 'NoneType' has no len()"
     ]
    }
   ],
   "source": [
    "print('Occupant name length:', len(room_1_occupant_name))"
   ]
  },
  {
   "cell_type": "markdown",
   "metadata": {},
   "source": [
    "If we had used an empty string, it will return a length of 0 which, might be obvious that a name has not been defined but in complex code bases where you are not printing variables all the time, it can go unnoticed since no error is thrown and causes bigger problems down the pipeline.\n",
    "\n",
    "This brings us to the end of data types in Python. In the following sections, we will learn how to convert from one data type to an other using a methodology called type castings. We will also spend some more time on reassigning values to a variable and how mutation in data types can be useful or harmful."
   ]
  },
  {
   "cell_type": "markdown",
   "metadata": {},
   "source": [
    "### Type casting\n",
    "\n",
    "Sometimes, one may need to convert a variable from one data type to another. One popular use case is to convert a `list` to a `set` in order to get the unique elements in the `list` or vise versa where we wanted a sorted list of the elements in a set. Another one is to convert a `float` to an `integer` to use as an index or rounding purposes. We may also choose to convert a `bool` to an `int` for cases where only numeric values are allowed e.g. regression modelling. Some examples of type casting are provided below: "
   ]
  },
  {
   "cell_type": "code",
   "execution_count": 64,
   "metadata": {},
   "outputs": [
    {
     "name": "stdout",
     "output_type": "stream",
     "text": [
      "int 26 casted to str: 26\n",
      "int 26 casted to float: 26.0\n",
      "int 26 casted to bool: True\n",
      "bool True casted to int: 1\n",
      "bool False casted to int: 0\n",
      "float 30.2672 casted to int: 30\n",
      "list [33, 32, 30, 29, 26] casted to set: {32, 33, 26, 29, 30}\n",
      "set {'Jane', \"O'Reilly\", 'Doe', 'Jack', 'Robinson'} casted to list and sorted: ['Doe', 'Jack', 'Jane', \"O'Reilly\", 'Robinson']\n"
     ]
    }
   ],
   "source": [
    "print('int', indoor_dry_bulb_temperature, 'casted to str:', str(indoor_dry_bulb_temperature))\n",
    "print('int', indoor_dry_bulb_temperature, 'casted to float:', float(indoor_dry_bulb_temperature))\n",
    "print('int', indoor_dry_bulb_temperature, 'casted to bool:', bool(indoor_dry_bulb_temperature))\n",
    "print('bool', occupant_is_present, 'casted to int:', int(occupant_is_present))\n",
    "print('bool', lamp_is_turned_on, 'casted to int:', int(lamp_is_turned_on))\n",
    "print('float', AUSTIN_LATITUDE, 'casted to int:', int(AUSTIN_LATITUDE))\n",
    "print('list', indoor_dry_bulb_temperature_setpoint_schedule[0:5], 'casted to set:', set(indoor_dry_bulb_temperature_setpoint_schedule[0:5]))\n",
    "print('set', occupant_first_names, 'casted to list and sorted:', sorted(list(occupant_first_names)))"
   ]
  },
  {
   "cell_type": "markdown",
   "metadata": {},
   "source": [
    "### Variable type reassignment\n",
    "\n",
    "Python is a dynamically typed language meaning once a variable has been initialized to a specific data type, it can be subsequently re-assigned a value of a different data type. This can be a good or bad thing depending on how it is used so one must use this feature with care. See the example below where an `int` variable is reassigned a `str` value:"
   ]
  },
  {
   "cell_type": "code",
   "execution_count": 66,
   "metadata": {},
   "outputs": [
    {
     "name": "stdout",
     "output_type": "stream",
     "text": [
      "Relative humidity type before reassignment: <class 'int'>\n",
      "Relative humidity type after reassignment: <class 'str'>\n"
     ]
    }
   ],
   "source": [
    "indoor_relative_humidity = 60.0\n",
    "print('Relative humidity type before reassignment:', type(indoor_relative_humidity))\n",
    "indoor_relative_humidity = str(indoor_relative_humidity)\n",
    "print('Relative humidity type after reassignment:', type(indoor_relative_humidity))"
   ]
  },
  {
   "cell_type": "markdown",
   "metadata": {},
   "source": [
    "Good practice is to stick to one data-type for each variable however, it may sometimes be useful to reassign new data with new data type to a variable to avoid keeping variables that are only used in the initial stage of processing a dataset or to save space in memory. To make your code self-documenting, you can use type hinting to inform a 3-rd party, or even yourself down the line when you revisit old code, what type a variable is. Of course Python being dynamically typed will not enforce the types you declare for your variables but it can help make your code more legible. An example of such type hinting is provided below:"
   ]
  },
  {
   "cell_type": "code",
   "execution_count": 67,
   "metadata": {},
   "outputs": [],
   "source": [
    "indoor_relative_humidity: float = None"
   ]
  },
  {
   "cell_type": "markdown",
   "metadata": {},
   "source": [
    "Above we have initialized the variable with a null value however, using the type hint, we know to expect and store only float data type values when we eventually assign it a value."
   ]
  },
  {
   "cell_type": "markdown",
   "metadata": {},
   "source": [
    "### Variable mutation\n",
    "\n",
    "Mutation refers to the ability to modify a variable after it has been assigned a value. Of the data types we considered, `str`, `int`, `float`, `bool`, `tuple` are immutable while `list`, `set` and `dict` are mutable. For immutable data types, one cannot change the value of the assigned variable after initialization without having to create a new object in memory. We will demonstrate this using the in-built `id` method: "
   ]
  },
  {
   "cell_type": "code",
   "execution_count": 83,
   "metadata": {},
   "outputs": [
    {
     "name": "stdout",
     "output_type": "stream",
     "text": [
      "str id before reassignment: 140523615914352\n",
      "str id after reassignment: 140523735091184\n"
     ]
    }
   ],
   "source": [
    "str_variable = 'abc'\n",
    "print('str id before reassignment:', id(str_variable))\n",
    "str_variable = 'efg'\n",
    "print('str id after reassignment:', id(str_variable))"
   ]
  },
  {
   "cell_type": "markdown",
   "metadata": {},
   "source": [
    "After reassignment, the id for the string variable changed. We also cannot modify a character in the exisitng string even though a string is a sequence of characters at its base level:"
   ]
  },
  {
   "cell_type": "code",
   "execution_count": 84,
   "metadata": {},
   "outputs": [
    {
     "ename": "TypeError",
     "evalue": "'str' object does not support item assignment",
     "output_type": "error",
     "traceback": [
      "\u001b[0;31m---------------------------------------------------------------------------\u001b[0m",
      "\u001b[0;31mTypeError\u001b[0m                                 Traceback (most recent call last)",
      "\u001b[0;32m/var/folders/gz/rbl0rksd7dqcx5pny2wgmsb40000gn/T/ipykernel_3221/1590997937.py\u001b[0m in \u001b[0;36m<module>\u001b[0;34m\u001b[0m\n\u001b[0;32m----> 1\u001b[0;31m \u001b[0mstr_variable\u001b[0m\u001b[0;34m[\u001b[0m\u001b[0;36m0\u001b[0m\u001b[0;34m]\u001b[0m \u001b[0;34m=\u001b[0m \u001b[0;34m'r'\u001b[0m\u001b[0;34m\u001b[0m\u001b[0;34m\u001b[0m\u001b[0m\n\u001b[0m",
      "\u001b[0;31mTypeError\u001b[0m: 'str' object does not support item assignment"
     ]
    }
   ],
   "source": [
    "str_variable[0] = 'r'"
   ]
  },
  {
   "cell_type": "markdown",
   "metadata": {},
   "source": [
    "Now let us investigate similarly for `int`, `float` and `bool` types:"
   ]
  },
  {
   "cell_type": "code",
   "execution_count": 87,
   "metadata": {},
   "outputs": [
    {
     "name": "stdout",
     "output_type": "stream",
     "text": [
      "int id before reassignment: 4319976256\n",
      "int id after reassignment: 4319976352\n",
      "float id before reassignment: 140523735086384\n",
      "float id after reassignment: 140523735086256\n",
      "bool id before reassignment: 4319574192\n",
      "bool id after reassignment: 4319574160\n"
     ]
    }
   ],
   "source": [
    "int_variable = 2\n",
    "print('int id before reassignment:', id(int_variable))\n",
    "int_variable = 5\n",
    "print('int id after reassignment:', id(int_variable))\n",
    "\n",
    "float_variable = 2.0\n",
    "print('float id before reassignment:', id(float_variable))\n",
    "float_variable = 5.0\n",
    "print('float id after reassignment:', id(float_variable))\n",
    "\n",
    "bool_variable = True\n",
    "print('bool id before reassignment:', id(bool_variable))\n",
    "bool_variable = False\n",
    "print('bool id after reassignment:', id(bool_variable))"
   ]
  },
  {
   "cell_type": "markdown",
   "metadata": {},
   "source": [
    "More importantly is the fact that is we created a new immutable variable by simply assigning it an existing immutable variable as its value, it will in fact share the same `id` as the assigning variable. However, the moment we try to change the value of the new variable, its `id` will point to a new address in memory:"
   ]
  },
  {
   "cell_type": "code",
   "execution_count": 91,
   "metadata": {},
   "outputs": [
    {
     "name": "stdout",
     "output_type": "stream",
     "text": [
      "assigning int id: 4319976352\n",
      "new int id before reassignment: 4319976352\n",
      "new int id after reassignment: 4319977280\n"
     ]
    }
   ],
   "source": [
    "int_variable_2 = int_variable\n",
    "print('assigning int id:', id(int_variable))\n",
    "print('new int id before reassignment:', id(int_variable_2))\n",
    "int_variable_2 = 34\n",
    "print('new int id after reassignment:', id(int_variable_2))"
   ]
  },
  {
   "cell_type": "markdown",
   "metadata": {},
   "source": [
    "We already demonstrated earlier the immutability of `tuple` compared to `list`, thus reassigning the value of a tuple will point the tuple to a new id.\n",
    "\n",
    "For mutable types, changing its value will not change its `id` but will only change the `id` of the changed element if immutable. Let us demonstrate with a `list` of `int`:"
   ]
  },
  {
   "cell_type": "code",
   "execution_count": 99,
   "metadata": {},
   "outputs": [
    {
     "name": "stdout",
     "output_type": "stream",
     "text": [
      "list id before reassignment: 140523714906464\n",
      "0th element id before reassignment: 4319976192\n",
      "0th element before reassignment: 0\n",
      "list id after reassignment: 140523714906464\n",
      "0th element id after reassignment: 4319976480\n",
      "0th element after reassignment: 9\n"
     ]
    }
   ],
   "source": [
    "list_variable = [0, 1, 2, 3, 4]\n",
    "print('list id before reassignment:', id(list_variable))\n",
    "print('0th element id before reassignment:', id(list_variable[0]))\n",
    "print('0th element before reassignment:', list_variable[0])\n",
    "list_variable[0] = 9\n",
    "print('list id after reassignment:', id(list_variable))\n",
    "print('0th element id after reassignment:', id(list_variable[0]))\n",
    "print('0th element after reassignment:', list_variable[0])"
   ]
  },
  {
   "cell_type": "markdown",
   "metadata": {},
   "source": [
    "We see that the list itself did not change address after the 0th element's value changed however, changing the value at the 0th index changed the address of the 0th element.\n",
    "\n",
    "Now what happens if we create a new list by simply assigning our existing list to a new variable:"
   ]
  },
  {
   "cell_type": "code",
   "execution_count": 100,
   "metadata": {},
   "outputs": [
    {
     "name": "stdout",
     "output_type": "stream",
     "text": [
      "assigning list id: 140523714906464\n",
      "new list id before reassignment: 140523714906464\n"
     ]
    }
   ],
   "source": [
    "list_variable_2 = list_variable\n",
    "print('assigning list id:', id(list_variable))\n",
    "print('new list id before reassignment:', id(list_variable_2))"
   ]
  },
  {
   "cell_type": "markdown",
   "metadata": {},
   "source": [
    "Both lists share the same `id`. What happens if we try to change the 0th element in our new list?:"
   ]
  },
  {
   "cell_type": "code",
   "execution_count": 101,
   "metadata": {},
   "outputs": [
    {
     "name": "stdout",
     "output_type": "stream",
     "text": [
      "assigning list before reassignment: [9, 1, 2, 3, 4]\n",
      "assigning list id before reassignment: 140523714906464\n",
      "new list before reassignment: [9, 1, 2, 3, 4]\n",
      "new list id before reassignment: 140523714906464\n",
      "assigning list after reassignment: [6, 1, 2, 3, 4]\n",
      "assigning list id after reassignment: 140523714906464\n",
      "new list after reassignment: [6, 1, 2, 3, 4]\n",
      "new list id after reassignment: 140523714906464\n"
     ]
    }
   ],
   "source": [
    "print('assigning list before reassignment:', list_variable)\n",
    "print('assigning list id before reassignment:', id(list_variable))\n",
    "print('new list before reassignment:', list_variable_2)\n",
    "print('new list id before reassignment:', id(list_variable_2))\n",
    "list_variable_2[0] = 6\n",
    "print('assigning list after reassignment:', list_variable)\n",
    "print('assigning list id after reassignment:', id(list_variable))\n",
    "print('new list after reassignment:', list_variable_2)\n",
    "print('new list id after reassignment:', id(list_variable_2))"
   ]
  },
  {
   "cell_type": "markdown",
   "metadata": {},
   "source": [
    "Both lists still share the same `id` and the same elements even though we only changed the value from the second list! This is important to note when creating new variables from mutable types as it can lead to very unexpected behavior down the line where you are changing the data in a variable you never planned to change!\n",
    "\n",
    "One way to create a new variable from an existing mutable variable is to use copy the latter:"
   ]
  },
  {
   "cell_type": "code",
   "execution_count": 103,
   "metadata": {},
   "outputs": [
    {
     "name": "stdout",
     "output_type": "stream",
     "text": [
      "list_variable_2 id: 140523714906464\n",
      "list_variable_3 id: 140523735328480\n"
     ]
    }
   ],
   "source": [
    "list_variable_3 = list_variable_2.copy()\n",
    "print('list_variable_2 id:', id(list_variable_2))\n",
    "print('list_variable_3 id:', id(list_variable_3))"
   ]
  },
  {
   "cell_type": "markdown",
   "metadata": {},
   "source": [
    "The two lists, though having identical elements, point to different addresses."
   ]
  },
  {
   "cell_type": "markdown",
   "metadata": {},
   "source": [
    "## Operations on variables\n",
    "\n",
    "In this section we will look at different operators in Python. operators refer to symbols, keywords or a combination that can be used alongside variables to build expressions for computation. Operators allow you \"manipulate data, perform mathematical calculations, compare values, run boolean test, assign values to variables and more\" [[ref](https://realpython.com/python-operators-expressions)]. An operator is used on either one or more operands (think variables). An operator that acts on one operand is unary and whose those that act on two operands are binary.\n",
    "\n",
    "Operators can be grouped into 11 categories:\n",
    "1. Assignment operator\n",
    "2. Arithmetic operators and expressions<sup>*</sup>\n",
    "1. Comparison operators and expressions<sup>*</sup>\n",
    "2. Boolean operators and expressions<sup>*</sup>\n",
    "3. Conditional expressions<sup>*</sup>\n",
    "4. Identity operators and expressions<sup>*</sup>\n",
    "5. Membership operators and expressions<sup>*</sup>\n",
    "6. Concatenation and repetition operators and expressions<sup>*</sup>\n",
    "7. Walrus operator and assignment expressions\n",
    "8. Bitwise operators and expressions\n",
    "9. Augmented assignment operators and expressions<sup>*</sup>\n",
    "\n",
    "We will not go into much detail on each category and will only address the ones with a asterisk superscript."
   ]
  },
  {
   "cell_type": "markdown",
   "metadata": {},
   "source": [
    "### Arithmetic operators and expressions\n",
    "\n",
    "These operators are the typical ones used for math expressions and the include following [[ref](https://realpython.com/python-operators-expressions)]:\n",
    "\n",
    "<table>\n",
    "    <thead>\n",
    "        <tr>\n",
    "            <th>Operator</th>\n",
    "            <th>Type</th>\n",
    "            <th>Operation</th>\n",
    "            <th>Example</th>\n",
    "            <th>Result</th>\n",
    "        </tr>\n",
    "    </thead>\n",
    "    <tbody>\n",
    "        <tr>\n",
    "            <td><code>+</code></td>\n",
    "            <td>Unary</td>\n",
    "            <td>Positive</td>\n",
    "            <td><code>+</code>a</td>\n",
    "            <td>a without any transformation since this is simply a complement to negation</td>\n",
    "        </tr>\n",
    "        <tr>\n",
    "            <td><code>+</code></td>\n",
    "            <td>Binary</td>\n",
    "            <td>Addition</td>\n",
    "            <td>a <code>+</code> b</td>\n",
    "            <td>Arithmetic sum of a and b</td>\n",
    "        </tr>\n",
    "        <tr>\n",
    "            <td><code>-</code></td>\n",
    "            <td>Unary</td>\n",
    "            <td>Negation</td>\n",
    "            <td><code>-</code>a</td>\n",
    "            <td>The value of a but with the opposite sign</td>\n",
    "        </tr>\n",
    "        <tr>\n",
    "            <td><code>-</code></td>\n",
    "            <td>Binary</td>\n",
    "            <td>Subtraction</td>\n",
    "            <td>a <code>-</code> b</td>\n",
    "            <td>b subtracted from a</td>\n",
    "        </tr>\n",
    "        <tr>\n",
    "            <td><code>*</code></td>\n",
    "            <td>Binary</td>\n",
    "            <td>Multiplication</td>\n",
    "            <td>a <code>*</code> b</td>\n",
    "            <td>Product of a and b</td>\n",
    "        </tr>\n",
    "        <tr>\n",
    "            <td><code>/</code></td>\n",
    "            <td>Binary</td>\n",
    "            <td>Division</td>\n",
    "            <td>a <code>/</code> b</td>\n",
    "            <td>Quotient of a and b</td>\n",
    "        </tr>\n",
    "        <tr>\n",
    "            <td><code>%</code></td>\n",
    "            <td>Binary</td>\n",
    "            <td>Modulo</td>\n",
    "            <td>a <code>%</code> b</td>\n",
    "            <td>Remainder of a / b</td>\n",
    "        </tr>\n",
    "        <tr>\n",
    "            <td><code>//</code></td>\n",
    "            <td>Binary</td>\n",
    "            <td>Floor division or integer division</td>\n",
    "            <td>a <code>//</code> b</td>\n",
    "            <td>The quotient of a divided by b rounded to the next smallest whole number</td>\n",
    "        </tr>\n",
    "        <tr>\n",
    "            <td><code>**</code></td>\n",
    "            <td>Binary</td>\n",
    "            <td>Exponentiation</td>\n",
    "            <td>a<code>**</code>b</td>\n",
    "            <td>a raised to the power of b</td>\n",
    "        </tr>\n",
    "    </tbody>\n",
    "</table>\n",
    "\n",
    "Below are some example uses of these operators:"
   ]
  },
  {
   "cell_type": "code",
   "execution_count": 109,
   "metadata": {},
   "outputs": [
    {
     "name": "stdout",
     "output_type": "stream",
     "text": [
      "+a = 10\n",
      "a + b = 13\n",
      "-a = -10\n",
      "a - b = 7\n",
      "a * b = 30\n",
      "a / b = 3.3333333333333335\n",
      "a % b = 1\n",
      "a // b = 3\n",
      "a**b = 1000\n"
     ]
    }
   ],
   "source": [
    "a = 10\n",
    "b = 3\n",
    "print('+a =', +a)\n",
    "print('a + b =', a + b)\n",
    "print('-a =', -a)\n",
    "print('a - b =', a - b)\n",
    "print('a * b =', a * b)\n",
    "print('a / b =', a / b)\n",
    "print('a % b =', a % b)\n",
    "print('a // b =', a // b)\n",
    "print('a**b =', a**b)"
   ]
  },
  {
   "cell_type": "markdown",
   "metadata": {},
   "source": [
    "### Comparison operators and expressions\n",
    "\n",
    "The comparison operators include [[ref](https://realpython.com/python-operators-expressions)]:\n",
    "\n",
    "<table>\n",
    "    <thead>\n",
    "        <tr>\n",
    "            <th>Operator</th>\n",
    "            <th>Type</th>\n",
    "            <th>Operation</th>\n",
    "            <th>Example</th>\n",
    "            <th>Result</th>\n",
    "        </tr>\n",
    "    </thead>\n",
    "    <tbody>\n",
    "        <tr>\n",
    "            <td><code>==</code></td>\n",
    "            <td>Binary</td>\n",
    "            <td>Equal to</td>\n",
    "            <td>a <code>==</code> b</td>\n",
    "            <td>True if the value of a is equal to the value of b otherwise, false</td>\n",
    "        </tr>\n",
    "        <tr>\n",
    "            <td><code>!=</code></td>\n",
    "            <td>Binary</td>\n",
    "            <td>Not equal to</td>\n",
    "            <td>a <code>!=</code> b</td>\n",
    "            <td>True if a is not equal to b otherwise false</td>\n",
    "        </tr>\n",
    "        <tr>\n",
    "            <td><code><</code></td>\n",
    "            <td>Binary</td>\n",
    "            <td>Less than</td>\n",
    "            <td>a <code><</code> b</td>\n",
    "            <td>True if a is less than b otherwise, false</td>\n",
    "        </tr>\n",
    "        <tr>\n",
    "            <td><code><=</code></td>\n",
    "            <td>Binary</td>\n",
    "            <td>Less than or equal to</td>\n",
    "            <td>a <code><=</code> b</td>\n",
    "            <td>True if a is less than or equal to b otherwise, false</td>\n",
    "        </tr>\n",
    "        <tr>\n",
    "            <td><code>></code></td>\n",
    "            <td>Binary</td>\n",
    "            <td>Greater than</td>\n",
    "            <td>a <code>></code> b</td>\n",
    "            <td>True if a is greater than b otherwise, false</td>\n",
    "        </tr>\n",
    "        <tr>\n",
    "            <td><code>>=</code></td>\n",
    "            <td>Binary</td>\n",
    "            <td>Greater than or equal to</td>\n",
    "            <td>a <code>>=</code> b</td>\n",
    "            <td>True if a is greater than or equal to b otherwise, false</td>\n",
    "        </tr>\n",
    "    </tbody>\n",
    "</table>\n",
    "\n",
    "Below are some examples using the comparison operators:"
   ]
  },
  {
   "cell_type": "code",
   "execution_count": 110,
   "metadata": {},
   "outputs": [
    {
     "name": "stdout",
     "output_type": "stream",
     "text": [
      "a == b = False\n",
      "a != b = True\n",
      "a < b = False\n",
      "a <= b = False\n",
      "a > b = True\n",
      "a >= b = True\n"
     ]
    }
   ],
   "source": [
    "print('a == b =', a == b)\n",
    "print('a != b =', a != b)\n",
    "print('a < b =', a < b)\n",
    "print('a <= b =', a <= b)\n",
    "print('a > b =', a > b)\n",
    "print('a >= b =', a >= b)"
   ]
  },
  {
   "cell_type": "markdown",
   "metadata": {},
   "source": [
    "You can also use the comparison operators on strings. Python uses a character's unicode code point to compare string such that characters with lower point have a smaller numerical value. To get the unicode value for a string, use the `ord` function:"
   ]
  },
  {
   "cell_type": "code",
   "execution_count": 116,
   "metadata": {},
   "outputs": [
    {
     "name": "stdout",
     "output_type": "stream",
     "text": [
      "a = j\n",
      "b = d\n",
      "Unicode code point for j = 106\n",
      "Unicode code point for d = 100\n",
      "a == b = False\n",
      "a != b = True\n",
      "a < b = False\n",
      "a <= b = False\n",
      "a > b = True\n",
      "a >= b = True\n"
     ]
    }
   ],
   "source": [
    "a = 'j'\n",
    "b = 'd'\n",
    "print('a =', a)\n",
    "print('b =', b)\n",
    "\n",
    "if len(a) == 1:\n",
    "    print('Unicode code point for', a, '=', ord(a))\n",
    "else:\n",
    "    pass\n",
    "\n",
    "if len(b) == 1:\n",
    "    print('Unicode code point for', b, '=', ord(b))\n",
    "else:\n",
    "    pass\n",
    "\n",
    "print('a == b =', a == b)\n",
    "print('a != b =', a != b)\n",
    "print('a < b =', a < b)\n",
    "print('a <= b =', a <= b)\n",
    "print('a > b =', a > b)\n",
    "print('a >= b =', a >= b)"
   ]
  },
  {
   "cell_type": "markdown",
   "metadata": {},
   "source": [
    "Note that the `ord` function will only work for one-character strings. For strings with more than one character, Python checks the unicode code point for any two characters at the same index in the two strings and once it finds a case where two characters have different points, it uses it to sort the strings.\n",
    "\n",
    "Comparison operators also work on sequence types where the same approach of element pair comparisons is carried out:"
   ]
  },
  {
   "cell_type": "code",
   "execution_count": 117,
   "metadata": {},
   "outputs": [
    {
     "name": "stdout",
     "output_type": "stream",
     "text": [
      "a = [1, 2, 3]\n",
      "b = [2, 3, 4]\n",
      "a == b = False\n",
      "a != b = True\n",
      "a < b = True\n",
      "a <= b = True\n",
      "a > b = False\n",
      "a >= b = False\n"
     ]
    }
   ],
   "source": [
    "a = [1, 2, 3]\n",
    "b = [2, 3, 4]\n",
    "print('a =', a)\n",
    "print('b =', b)\n",
    "print('a == b =', a == b)\n",
    "print('a != b =', a != b)\n",
    "print('a < b =', a < b)\n",
    "print('a <= b =', a <= b)\n",
    "print('a > b =', a > b)\n",
    "print('a >= b =', a >= b)"
   ]
  },
  {
   "cell_type": "markdown",
   "metadata": {},
   "source": [
    "### Boolean operators and expressions\n",
    "\n",
    "The boolean operators include [[ref](https://realpython.com/python-operators-expressions)]:\n",
    "\n",
    "<table>\n",
    "    <thead>\n",
    "        <tr>\n",
    "            <th>Operator</th>\n",
    "            <th>Type</th>\n",
    "            <th>Example</th>\n",
    "            <th>Result</th>\n",
    "        </tr>\n",
    "    </thead>\n",
    "    <tbody>\n",
    "        <tr>\n",
    "            <td><code>and</code></td>\n",
    "            <td>Binary</td>\n",
    "            <td>x <code>and</code> y</td>\n",
    "            <td>True if both x and y are true otherwise, false</td>\n",
    "        </tr>\n",
    "        <tr>\n",
    "            <td><code>or</td>\n",
    "            <td>Binary</td>\n",
    "            <td>x <code>or</code> y</td>\n",
    "            <td>True if either x or y is true, otherwise false</td>\n",
    "        </tr>\n",
    "        <tr>\n",
    "            <td><code>not</td>\n",
    "            <td>Unary</td>\n",
    "            <td><code>not</code> x</td>\n",
    "            <td>True if x is false otherwise, true</td>\n",
    "        </tr>\n",
    "    </tbody>\n",
    "</table>\n",
    "\n",
    "Below are some examples using the boolean operators:"
   ]
  },
  {
   "cell_type": "code",
   "execution_count": 118,
   "metadata": {},
   "outputs": [
    {
     "name": "stdout",
     "output_type": "stream",
     "text": [
      "a = 4\n",
      "b = 10\n",
      "x = True\n",
      "y = False\n",
      "x and y = False\n",
      "x or y = True\n",
      "not x = True\n",
      "not y = False\n"
     ]
    }
   ],
   "source": [
    "a = 4\n",
    "b = 10\n",
    "x = a < b\n",
    "y = a == b\n",
    "print('a =', a)\n",
    "print('b =', b)\n",
    "print('x =', x)\n",
    "print('y =', y)\n",
    "print('x and y =', x and y)\n",
    "print('x or y =', x or y)\n",
    "print('not x =', not y)\n",
    "print('not y =', not x)"
   ]
  },
  {
   "cell_type": "markdown",
   "metadata": {},
   "source": [
    "### Conditional expressions\n",
    "\n",
    "Conditional expressions are best used to assign a value to a variable based on the truth value of some some other sub expressions. It makes use if the `if`-`else` keywords. An example is:"
   ]
  },
  {
   "cell_type": "code",
   "execution_count": 120,
   "metadata": {},
   "outputs": [
    {
     "name": "stdout",
     "output_type": "stream",
     "text": [
      "dry_bulb_temperature_setpoint = 23.4\n"
     ]
    }
   ],
   "source": [
    "default_dry_bulb_temperature_setpoint = 23.4\n",
    "initial_dry_bulb_temperature_setpoint = 30.0\n",
    "dry_bulb_temperature_setpoint = default_dry_bulb_temperature_setpoint if initial_dry_bulb_temperature_setpoint > 25.0 else initial_dry_bulb_temperature_setpoint\n",
    "print('dry_bulb_temperature_setpoint =', dry_bulb_temperature_setpoint)"
   ]
  },
  {
   "cell_type": "markdown",
   "metadata": {},
   "source": [
    "### Identity operators and expressions\n",
    "\n",
    "The identity operators include [[ref](https://realpython.com/python-operators-expressions)]:\n",
    "\n",
    "<table>\n",
    "    <thead>\n",
    "        <tr>\n",
    "            <th>Operator</th>\n",
    "            <th>Type</th>\n",
    "            <th>Example</th>\n",
    "            <th>Result</th>\n",
    "        </tr>\n",
    "    </thead>\n",
    "    <tbody>\n",
    "        <tr>\n",
    "            <td><code>is</code></td>\n",
    "            <td>Binary</td>\n",
    "            <td>x <code>is</code> y</td>\n",
    "            <td>True if x and y hold a reference to the same in-memory object otherwise, false</td>\n",
    "        </tr>\n",
    "        <tr>\n",
    "            <td><code>is not</code></td>\n",
    "            <td>Binary</td>\n",
    "            <td>x <code>is not</code> y</td>\n",
    "            <td>True if x and u point to different in-memory objects otherwise,false</td>\n",
    "        </tr>\n",
    "    </tbody>\n",
    "</table>\n",
    "\n",
    "Below are some examples using the identity operators:"
   ]
  },
  {
   "cell_type": "code",
   "execution_count": 122,
   "metadata": {},
   "outputs": [
    {
     "name": "stdout",
     "output_type": "stream",
     "text": [
      "a = 0\n",
      "b = 9\n",
      "c = 9\n",
      "a id: 4319976192\n",
      "b id: 4319976480\n",
      "c id: 4319976480\n",
      "a is b = False\n",
      "a is c = False\n",
      "b is c = True\n",
      "a is not b = True\n",
      "a is not c = True\n",
      "b is not c = False\n"
     ]
    }
   ],
   "source": [
    "a = 0\n",
    "b = 9\n",
    "c = b\n",
    "print('a =', a)\n",
    "print('b =', b)\n",
    "print('c =', c)\n",
    "print('a id:', id(a))\n",
    "print('b id:', id(b))\n",
    "print('c id:', id(c))\n",
    "print('a is b =', a is b)\n",
    "print('a is c =', a is c)\n",
    "print('b is c =', b is c)\n",
    "print('a is not b =', a is not b)\n",
    "print('a is not c =', a is not c)\n",
    "print('b is not c =', b is not c)"
   ]
  },
  {
   "cell_type": "markdown",
   "metadata": {},
   "source": [
    "### Membership operators and expressions\n",
    "\n",
    "The membership operators include [[ref](https://realpython.com/python-operators-expressions)]:\n",
    "\n",
    "<table>\n",
    "    <thead>\n",
    "        <tr>\n",
    "            <th>Operator</th>\n",
    "            <th>Type</th>\n",
    "            <th>Example</th>\n",
    "            <th>Result</th>\n",
    "        </tr>\n",
    "    </thead>\n",
    "    <tbody>\n",
    "        <tr>\n",
    "            <td><code>in</code></td>\n",
    "            <td>Binary</td>\n",
    "            <td>value <code>in</code> collection</td>\n",
    "            <td>True if value is an element in collection otherwise, false</td>\n",
    "        </tr>\n",
    "        <tr>\n",
    "            <td><code>not in</code></td>\n",
    "            <td>Binary</td>\n",
    "            <td>value <code>not in</code> collection</td>\n",
    "            <td>True if value is not an element in collection otherwise, false</td>\n",
    "        </tr>\n",
    "    </tbody>\n",
    "</table>\n",
    "\n",
    "Below are some examples using the membership operators:"
   ]
  },
  {
   "cell_type": "code",
   "execution_count": 124,
   "metadata": {},
   "outputs": [
    {
     "name": "stdout",
     "output_type": "stream",
     "text": [
      "value = 4\n",
      "collection_1 = [1, 2, 3, 4]\n",
      "collection_2 = [5, 6, 6, 7]\n",
      "value in collection_1 = True\n",
      "value not in collection_2 = True\n"
     ]
    }
   ],
   "source": [
    "v = 4\n",
    "collection_1 = [1, 2, 3, 4]\n",
    "collection_2 = [5, 6, 6, 7]\n",
    "print('value =', v)\n",
    "print('collection_1 =', collection_1)\n",
    "print('collection_2 =', collection_2)\n",
    "print('value in collection_1 =', v in collection_1)\n",
    "print('value not in collection_2 =', v not in collection_2)"
   ]
  },
  {
   "cell_type": "markdown",
   "metadata": {},
   "source": [
    "### Concatenation and repetition operation\n",
    "\n",
    "The concatenation and repetition operators include [[ref](https://realpython.com/python-operators-expressions)]:\n",
    "\n",
    "<table>\n",
    "    <thead>\n",
    "        <tr>\n",
    "            <th>Operator</th>\n",
    "            <th>Type</th>\n",
    "            <th>Operation</th>\n",
    "            <th>Example</th>\n",
    "            <th>Result</th>\n",
    "        </tr>\n",
    "    </thead>\n",
    "    <tbody>\n",
    "        <tr>\n",
    "            <td><code>+</code></td>\n",
    "            <td>Binary</td>\n",
    "            <td>Concatenation</td>\n",
    "            <td>sequence_1 <code>+</code> sequence_2</td>\n",
    "            <td>A new sequence containing all the items from both sequences</td>\n",
    "        </tr>\n",
    "        <tr>\n",
    "            <td><code>*</code></td>\n",
    "            <td>Binary</td>\n",
    "            <td>Repetition</td>\n",
    "            <td>sequence <code>*</code> n</td>\n",
    "            <td>A new sequence containing the items of sequence repeated n times</td>\n",
    "        </tr>\n",
    "    </tbody>\n",
    "</table>\n",
    "\n",
    "Below are some examples using the concatenation and repetition operators:"
   ]
  },
  {
   "cell_type": "code",
   "execution_count": 127,
   "metadata": {},
   "outputs": [
    {
     "name": "stdout",
     "output_type": "stream",
     "text": [
      "sequence_1 = [1, 2, 3, 4]\n",
      "sequence_2 = [5, 6, 7, 8]\n",
      "n = 2\n",
      "sequence_1 + sequence_2 = [1, 2, 3, 4, 5, 6, 7, 8]\n",
      "sequence_1 * n = [1, 2, 3, 4, 1, 2, 3, 4]\n"
     ]
    }
   ],
   "source": [
    "sequence_1 = [1, 2, 3, 4]\n",
    "sequence_2 = [5, 6, 7, 8]\n",
    "n = 2\n",
    "print('sequence_1 =', sequence_1)\n",
    "print('sequence_2 =', sequence_2)\n",
    "print('n =', n)\n",
    "print('sequence_1 + sequence_2 =', sequence_1 + sequence_2)\n",
    "print('sequence_1 * n =', sequence_1 * n)"
   ]
  },
  {
   "cell_type": "code",
   "execution_count": null,
   "metadata": {},
   "outputs": [],
   "source": [
    "print(id(sequence_1), id)"
   ]
  },
  {
   "cell_type": "markdown",
   "metadata": {},
   "source": [
    "### Augmented assignment operators and expressions\n",
    "\n",
    "The concatenation and repetition operators include [[ref](https://realpython.com/python-operators-expressions)]:\n",
    "\n",
    "<table>\n",
    "    <thead>\n",
    "        <tr>\n",
    "            <th>Operator</th>\n",
    "            <th>Type</th>\n",
    "            <th>Example</th>\n",
    "            <th>Result</th>\n",
    "        </tr>\n",
    "    </thead>\n",
    "    <tbody>\n",
    "        <tr>\n",
    "            <td><code>+=</code></td>\n",
    "            <td>Binary</td>\n",
    "            <td>a <code>+=</code> b</td>\n",
    "            <td>a <code>=</code> x <code>+</code> y</td>\n",
    "        </tr>\n",
    "        <tr>\n",
    "            <td><code>-=</code></td>\n",
    "            <td>Binary</td>\n",
    "            <td>a <code>-=</code> b</td>\n",
    "            <td>a <code>=</code> x <code>-</code> y</td>\n",
    "        </tr>\n",
    "        <tr>\n",
    "            <td><code>*=</code></td>\n",
    "            <td>Binary</td>\n",
    "            <td>a <code>*=</code> b</td>\n",
    "            <td>a <code>=</code> x <code>*+*</code> y</td>\n",
    "        </tr>\n",
    "        <tr>\n",
    "            <td><code>/=</code></td>\n",
    "            <td>Binary</td>\n",
    "            <td>a <code>/=</code> b</td>\n",
    "            <td>a <code>=</code> x <code>/</code> y</td>\n",
    "        </tr>\n",
    "        <tr>\n",
    "            <td><code>//=</code></td>\n",
    "            <td>Binary</td>\n",
    "            <td>a <code>//=</code> b</td>\n",
    "            <td>a <code>=</code> x <code>//</code> y</td>\n",
    "        </tr>\n",
    "        <tr>\n",
    "            <td><code>%=</code></td>\n",
    "            <td>Binary</td>\n",
    "            <td>a <code>%=</code> b</td>\n",
    "            <td>a <code>=</code> x <code>%</code> y</td>\n",
    "        </tr>\n",
    "        <tr>\n",
    "            <td><code>**=</code></td>\n",
    "            <td>Binary</td>\n",
    "            <td>a <code>**=</code> b</td>\n",
    "            <td>a <code>=</code> x <code>**</code> y</td>\n",
    "        </tr>\n",
    "        <tr>\n",
    "            <td><code>+=</code></td>\n",
    "            <td>Binary</td>\n",
    "            <td>sequence_1 <code>+=</code> sequence_2</td>\n",
    "            <td>sequence_1 <code>=</code> sequence_1 <code>+</code> sequence_2</td>\n",
    "        </tr>\n",
    "        <tr>\n",
    "            <td><code>*=</code></td>\n",
    "            <td>Binary</td>\n",
    "            <td>sequence <code>*=</code> n</td>\n",
    "            <td>sequence <code>=</code> sequence <code>*</code> n</td>\n",
    "        </tr>\n",
    "    </tbody>\n",
    "</table>\n",
    "\n",
    "Can you write some expressions that use the augmented assignment operators below?:"
   ]
  },
  {
   "cell_type": "code",
   "execution_count": 128,
   "metadata": {},
   "outputs": [],
   "source": [
    "# *** write code that uses augmented assignment operators below ***\n"
   ]
  },
  {
   "cell_type": "markdown",
   "metadata": {},
   "source": [
    "## Conditional statements\n",
    "\n",
    "This section introduces the syntax for conditional statements on Python. Conditional statements help control the sequence of execution in a code block. The are also used to define rules that drive code execution. The keywords associated with conditional statements are `if`, `else`, `elif` and, `pass`. The general syntax for a conditional statement is:\n",
    "\n",
    "```\n",
    "if <expression_1>:\n",
    "    <statement_1>\n",
    "elif <expression_n-1>:\n",
    "    <statement_n-1>\n",
    "else:\n",
    "    <statement_n>\n",
    "```\n",
    "\n",
    "Conditional statements always start with the <if> clause and may optionally contain one or more <elif> clauses. The <else> clause is also optional however, it is good practice to always end an <if> clause with an <else> even though there is no statement for the <else> clause. It helps with code legibility and self-documentation. When an <else> clause has no statement, we use the <pass> keyword as a placeholder. As the name implies, it just allows the code execution to pass through without any action. The first statement whose expression has a true value will be executed while all other statements will not be executed. If none of the <if> nor <elif> expressions is true then the default statement defined in the  <else> clause is executed.\n",
    "\n",
    "Also, notice the indentation when declaring the statements under their relevant expression. Python is indentation-sensitive!\n",
    "\n",
    "See below an example of a conditional statement:"
   ]
  },
  {
   "cell_type": "code",
   "execution_count": 129,
   "metadata": {},
   "outputs": [
    {
     "name": "stdout",
     "output_type": "stream",
     "text": [
      "setpoint: 24\n"
     ]
    }
   ],
   "source": [
    "hour_of_day = 8\n",
    "day_of_week = 'Monday'\n",
    "bedroom_heat_pump_setpoint = None\n",
    "\n",
    "if hour_of_day <= 6 or hour_of_day >= 21:\n",
    "    bedroom_heat_pump_setpoint = 23\n",
    "    print('setpoint:', bedroom_heat_pump_setpoint)\n",
    "\n",
    "elif hour_of_day <= 8:\n",
    "    bedroom_heat_pump_setpoint = 24\n",
    "    print('setpoint:', bedroom_heat_pump_setpoint)\n",
    "\n",
    "else:\n",
    "    if day_of_week in ['Saturday', 'Sunday']:\n",
    "        bedroom_heat_pump_setpoint = 22\n",
    "        print('setpoint:', bedroom_heat_pump_setpoint)\n",
    "\n",
    "    else:\n",
    "        bedroom_heat_pump_setpoint = 26\n",
    "        print('setpoint:', bedroom_heat_pump_setpoint)"
   ]
  },
  {
   "cell_type": "markdown",
   "metadata": {},
   "source": [
    "We have set up a conditional statement that sets a heat pump's setpoint based on hour of day and day of week. Our <else> clause is a sub conditional statement.\n",
    "\n",
    "See the example below where we use the <pass> keyword:"
   ]
  },
  {
   "cell_type": "code",
   "execution_count": 130,
   "metadata": {},
   "outputs": [],
   "source": [
    "setpoint_lower_bound = 20\n",
    "setpoint_upper_bound = 27\n",
    "setpoint = 22\n",
    "\n",
    "if not (setpoint_lower_bound <= setpoint <= setpoint_upper_bound):\n",
    "    print('Setpoint out of bound!')\n",
    "\n",
    "else:\n",
    "    pass"
   ]
  },
  {
   "cell_type": "markdown",
   "metadata": {},
   "source": [
    "The above statement enters into the <else> clause because the setpoint is not out of its bounds but prints nothing because of the <pass> keyword."
   ]
  },
  {
   "cell_type": "markdown",
   "metadata": {},
   "source": [
    "## Loops\n",
    "\n",
    "Loops are very useful for iterative\n",
    "\n",
    "- for loop\n",
    "- while loop\n",
    "- use of range\n",
    "- looping through dict\n",
    "- looping through iterable/list\n",
    "- looping through srtring\n",
    "- use of enumerate\n",
    "- use of zip\n",
    "- break, continue\n",
    "- condtional statments in loops\n"
   ]
  },
  {
   "cell_type": "markdown",
   "metadata": {},
   "source": [
    "## Functions\n",
    "\n",
    "- variable scope\n",
    "- type hinting and return type\n",
    "- docstring\n",
    "- when you do not want to repeat yourself use a function\n",
    "- lambda functions\n",
    "- by default, all functions return NoneType\n",
    "- careful about mutation in functions, better to pass a copy if you plan to modify the object\n",
    "- there are 4 types of methods that we will learn about in OOP"
   ]
  },
  {
   "cell_type": "markdown",
   "metadata": {},
   "source": [
    "## Basic file input and output"
   ]
  },
  {
   "cell_type": "markdown",
   "metadata": {},
   "source": [
    "isintance()"
   ]
  },
  {
   "cell_type": "markdown",
   "metadata": {},
   "source": [
    "## Further reading and references\n",
    "\n",
    "1. https://ocw.mit.edu/courses/6-0001-introduction-to-computer-science-and-programming-in-python-fall-2016/video_galleries/lecture-videos/\n",
    "2. https://en.wikipedia.org/wiki/Zen_of_Python\n",
    "3. https://peps.python.org/pep-0008/\n",
    "4. https://realpython.com/python-mutable-vs-immutable-types/\n",
    "5. https://realpython.com/python-operators-expressions/"
   ]
  },
  {
   "cell_type": "markdown",
   "metadata": {},
   "source": []
  }
 ],
 "metadata": {
  "kernelspec": {
   "display_name": "env",
   "language": "python",
   "name": "python3"
  },
  "language_info": {
   "codemirror_mode": {
    "name": "ipython",
    "version": 3
   },
   "file_extension": ".py",
   "mimetype": "text/x-python",
   "name": "python",
   "nbconvert_exporter": "python",
   "pygments_lexer": "ipython3",
   "version": "3.7.7"
  }
 },
 "nbformat": 4,
 "nbformat_minor": 2
}
